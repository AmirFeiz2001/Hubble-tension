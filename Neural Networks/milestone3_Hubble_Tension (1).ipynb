{
  "nbformat": 4,
  "nbformat_minor": 0,
  "metadata": {
    "colab": {
      "name": "milestone3_Hubble_Tension.ipynb",
      "provenance": [],
      "collapsed_sections": []
    },
    "kernelspec": {
      "name": "python3",
      "display_name": "Python 3"
    },
    "language_info": {
      "name": "python"
    }
  },
  "cells": [
    {
      "cell_type": "markdown",
      "source": [
        "\n",
        "\n",
        "## **Milstone 3 - Hubble Tension**"
      ],
      "metadata": {
        "id": "SKxYp2moMDj8"
      }
    },
    {
      "cell_type": "markdown",
      "source": [
        "## **First Model**"
      ],
      "metadata": {
        "id": "uuDsJEnfgEUD"
      }
    },
    {
      "cell_type": "code",
      "execution_count": 1,
      "metadata": {
        "id": "R5bB2mgmWluZ"
      },
      "outputs": [],
      "source": [
        "import numpy as np\n",
        "import matplotlib.pyplot as plt\n",
        "\n",
        "\n",
        "# pandas\n",
        "import pandas as pd\n",
        "\n",
        "# keras library\n",
        "from keras.models import Sequential\n",
        "import keras\n",
        "from keras.layers import Dense\n",
        "\n",
        "# scikit functions\n",
        "from sklearn.model_selection import KFold\n",
        "from sklearn.preprocessing import StandardScaler"
      ]
    },
    {
      "cell_type": "code",
      "source": [
        "dataset = pd.read_csv(\"Pantheon.csv\")\n",
        "\n",
        "dataset.head()"
      ],
      "metadata": {
        "colab": {
          "base_uri": "https://localhost:8080/",
          "height": 206
        },
        "id": "Iggg8IsAWxA9",
        "outputId": "ea572fee-94ea-4262-d051-a4be9569c91d"
      },
      "execution_count": 2,
      "outputs": [
        {
          "output_type": "execute_result",
          "data": {
            "text/html": [
              "\n",
              "  <div id=\"df-cddc59bf-eb05-4fe7-8acd-29e3ef62483a\">\n",
              "    <div class=\"colab-df-container\">\n",
              "      <div>\n",
              "<style scoped>\n",
              "    .dataframe tbody tr th:only-of-type {\n",
              "        vertical-align: middle;\n",
              "    }\n",
              "\n",
              "    .dataframe tbody tr th {\n",
              "        vertical-align: top;\n",
              "    }\n",
              "\n",
              "    .dataframe thead th {\n",
              "        text-align: right;\n",
              "    }\n",
              "</style>\n",
              "<table border=\"1\" class=\"dataframe\">\n",
              "  <thead>\n",
              "    <tr style=\"text-align: right;\">\n",
              "      <th></th>\n",
              "      <th>Name</th>\n",
              "      <th>zcmb</th>\n",
              "      <th>zhel</th>\n",
              "      <th>dz</th>\n",
              "      <th>mb</th>\n",
              "      <th>dmb</th>\n",
              "    </tr>\n",
              "  </thead>\n",
              "  <tbody>\n",
              "    <tr>\n",
              "      <th>0</th>\n",
              "      <td>03D1au</td>\n",
              "      <td>0.50309</td>\n",
              "      <td>0.50309</td>\n",
              "      <td>0.0</td>\n",
              "      <td>22.93445</td>\n",
              "      <td>0.12605</td>\n",
              "    </tr>\n",
              "    <tr>\n",
              "      <th>1</th>\n",
              "      <td>03D1ax</td>\n",
              "      <td>0.49480</td>\n",
              "      <td>0.49480</td>\n",
              "      <td>0.0</td>\n",
              "      <td>22.88020</td>\n",
              "      <td>0.11765</td>\n",
              "    </tr>\n",
              "    <tr>\n",
              "      <th>2</th>\n",
              "      <td>03D1co</td>\n",
              "      <td>0.67767</td>\n",
              "      <td>0.67767</td>\n",
              "      <td>0.0</td>\n",
              "      <td>24.03770</td>\n",
              "      <td>0.20560</td>\n",
              "    </tr>\n",
              "    <tr>\n",
              "      <th>3</th>\n",
              "      <td>03D1ew</td>\n",
              "      <td>0.86650</td>\n",
              "      <td>0.86650</td>\n",
              "      <td>0.0</td>\n",
              "      <td>24.34685</td>\n",
              "      <td>0.17385</td>\n",
              "    </tr>\n",
              "    <tr>\n",
              "      <th>4</th>\n",
              "      <td>03D1fq</td>\n",
              "      <td>0.79857</td>\n",
              "      <td>0.79857</td>\n",
              "      <td>0.0</td>\n",
              "      <td>24.36050</td>\n",
              "      <td>0.17435</td>\n",
              "    </tr>\n",
              "  </tbody>\n",
              "</table>\n",
              "</div>\n",
              "      <button class=\"colab-df-convert\" onclick=\"convertToInteractive('df-cddc59bf-eb05-4fe7-8acd-29e3ef62483a')\"\n",
              "              title=\"Convert this dataframe to an interactive table.\"\n",
              "              style=\"display:none;\">\n",
              "        \n",
              "  <svg xmlns=\"http://www.w3.org/2000/svg\" height=\"24px\"viewBox=\"0 0 24 24\"\n",
              "       width=\"24px\">\n",
              "    <path d=\"M0 0h24v24H0V0z\" fill=\"none\"/>\n",
              "    <path d=\"M18.56 5.44l.94 2.06.94-2.06 2.06-.94-2.06-.94-.94-2.06-.94 2.06-2.06.94zm-11 1L8.5 8.5l.94-2.06 2.06-.94-2.06-.94L8.5 2.5l-.94 2.06-2.06.94zm10 10l.94 2.06.94-2.06 2.06-.94-2.06-.94-.94-2.06-.94 2.06-2.06.94z\"/><path d=\"M17.41 7.96l-1.37-1.37c-.4-.4-.92-.59-1.43-.59-.52 0-1.04.2-1.43.59L10.3 9.45l-7.72 7.72c-.78.78-.78 2.05 0 2.83L4 21.41c.39.39.9.59 1.41.59.51 0 1.02-.2 1.41-.59l7.78-7.78 2.81-2.81c.8-.78.8-2.07 0-2.86zM5.41 20L4 18.59l7.72-7.72 1.47 1.35L5.41 20z\"/>\n",
              "  </svg>\n",
              "      </button>\n",
              "      \n",
              "  <style>\n",
              "    .colab-df-container {\n",
              "      display:flex;\n",
              "      flex-wrap:wrap;\n",
              "      gap: 12px;\n",
              "    }\n",
              "\n",
              "    .colab-df-convert {\n",
              "      background-color: #E8F0FE;\n",
              "      border: none;\n",
              "      border-radius: 50%;\n",
              "      cursor: pointer;\n",
              "      display: none;\n",
              "      fill: #1967D2;\n",
              "      height: 32px;\n",
              "      padding: 0 0 0 0;\n",
              "      width: 32px;\n",
              "    }\n",
              "\n",
              "    .colab-df-convert:hover {\n",
              "      background-color: #E2EBFA;\n",
              "      box-shadow: 0px 1px 2px rgba(60, 64, 67, 0.3), 0px 1px 3px 1px rgba(60, 64, 67, 0.15);\n",
              "      fill: #174EA6;\n",
              "    }\n",
              "\n",
              "    [theme=dark] .colab-df-convert {\n",
              "      background-color: #3B4455;\n",
              "      fill: #D2E3FC;\n",
              "    }\n",
              "\n",
              "    [theme=dark] .colab-df-convert:hover {\n",
              "      background-color: #434B5C;\n",
              "      box-shadow: 0px 1px 3px 1px rgba(0, 0, 0, 0.15);\n",
              "      filter: drop-shadow(0px 1px 2px rgba(0, 0, 0, 0.3));\n",
              "      fill: #FFFFFF;\n",
              "    }\n",
              "  </style>\n",
              "\n",
              "      <script>\n",
              "        const buttonEl =\n",
              "          document.querySelector('#df-cddc59bf-eb05-4fe7-8acd-29e3ef62483a button.colab-df-convert');\n",
              "        buttonEl.style.display =\n",
              "          google.colab.kernel.accessAllowed ? 'block' : 'none';\n",
              "\n",
              "        async function convertToInteractive(key) {\n",
              "          const element = document.querySelector('#df-cddc59bf-eb05-4fe7-8acd-29e3ef62483a');\n",
              "          const dataTable =\n",
              "            await google.colab.kernel.invokeFunction('convertToInteractive',\n",
              "                                                     [key], {});\n",
              "          if (!dataTable) return;\n",
              "\n",
              "          const docLinkHtml = 'Like what you see? Visit the ' +\n",
              "            '<a target=\"_blank\" href=https://colab.research.google.com/notebooks/data_table.ipynb>data table notebook</a>'\n",
              "            + ' to learn more about interactive tables.';\n",
              "          element.innerHTML = '';\n",
              "          dataTable['output_type'] = 'display_data';\n",
              "          await google.colab.output.renderOutput(dataTable, element);\n",
              "          const docLink = document.createElement('div');\n",
              "          docLink.innerHTML = docLinkHtml;\n",
              "          element.appendChild(docLink);\n",
              "        }\n",
              "      </script>\n",
              "    </div>\n",
              "  </div>\n",
              "  "
            ],
            "text/plain": [
              "     Name     zcmb     zhel   dz        mb      dmb\n",
              "0  03D1au  0.50309  0.50309  0.0  22.93445  0.12605\n",
              "1  03D1ax  0.49480  0.49480  0.0  22.88020  0.11765\n",
              "2  03D1co  0.67767  0.67767  0.0  24.03770  0.20560\n",
              "3  03D1ew  0.86650  0.86650  0.0  24.34685  0.17385\n",
              "4  03D1fq  0.79857  0.79857  0.0  24.36050  0.17435"
            ]
          },
          "metadata": {},
          "execution_count": 2
        }
      ]
    },
    {
      "cell_type": "code",
      "source": [
        "dataset = dataset.drop(['dz', 'zhel', 'Name'], axis=1)\n",
        "dataset.head()"
      ],
      "metadata": {
        "colab": {
          "base_uri": "https://localhost:8080/",
          "height": 206
        },
        "id": "A4Gpv_HzXc-p",
        "outputId": "6f15c6e4-f0e6-43fc-d115-f1ade43344d2"
      },
      "execution_count": 3,
      "outputs": [
        {
          "output_type": "execute_result",
          "data": {
            "text/html": [
              "\n",
              "  <div id=\"df-5977e74f-3329-47a7-b6aa-1cdc653c117f\">\n",
              "    <div class=\"colab-df-container\">\n",
              "      <div>\n",
              "<style scoped>\n",
              "    .dataframe tbody tr th:only-of-type {\n",
              "        vertical-align: middle;\n",
              "    }\n",
              "\n",
              "    .dataframe tbody tr th {\n",
              "        vertical-align: top;\n",
              "    }\n",
              "\n",
              "    .dataframe thead th {\n",
              "        text-align: right;\n",
              "    }\n",
              "</style>\n",
              "<table border=\"1\" class=\"dataframe\">\n",
              "  <thead>\n",
              "    <tr style=\"text-align: right;\">\n",
              "      <th></th>\n",
              "      <th>zcmb</th>\n",
              "      <th>mb</th>\n",
              "      <th>dmb</th>\n",
              "    </tr>\n",
              "  </thead>\n",
              "  <tbody>\n",
              "    <tr>\n",
              "      <th>0</th>\n",
              "      <td>0.50309</td>\n",
              "      <td>22.93445</td>\n",
              "      <td>0.12605</td>\n",
              "    </tr>\n",
              "    <tr>\n",
              "      <th>1</th>\n",
              "      <td>0.49480</td>\n",
              "      <td>22.88020</td>\n",
              "      <td>0.11765</td>\n",
              "    </tr>\n",
              "    <tr>\n",
              "      <th>2</th>\n",
              "      <td>0.67767</td>\n",
              "      <td>24.03770</td>\n",
              "      <td>0.20560</td>\n",
              "    </tr>\n",
              "    <tr>\n",
              "      <th>3</th>\n",
              "      <td>0.86650</td>\n",
              "      <td>24.34685</td>\n",
              "      <td>0.17385</td>\n",
              "    </tr>\n",
              "    <tr>\n",
              "      <th>4</th>\n",
              "      <td>0.79857</td>\n",
              "      <td>24.36050</td>\n",
              "      <td>0.17435</td>\n",
              "    </tr>\n",
              "  </tbody>\n",
              "</table>\n",
              "</div>\n",
              "      <button class=\"colab-df-convert\" onclick=\"convertToInteractive('df-5977e74f-3329-47a7-b6aa-1cdc653c117f')\"\n",
              "              title=\"Convert this dataframe to an interactive table.\"\n",
              "              style=\"display:none;\">\n",
              "        \n",
              "  <svg xmlns=\"http://www.w3.org/2000/svg\" height=\"24px\"viewBox=\"0 0 24 24\"\n",
              "       width=\"24px\">\n",
              "    <path d=\"M0 0h24v24H0V0z\" fill=\"none\"/>\n",
              "    <path d=\"M18.56 5.44l.94 2.06.94-2.06 2.06-.94-2.06-.94-.94-2.06-.94 2.06-2.06.94zm-11 1L8.5 8.5l.94-2.06 2.06-.94-2.06-.94L8.5 2.5l-.94 2.06-2.06.94zm10 10l.94 2.06.94-2.06 2.06-.94-2.06-.94-.94-2.06-.94 2.06-2.06.94z\"/><path d=\"M17.41 7.96l-1.37-1.37c-.4-.4-.92-.59-1.43-.59-.52 0-1.04.2-1.43.59L10.3 9.45l-7.72 7.72c-.78.78-.78 2.05 0 2.83L4 21.41c.39.39.9.59 1.41.59.51 0 1.02-.2 1.41-.59l7.78-7.78 2.81-2.81c.8-.78.8-2.07 0-2.86zM5.41 20L4 18.59l7.72-7.72 1.47 1.35L5.41 20z\"/>\n",
              "  </svg>\n",
              "      </button>\n",
              "      \n",
              "  <style>\n",
              "    .colab-df-container {\n",
              "      display:flex;\n",
              "      flex-wrap:wrap;\n",
              "      gap: 12px;\n",
              "    }\n",
              "\n",
              "    .colab-df-convert {\n",
              "      background-color: #E8F0FE;\n",
              "      border: none;\n",
              "      border-radius: 50%;\n",
              "      cursor: pointer;\n",
              "      display: none;\n",
              "      fill: #1967D2;\n",
              "      height: 32px;\n",
              "      padding: 0 0 0 0;\n",
              "      width: 32px;\n",
              "    }\n",
              "\n",
              "    .colab-df-convert:hover {\n",
              "      background-color: #E2EBFA;\n",
              "      box-shadow: 0px 1px 2px rgba(60, 64, 67, 0.3), 0px 1px 3px 1px rgba(60, 64, 67, 0.15);\n",
              "      fill: #174EA6;\n",
              "    }\n",
              "\n",
              "    [theme=dark] .colab-df-convert {\n",
              "      background-color: #3B4455;\n",
              "      fill: #D2E3FC;\n",
              "    }\n",
              "\n",
              "    [theme=dark] .colab-df-convert:hover {\n",
              "      background-color: #434B5C;\n",
              "      box-shadow: 0px 1px 3px 1px rgba(0, 0, 0, 0.15);\n",
              "      filter: drop-shadow(0px 1px 2px rgba(0, 0, 0, 0.3));\n",
              "      fill: #FFFFFF;\n",
              "    }\n",
              "  </style>\n",
              "\n",
              "      <script>\n",
              "        const buttonEl =\n",
              "          document.querySelector('#df-5977e74f-3329-47a7-b6aa-1cdc653c117f button.colab-df-convert');\n",
              "        buttonEl.style.display =\n",
              "          google.colab.kernel.accessAllowed ? 'block' : 'none';\n",
              "\n",
              "        async function convertToInteractive(key) {\n",
              "          const element = document.querySelector('#df-5977e74f-3329-47a7-b6aa-1cdc653c117f');\n",
              "          const dataTable =\n",
              "            await google.colab.kernel.invokeFunction('convertToInteractive',\n",
              "                                                     [key], {});\n",
              "          if (!dataTable) return;\n",
              "\n",
              "          const docLinkHtml = 'Like what you see? Visit the ' +\n",
              "            '<a target=\"_blank\" href=https://colab.research.google.com/notebooks/data_table.ipynb>data table notebook</a>'\n",
              "            + ' to learn more about interactive tables.';\n",
              "          element.innerHTML = '';\n",
              "          dataTable['output_type'] = 'display_data';\n",
              "          await google.colab.output.renderOutput(dataTable, element);\n",
              "          const docLink = document.createElement('div');\n",
              "          docLink.innerHTML = docLinkHtml;\n",
              "          element.appendChild(docLink);\n",
              "        }\n",
              "      </script>\n",
              "    </div>\n",
              "  </div>\n",
              "  "
            ],
            "text/plain": [
              "      zcmb        mb      dmb\n",
              "0  0.50309  22.93445  0.12605\n",
              "1  0.49480  22.88020  0.11765\n",
              "2  0.67767  24.03770  0.20560\n",
              "3  0.86650  24.34685  0.17385\n",
              "4  0.79857  24.36050  0.17435"
            ]
          },
          "metadata": {},
          "execution_count": 3
        }
      ]
    },
    {
      "cell_type": "code",
      "source": [
        "y = dataset['mb']\n",
        "X = dataset.drop('mb',axis=1)"
      ],
      "metadata": {
        "id": "hCkY-OzLXdB_"
      },
      "execution_count": 4,
      "outputs": []
    },
    {
      "cell_type": "code",
      "source": [
        "from sklearn.model_selection import train_test_split\n",
        "\n",
        "x_train , x_test , y_train , y_test = train_test_split(X, y,test_size=0.33)"
      ],
      "metadata": {
        "id": "XSaZVv3QXp5D"
      },
      "execution_count": 5,
      "outputs": []
    },
    {
      "cell_type": "code",
      "source": [
        "N , D =x_train.shape\n",
        "print(x_train.shape)\n",
        "print('N',N)\n",
        "print('D',D)"
      ],
      "metadata": {
        "colab": {
          "base_uri": "https://localhost:8080/"
        },
        "id": "jrbT224RXD_A",
        "outputId": "a2b62236-bb6b-475e-f573-ff6d62cbf14e"
      },
      "execution_count": 6,
      "outputs": [
        {
          "output_type": "stream",
          "name": "stdout",
          "text": [
            "(684, 2)\n",
            "N 684\n",
            "D 2\n"
          ]
        }
      ]
    },
    {
      "cell_type": "code",
      "source": [
        "scaler = StandardScaler()\n",
        "x_train = scaler.fit_transform(x_train)\n",
        "x_test = scaler.transform(x_test)"
      ],
      "metadata": {
        "id": "qlnFMMT1YBQa"
      },
      "execution_count": 7,
      "outputs": []
    },
    {
      "cell_type": "code",
      "source": [
        "model = Sequential([keras.layers.Input(shape=(D,)),\n",
        "                    keras.layers.Dense(128, activation = 'relu', kernel_initializer='normal'),\n",
        "                    keras.layers.Dense(64, activation = 'relu', kernel_initializer='normal'),\n",
        "                    keras.layers.Dense(16, activation = 'relu', kernel_initializer='normal'),\n",
        "                    keras.layers.Dense(1 , activation = 'linear')])"
      ],
      "metadata": {
        "id": "lYCVxEe4YKxs"
      },
      "execution_count": 8,
      "outputs": []
    },
    {
      "cell_type": "code",
      "source": [
        "from keras.callbacks import EarlyStopping\n",
        "earlystopping = EarlyStopping(monitor=\"mean_squared_error\", patience=40, verbose=1, mode='auto')\n",
        "\n",
        "\n",
        "def lr_scheduler(epoch, lr):\n",
        "    decay_rate = 0.1\n",
        "    decay_step = 90\n",
        "    if epoch % decay_step == 0 and epoch:\n",
        "        return lr * decay_rate\n",
        "    return lr\n",
        "\n",
        "\n",
        "callbacks = [keras.callbacks.LearningRateScheduler(lr_scheduler, verbose=1), earlystopping]"
      ],
      "metadata": {
        "id": "UsPe6fWHNNI_"
      },
      "execution_count": 9,
      "outputs": []
    },
    {
      "cell_type": "code",
      "source": [
        "model.compile(optimizer='rmsprop',loss='mean_squared_error', metrics=['mean_absolute_error', 'mean_squared_error'])"
      ],
      "metadata": {
        "id": "wWUq7_KRYPDF"
      },
      "execution_count": 10,
      "outputs": []
    },
    {
      "cell_type": "code",
      "source": [
        "%%time\n",
        "bc = model.fit(x_train , y_train , validation_split=0.2,epochs=100, callbacks = [callbacks] )"
      ],
      "metadata": {
        "colab": {
          "base_uri": "https://localhost:8080/"
        },
        "id": "sXxz_rzhZN8P",
        "outputId": "c89535d3-ff8e-4d79-8d8b-56391abeacc3"
      },
      "execution_count": 11,
      "outputs": [
        {
          "output_type": "stream",
          "name": "stdout",
          "text": [
            "\n",
            "Epoch 00001: LearningRateScheduler setting learning rate to 0.0010000000474974513.\n",
            "Epoch 1/100\n",
            "18/18 [==============================] - 2s 23ms/step - loss: 416.3852 - mean_absolute_error: 20.2388 - mean_squared_error: 416.3852 - val_loss: 386.5364 - val_mean_absolute_error: 19.5152 - val_mean_squared_error: 386.5364 - lr: 0.0010\n",
            "\n",
            "Epoch 00002: LearningRateScheduler setting learning rate to 0.0010000000474974513.\n",
            "Epoch 2/100\n",
            "18/18 [==============================] - 0s 5ms/step - loss: 324.9633 - mean_absolute_error: 17.8092 - mean_squared_error: 324.9633 - val_loss: 253.8209 - val_mean_absolute_error: 15.7421 - val_mean_squared_error: 253.8209 - lr: 0.0010\n",
            "\n",
            "Epoch 00003: LearningRateScheduler setting learning rate to 0.0010000000474974513.\n",
            "Epoch 3/100\n",
            "18/18 [==============================] - 0s 5ms/step - loss: 172.8276 - mean_absolute_error: 12.6763 - mean_squared_error: 172.8276 - val_loss: 100.3707 - val_mean_absolute_error: 9.4381 - val_mean_squared_error: 100.3707 - lr: 0.0010\n",
            "\n",
            "Epoch 00004: LearningRateScheduler setting learning rate to 0.0010000000474974513.\n",
            "Epoch 4/100\n",
            "18/18 [==============================] - 0s 4ms/step - loss: 59.4936 - mean_absolute_error: 6.5005 - mean_squared_error: 59.4936 - val_loss: 29.0118 - val_mean_absolute_error: 4.5804 - val_mean_squared_error: 29.0118 - lr: 0.0010\n",
            "\n",
            "Epoch 00005: LearningRateScheduler setting learning rate to 0.0010000000474974513.\n",
            "Epoch 5/100\n",
            "18/18 [==============================] - 0s 3ms/step - loss: 27.5216 - mean_absolute_error: 4.1921 - mean_squared_error: 27.5216 - val_loss: 17.3463 - val_mean_absolute_error: 3.6188 - val_mean_squared_error: 17.3463 - lr: 0.0010\n",
            "\n",
            "Epoch 00006: LearningRateScheduler setting learning rate to 0.0010000000474974513.\n",
            "Epoch 6/100\n",
            "18/18 [==============================] - 0s 3ms/step - loss: 18.2760 - mean_absolute_error: 3.3341 - mean_squared_error: 18.2760 - val_loss: 10.4220 - val_mean_absolute_error: 2.7943 - val_mean_squared_error: 10.4220 - lr: 0.0010\n",
            "\n",
            "Epoch 00007: LearningRateScheduler setting learning rate to 0.0010000000474974513.\n",
            "Epoch 7/100\n",
            "18/18 [==============================] - 0s 3ms/step - loss: 12.3750 - mean_absolute_error: 2.6419 - mean_squared_error: 12.3750 - val_loss: 6.9852 - val_mean_absolute_error: 2.1208 - val_mean_squared_error: 6.9852 - lr: 0.0010\n",
            "\n",
            "Epoch 00008: LearningRateScheduler setting learning rate to 0.0010000000474974513.\n",
            "Epoch 8/100\n",
            "18/18 [==============================] - 0s 4ms/step - loss: 8.3030 - mean_absolute_error: 2.0415 - mean_squared_error: 8.3030 - val_loss: 4.1225 - val_mean_absolute_error: 1.6439 - val_mean_squared_error: 4.1225 - lr: 0.0010\n",
            "\n",
            "Epoch 00009: LearningRateScheduler setting learning rate to 0.0010000000474974513.\n",
            "Epoch 9/100\n",
            "18/18 [==============================] - 0s 3ms/step - loss: 5.8086 - mean_absolute_error: 1.6565 - mean_squared_error: 5.8086 - val_loss: 3.6060 - val_mean_absolute_error: 1.4587 - val_mean_squared_error: 3.6060 - lr: 0.0010\n",
            "\n",
            "Epoch 00010: LearningRateScheduler setting learning rate to 0.0010000000474974513.\n",
            "Epoch 10/100\n",
            "18/18 [==============================] - 0s 3ms/step - loss: 4.1920 - mean_absolute_error: 1.4024 - mean_squared_error: 4.1920 - val_loss: 2.3827 - val_mean_absolute_error: 1.3073 - val_mean_squared_error: 2.3827 - lr: 0.0010\n",
            "\n",
            "Epoch 00011: LearningRateScheduler setting learning rate to 0.0010000000474974513.\n",
            "Epoch 11/100\n",
            "18/18 [==============================] - 0s 3ms/step - loss: 3.2573 - mean_absolute_error: 1.2549 - mean_squared_error: 3.2573 - val_loss: 3.5602 - val_mean_absolute_error: 1.6961 - val_mean_squared_error: 3.5602 - lr: 0.0010\n",
            "\n",
            "Epoch 00012: LearningRateScheduler setting learning rate to 0.0010000000474974513.\n",
            "Epoch 12/100\n",
            "18/18 [==============================] - 0s 3ms/step - loss: 2.7246 - mean_absolute_error: 1.1881 - mean_squared_error: 2.7246 - val_loss: 2.5891 - val_mean_absolute_error: 1.4362 - val_mean_squared_error: 2.5891 - lr: 0.0010\n",
            "\n",
            "Epoch 00013: LearningRateScheduler setting learning rate to 0.0010000000474974513.\n",
            "Epoch 13/100\n",
            "18/18 [==============================] - 0s 3ms/step - loss: 2.4381 - mean_absolute_error: 1.1478 - mean_squared_error: 2.4381 - val_loss: 2.2503 - val_mean_absolute_error: 1.2614 - val_mean_squared_error: 2.2503 - lr: 0.0010\n",
            "\n",
            "Epoch 00014: LearningRateScheduler setting learning rate to 0.0010000000474974513.\n",
            "Epoch 14/100\n",
            "18/18 [==============================] - 0s 3ms/step - loss: 2.0938 - mean_absolute_error: 1.0926 - mean_squared_error: 2.0938 - val_loss: 2.2757 - val_mean_absolute_error: 1.3105 - val_mean_squared_error: 2.2757 - lr: 0.0010\n",
            "\n",
            "Epoch 00015: LearningRateScheduler setting learning rate to 0.0010000000474974513.\n",
            "Epoch 15/100\n",
            "18/18 [==============================] - 0s 4ms/step - loss: 1.9275 - mean_absolute_error: 1.0680 - mean_squared_error: 1.9275 - val_loss: 2.6856 - val_mean_absolute_error: 1.1646 - val_mean_squared_error: 2.6856 - lr: 0.0010\n",
            "\n",
            "Epoch 00016: LearningRateScheduler setting learning rate to 0.0010000000474974513.\n",
            "Epoch 16/100\n",
            "18/18 [==============================] - 0s 3ms/step - loss: 1.9377 - mean_absolute_error: 1.0740 - mean_squared_error: 1.9377 - val_loss: 1.9691 - val_mean_absolute_error: 1.2265 - val_mean_squared_error: 1.9691 - lr: 0.0010\n",
            "\n",
            "Epoch 00017: LearningRateScheduler setting learning rate to 0.0010000000474974513.\n",
            "Epoch 17/100\n",
            "18/18 [==============================] - 0s 3ms/step - loss: 1.8862 - mean_absolute_error: 1.0653 - mean_squared_error: 1.8862 - val_loss: 2.9753 - val_mean_absolute_error: 1.5236 - val_mean_squared_error: 2.9753 - lr: 0.0010\n",
            "\n",
            "Epoch 00018: LearningRateScheduler setting learning rate to 0.0010000000474974513.\n",
            "Epoch 18/100\n",
            "18/18 [==============================] - 0s 3ms/step - loss: 1.8976 - mean_absolute_error: 1.0916 - mean_squared_error: 1.8976 - val_loss: 2.1964 - val_mean_absolute_error: 1.0241 - val_mean_squared_error: 2.1964 - lr: 0.0010\n",
            "\n",
            "Epoch 00019: LearningRateScheduler setting learning rate to 0.0010000000474974513.\n",
            "Epoch 19/100\n",
            "18/18 [==============================] - 0s 4ms/step - loss: 1.7410 - mean_absolute_error: 1.0573 - mean_squared_error: 1.7410 - val_loss: 2.6515 - val_mean_absolute_error: 1.4877 - val_mean_squared_error: 2.6515 - lr: 0.0010\n",
            "\n",
            "Epoch 00020: LearningRateScheduler setting learning rate to 0.0010000000474974513.\n",
            "Epoch 20/100\n",
            "18/18 [==============================] - 0s 3ms/step - loss: 1.6947 - mean_absolute_error: 1.0527 - mean_squared_error: 1.6947 - val_loss: 1.9983 - val_mean_absolute_error: 1.2599 - val_mean_squared_error: 1.9983 - lr: 0.0010\n",
            "\n",
            "Epoch 00021: LearningRateScheduler setting learning rate to 0.0010000000474974513.\n",
            "Epoch 21/100\n",
            "18/18 [==============================] - 0s 3ms/step - loss: 1.7357 - mean_absolute_error: 1.0622 - mean_squared_error: 1.7357 - val_loss: 2.0716 - val_mean_absolute_error: 1.2756 - val_mean_squared_error: 2.0716 - lr: 0.0010\n",
            "\n",
            "Epoch 00022: LearningRateScheduler setting learning rate to 0.0010000000474974513.\n",
            "Epoch 22/100\n",
            "18/18 [==============================] - 0s 3ms/step - loss: 1.8246 - mean_absolute_error: 1.0907 - mean_squared_error: 1.8246 - val_loss: 2.6239 - val_mean_absolute_error: 1.0879 - val_mean_squared_error: 2.6239 - lr: 0.0010\n",
            "\n",
            "Epoch 00023: LearningRateScheduler setting learning rate to 0.0010000000474974513.\n",
            "Epoch 23/100\n",
            "18/18 [==============================] - 0s 4ms/step - loss: 1.7560 - mean_absolute_error: 1.0438 - mean_squared_error: 1.7560 - val_loss: 2.0406 - val_mean_absolute_error: 1.0813 - val_mean_squared_error: 2.0406 - lr: 0.0010\n",
            "\n",
            "Epoch 00024: LearningRateScheduler setting learning rate to 0.0010000000474974513.\n",
            "Epoch 24/100\n",
            "18/18 [==============================] - 0s 3ms/step - loss: 1.6690 - mean_absolute_error: 1.0411 - mean_squared_error: 1.6690 - val_loss: 1.6311 - val_mean_absolute_error: 0.9087 - val_mean_squared_error: 1.6311 - lr: 0.0010\n",
            "\n",
            "Epoch 00025: LearningRateScheduler setting learning rate to 0.0010000000474974513.\n",
            "Epoch 25/100\n",
            "18/18 [==============================] - 0s 3ms/step - loss: 1.6692 - mean_absolute_error: 1.0389 - mean_squared_error: 1.6692 - val_loss: 3.3935 - val_mean_absolute_error: 1.4075 - val_mean_squared_error: 3.3935 - lr: 0.0010\n",
            "\n",
            "Epoch 00026: LearningRateScheduler setting learning rate to 0.0010000000474974513.\n",
            "Epoch 26/100\n",
            "18/18 [==============================] - 0s 4ms/step - loss: 1.7122 - mean_absolute_error: 1.0489 - mean_squared_error: 1.7122 - val_loss: 2.9359 - val_mean_absolute_error: 1.5771 - val_mean_squared_error: 2.9359 - lr: 0.0010\n",
            "\n",
            "Epoch 00027: LearningRateScheduler setting learning rate to 0.0010000000474974513.\n",
            "Epoch 27/100\n",
            "18/18 [==============================] - 0s 3ms/step - loss: 1.7330 - mean_absolute_error: 1.0651 - mean_squared_error: 1.7330 - val_loss: 1.7349 - val_mean_absolute_error: 1.0574 - val_mean_squared_error: 1.7349 - lr: 0.0010\n",
            "\n",
            "Epoch 00028: LearningRateScheduler setting learning rate to 0.0010000000474974513.\n",
            "Epoch 28/100\n",
            "18/18 [==============================] - 0s 4ms/step - loss: 1.6248 - mean_absolute_error: 1.0163 - mean_squared_error: 1.6248 - val_loss: 2.1478 - val_mean_absolute_error: 1.0896 - val_mean_squared_error: 2.1478 - lr: 0.0010\n",
            "\n",
            "Epoch 00029: LearningRateScheduler setting learning rate to 0.0010000000474974513.\n",
            "Epoch 29/100\n",
            "18/18 [==============================] - 0s 3ms/step - loss: 1.6471 - mean_absolute_error: 1.0254 - mean_squared_error: 1.6471 - val_loss: 1.4823 - val_mean_absolute_error: 0.9575 - val_mean_squared_error: 1.4823 - lr: 0.0010\n",
            "\n",
            "Epoch 00030: LearningRateScheduler setting learning rate to 0.0010000000474974513.\n",
            "Epoch 30/100\n",
            "18/18 [==============================] - 0s 3ms/step - loss: 1.5654 - mean_absolute_error: 0.9867 - mean_squared_error: 1.5654 - val_loss: 1.6383 - val_mean_absolute_error: 0.9985 - val_mean_squared_error: 1.6383 - lr: 0.0010\n",
            "\n",
            "Epoch 00031: LearningRateScheduler setting learning rate to 0.0010000000474974513.\n",
            "Epoch 31/100\n",
            "18/18 [==============================] - 0s 3ms/step - loss: 1.6417 - mean_absolute_error: 1.0267 - mean_squared_error: 1.6417 - val_loss: 2.5915 - val_mean_absolute_error: 1.4777 - val_mean_squared_error: 2.5915 - lr: 0.0010\n",
            "\n",
            "Epoch 00032: LearningRateScheduler setting learning rate to 0.0010000000474974513.\n",
            "Epoch 32/100\n",
            "18/18 [==============================] - 0s 3ms/step - loss: 1.5777 - mean_absolute_error: 1.0144 - mean_squared_error: 1.5777 - val_loss: 4.1890 - val_mean_absolute_error: 1.8186 - val_mean_squared_error: 4.1890 - lr: 0.0010\n",
            "\n",
            "Epoch 00033: LearningRateScheduler setting learning rate to 0.0010000000474974513.\n",
            "Epoch 33/100\n",
            "18/18 [==============================] - 0s 3ms/step - loss: 1.6701 - mean_absolute_error: 1.0361 - mean_squared_error: 1.6701 - val_loss: 1.5322 - val_mean_absolute_error: 0.8821 - val_mean_squared_error: 1.5322 - lr: 0.0010\n",
            "\n",
            "Epoch 00034: LearningRateScheduler setting learning rate to 0.0010000000474974513.\n",
            "Epoch 34/100\n",
            "18/18 [==============================] - 0s 3ms/step - loss: 1.5767 - mean_absolute_error: 0.9925 - mean_squared_error: 1.5767 - val_loss: 3.6533 - val_mean_absolute_error: 1.7274 - val_mean_squared_error: 3.6533 - lr: 0.0010\n",
            "\n",
            "Epoch 00035: LearningRateScheduler setting learning rate to 0.0010000000474974513.\n",
            "Epoch 35/100\n",
            "18/18 [==============================] - 0s 4ms/step - loss: 1.5654 - mean_absolute_error: 1.0022 - mean_squared_error: 1.5654 - val_loss: 2.0901 - val_mean_absolute_error: 1.0350 - val_mean_squared_error: 2.0901 - lr: 0.0010\n",
            "\n",
            "Epoch 00036: LearningRateScheduler setting learning rate to 0.0010000000474974513.\n",
            "Epoch 36/100\n",
            "18/18 [==============================] - 0s 3ms/step - loss: 1.4557 - mean_absolute_error: 0.9721 - mean_squared_error: 1.4557 - val_loss: 1.5259 - val_mean_absolute_error: 0.9633 - val_mean_squared_error: 1.5259 - lr: 0.0010\n",
            "\n",
            "Epoch 00037: LearningRateScheduler setting learning rate to 0.0010000000474974513.\n",
            "Epoch 37/100\n",
            "18/18 [==============================] - 0s 3ms/step - loss: 1.4757 - mean_absolute_error: 0.9700 - mean_squared_error: 1.4757 - val_loss: 1.5632 - val_mean_absolute_error: 0.8652 - val_mean_squared_error: 1.5632 - lr: 0.0010\n",
            "\n",
            "Epoch 00038: LearningRateScheduler setting learning rate to 0.0010000000474974513.\n",
            "Epoch 38/100\n",
            "18/18 [==============================] - 0s 3ms/step - loss: 1.3485 - mean_absolute_error: 0.9100 - mean_squared_error: 1.3485 - val_loss: 1.6219 - val_mean_absolute_error: 0.9117 - val_mean_squared_error: 1.6219 - lr: 0.0010\n",
            "\n",
            "Epoch 00039: LearningRateScheduler setting learning rate to 0.0010000000474974513.\n",
            "Epoch 39/100\n",
            "18/18 [==============================] - 0s 3ms/step - loss: 1.4172 - mean_absolute_error: 0.9415 - mean_squared_error: 1.4172 - val_loss: 1.3326 - val_mean_absolute_error: 0.8828 - val_mean_squared_error: 1.3326 - lr: 0.0010\n",
            "\n",
            "Epoch 00040: LearningRateScheduler setting learning rate to 0.0010000000474974513.\n",
            "Epoch 40/100\n",
            "18/18 [==============================] - 0s 3ms/step - loss: 1.4589 - mean_absolute_error: 0.9585 - mean_squared_error: 1.4589 - val_loss: 1.9695 - val_mean_absolute_error: 0.8689 - val_mean_squared_error: 1.9695 - lr: 0.0010\n",
            "\n",
            "Epoch 00041: LearningRateScheduler setting learning rate to 0.0010000000474974513.\n",
            "Epoch 41/100\n",
            "18/18 [==============================] - 0s 4ms/step - loss: 1.2402 - mean_absolute_error: 0.8740 - mean_squared_error: 1.2402 - val_loss: 2.1263 - val_mean_absolute_error: 1.3342 - val_mean_squared_error: 2.1263 - lr: 0.0010\n",
            "\n",
            "Epoch 00042: LearningRateScheduler setting learning rate to 0.0010000000474974513.\n",
            "Epoch 42/100\n",
            "18/18 [==============================] - 0s 3ms/step - loss: 1.2819 - mean_absolute_error: 0.9076 - mean_squared_error: 1.2819 - val_loss: 1.6293 - val_mean_absolute_error: 1.0411 - val_mean_squared_error: 1.6293 - lr: 0.0010\n",
            "\n",
            "Epoch 00043: LearningRateScheduler setting learning rate to 0.0010000000474974513.\n",
            "Epoch 43/100\n",
            "18/18 [==============================] - 0s 3ms/step - loss: 1.2921 - mean_absolute_error: 0.9026 - mean_squared_error: 1.2921 - val_loss: 1.6811 - val_mean_absolute_error: 0.9296 - val_mean_squared_error: 1.6811 - lr: 0.0010\n",
            "\n",
            "Epoch 00044: LearningRateScheduler setting learning rate to 0.0010000000474974513.\n",
            "Epoch 44/100\n",
            "18/18 [==============================] - 0s 4ms/step - loss: 1.1936 - mean_absolute_error: 0.8435 - mean_squared_error: 1.1936 - val_loss: 1.1692 - val_mean_absolute_error: 0.8135 - val_mean_squared_error: 1.1692 - lr: 0.0010\n",
            "\n",
            "Epoch 00045: LearningRateScheduler setting learning rate to 0.0010000000474974513.\n",
            "Epoch 45/100\n",
            "18/18 [==============================] - 0s 4ms/step - loss: 1.0978 - mean_absolute_error: 0.8178 - mean_squared_error: 1.0978 - val_loss: 1.4163 - val_mean_absolute_error: 1.0250 - val_mean_squared_error: 1.4163 - lr: 0.0010\n",
            "\n",
            "Epoch 00046: LearningRateScheduler setting learning rate to 0.0010000000474974513.\n",
            "Epoch 46/100\n",
            "18/18 [==============================] - 0s 3ms/step - loss: 1.0772 - mean_absolute_error: 0.8139 - mean_squared_error: 1.0772 - val_loss: 1.7136 - val_mean_absolute_error: 1.1948 - val_mean_squared_error: 1.7136 - lr: 0.0010\n",
            "\n",
            "Epoch 00047: LearningRateScheduler setting learning rate to 0.0010000000474974513.\n",
            "Epoch 47/100\n",
            "18/18 [==============================] - 0s 3ms/step - loss: 1.0669 - mean_absolute_error: 0.8195 - mean_squared_error: 1.0669 - val_loss: 1.2945 - val_mean_absolute_error: 1.0065 - val_mean_squared_error: 1.2945 - lr: 0.0010\n",
            "\n",
            "Epoch 00048: LearningRateScheduler setting learning rate to 0.0010000000474974513.\n",
            "Epoch 48/100\n",
            "18/18 [==============================] - 0s 4ms/step - loss: 0.9852 - mean_absolute_error: 0.7837 - mean_squared_error: 0.9852 - val_loss: 1.3596 - val_mean_absolute_error: 1.0544 - val_mean_squared_error: 1.3596 - lr: 0.0010\n",
            "\n",
            "Epoch 00049: LearningRateScheduler setting learning rate to 0.0010000000474974513.\n",
            "Epoch 49/100\n",
            "18/18 [==============================] - 0s 3ms/step - loss: 0.8434 - mean_absolute_error: 0.7239 - mean_squared_error: 0.8434 - val_loss: 1.0819 - val_mean_absolute_error: 0.7216 - val_mean_squared_error: 1.0819 - lr: 0.0010\n",
            "\n",
            "Epoch 00050: LearningRateScheduler setting learning rate to 0.0010000000474974513.\n",
            "Epoch 50/100\n",
            "18/18 [==============================] - 0s 3ms/step - loss: 0.8498 - mean_absolute_error: 0.7092 - mean_squared_error: 0.8498 - val_loss: 1.7379 - val_mean_absolute_error: 1.1748 - val_mean_squared_error: 1.7379 - lr: 0.0010\n",
            "\n",
            "Epoch 00051: LearningRateScheduler setting learning rate to 0.0010000000474974513.\n",
            "Epoch 51/100\n",
            "18/18 [==============================] - 0s 3ms/step - loss: 0.7597 - mean_absolute_error: 0.6778 - mean_squared_error: 0.7597 - val_loss: 1.0669 - val_mean_absolute_error: 0.9301 - val_mean_squared_error: 1.0669 - lr: 0.0010\n",
            "\n",
            "Epoch 00052: LearningRateScheduler setting learning rate to 0.0010000000474974513.\n",
            "Epoch 52/100\n",
            "18/18 [==============================] - 0s 3ms/step - loss: 0.7257 - mean_absolute_error: 0.6601 - mean_squared_error: 0.7257 - val_loss: 1.8848 - val_mean_absolute_error: 1.1640 - val_mean_squared_error: 1.8848 - lr: 0.0010\n",
            "\n",
            "Epoch 00053: LearningRateScheduler setting learning rate to 0.0010000000474974513.\n",
            "Epoch 53/100\n",
            "18/18 [==============================] - 0s 4ms/step - loss: 0.6611 - mean_absolute_error: 0.6182 - mean_squared_error: 0.6611 - val_loss: 1.4973 - val_mean_absolute_error: 1.0058 - val_mean_squared_error: 1.4973 - lr: 0.0010\n",
            "\n",
            "Epoch 00054: LearningRateScheduler setting learning rate to 0.0010000000474974513.\n",
            "Epoch 54/100\n",
            "18/18 [==============================] - 0s 4ms/step - loss: 0.6189 - mean_absolute_error: 0.6035 - mean_squared_error: 0.6189 - val_loss: 0.4459 - val_mean_absolute_error: 0.4921 - val_mean_squared_error: 0.4459 - lr: 0.0010\n",
            "\n",
            "Epoch 00055: LearningRateScheduler setting learning rate to 0.0010000000474974513.\n",
            "Epoch 55/100\n",
            "18/18 [==============================] - 0s 3ms/step - loss: 0.6410 - mean_absolute_error: 0.6316 - mean_squared_error: 0.6410 - val_loss: 0.8843 - val_mean_absolute_error: 0.8465 - val_mean_squared_error: 0.8843 - lr: 0.0010\n",
            "\n",
            "Epoch 00056: LearningRateScheduler setting learning rate to 0.0010000000474974513.\n",
            "Epoch 56/100\n",
            "18/18 [==============================] - 0s 3ms/step - loss: 0.5305 - mean_absolute_error: 0.5689 - mean_squared_error: 0.5305 - val_loss: 0.6820 - val_mean_absolute_error: 0.7041 - val_mean_squared_error: 0.6820 - lr: 0.0010\n",
            "\n",
            "Epoch 00057: LearningRateScheduler setting learning rate to 0.0010000000474974513.\n",
            "Epoch 57/100\n",
            "18/18 [==============================] - 0s 3ms/step - loss: 0.4584 - mean_absolute_error: 0.5115 - mean_squared_error: 0.4584 - val_loss: 1.3678 - val_mean_absolute_error: 1.0372 - val_mean_squared_error: 1.3678 - lr: 0.0010\n",
            "\n",
            "Epoch 00058: LearningRateScheduler setting learning rate to 0.0010000000474974513.\n",
            "Epoch 58/100\n",
            "18/18 [==============================] - 0s 4ms/step - loss: 0.5158 - mean_absolute_error: 0.5529 - mean_squared_error: 0.5158 - val_loss: 1.6133 - val_mean_absolute_error: 1.0916 - val_mean_squared_error: 1.6133 - lr: 0.0010\n",
            "\n",
            "Epoch 00059: LearningRateScheduler setting learning rate to 0.0010000000474974513.\n",
            "Epoch 59/100\n",
            "18/18 [==============================] - 0s 4ms/step - loss: 0.4100 - mean_absolute_error: 0.4580 - mean_squared_error: 0.4100 - val_loss: 0.5544 - val_mean_absolute_error: 0.5931 - val_mean_squared_error: 0.5544 - lr: 0.0010\n",
            "\n",
            "Epoch 00060: LearningRateScheduler setting learning rate to 0.0010000000474974513.\n",
            "Epoch 60/100\n",
            "18/18 [==============================] - 0s 4ms/step - loss: 0.4636 - mean_absolute_error: 0.5319 - mean_squared_error: 0.4636 - val_loss: 0.3080 - val_mean_absolute_error: 0.3513 - val_mean_squared_error: 0.3080 - lr: 0.0010\n",
            "\n",
            "Epoch 00061: LearningRateScheduler setting learning rate to 0.0010000000474974513.\n",
            "Epoch 61/100\n",
            "18/18 [==============================] - 0s 3ms/step - loss: 0.3991 - mean_absolute_error: 0.4846 - mean_squared_error: 0.3991 - val_loss: 0.7230 - val_mean_absolute_error: 0.7311 - val_mean_squared_error: 0.7230 - lr: 0.0010\n",
            "\n",
            "Epoch 00062: LearningRateScheduler setting learning rate to 0.0010000000474974513.\n",
            "Epoch 62/100\n",
            "18/18 [==============================] - 0s 4ms/step - loss: 0.3840 - mean_absolute_error: 0.4837 - mean_squared_error: 0.3840 - val_loss: 0.2224 - val_mean_absolute_error: 0.3469 - val_mean_squared_error: 0.2224 - lr: 0.0010\n",
            "\n",
            "Epoch 00063: LearningRateScheduler setting learning rate to 0.0010000000474974513.\n",
            "Epoch 63/100\n",
            "18/18 [==============================] - 0s 4ms/step - loss: 0.3121 - mean_absolute_error: 0.4425 - mean_squared_error: 0.3121 - val_loss: 0.4046 - val_mean_absolute_error: 0.5359 - val_mean_squared_error: 0.4046 - lr: 0.0010\n",
            "\n",
            "Epoch 00064: LearningRateScheduler setting learning rate to 0.0010000000474974513.\n",
            "Epoch 64/100\n",
            "18/18 [==============================] - 0s 4ms/step - loss: 0.3162 - mean_absolute_error: 0.4389 - mean_squared_error: 0.3162 - val_loss: 0.4578 - val_mean_absolute_error: 0.5462 - val_mean_squared_error: 0.4578 - lr: 0.0010\n",
            "\n",
            "Epoch 00065: LearningRateScheduler setting learning rate to 0.0010000000474974513.\n",
            "Epoch 65/100\n",
            "18/18 [==============================] - 0s 4ms/step - loss: 0.2603 - mean_absolute_error: 0.3991 - mean_squared_error: 0.2603 - val_loss: 1.0572 - val_mean_absolute_error: 0.9468 - val_mean_squared_error: 1.0572 - lr: 0.0010\n",
            "\n",
            "Epoch 00066: LearningRateScheduler setting learning rate to 0.0010000000474974513.\n",
            "Epoch 66/100\n",
            "18/18 [==============================] - 0s 3ms/step - loss: 0.3489 - mean_absolute_error: 0.4451 - mean_squared_error: 0.3489 - val_loss: 0.3126 - val_mean_absolute_error: 0.4406 - val_mean_squared_error: 0.3126 - lr: 0.0010\n",
            "\n",
            "Epoch 00067: LearningRateScheduler setting learning rate to 0.0010000000474974513.\n",
            "Epoch 67/100\n",
            "18/18 [==============================] - 0s 3ms/step - loss: 0.2994 - mean_absolute_error: 0.4150 - mean_squared_error: 0.2994 - val_loss: 0.3718 - val_mean_absolute_error: 0.4968 - val_mean_squared_error: 0.3718 - lr: 0.0010\n",
            "\n",
            "Epoch 00068: LearningRateScheduler setting learning rate to 0.0010000000474974513.\n",
            "Epoch 68/100\n",
            "18/18 [==============================] - 0s 3ms/step - loss: 0.4027 - mean_absolute_error: 0.5096 - mean_squared_error: 0.4027 - val_loss: 0.2227 - val_mean_absolute_error: 0.3606 - val_mean_squared_error: 0.2227 - lr: 0.0010\n",
            "\n",
            "Epoch 00069: LearningRateScheduler setting learning rate to 0.0010000000474974513.\n",
            "Epoch 69/100\n",
            "18/18 [==============================] - 0s 4ms/step - loss: 0.2314 - mean_absolute_error: 0.3766 - mean_squared_error: 0.2314 - val_loss: 0.2094 - val_mean_absolute_error: 0.3608 - val_mean_squared_error: 0.2094 - lr: 0.0010\n",
            "\n",
            "Epoch 00070: LearningRateScheduler setting learning rate to 0.0010000000474974513.\n",
            "Epoch 70/100\n",
            "18/18 [==============================] - 0s 3ms/step - loss: 0.2747 - mean_absolute_error: 0.4105 - mean_squared_error: 0.2747 - val_loss: 1.0334 - val_mean_absolute_error: 0.9464 - val_mean_squared_error: 1.0334 - lr: 0.0010\n",
            "\n",
            "Epoch 00071: LearningRateScheduler setting learning rate to 0.0010000000474974513.\n",
            "Epoch 71/100\n",
            "18/18 [==============================] - 0s 4ms/step - loss: 0.3194 - mean_absolute_error: 0.4371 - mean_squared_error: 0.3194 - val_loss: 0.2947 - val_mean_absolute_error: 0.4227 - val_mean_squared_error: 0.2947 - lr: 0.0010\n",
            "\n",
            "Epoch 00072: LearningRateScheduler setting learning rate to 0.0010000000474974513.\n",
            "Epoch 72/100\n",
            "18/18 [==============================] - 0s 3ms/step - loss: 0.2583 - mean_absolute_error: 0.3885 - mean_squared_error: 0.2583 - val_loss: 0.6358 - val_mean_absolute_error: 0.6854 - val_mean_squared_error: 0.6358 - lr: 0.0010\n",
            "\n",
            "Epoch 00073: LearningRateScheduler setting learning rate to 0.0010000000474974513.\n",
            "Epoch 73/100\n",
            "18/18 [==============================] - 0s 3ms/step - loss: 0.2865 - mean_absolute_error: 0.4157 - mean_squared_error: 0.2865 - val_loss: 0.2830 - val_mean_absolute_error: 0.4195 - val_mean_squared_error: 0.2830 - lr: 0.0010\n",
            "\n",
            "Epoch 00074: LearningRateScheduler setting learning rate to 0.0010000000474974513.\n",
            "Epoch 74/100\n",
            "18/18 [==============================] - 0s 3ms/step - loss: 0.2931 - mean_absolute_error: 0.4469 - mean_squared_error: 0.2931 - val_loss: 0.3199 - val_mean_absolute_error: 0.4282 - val_mean_squared_error: 0.3199 - lr: 0.0010\n",
            "\n",
            "Epoch 00075: LearningRateScheduler setting learning rate to 0.0010000000474974513.\n",
            "Epoch 75/100\n",
            "18/18 [==============================] - 0s 3ms/step - loss: 0.2802 - mean_absolute_error: 0.4127 - mean_squared_error: 0.2802 - val_loss: 0.1444 - val_mean_absolute_error: 0.2847 - val_mean_squared_error: 0.1444 - lr: 0.0010\n",
            "\n",
            "Epoch 00076: LearningRateScheduler setting learning rate to 0.0010000000474974513.\n",
            "Epoch 76/100\n",
            "18/18 [==============================] - 0s 4ms/step - loss: 0.2516 - mean_absolute_error: 0.3819 - mean_squared_error: 0.2516 - val_loss: 0.1389 - val_mean_absolute_error: 0.2962 - val_mean_squared_error: 0.1389 - lr: 0.0010\n",
            "\n",
            "Epoch 00077: LearningRateScheduler setting learning rate to 0.0010000000474974513.\n",
            "Epoch 77/100\n",
            "18/18 [==============================] - 0s 3ms/step - loss: 0.2444 - mean_absolute_error: 0.3758 - mean_squared_error: 0.2444 - val_loss: 0.5118 - val_mean_absolute_error: 0.6141 - val_mean_squared_error: 0.5118 - lr: 0.0010\n",
            "\n",
            "Epoch 00078: LearningRateScheduler setting learning rate to 0.0010000000474974513.\n",
            "Epoch 78/100\n",
            "18/18 [==============================] - 0s 4ms/step - loss: 0.2945 - mean_absolute_error: 0.4388 - mean_squared_error: 0.2945 - val_loss: 0.1290 - val_mean_absolute_error: 0.2721 - val_mean_squared_error: 0.1290 - lr: 0.0010\n",
            "\n",
            "Epoch 00079: LearningRateScheduler setting learning rate to 0.0010000000474974513.\n",
            "Epoch 79/100\n",
            "18/18 [==============================] - 0s 3ms/step - loss: 0.3325 - mean_absolute_error: 0.4428 - mean_squared_error: 0.3325 - val_loss: 0.2303 - val_mean_absolute_error: 0.3833 - val_mean_squared_error: 0.2303 - lr: 0.0010\n",
            "\n",
            "Epoch 00080: LearningRateScheduler setting learning rate to 0.0010000000474974513.\n",
            "Epoch 80/100\n",
            "18/18 [==============================] - 0s 3ms/step - loss: 0.2603 - mean_absolute_error: 0.4006 - mean_squared_error: 0.2603 - val_loss: 0.1443 - val_mean_absolute_error: 0.3031 - val_mean_squared_error: 0.1443 - lr: 0.0010\n",
            "\n",
            "Epoch 00081: LearningRateScheduler setting learning rate to 0.0010000000474974513.\n",
            "Epoch 81/100\n",
            "18/18 [==============================] - 0s 3ms/step - loss: 0.2266 - mean_absolute_error: 0.3712 - mean_squared_error: 0.2266 - val_loss: 0.4576 - val_mean_absolute_error: 0.5428 - val_mean_squared_error: 0.4576 - lr: 0.0010\n",
            "\n",
            "Epoch 00082: LearningRateScheduler setting learning rate to 0.0010000000474974513.\n",
            "Epoch 82/100\n",
            "18/18 [==============================] - 0s 4ms/step - loss: 0.2596 - mean_absolute_error: 0.4008 - mean_squared_error: 0.2596 - val_loss: 0.9458 - val_mean_absolute_error: 0.7537 - val_mean_squared_error: 0.9458 - lr: 0.0010\n",
            "\n",
            "Epoch 00083: LearningRateScheduler setting learning rate to 0.0010000000474974513.\n",
            "Epoch 83/100\n",
            "18/18 [==============================] - 0s 4ms/step - loss: 0.2870 - mean_absolute_error: 0.4111 - mean_squared_error: 0.2870 - val_loss: 0.5126 - val_mean_absolute_error: 0.5783 - val_mean_squared_error: 0.5126 - lr: 0.0010\n",
            "\n",
            "Epoch 00084: LearningRateScheduler setting learning rate to 0.0010000000474974513.\n",
            "Epoch 84/100\n",
            "18/18 [==============================] - 0s 4ms/step - loss: 0.2454 - mean_absolute_error: 0.3783 - mean_squared_error: 0.2454 - val_loss: 0.6604 - val_mean_absolute_error: 0.6909 - val_mean_squared_error: 0.6604 - lr: 0.0010\n",
            "\n",
            "Epoch 00085: LearningRateScheduler setting learning rate to 0.0010000000474974513.\n",
            "Epoch 85/100\n",
            "18/18 [==============================] - 0s 3ms/step - loss: 0.2763 - mean_absolute_error: 0.4184 - mean_squared_error: 0.2763 - val_loss: 0.1867 - val_mean_absolute_error: 0.3293 - val_mean_squared_error: 0.1867 - lr: 0.0010\n",
            "\n",
            "Epoch 00086: LearningRateScheduler setting learning rate to 0.0010000000474974513.\n",
            "Epoch 86/100\n",
            "18/18 [==============================] - 0s 4ms/step - loss: 0.2680 - mean_absolute_error: 0.4098 - mean_squared_error: 0.2680 - val_loss: 0.8108 - val_mean_absolute_error: 0.8148 - val_mean_squared_error: 0.8108 - lr: 0.0010\n",
            "\n",
            "Epoch 00087: LearningRateScheduler setting learning rate to 0.0010000000474974513.\n",
            "Epoch 87/100\n",
            "18/18 [==============================] - 0s 4ms/step - loss: 0.2853 - mean_absolute_error: 0.4110 - mean_squared_error: 0.2853 - val_loss: 0.1307 - val_mean_absolute_error: 0.2773 - val_mean_squared_error: 0.1307 - lr: 0.0010\n",
            "\n",
            "Epoch 00088: LearningRateScheduler setting learning rate to 0.0010000000474974513.\n",
            "Epoch 88/100\n",
            "18/18 [==============================] - 0s 4ms/step - loss: 0.2442 - mean_absolute_error: 0.3744 - mean_squared_error: 0.2442 - val_loss: 0.6472 - val_mean_absolute_error: 0.6730 - val_mean_squared_error: 0.6472 - lr: 0.0010\n",
            "\n",
            "Epoch 00089: LearningRateScheduler setting learning rate to 0.0010000000474974513.\n",
            "Epoch 89/100\n",
            "18/18 [==============================] - 0s 3ms/step - loss: 0.2460 - mean_absolute_error: 0.3952 - mean_squared_error: 0.2460 - val_loss: 0.2199 - val_mean_absolute_error: 0.3912 - val_mean_squared_error: 0.2199 - lr: 0.0010\n",
            "\n",
            "Epoch 00090: LearningRateScheduler setting learning rate to 0.0010000000474974513.\n",
            "Epoch 90/100\n",
            "18/18 [==============================] - 0s 3ms/step - loss: 0.2307 - mean_absolute_error: 0.3743 - mean_squared_error: 0.2307 - val_loss: 0.2843 - val_mean_absolute_error: 0.4220 - val_mean_squared_error: 0.2843 - lr: 0.0010\n",
            "\n",
            "Epoch 00091: LearningRateScheduler setting learning rate to 0.00010000000474974513.\n",
            "Epoch 91/100\n",
            "18/18 [==============================] - 0s 4ms/step - loss: 0.1792 - mean_absolute_error: 0.3012 - mean_squared_error: 0.1792 - val_loss: 0.1234 - val_mean_absolute_error: 0.2687 - val_mean_squared_error: 0.1234 - lr: 1.0000e-04\n",
            "\n",
            "Epoch 00092: LearningRateScheduler setting learning rate to 0.00010000000474974513.\n",
            "Epoch 92/100\n",
            "18/18 [==============================] - 0s 3ms/step - loss: 0.1257 - mean_absolute_error: 0.2694 - mean_squared_error: 0.1257 - val_loss: 0.1244 - val_mean_absolute_error: 0.2700 - val_mean_squared_error: 0.1244 - lr: 1.0000e-04\n",
            "\n",
            "Epoch 00093: LearningRateScheduler setting learning rate to 0.00010000000474974513.\n",
            "Epoch 93/100\n",
            "18/18 [==============================] - 0s 4ms/step - loss: 0.1221 - mean_absolute_error: 0.2627 - mean_squared_error: 0.1221 - val_loss: 0.1302 - val_mean_absolute_error: 0.2740 - val_mean_squared_error: 0.1302 - lr: 1.0000e-04\n",
            "\n",
            "Epoch 00094: LearningRateScheduler setting learning rate to 0.00010000000474974513.\n",
            "Epoch 94/100\n",
            "18/18 [==============================] - 0s 4ms/step - loss: 0.1220 - mean_absolute_error: 0.2684 - mean_squared_error: 0.1220 - val_loss: 0.1205 - val_mean_absolute_error: 0.2745 - val_mean_squared_error: 0.1205 - lr: 1.0000e-04\n",
            "\n",
            "Epoch 00095: LearningRateScheduler setting learning rate to 0.00010000000474974513.\n",
            "Epoch 95/100\n",
            "18/18 [==============================] - 0s 3ms/step - loss: 0.1215 - mean_absolute_error: 0.2678 - mean_squared_error: 0.1215 - val_loss: 0.1207 - val_mean_absolute_error: 0.2779 - val_mean_squared_error: 0.1207 - lr: 1.0000e-04\n",
            "\n",
            "Epoch 00096: LearningRateScheduler setting learning rate to 0.00010000000474974513.\n",
            "Epoch 96/100\n",
            "18/18 [==============================] - 0s 3ms/step - loss: 0.1195 - mean_absolute_error: 0.2645 - mean_squared_error: 0.1195 - val_loss: 0.1427 - val_mean_absolute_error: 0.2874 - val_mean_squared_error: 0.1427 - lr: 1.0000e-04\n",
            "\n",
            "Epoch 00097: LearningRateScheduler setting learning rate to 0.00010000000474974513.\n",
            "Epoch 97/100\n",
            "18/18 [==============================] - 0s 3ms/step - loss: 0.1200 - mean_absolute_error: 0.2667 - mean_squared_error: 0.1200 - val_loss: 0.1203 - val_mean_absolute_error: 0.2770 - val_mean_squared_error: 0.1203 - lr: 1.0000e-04\n",
            "\n",
            "Epoch 00098: LearningRateScheduler setting learning rate to 0.00010000000474974513.\n",
            "Epoch 98/100\n",
            "18/18 [==============================] - 0s 3ms/step - loss: 0.1202 - mean_absolute_error: 0.2681 - mean_squared_error: 0.1202 - val_loss: 0.1256 - val_mean_absolute_error: 0.2840 - val_mean_squared_error: 0.1256 - lr: 1.0000e-04\n",
            "\n",
            "Epoch 00099: LearningRateScheduler setting learning rate to 0.00010000000474974513.\n",
            "Epoch 99/100\n",
            "18/18 [==============================] - 0s 3ms/step - loss: 0.1200 - mean_absolute_error: 0.2694 - mean_squared_error: 0.1200 - val_loss: 0.1205 - val_mean_absolute_error: 0.2676 - val_mean_squared_error: 0.1205 - lr: 1.0000e-04\n",
            "\n",
            "Epoch 00100: LearningRateScheduler setting learning rate to 0.00010000000474974513.\n",
            "Epoch 100/100\n",
            "18/18 [==============================] - 0s 3ms/step - loss: 0.1199 - mean_absolute_error: 0.2697 - mean_squared_error: 0.1199 - val_loss: 0.1180 - val_mean_absolute_error: 0.2652 - val_mean_squared_error: 0.1180 - lr: 1.0000e-04\n",
            "CPU times: user 7.27 s, sys: 462 ms, total: 7.73 s\n",
            "Wall time: 8.23 s\n"
          ]
        }
      ]
    },
    {
      "cell_type": "code",
      "source": [
        "%%time\n",
        "model.evaluate(x_test, y_test)"
      ],
      "metadata": {
        "colab": {
          "base_uri": "https://localhost:8080/"
        },
        "id": "zi6EYoc7ZRmd",
        "outputId": "23dc1eac-b034-4190-bb0b-450a41e408d3"
      },
      "execution_count": 12,
      "outputs": [
        {
          "output_type": "stream",
          "name": "stdout",
          "text": [
            "11/11 [==============================] - 0s 3ms/step - loss: 0.1251 - mean_absolute_error: 0.2678 - mean_squared_error: 0.1251\n",
            "CPU times: user 83.4 ms, sys: 3.85 ms, total: 87.2 ms\n",
            "Wall time: 135 ms\n"
          ]
        },
        {
          "output_type": "execute_result",
          "data": {
            "text/plain": [
              "[0.1251300424337387, 0.2677958309650421, 0.1251300424337387]"
            ]
          },
          "metadata": {},
          "execution_count": 12
        }
      ]
    },
    {
      "cell_type": "code",
      "source": [
        "history = bc.history"
      ],
      "metadata": {
        "id": "ckSJ5T8zZWEY"
      },
      "execution_count": 13,
      "outputs": []
    },
    {
      "cell_type": "code",
      "source": [
        "history.keys()"
      ],
      "metadata": {
        "colab": {
          "base_uri": "https://localhost:8080/"
        },
        "id": "ApaQRNJdZYA1",
        "outputId": "5c685adb-518e-45b8-dbbc-78ed20772760"
      },
      "execution_count": 14,
      "outputs": [
        {
          "output_type": "execute_result",
          "data": {
            "text/plain": [
              "dict_keys(['loss', 'mean_absolute_error', 'mean_squared_error', 'val_loss', 'val_mean_absolute_error', 'val_mean_squared_error', 'lr'])"
            ]
          },
          "metadata": {},
          "execution_count": 14
        }
      ]
    },
    {
      "cell_type": "code",
      "source": [
        "losses = history['loss']\n",
        "val_losses = history['val_loss']\n",
        "plt.xlabel('Epochs')\n",
        "plt.ylabel('Loss')\n",
        "plt.plot(val_losses)\n",
        "plt.plot(losses)\n",
        "plt.legend(['loss','val_loss'])\n",
        "plt.show()"
      ],
      "metadata": {
        "colab": {
          "base_uri": "https://localhost:8080/",
          "height": 279
        },
        "id": "ZiHmxo_jZb0K",
        "outputId": "a91c11ac-8f3f-4b17-dd86-4ae6f5e28290"
      },
      "execution_count": 15,
      "outputs": [
        {
          "output_type": "display_data",
          "data": {
            "image/png": "[encoded data removed]",
            "text/plain": [
              "<Figure size 432x288 with 1 Axes>"
            ]
          },
          "metadata": {
            "needs_background": "light"
          }
        }
      ]
    },
    {
      "cell_type": "markdown",
      "source": [
        "## **Second model**"
      ],
      "metadata": {
        "id": "yVy6hIEXf-e7"
      }
    },
    {
      "cell_type": "code",
      "source": [
        "from keras.models import Sequential\n",
        "from tensorflow.keras.layers import BatchNormalization\n",
        "from keras.callbacks import EarlyStopping\n",
        "from keras.layers import Dense\n",
        "import matplotlib.pyplot as plt\n",
        "import numpy as np"
      ],
      "metadata": {
        "id": "QfDzJZCjZegZ"
      },
      "execution_count": 16,
      "outputs": []
    },
    {
      "cell_type": "code",
      "source": [
        "# Define custom loss functions for regression in Keras\n",
        "\n",
        "# root mean squared error (rmse) for regression\n",
        "def rmse(y_true, y_pred):\n",
        "    from keras import backend\n",
        "    return backend.sqrt(backend.mean(backend.square(y_pred - y_true), axis=-1))\n",
        "\n",
        "# mean squared error (mse) for regression\n",
        "def mse(y_true, y_pred):\n",
        "    from keras import backend\n",
        "    return backend.mean(backend.square(y_pred - y_true), axis=-1)\n",
        "\n",
        "def r_square_loss(y_true, y_pred):\n",
        "    from keras import backend as K\n",
        "    SS_res =  K.sum(K.square(y_true - y_pred)) \n",
        "    SS_tot = K.sum(K.square(y_true - K.mean(y_true))) \n",
        "    return 1 - ( 1 - SS_res/(SS_tot + K.epsilon()))"
      ],
      "metadata": {
        "id": "DV9rTRlHlqHI"
      },
      "execution_count": 17,
      "outputs": []
    },
    {
      "cell_type": "code",
      "source": [
        "%%time \n",
        "\n",
        "# set the seeds for reproducible results with TF (wont work with GPU, only CPU)\n",
        "np.random.seed(12345)\n",
        "# Import data, assign seed for same results, do train/test split 80/20\n",
        "\n",
        "# built Keras sequential model \n",
        "model = Sequential()\n",
        "# add batch normalization\n",
        "model.add(BatchNormalization())\n",
        "# add layer to the MLP for data (404,13) \n",
        "model.add(Dense(units=300, activation='relu', input_dim=x_train.shape[1]))\n",
        "# add output layer\n",
        "model.add(Dense(units=1, activation='relu'))\n",
        "# compile regression model loss should be mean_squared_error //\n",
        "model.compile(optimizer=\"Nadam\", loss=\"mean_squared_error\", metrics=[\"mean_squared_error\", rmse])\n",
        "# enable early stopping based on mean_squared_error\n",
        "earlystopping=EarlyStopping(monitor=\"mean_squared_error\", patience=40, verbose=1, mode='auto')\n",
        "# fit model\n",
        "result = model.fit(x_train, y_train, epochs=240, batch_size=5, validation_data=(x_test, y_test), callbacks=[earlystopping])\n"
      ],
      "metadata": {
        "id": "MKKpCf5Dfu02",
        "colab": {
          "base_uri": "https://localhost:8080/"
        },
        "outputId": "8a7258f8-d2a3-4fab-a64e-9a976f9c35a0"
      },
      "execution_count": 18,
      "outputs": [
        {
          "output_type": "stream",
          "name": "stdout",
          "text": [
            "Epoch 1/240\n",
            "137/137 [==============================] - 1s 3ms/step - loss: 293.6813 - mean_squared_error: 293.6813 - rmse: 16.6347 - val_loss: 121.5469 - val_mean_squared_error: 121.5469 - val_rmse: 10.3834\n",
            "Epoch 2/240\n",
            "137/137 [==============================] - 0s 2ms/step - loss: 43.4283 - mean_squared_error: 43.4283 - rmse: 5.5329 - val_loss: 34.4249 - val_mean_squared_error: 34.4249 - val_rmse: 4.8451\n",
            "Epoch 3/240\n",
            "137/137 [==============================] - 0s 2ms/step - loss: 14.1170 - mean_squared_error: 14.1170 - rmse: 3.0816 - val_loss: 16.4348 - val_mean_squared_error: 16.4348 - val_rmse: 3.3089\n",
            "Epoch 4/240\n",
            "137/137 [==============================] - 0s 3ms/step - loss: 7.6719 - mean_squared_error: 7.6719 - rmse: 2.3097 - val_loss: 8.9946 - val_mean_squared_error: 8.9946 - val_rmse: 2.4062\n",
            "Epoch 5/240\n",
            "137/137 [==============================] - 0s 3ms/step - loss: 4.7824 - mean_squared_error: 4.7824 - rmse: 1.8295 - val_loss: 5.6639 - val_mean_squared_error: 5.6639 - val_rmse: 1.8419\n",
            "Epoch 6/240\n",
            "137/137 [==============================] - 1s 5ms/step - loss: 3.4288 - mean_squared_error: 3.4288 - rmse: 1.5270 - val_loss: 4.9114 - val_mean_squared_error: 4.9114 - val_rmse: 1.6579\n",
            "Epoch 7/240\n",
            "137/137 [==============================] - 1s 4ms/step - loss: 3.1065 - mean_squared_error: 3.1065 - rmse: 1.4528 - val_loss: 3.2247 - val_mean_squared_error: 3.2247 - val_rmse: 1.3121\n",
            "Epoch 8/240\n",
            "137/137 [==============================] - 1s 7ms/step - loss: 2.6064 - mean_squared_error: 2.6064 - rmse: 1.2975 - val_loss: 2.9564 - val_mean_squared_error: 2.9564 - val_rmse: 1.1310\n",
            "Epoch 9/240\n",
            "137/137 [==============================] - 1s 5ms/step - loss: 2.5797 - mean_squared_error: 2.5797 - rmse: 1.2770 - val_loss: 1.9509 - val_mean_squared_error: 1.9509 - val_rmse: 0.9520\n",
            "Epoch 10/240\n",
            "137/137 [==============================] - 1s 4ms/step - loss: 2.1702 - mean_squared_error: 2.1702 - rmse: 1.1524 - val_loss: 1.6438 - val_mean_squared_error: 1.6438 - val_rmse: 0.8382\n",
            "Epoch 11/240\n",
            "137/137 [==============================] - 1s 4ms/step - loss: 2.2878 - mean_squared_error: 2.2878 - rmse: 1.1715 - val_loss: 1.3128 - val_mean_squared_error: 1.3128 - val_rmse: 0.7630\n",
            "Epoch 12/240\n",
            "137/137 [==============================] - 1s 4ms/step - loss: 2.1088 - mean_squared_error: 2.1088 - rmse: 1.1522 - val_loss: 1.4839 - val_mean_squared_error: 1.4839 - val_rmse: 0.7090\n",
            "Epoch 13/240\n",
            "137/137 [==============================] - 1s 5ms/step - loss: 2.3109 - mean_squared_error: 2.3109 - rmse: 1.1978 - val_loss: 1.3735 - val_mean_squared_error: 1.3735 - val_rmse: 0.6373\n",
            "Epoch 14/240\n",
            "137/137 [==============================] - 1s 5ms/step - loss: 2.3469 - mean_squared_error: 2.3469 - rmse: 1.1684 - val_loss: 1.3440 - val_mean_squared_error: 1.3440 - val_rmse: 0.6373\n",
            "Epoch 15/240\n",
            "137/137 [==============================] - 1s 4ms/step - loss: 2.1278 - mean_squared_error: 2.1278 - rmse: 1.1485 - val_loss: 1.0354 - val_mean_squared_error: 1.0354 - val_rmse: 0.6621\n",
            "Epoch 16/240\n",
            "137/137 [==============================] - 1s 4ms/step - loss: 2.2596 - mean_squared_error: 2.2596 - rmse: 1.1769 - val_loss: 1.2633 - val_mean_squared_error: 1.2633 - val_rmse: 0.6757\n",
            "Epoch 17/240\n",
            "137/137 [==============================] - 1s 4ms/step - loss: 2.0555 - mean_squared_error: 2.0555 - rmse: 1.1080 - val_loss: 0.9920 - val_mean_squared_error: 0.9920 - val_rmse: 0.6802\n",
            "Epoch 18/240\n",
            "137/137 [==============================] - 0s 3ms/step - loss: 1.8926 - mean_squared_error: 1.8926 - rmse: 1.0580 - val_loss: 1.0141 - val_mean_squared_error: 1.0141 - val_rmse: 0.6109\n",
            "Epoch 19/240\n",
            "137/137 [==============================] - 0s 2ms/step - loss: 2.4559 - mean_squared_error: 2.4559 - rmse: 1.1977 - val_loss: 1.0054 - val_mean_squared_error: 1.0054 - val_rmse: 0.6382\n",
            "Epoch 20/240\n",
            "137/137 [==============================] - 0s 2ms/step - loss: 1.8967 - mean_squared_error: 1.8967 - rmse: 1.0576 - val_loss: 0.8519 - val_mean_squared_error: 0.8519 - val_rmse: 0.6099\n",
            "Epoch 21/240\n",
            "137/137 [==============================] - 0s 2ms/step - loss: 1.9323 - mean_squared_error: 1.9323 - rmse: 1.0587 - val_loss: 0.9569 - val_mean_squared_error: 0.9569 - val_rmse: 0.6480\n",
            "Epoch 22/240\n",
            "137/137 [==============================] - 0s 3ms/step - loss: 1.9600 - mean_squared_error: 1.9600 - rmse: 1.0964 - val_loss: 1.0342 - val_mean_squared_error: 1.0342 - val_rmse: 0.6096\n",
            "Epoch 23/240\n",
            "137/137 [==============================] - 0s 2ms/step - loss: 1.7513 - mean_squared_error: 1.7513 - rmse: 1.0403 - val_loss: 1.1425 - val_mean_squared_error: 1.1425 - val_rmse: 0.6367\n",
            "Epoch 24/240\n",
            "137/137 [==============================] - 0s 2ms/step - loss: 1.9789 - mean_squared_error: 1.9789 - rmse: 1.0559 - val_loss: 0.9004 - val_mean_squared_error: 0.9004 - val_rmse: 0.5905\n",
            "Epoch 25/240\n",
            "137/137 [==============================] - 0s 3ms/step - loss: 1.9873 - mean_squared_error: 1.9873 - rmse: 1.1155 - val_loss: 0.8051 - val_mean_squared_error: 0.8051 - val_rmse: 0.5657\n",
            "Epoch 26/240\n",
            "137/137 [==============================] - 0s 2ms/step - loss: 2.2443 - mean_squared_error: 2.2443 - rmse: 1.1443 - val_loss: 0.9980 - val_mean_squared_error: 0.9980 - val_rmse: 0.6311\n",
            "Epoch 27/240\n",
            "137/137 [==============================] - 0s 3ms/step - loss: 2.1147 - mean_squared_error: 2.1147 - rmse: 1.1107 - val_loss: 0.9571 - val_mean_squared_error: 0.9571 - val_rmse: 0.6716\n",
            "Epoch 28/240\n",
            "137/137 [==============================] - 0s 2ms/step - loss: 1.9733 - mean_squared_error: 1.9733 - rmse: 1.0673 - val_loss: 1.2885 - val_mean_squared_error: 1.2885 - val_rmse: 0.6912\n",
            "Epoch 29/240\n",
            "137/137 [==============================] - 0s 3ms/step - loss: 2.2671 - mean_squared_error: 2.2671 - rmse: 1.1438 - val_loss: 1.0645 - val_mean_squared_error: 1.0645 - val_rmse: 0.7312\n",
            "Epoch 30/240\n",
            "137/137 [==============================] - 0s 2ms/step - loss: 2.0244 - mean_squared_error: 2.0244 - rmse: 1.0876 - val_loss: 1.1182 - val_mean_squared_error: 1.1182 - val_rmse: 0.7550\n",
            "Epoch 31/240\n",
            "137/137 [==============================] - 0s 2ms/step - loss: 1.8939 - mean_squared_error: 1.8939 - rmse: 1.0459 - val_loss: 0.9616 - val_mean_squared_error: 0.9616 - val_rmse: 0.6659\n",
            "Epoch 32/240\n",
            "137/137 [==============================] - 0s 2ms/step - loss: 2.2880 - mean_squared_error: 2.2880 - rmse: 1.1378 - val_loss: 0.9232 - val_mean_squared_error: 0.9232 - val_rmse: 0.6417\n",
            "Epoch 33/240\n",
            "137/137 [==============================] - 0s 2ms/step - loss: 1.9009 - mean_squared_error: 1.9009 - rmse: 1.0967 - val_loss: 0.7502 - val_mean_squared_error: 0.7502 - val_rmse: 0.5427\n",
            "Epoch 34/240\n",
            "137/137 [==============================] - 0s 2ms/step - loss: 2.0836 - mean_squared_error: 2.0836 - rmse: 1.0998 - val_loss: 0.8909 - val_mean_squared_error: 0.8909 - val_rmse: 0.7162\n",
            "Epoch 35/240\n",
            "137/137 [==============================] - 0s 2ms/step - loss: 1.8918 - mean_squared_error: 1.8918 - rmse: 1.0492 - val_loss: 0.8537 - val_mean_squared_error: 0.8537 - val_rmse: 0.5572\n",
            "Epoch 36/240\n",
            "137/137 [==============================] - 0s 3ms/step - loss: 2.1096 - mean_squared_error: 2.1096 - rmse: 1.1382 - val_loss: 0.7842 - val_mean_squared_error: 0.7842 - val_rmse: 0.6124\n",
            "Epoch 37/240\n",
            "137/137 [==============================] - 0s 2ms/step - loss: 2.2388 - mean_squared_error: 2.2388 - rmse: 1.1587 - val_loss: 0.9775 - val_mean_squared_error: 0.9775 - val_rmse: 0.6875\n",
            "Epoch 38/240\n",
            "137/137 [==============================] - 0s 3ms/step - loss: 2.1718 - mean_squared_error: 2.1718 - rmse: 1.1075 - val_loss: 1.0091 - val_mean_squared_error: 1.0091 - val_rmse: 0.6362\n",
            "Epoch 39/240\n",
            "137/137 [==============================] - 0s 2ms/step - loss: 1.8850 - mean_squared_error: 1.8850 - rmse: 1.0708 - val_loss: 0.9700 - val_mean_squared_error: 0.9700 - val_rmse: 0.6241\n",
            "Epoch 40/240\n",
            "137/137 [==============================] - 0s 3ms/step - loss: 2.1775 - mean_squared_error: 2.1775 - rmse: 1.1413 - val_loss: 0.9320 - val_mean_squared_error: 0.9320 - val_rmse: 0.6561\n",
            "Epoch 41/240\n",
            "137/137 [==============================] - 0s 3ms/step - loss: 2.2621 - mean_squared_error: 2.2621 - rmse: 1.1621 - val_loss: 1.2290 - val_mean_squared_error: 1.2290 - val_rmse: 0.7187\n",
            "Epoch 42/240\n",
            "137/137 [==============================] - 0s 3ms/step - loss: 2.2489 - mean_squared_error: 2.2489 - rmse: 1.1624 - val_loss: 0.9788 - val_mean_squared_error: 0.9788 - val_rmse: 0.6274\n",
            "Epoch 43/240\n",
            "137/137 [==============================] - 0s 2ms/step - loss: 1.7207 - mean_squared_error: 1.7207 - rmse: 1.0019 - val_loss: 0.8501 - val_mean_squared_error: 0.8501 - val_rmse: 0.6367\n",
            "Epoch 44/240\n",
            "137/137 [==============================] - 0s 2ms/step - loss: 1.8571 - mean_squared_error: 1.8571 - rmse: 1.0511 - val_loss: 0.8278 - val_mean_squared_error: 0.8278 - val_rmse: 0.5968\n",
            "Epoch 45/240\n",
            "137/137 [==============================] - 0s 2ms/step - loss: 1.7988 - mean_squared_error: 1.7988 - rmse: 1.0582 - val_loss: 0.8866 - val_mean_squared_error: 0.8866 - val_rmse: 0.6420\n",
            "Epoch 46/240\n",
            "137/137 [==============================] - 0s 2ms/step - loss: 2.0764 - mean_squared_error: 2.0764 - rmse: 1.0937 - val_loss: 0.8863 - val_mean_squared_error: 0.8863 - val_rmse: 0.6111\n",
            "Epoch 47/240\n",
            "137/137 [==============================] - 0s 2ms/step - loss: 2.1147 - mean_squared_error: 2.1147 - rmse: 1.1054 - val_loss: 1.0467 - val_mean_squared_error: 1.0467 - val_rmse: 0.7782\n",
            "Epoch 48/240\n",
            "137/137 [==============================] - 0s 2ms/step - loss: 1.6725 - mean_squared_error: 1.6725 - rmse: 1.0106 - val_loss: 0.8608 - val_mean_squared_error: 0.8608 - val_rmse: 0.5658\n",
            "Epoch 49/240\n",
            "137/137 [==============================] - 0s 3ms/step - loss: 2.0668 - mean_squared_error: 2.0668 - rmse: 1.1243 - val_loss: 0.8574 - val_mean_squared_error: 0.8574 - val_rmse: 0.6947\n",
            "Epoch 50/240\n",
            "137/137 [==============================] - 0s 3ms/step - loss: 1.9198 - mean_squared_error: 1.9198 - rmse: 1.0410 - val_loss: 0.9241 - val_mean_squared_error: 0.9241 - val_rmse: 0.6388\n",
            "Epoch 51/240\n",
            "137/137 [==============================] - 0s 3ms/step - loss: 2.0710 - mean_squared_error: 2.0710 - rmse: 1.1213 - val_loss: 0.8509 - val_mean_squared_error: 0.8509 - val_rmse: 0.5952\n",
            "Epoch 52/240\n",
            "137/137 [==============================] - 0s 2ms/step - loss: 2.0813 - mean_squared_error: 2.0813 - rmse: 1.1359 - val_loss: 0.8904 - val_mean_squared_error: 0.8904 - val_rmse: 0.6475\n",
            "Epoch 53/240\n",
            "137/137 [==============================] - 0s 2ms/step - loss: 2.0714 - mean_squared_error: 2.0714 - rmse: 1.0884 - val_loss: 1.3906 - val_mean_squared_error: 1.3906 - val_rmse: 0.7440\n",
            "Epoch 54/240\n",
            "137/137 [==============================] - 0s 3ms/step - loss: 2.1751 - mean_squared_error: 2.1751 - rmse: 1.1100 - val_loss: 0.9726 - val_mean_squared_error: 0.9726 - val_rmse: 0.6746\n",
            "Epoch 55/240\n",
            "137/137 [==============================] - 0s 2ms/step - loss: 2.0952 - mean_squared_error: 2.0952 - rmse: 1.1026 - val_loss: 0.8343 - val_mean_squared_error: 0.8343 - val_rmse: 0.6409\n",
            "Epoch 56/240\n",
            "137/137 [==============================] - 0s 2ms/step - loss: 1.9582 - mean_squared_error: 1.9582 - rmse: 1.1044 - val_loss: 0.7954 - val_mean_squared_error: 0.7954 - val_rmse: 0.5936\n",
            "Epoch 57/240\n",
            "137/137 [==============================] - 0s 2ms/step - loss: 1.9737 - mean_squared_error: 1.9737 - rmse: 1.0618 - val_loss: 0.8000 - val_mean_squared_error: 0.8000 - val_rmse: 0.5901\n",
            "Epoch 58/240\n",
            "137/137 [==============================] - 0s 2ms/step - loss: 2.1911 - mean_squared_error: 2.1911 - rmse: 1.1384 - val_loss: 0.9362 - val_mean_squared_error: 0.9362 - val_rmse: 0.6895\n",
            "Epoch 59/240\n",
            "137/137 [==============================] - 0s 3ms/step - loss: 1.9752 - mean_squared_error: 1.9752 - rmse: 1.0809 - val_loss: 0.9021 - val_mean_squared_error: 0.9021 - val_rmse: 0.5871\n",
            "Epoch 60/240\n",
            "137/137 [==============================] - 0s 2ms/step - loss: 1.7771 - mean_squared_error: 1.7771 - rmse: 1.0154 - val_loss: 0.6849 - val_mean_squared_error: 0.6849 - val_rmse: 0.6012\n",
            "Epoch 61/240\n",
            "137/137 [==============================] - 0s 3ms/step - loss: 1.9049 - mean_squared_error: 1.9049 - rmse: 1.0846 - val_loss: 0.7866 - val_mean_squared_error: 0.7866 - val_rmse: 0.6817\n",
            "Epoch 62/240\n",
            "137/137 [==============================] - 0s 2ms/step - loss: 2.3745 - mean_squared_error: 2.3745 - rmse: 1.1533 - val_loss: 0.9433 - val_mean_squared_error: 0.9433 - val_rmse: 0.6079\n",
            "Epoch 63/240\n",
            "137/137 [==============================] - 0s 2ms/step - loss: 2.0394 - mean_squared_error: 2.0394 - rmse: 1.1136 - val_loss: 0.8851 - val_mean_squared_error: 0.8851 - val_rmse: 0.6088\n",
            "Epoch 64/240\n",
            "137/137 [==============================] - 0s 3ms/step - loss: 1.9111 - mean_squared_error: 1.9111 - rmse: 1.0574 - val_loss: 0.8514 - val_mean_squared_error: 0.8514 - val_rmse: 0.6468\n",
            "Epoch 65/240\n",
            "137/137 [==============================] - 0s 2ms/step - loss: 1.7699 - mean_squared_error: 1.7699 - rmse: 1.0353 - val_loss: 0.6917 - val_mean_squared_error: 0.6917 - val_rmse: 0.5690\n",
            "Epoch 66/240\n",
            "137/137 [==============================] - 0s 2ms/step - loss: 2.0465 - mean_squared_error: 2.0465 - rmse: 1.0883 - val_loss: 0.8200 - val_mean_squared_error: 0.8200 - val_rmse: 0.5506\n",
            "Epoch 67/240\n",
            "137/137 [==============================] - 0s 3ms/step - loss: 2.0751 - mean_squared_error: 2.0751 - rmse: 1.1330 - val_loss: 0.9619 - val_mean_squared_error: 0.9619 - val_rmse: 0.6308\n",
            "Epoch 68/240\n",
            "137/137 [==============================] - 0s 2ms/step - loss: 2.2043 - mean_squared_error: 2.2043 - rmse: 1.1118 - val_loss: 0.9315 - val_mean_squared_error: 0.9315 - val_rmse: 0.7064\n",
            "Epoch 69/240\n",
            "137/137 [==============================] - 0s 2ms/step - loss: 1.9749 - mean_squared_error: 1.9749 - rmse: 1.0420 - val_loss: 0.7759 - val_mean_squared_error: 0.7759 - val_rmse: 0.6990\n",
            "Epoch 70/240\n",
            "137/137 [==============================] - 0s 2ms/step - loss: 1.9641 - mean_squared_error: 1.9641 - rmse: 1.0608 - val_loss: 0.8658 - val_mean_squared_error: 0.8658 - val_rmse: 0.6686\n",
            "Epoch 71/240\n",
            "137/137 [==============================] - 0s 2ms/step - loss: 2.0930 - mean_squared_error: 2.0930 - rmse: 1.1012 - val_loss: 0.8894 - val_mean_squared_error: 0.8894 - val_rmse: 0.5839\n",
            "Epoch 72/240\n",
            "137/137 [==============================] - 0s 2ms/step - loss: 1.7368 - mean_squared_error: 1.7368 - rmse: 1.0233 - val_loss: 0.9783 - val_mean_squared_error: 0.9783 - val_rmse: 0.6160\n",
            "Epoch 73/240\n",
            "137/137 [==============================] - 0s 2ms/step - loss: 1.7268 - mean_squared_error: 1.7268 - rmse: 0.9903 - val_loss: 0.9285 - val_mean_squared_error: 0.9285 - val_rmse: 0.6193\n",
            "Epoch 74/240\n",
            "137/137 [==============================] - 0s 2ms/step - loss: 2.0023 - mean_squared_error: 2.0023 - rmse: 1.0853 - val_loss: 0.9086 - val_mean_squared_error: 0.9086 - val_rmse: 0.6625\n",
            "Epoch 75/240\n",
            "137/137 [==============================] - 0s 3ms/step - loss: 2.1099 - mean_squared_error: 2.1099 - rmse: 1.1415 - val_loss: 1.0672 - val_mean_squared_error: 1.0672 - val_rmse: 0.6602\n",
            "Epoch 76/240\n",
            "137/137 [==============================] - 0s 3ms/step - loss: 1.7891 - mean_squared_error: 1.7891 - rmse: 1.0348 - val_loss: 0.7295 - val_mean_squared_error: 0.7295 - val_rmse: 0.5804\n",
            "Epoch 77/240\n",
            "137/137 [==============================] - 0s 2ms/step - loss: 2.0724 - mean_squared_error: 2.0724 - rmse: 1.0924 - val_loss: 0.8129 - val_mean_squared_error: 0.8129 - val_rmse: 0.5768\n",
            "Epoch 78/240\n",
            "137/137 [==============================] - 0s 2ms/step - loss: 1.8577 - mean_squared_error: 1.8577 - rmse: 1.0679 - val_loss: 0.8634 - val_mean_squared_error: 0.8634 - val_rmse: 0.7682\n",
            "Epoch 79/240\n",
            "137/137 [==============================] - 1s 6ms/step - loss: 2.2290 - mean_squared_error: 2.2290 - rmse: 1.1416 - val_loss: 1.0837 - val_mean_squared_error: 1.0837 - val_rmse: 0.6527\n",
            "Epoch 80/240\n",
            "137/137 [==============================] - 0s 3ms/step - loss: 2.2044 - mean_squared_error: 2.2044 - rmse: 1.1713 - val_loss: 0.9137 - val_mean_squared_error: 0.9137 - val_rmse: 0.6541\n",
            "Epoch 81/240\n",
            "137/137 [==============================] - 0s 2ms/step - loss: 2.4344 - mean_squared_error: 2.4344 - rmse: 1.1987 - val_loss: 0.8950 - val_mean_squared_error: 0.8950 - val_rmse: 0.6624\n",
            "Epoch 82/240\n",
            "137/137 [==============================] - 0s 3ms/step - loss: 2.1571 - mean_squared_error: 2.1571 - rmse: 1.1200 - val_loss: 0.9470 - val_mean_squared_error: 0.9470 - val_rmse: 0.6104\n",
            "Epoch 83/240\n",
            "137/137 [==============================] - 0s 3ms/step - loss: 1.9721 - mean_squared_error: 1.9721 - rmse: 1.0652 - val_loss: 0.7484 - val_mean_squared_error: 0.7484 - val_rmse: 0.6845\n",
            "Epoch 84/240\n",
            "137/137 [==============================] - 0s 2ms/step - loss: 2.1444 - mean_squared_error: 2.1444 - rmse: 1.1403 - val_loss: 0.7833 - val_mean_squared_error: 0.7833 - val_rmse: 0.6504\n",
            "Epoch 85/240\n",
            "137/137 [==============================] - 0s 3ms/step - loss: 1.8544 - mean_squared_error: 1.8544 - rmse: 1.0423 - val_loss: 0.8414 - val_mean_squared_error: 0.8414 - val_rmse: 0.6173\n",
            "Epoch 86/240\n",
            "137/137 [==============================] - 0s 2ms/step - loss: 1.8656 - mean_squared_error: 1.8656 - rmse: 1.0328 - val_loss: 0.6785 - val_mean_squared_error: 0.6785 - val_rmse: 0.5233\n",
            "Epoch 87/240\n",
            "137/137 [==============================] - 0s 2ms/step - loss: 2.0332 - mean_squared_error: 2.0332 - rmse: 1.0861 - val_loss: 0.7613 - val_mean_squared_error: 0.7613 - val_rmse: 0.6869\n",
            "Epoch 88/240\n",
            "137/137 [==============================] - 0s 2ms/step - loss: 1.9597 - mean_squared_error: 1.9597 - rmse: 1.0715 - val_loss: 1.0115 - val_mean_squared_error: 1.0115 - val_rmse: 0.6358\n",
            "Epoch 00088: early stopping\n",
            "CPU times: user 33.8 s, sys: 2.25 s, total: 36.1 s\n",
            "Wall time: 34.9 s\n"
          ]
        }
      ]
    },
    {
      "cell_type": "code",
      "source": [
        "%%time\n",
        "model.evaluate(x_test, y_test)"
      ],
      "metadata": {
        "colab": {
          "base_uri": "https://localhost:8080/"
        },
        "id": "muoDeLguUXnz",
        "outputId": "9fa881e7-3533-4048-ef04-0f8d917ebeb4"
      },
      "execution_count": 19,
      "outputs": [
        {
          "output_type": "stream",
          "name": "stdout",
          "text": [
            "11/11 [==============================] - 0s 2ms/step - loss: 1.0115 - mean_squared_error: 1.0115 - rmse: 0.6358\n",
            "CPU times: user 69.8 ms, sys: 793 µs, total: 70.6 ms\n",
            "Wall time: 109 ms\n"
          ]
        },
        {
          "output_type": "execute_result",
          "data": {
            "text/plain": [
              "[1.0115183591842651, 1.0115183591842651, 0.6358426213264465]"
            ]
          },
          "metadata": {},
          "execution_count": 19
        }
      ]
    },
    {
      "cell_type": "code",
      "source": [
        "# plot training curve for rmse\n",
        "plt.plot(result.history['rmse'])\n",
        "plt.plot(result.history['val_rmse'])\n",
        "plt.title('rmse')\n",
        "plt.ylabel('rmse')\n",
        "plt.xlabel('epoch')\n",
        "plt.legend(['train', 'test'], loc='upper left')\n",
        "plt.show()"
      ],
      "metadata": {
        "colab": {
          "base_uri": "https://localhost:8080/",
          "height": 295
        },
        "id": "Z05pLg7wmLwA",
        "outputId": "aa8225c9-73b8-4723-8780-845c8c00f29e"
      },
      "execution_count": 20,
      "outputs": [
        {
          "output_type": "display_data",
          "data": {
            "image/png": "[encoded data removed]",
            "text/plain": [
              "<Figure size 432x288 with 1 Axes>"
            ]
          },
          "metadata": {
            "needs_background": "light"
          }
        }
      ]
    },
    {
      "cell_type": "markdown",
      "source": [
        "## **Third model**"
      ],
      "metadata": {
        "id": "xlJn-524k-qc"
      }
    },
    {
      "cell_type": "code",
      "source": [
        "import numpy as np\n",
        "import matplotlib.pyplot as plt\n",
        "from keras.layers import Input,Dense\n",
        "from keras.models import Model\n",
        "import keras"
      ],
      "metadata": {
        "id": "fMRuFHGclEPv"
      },
      "execution_count": 21,
      "outputs": []
    },
    {
      "cell_type": "code",
      "source": [
        "dataset = pd.read_csv(\"Pantheon.csv\")\n",
        "\n",
        "dataset.head()"
      ],
      "metadata": {
        "colab": {
          "base_uri": "https://localhost:8080/",
          "height": 206
        },
        "outputId": "e04b3d30-7ed7-4159-9593-95ec62861a2e",
        "id": "QNmwW-M-lTR5"
      },
      "execution_count": 37,
      "outputs": [
        {
          "output_type": "execute_result",
          "data": {
            "text/html": [
              "\n",
              "  <div id=\"df-3b12bed6-3c3a-4e52-8063-f2ec19717c42\">\n",
              "    <div class=\"colab-df-container\">\n",
              "      <div>\n",
              "<style scoped>\n",
              "    .dataframe tbody tr th:only-of-type {\n",
              "        vertical-align: middle;\n",
              "    }\n",
              "\n",
              "    .dataframe tbody tr th {\n",
              "        vertical-align: top;\n",
              "    }\n",
              "\n",
              "    .dataframe thead th {\n",
              "        text-align: right;\n",
              "    }\n",
              "</style>\n",
              "<table border=\"1\" class=\"dataframe\">\n",
              "  <thead>\n",
              "    <tr style=\"text-align: right;\">\n",
              "      <th></th>\n",
              "      <th>Name</th>\n",
              "      <th>zcmb</th>\n",
              "      <th>zhel</th>\n",
              "      <th>dz</th>\n",
              "      <th>mb</th>\n",
              "      <th>dmb</th>\n",
              "    </tr>\n",
              "  </thead>\n",
              "  <tbody>\n",
              "    <tr>\n",
              "      <th>0</th>\n",
              "      <td>03D1au</td>\n",
              "      <td>0.50309</td>\n",
              "      <td>0.50309</td>\n",
              "      <td>0.0</td>\n",
              "      <td>22.93445</td>\n",
              "      <td>0.12605</td>\n",
              "    </tr>\n",
              "    <tr>\n",
              "      <th>1</th>\n",
              "      <td>03D1ax</td>\n",
              "      <td>0.49480</td>\n",
              "      <td>0.49480</td>\n",
              "      <td>0.0</td>\n",
              "      <td>22.88020</td>\n",
              "      <td>0.11765</td>\n",
              "    </tr>\n",
              "    <tr>\n",
              "      <th>2</th>\n",
              "      <td>03D1co</td>\n",
              "      <td>0.67767</td>\n",
              "      <td>0.67767</td>\n",
              "      <td>0.0</td>\n",
              "      <td>24.03770</td>\n",
              "      <td>0.20560</td>\n",
              "    </tr>\n",
              "    <tr>\n",
              "      <th>3</th>\n",
              "      <td>03D1ew</td>\n",
              "      <td>0.86650</td>\n",
              "      <td>0.86650</td>\n",
              "      <td>0.0</td>\n",
              "      <td>24.34685</td>\n",
              "      <td>0.17385</td>\n",
              "    </tr>\n",
              "    <tr>\n",
              "      <th>4</th>\n",
              "      <td>03D1fq</td>\n",
              "      <td>0.79857</td>\n",
              "      <td>0.79857</td>\n",
              "      <td>0.0</td>\n",
              "      <td>24.36050</td>\n",
              "      <td>0.17435</td>\n",
              "    </tr>\n",
              "  </tbody>\n",
              "</table>\n",
              "</div>\n",
              "      <button class=\"colab-df-convert\" onclick=\"convertToInteractive('df-3b12bed6-3c3a-4e52-8063-f2ec19717c42')\"\n",
              "              title=\"Convert this dataframe to an interactive table.\"\n",
              "              style=\"display:none;\">\n",
              "        \n",
              "  <svg xmlns=\"http://www.w3.org/2000/svg\" height=\"24px\"viewBox=\"0 0 24 24\"\n",
              "       width=\"24px\">\n",
              "    <path d=\"M0 0h24v24H0V0z\" fill=\"none\"/>\n",
              "    <path d=\"M18.56 5.44l.94 2.06.94-2.06 2.06-.94-2.06-.94-.94-2.06-.94 2.06-2.06.94zm-11 1L8.5 8.5l.94-2.06 2.06-.94-2.06-.94L8.5 2.5l-.94 2.06-2.06.94zm10 10l.94 2.06.94-2.06 2.06-.94-2.06-.94-.94-2.06-.94 2.06-2.06.94z\"/><path d=\"M17.41 7.96l-1.37-1.37c-.4-.4-.92-.59-1.43-.59-.52 0-1.04.2-1.43.59L10.3 9.45l-7.72 7.72c-.78.78-.78 2.05 0 2.83L4 21.41c.39.39.9.59 1.41.59.51 0 1.02-.2 1.41-.59l7.78-7.78 2.81-2.81c.8-.78.8-2.07 0-2.86zM5.41 20L4 18.59l7.72-7.72 1.47 1.35L5.41 20z\"/>\n",
              "  </svg>\n",
              "      </button>\n",
              "      \n",
              "  <style>\n",
              "    .colab-df-container {\n",
              "      display:flex;\n",
              "      flex-wrap:wrap;\n",
              "      gap: 12px;\n",
              "    }\n",
              "\n",
              "    .colab-df-convert {\n",
              "      background-color: #E8F0FE;\n",
              "      border: none;\n",
              "      border-radius: 50%;\n",
              "      cursor: pointer;\n",
              "      display: none;\n",
              "      fill: #1967D2;\n",
              "      height: 32px;\n",
              "      padding: 0 0 0 0;\n",
              "      width: 32px;\n",
              "    }\n",
              "\n",
              "    .colab-df-convert:hover {\n",
              "      background-color: #E2EBFA;\n",
              "      box-shadow: 0px 1px 2px rgba(60, 64, 67, 0.3), 0px 1px 3px 1px rgba(60, 64, 67, 0.15);\n",
              "      fill: #174EA6;\n",
              "    }\n",
              "\n",
              "    [theme=dark] .colab-df-convert {\n",
              "      background-color: #3B4455;\n",
              "      fill: #D2E3FC;\n",
              "    }\n",
              "\n",
              "    [theme=dark] .colab-df-convert:hover {\n",
              "      background-color: #434B5C;\n",
              "      box-shadow: 0px 1px 3px 1px rgba(0, 0, 0, 0.15);\n",
              "      filter: drop-shadow(0px 1px 2px rgba(0, 0, 0, 0.3));\n",
              "      fill: #FFFFFF;\n",
              "    }\n",
              "  </style>\n",
              "\n",
              "      <script>\n",
              "        const buttonEl =\n",
              "          document.querySelector('#df-3b12bed6-3c3a-4e52-8063-f2ec19717c42 button.colab-df-convert');\n",
              "        buttonEl.style.display =\n",
              "          google.colab.kernel.accessAllowed ? 'block' : 'none';\n",
              "\n",
              "        async function convertToInteractive(key) {\n",
              "          const element = document.querySelector('#df-3b12bed6-3c3a-4e52-8063-f2ec19717c42');\n",
              "          const dataTable =\n",
              "            await google.colab.kernel.invokeFunction('convertToInteractive',\n",
              "                                                     [key], {});\n",
              "          if (!dataTable) return;\n",
              "\n",
              "          const docLinkHtml = 'Like what you see? Visit the ' +\n",
              "            '<a target=\"_blank\" href=https://colab.research.google.com/notebooks/data_table.ipynb>data table notebook</a>'\n",
              "            + ' to learn more about interactive tables.';\n",
              "          element.innerHTML = '';\n",
              "          dataTable['output_type'] = 'display_data';\n",
              "          await google.colab.output.renderOutput(dataTable, element);\n",
              "          const docLink = document.createElement('div');\n",
              "          docLink.innerHTML = docLinkHtml;\n",
              "          element.appendChild(docLink);\n",
              "        }\n",
              "      </script>\n",
              "    </div>\n",
              "  </div>\n",
              "  "
            ],
            "text/plain": [
              "     Name     zcmb     zhel   dz        mb      dmb\n",
              "0  03D1au  0.50309  0.50309  0.0  22.93445  0.12605\n",
              "1  03D1ax  0.49480  0.49480  0.0  22.88020  0.11765\n",
              "2  03D1co  0.67767  0.67767  0.0  24.03770  0.20560\n",
              "3  03D1ew  0.86650  0.86650  0.0  24.34685  0.17385\n",
              "4  03D1fq  0.79857  0.79857  0.0  24.36050  0.17435"
            ]
          },
          "metadata": {},
          "execution_count": 37
        }
      ]
    },
    {
      "cell_type": "code",
      "source": [
        "dataset = dataset.drop(['dz', 'zhel', 'Name'], axis=1)\n",
        "dataset.head()"
      ],
      "metadata": {
        "colab": {
          "base_uri": "https://localhost:8080/",
          "height": 206
        },
        "outputId": "b2de500e-b802-4adb-eeb8-9233ddcaf042",
        "id": "JtFC7pWklTR5"
      },
      "execution_count": 38,
      "outputs": [
        {
          "output_type": "execute_result",
          "data": {
            "text/html": [
              "\n",
              "  <div id=\"df-de49cb4d-43ec-4e47-b8bb-906f0bde8bba\">\n",
              "    <div class=\"colab-df-container\">\n",
              "      <div>\n",
              "<style scoped>\n",
              "    .dataframe tbody tr th:only-of-type {\n",
              "        vertical-align: middle;\n",
              "    }\n",
              "\n",
              "    .dataframe tbody tr th {\n",
              "        vertical-align: top;\n",
              "    }\n",
              "\n",
              "    .dataframe thead th {\n",
              "        text-align: right;\n",
              "    }\n",
              "</style>\n",
              "<table border=\"1\" class=\"dataframe\">\n",
              "  <thead>\n",
              "    <tr style=\"text-align: right;\">\n",
              "      <th></th>\n",
              "      <th>zcmb</th>\n",
              "      <th>mb</th>\n",
              "      <th>dmb</th>\n",
              "    </tr>\n",
              "  </thead>\n",
              "  <tbody>\n",
              "    <tr>\n",
              "      <th>0</th>\n",
              "      <td>0.50309</td>\n",
              "      <td>22.93445</td>\n",
              "      <td>0.12605</td>\n",
              "    </tr>\n",
              "    <tr>\n",
              "      <th>1</th>\n",
              "      <td>0.49480</td>\n",
              "      <td>22.88020</td>\n",
              "      <td>0.11765</td>\n",
              "    </tr>\n",
              "    <tr>\n",
              "      <th>2</th>\n",
              "      <td>0.67767</td>\n",
              "      <td>24.03770</td>\n",
              "      <td>0.20560</td>\n",
              "    </tr>\n",
              "    <tr>\n",
              "      <th>3</th>\n",
              "      <td>0.86650</td>\n",
              "      <td>24.34685</td>\n",
              "      <td>0.17385</td>\n",
              "    </tr>\n",
              "    <tr>\n",
              "      <th>4</th>\n",
              "      <td>0.79857</td>\n",
              "      <td>24.36050</td>\n",
              "      <td>0.17435</td>\n",
              "    </tr>\n",
              "  </tbody>\n",
              "</table>\n",
              "</div>\n",
              "      <button class=\"colab-df-convert\" onclick=\"convertToInteractive('df-de49cb4d-43ec-4e47-b8bb-906f0bde8bba')\"\n",
              "              title=\"Convert this dataframe to an interactive table.\"\n",
              "              style=\"display:none;\">\n",
              "        \n",
              "  <svg xmlns=\"http://www.w3.org/2000/svg\" height=\"24px\"viewBox=\"0 0 24 24\"\n",
              "       width=\"24px\">\n",
              "    <path d=\"M0 0h24v24H0V0z\" fill=\"none\"/>\n",
              "    <path d=\"M18.56 5.44l.94 2.06.94-2.06 2.06-.94-2.06-.94-.94-2.06-.94 2.06-2.06.94zm-11 1L8.5 8.5l.94-2.06 2.06-.94-2.06-.94L8.5 2.5l-.94 2.06-2.06.94zm10 10l.94 2.06.94-2.06 2.06-.94-2.06-.94-.94-2.06-.94 2.06-2.06.94z\"/><path d=\"M17.41 7.96l-1.37-1.37c-.4-.4-.92-.59-1.43-.59-.52 0-1.04.2-1.43.59L10.3 9.45l-7.72 7.72c-.78.78-.78 2.05 0 2.83L4 21.41c.39.39.9.59 1.41.59.51 0 1.02-.2 1.41-.59l7.78-7.78 2.81-2.81c.8-.78.8-2.07 0-2.86zM5.41 20L4 18.59l7.72-7.72 1.47 1.35L5.41 20z\"/>\n",
              "  </svg>\n",
              "      </button>\n",
              "      \n",
              "  <style>\n",
              "    .colab-df-container {\n",
              "      display:flex;\n",
              "      flex-wrap:wrap;\n",
              "      gap: 12px;\n",
              "    }\n",
              "\n",
              "    .colab-df-convert {\n",
              "      background-color: #E8F0FE;\n",
              "      border: none;\n",
              "      border-radius: 50%;\n",
              "      cursor: pointer;\n",
              "      display: none;\n",
              "      fill: #1967D2;\n",
              "      height: 32px;\n",
              "      padding: 0 0 0 0;\n",
              "      width: 32px;\n",
              "    }\n",
              "\n",
              "    .colab-df-convert:hover {\n",
              "      background-color: #E2EBFA;\n",
              "      box-shadow: 0px 1px 2px rgba(60, 64, 67, 0.3), 0px 1px 3px 1px rgba(60, 64, 67, 0.15);\n",
              "      fill: #174EA6;\n",
              "    }\n",
              "\n",
              "    [theme=dark] .colab-df-convert {\n",
              "      background-color: #3B4455;\n",
              "      fill: #D2E3FC;\n",
              "    }\n",
              "\n",
              "    [theme=dark] .colab-df-convert:hover {\n",
              "      background-color: #434B5C;\n",
              "      box-shadow: 0px 1px 3px 1px rgba(0, 0, 0, 0.15);\n",
              "      filter: drop-shadow(0px 1px 2px rgba(0, 0, 0, 0.3));\n",
              "      fill: #FFFFFF;\n",
              "    }\n",
              "  </style>\n",
              "\n",
              "      <script>\n",
              "        const buttonEl =\n",
              "          document.querySelector('#df-de49cb4d-43ec-4e47-b8bb-906f0bde8bba button.colab-df-convert');\n",
              "        buttonEl.style.display =\n",
              "          google.colab.kernel.accessAllowed ? 'block' : 'none';\n",
              "\n",
              "        async function convertToInteractive(key) {\n",
              "          const element = document.querySelector('#df-de49cb4d-43ec-4e47-b8bb-906f0bde8bba');\n",
              "          const dataTable =\n",
              "            await google.colab.kernel.invokeFunction('convertToInteractive',\n",
              "                                                     [key], {});\n",
              "          if (!dataTable) return;\n",
              "\n",
              "          const docLinkHtml = 'Like what you see? Visit the ' +\n",
              "            '<a target=\"_blank\" href=https://colab.research.google.com/notebooks/data_table.ipynb>data table notebook</a>'\n",
              "            + ' to learn more about interactive tables.';\n",
              "          element.innerHTML = '';\n",
              "          dataTable['output_type'] = 'display_data';\n",
              "          await google.colab.output.renderOutput(dataTable, element);\n",
              "          const docLink = document.createElement('div');\n",
              "          docLink.innerHTML = docLinkHtml;\n",
              "          element.appendChild(docLink);\n",
              "        }\n",
              "      </script>\n",
              "    </div>\n",
              "  </div>\n",
              "  "
            ],
            "text/plain": [
              "      zcmb        mb      dmb\n",
              "0  0.50309  22.93445  0.12605\n",
              "1  0.49480  22.88020  0.11765\n",
              "2  0.67767  24.03770  0.20560\n",
              "3  0.86650  24.34685  0.17385\n",
              "4  0.79857  24.36050  0.17435"
            ]
          },
          "metadata": {},
          "execution_count": 38
        }
      ]
    },
    {
      "cell_type": "code",
      "source": [
        "y = dataset['mb']\n",
        "X = dataset.drop('mb',axis=1)"
      ],
      "metadata": {
        "id": "UB4mJI9dlTR6"
      },
      "execution_count": 39,
      "outputs": []
    },
    {
      "cell_type": "code",
      "source": [
        "from sklearn.model_selection import train_test_split\n",
        "\n",
        "x_train , x_test , y_train , y_test = train_test_split(X, y,test_size=0.33)"
      ],
      "metadata": {
        "id": "uBi0GVoslTR6"
      },
      "execution_count": 40,
      "outputs": []
    },
    {
      "cell_type": "code",
      "source": [
        "N , D =x_train.shape\n",
        "print(x_train.shape)\n",
        "print('N',N)\n",
        "print('D',D)"
      ],
      "metadata": {
        "colab": {
          "base_uri": "https://localhost:8080/"
        },
        "outputId": "961a1cb1-0c33-4d34-f78d-942775fd5045",
        "id": "hHDqoQBelTR6"
      },
      "execution_count": 41,
      "outputs": [
        {
          "output_type": "stream",
          "name": "stdout",
          "text": [
            "(684, 2)\n",
            "N 684\n",
            "D 2\n"
          ]
        }
      ]
    },
    {
      "cell_type": "code",
      "source": [
        "scaler = StandardScaler()\n",
        "x_train = scaler.fit_transform(x_train)\n",
        "x_test = scaler.transform(x_test)"
      ],
      "metadata": {
        "id": "9K9ZrZhllTR6"
      },
      "execution_count": 42,
      "outputs": []
    },
    {
      "cell_type": "code",
      "source": [
        "myInput=Input(shape=(D,))\n",
        "Dense1=Dense(128, activation = 'relu', kernel_initializer='normal')(myInput)\n",
        "Dense2=Dense(64, activation = 'relu', kernel_initializer='normal')(Dense1)\n",
        "Dense3=Dense(16, activation = 'relu', kernel_initializer='normal')(Dense2)\n",
        "out_layer=Dense(1 , activation = 'linear')(Dense3)\n",
        "\n",
        "model=Model(myInput,out_layer)"
      ],
      "metadata": {
        "id": "phKVEACslTR6"
      },
      "execution_count": 43,
      "outputs": []
    },
    {
      "cell_type": "code",
      "source": [
        "from keras.callbacks import EarlyStopping\n",
        "earlystopping = EarlyStopping(monitor=\"mean_squared_error\", patience=40, verbose=1, mode='auto')\n",
        "\n",
        "\n",
        "def lr_scheduler(epoch, lr):\n",
        "    decay_rate = 0.1\n",
        "    decay_step = 90\n",
        "    if epoch % decay_step == 0 and epoch:\n",
        "        return lr * decay_rate\n",
        "    return lr\n",
        "\n",
        "\n",
        "callbacks = [keras.callbacks.LearningRateScheduler(lr_scheduler, verbose=1), earlystopping]"
      ],
      "metadata": {
        "id": "hEooeKkiRigx"
      },
      "execution_count": 44,
      "outputs": []
    },
    {
      "cell_type": "code",
      "source": [
        "model.compile(optimizer='rmsprop',loss='mean_squared_error', metrics=['mean_absolute_error', 'mean_squared_error'])"
      ],
      "metadata": {
        "id": "ZExrLfSPlTR7"
      },
      "execution_count": 45,
      "outputs": []
    },
    {
      "cell_type": "code",
      "source": [
        "%%time\n",
        "bc = model.fit(x_train , y_train , validation_split=0.2,epochs=100, callbacks=[callbacks])"
      ],
      "metadata": {
        "id": "DNul3YJxlTR7"
      },
      "execution_count": null,
      "outputs": []
    },
    {
      "cell_type": "code",
      "source": [
        "%%time\n",
        "model.evaluate(x_test, y_test)"
      ],
      "metadata": {
        "colab": {
          "base_uri": "https://localhost:8080/"
        },
        "outputId": "e8e552a0-34ff-4537-d18d-46b0df029697",
        "id": "y54KPHedlTR7"
      },
      "execution_count": 47,
      "outputs": [
        {
          "output_type": "stream",
          "name": "stdout",
          "text": [
            "11/11 [==============================] - 0s 2ms/step - loss: 0.0389 - mean_absolute_error: 0.1416 - mean_squared_error: 0.0389\n",
            "CPU times: user 67.1 ms, sys: 1.67 ms, total: 68.7 ms\n",
            "Wall time: 70.2 ms\n"
          ]
        },
        {
          "output_type": "execute_result",
          "data": {
            "text/plain": [
              "[0.03889113664627075, 0.14163731038570404, 0.03889113664627075]"
            ]
          },
          "metadata": {},
          "execution_count": 47
        }
      ]
    },
    {
      "cell_type": "code",
      "source": [
        "history = bc.history"
      ],
      "metadata": {
        "id": "ZhPgOe0elTR7"
      },
      "execution_count": 33,
      "outputs": []
    },
    {
      "cell_type": "code",
      "source": [
        "history.keys()"
      ],
      "metadata": {
        "colab": {
          "base_uri": "https://localhost:8080/"
        },
        "outputId": "cd414265-0622-46ba-c9c3-b6a1eaf671be",
        "id": "Z1gDwDzklTR7"
      },
      "execution_count": 34,
      "outputs": [
        {
          "output_type": "execute_result",
          "data": {
            "text/plain": [
              "dict_keys(['loss', 'mean_absolute_error', 'mean_squared_error', 'val_loss', 'val_mean_absolute_error', 'val_mean_squared_error', 'lr'])"
            ]
          },
          "metadata": {},
          "execution_count": 34
        }
      ]
    },
    {
      "cell_type": "code",
      "source": [
        "losses = history['loss']\n",
        "val_losses = history['val_loss']\n",
        "plt.xlabel('Epochs')\n",
        "plt.ylabel('Loss')\n",
        "plt.plot(val_losses)\n",
        "plt.plot(losses)\n",
        "plt.legend(['loss','val_loss'])\n",
        "plt.show()"
      ],
      "metadata": {
        "colab": {
          "base_uri": "https://localhost:8080/",
          "height": 279
        },
        "outputId": "6643b327-6dee-406a-dadb-96a7fe909418",
        "id": "C6wq5WjelTR8"
      },
      "execution_count": 35,
      "outputs": [
        {
          "output_type": "display_data",
          "data": {
            "image/png": "[encoded data removed]",
            "text/plain": [
              "<Figure size 432x288 with 1 Axes>"
            ]
          },
          "metadata": {
            "needs_background": "light"
          }
        }
      ]
    },
    {
      "cell_type": "markdown",
      "source": [
        "# **Discussion**\n",
        "\n",
        "1. اگر در هر یک از مدل ها، تعداد دفعات بیشتر از یکبار مدل را فیت کنیم، به علت بزرگتر شدن وزنها مدل اورفیت میکند.\n",
        "\n",
        "2. در این مدلها از\n",
        "$kernel \\, \\, initializer$\n",
        "ای استفاده شده است که بر اساس تابع توزیع نرمال مقداردهی اولیه آنها به وزن ها صورت میگیرید.\n",
        "\n",
        "3. به دلیل اینکه دیتا پیچیدگی زیادی ندارد و برای مدل اورفیتینگ اتفاق نمیفتد، استفاده از لایه های\n",
        "$drop \\, \\, out$\n",
        " و انواع\n",
        "$regularization$\n",
        "ها توصیه نمیشود.\n",
        "\n",
        "4. در این مدل از متریک هایی استفاده شده که مرتبط با تسک\n",
        "$regression$\n",
        "باشد. \n",
        "$mean \\, \\, squered \\,\\, error$\n",
        "،\n",
        "$mean \\, \\, absolute \\,\\, error$\n",
        "،\n",
        "$root \\, \\, mean \\, \\, squered \\,\\, error$\n",
        "از متریک های رایج این تسک میباشند."
      ],
      "metadata": {
        "id": "bGrXzpfMWTWU"
      }
    },
    {
      "cell_type": "markdown",
      "source": [
        "# **Comparison**"
      ],
      "metadata": {
        "id": "mzZngWbiYo3S"
      }
    },
    {
      "cell_type": "markdown",
      "source": [
        "![Compare Table 3.JPG](data:image/jpeg;base64,/9j/4AAQSkZJRgABAQEAeAB4AAD/4RB6RXhpZgAATU0AKgAAAAgABAE7AAIAAAAETVNHAIdpAAQAAAABAAAISpydAAEAAAAIAAAQauocAAcAAAgMAAAAPgAAAAAc6gAAAAgAAAAAAAAAAAAAAAAAAAAAAAAAAAAAAAAAAAAAAAAAAAAAAAAAAAAAAAAAAAAAAAAAAAAAAAAAAAAAAAAAAAAAAAAAAAAAAAAAAAAAAAAAAAAAAAAAAAAAAAAAAAAAAAAAAAAAAAAAAAAAAAAAAAAAAAAAAAAAAAAAAAAAAAAAAAAAAAAAAAAAAAAAAAAAAAAAAAAAAAAAAAAAAAAAAAAAAAAAAAAAAAAAAAAAAAAAAAAAAAAAAAAAAAAAAAAAAAAAAAAAAAAAAAAAAAAAAAAAAAAAAAAAAAAAAAAAAAAAAAAAAAAAAAAAAAAAAAAAAAAAAAAAAAAAAAAAAAAAAAAAAAAAAAAAAAAAAAAAAAAAAAAAAAAAAAAAAAAAAAAAAAAAAAAAAAAAAAAAAAAAAAAAAAAAAAAAAAAAAAAAAAAAAAAAAAAAAAAAAAAAAAAAAAAAAAAAAAAAAAAAAAAAAAAAAAAAAAAAAAAAAAAAAAAAAAAAAAAAAAAAAAAAAAAAAAAAAAAAAAAAAAAAAAAAAAAAAAAAAAAAAAAAAAAAAAAAAAAAAAAAAAAAAAAAAAAAAAAAAAAAAAAAAAAAAAAAAAAAAAAAAAAAAAAAAAAAAAAAAAAAAAAAAAAAAAAAAAAAAAAAAAAAAAAAAAAAAAAAAAAAAAAAAAAAAAAAAAAAAAAAAAAAAAAAAAAAAAAAAAAAAAAAAAAAAAAAAAAAAAAAAAAAAAAAAAAAAAAAAAAAAAAAAAAAAAAAAAAAAAAAAAAAAAAAAAAAAAAAAAAAAAAAAAAAAAAAAAAAAAAAAAAAAAAAAAAAAAAAAAAAAAAAAAAAAAAAAAAAAAAAAAAAAAAAAAAAAAAAAAAAAAAAAAAAAAAAAAAAAAAAAAAAAAAAAAAAAAAAAAAAAAAAAAAAAAAAAAAAAAAAAAAAAAAAAAAAAAAAAAAAAAAAAAAAAAAAAAAAAAAAAAAAAAAAAAAAAAAAAAAAAAAAAAAAAAAAAAAAAAAAAAAAAAAAAAAAAAAAAAAAAAAAAAAAAAAAAAAAAAAAAAAAAAAAAAAAAAAAAAAAAAAAAAAAAAAAAAAAAAAAAAAAAAAAAAAAAAAAAAAAAAAAAAAAAAAAAAAAAAAAAAAAAAAAAAAAAAAAAAAAAAAAAAAAAAAAAAAAAAAAAAAAAAAAAAAAAAAAAAAAAAAAAAAAAAAAAAAAAAAAAAAAAAAAAAAAAAAAAAAAAAAAAAAAAAAAAAAAAAAAAAAAAAAAAAAAAAAAAAAAAAAAAAAAAAAAAAAAAAAAAAAAAAAAAAAAAAAAAAAAAAAAAAAAAAAAAAAAAAAAAAAAAAAAAAAAAAAAAAAAAAAAAAAAAAAAAAAAAAAAAAAAAAAAAAAAAAAAAAAAAAAAAAAAAAAAAAAAAAAAAAAAAAAAAAAAAAAAAAAAAAAAAAAAAAAAAAAAAAAAAAAAAAAAAAAAAAAAAAAAAAAAAAAAAAAAAAAAAAAAAAAAAAAAAAAAAAAAAAAAAAAAAAAAAAAAAAAAAAAAAAAAAAAAAAAAAAAAAAAAAAAAAAAAAAAAAAAAAAAAAAAAAAAAAAAAAAAAAAAAAAAAAAAAAAAAAAAAAAAAAAAAAAAAAAAAAAAAAAAAAAAAAAAAAAAAAAAAAAAAAAAAAAAAAAAAAAAAAAAAAAAAAAAAAAAAAAAAAAAAAAAAAAAAAAAAAAAAAAAAAAAAAAAAAAAAAAAAAAAAAAAAAAAAAAAAAAAAAAAAAAAAAAAAAAAAAAAAAAAAAAAAAAAAAAAAAAAAAAAAAAAAAAAAAAAAAAAAAAAAAAAAAAAAAAAAAAAAAAAAAAAAAAAAAAAAAAAAAAAAAAAAAAAAAAAAAAAAAAAAAAAAAAAAAAAAAAAAAAAAAAAAAAAAAAAAAAAAAAAAAAAAAAAAAAAAAAAAAAAAAAAAAAAAAAAAAAAAAAAAAAAAAAAAAAAAAAAAAAAAAAAAAAAAAAAAAAAAAAAAAAAAAAAAAAAAAAAAAAAAAAAAAAAAAAAAAAAAAAAAAAAAAAAAAAAAAAAAAAAAAAAAAAAAAAAAAAAAAAAAAAAAAAAAAAAAAAAAAAAAAAAAAAAAAAAAAAAAAAAAAAAAAAAAAAAAAAAAAAAAAAAAAAAAAAAAAAAAAAAAAAAAAAAAAAAAAAAAAAAAAAAAAAAAAAAAAAAAAAAAAAAAAAAAAAAAAAAAAAAAAAAAAAAAAAAAAAAAAAAAAAAAAAAAAAAAAAAAAAAAAAAAAAAAAAAAAAAAAAAAAAAAAAAAAAAAAAAAAAAAAAAAAAAAAAAAAAAAAAAAAAAAAAAAAAAAAAAAAAAAAAAAAAAAAAAAAAAAAAAAAAAAAAAAAAAAAAAAAAAAAAAAAAAAAAAAAAAAAAAAAAAAAAAAAAAAAAAAAAAAAAAAAAAAAAAAAAAAAAAAAAAAAAAAAAAAAAAAAAAAAAAAAAAAAAAAAAAAAAAAAAAAAAAAAAAAAAAAAAAAAAAAAAAAAAAAAAAAAAAAAAAAAAAAAAAAAAAAAAAAAAAAAAAAAAAAAAAAAAAAAAAAAAAAAAAAAAAAAAAAAAAAAAAAAAAAAAAAAAAAAAAAAAAAAAAAAAAAAAAAAAAAAAAAAAAAAAAAAAAAAAAAAAAAAAAAAAAAAAAAAAAAAAAAAAAAAAAAAAAAAAAAAAAAAAAAAAAAAAAAAAAAAAAAAAAAAAAAAAAAAAAAAAAAAAAAAAAAAAAAAAAAAAAAAAAAAAAAAAAB6hwABwAACAwAAAhcAAAAABzqAAAACAAAAAAAAAAAAAAAAAAAAAAAAAAAAAAAAAAAAAAAAAAAAAAAAAAAAAAAAAAAAAAAAAAAAAAAAAAAAAAAAAAAAAAAAAAAAAAAAAAAAAAAAAAAAAAAAAAAAAAAAAAAAAAAAAAAAAAAAAAAAAAAAAAAAAAAAAAAAAAAAAAAAAAAAAAAAAAAAAAAAAAAAAAAAAAAAAAAAAAAAAAAAAAAAAAAAAAAAAAAAAAAAAAAAAAAAAAAAAAAAAAAAAAAAAAAAAAAAAAAAAAAAAAAAAAAAAAAAAAAAAAAAAAAAAAAAAAAAAAAAAAAAAAAAAAAAAAAAAAAAAAAAAAAAAAAAAAAAAAAAAAAAAAAAAAAAAAAAAAAAAAAAAAAAAAAAAAAAAAAAAAAAAAAAAAAAAAAAAAAAAAAAAAAAAAAAAAAAAAAAAAAAAAAAAAAAAAAAAAAAAAAAAAAAAAAAAAAAAAAAAAAAAAAAAAAAAAAAAAAAAAAAAAAAAAAAAAAAAAAAAAAAAAAAAAAAAAAAAAAAAAAAAAAAAAAAAAAAAAAAAAAAAAAAAAAAAAAAAAAAAAAAAAAAAAAAAAAAAAAAAAAAAAAAAAAAAAAAAAAAAAAAAAAAAAAAAAAAAAAAAAAAAAAAAAAAAAAAAAAAAAAAAAAAAAAAAAAAAAAAAAAAAAAAAAAAAAAAAAAAAAAAAAAAAAAAAAAAAAAAAAAAAAAAAAAAAAAAAAAAAAAAAAAAAAAAAAAAAAAAAAAAAAAAAAAAAAAAAAAAAAAAAAAAAAAAAAAAAAAAAAAAAAAAAAAAAAAAAAAAAAAAAAAAAAAAAAAAAAAAAAAAAAAAAAAAAAAAAAAAAAAAAAAAAAAAAAAAAAAAAAAAAAAAAAAAAAAAAAAAAAAAAAAAAAAAAAAAAAAAAAAAAAAAAAAAAAAAAAAAAAAAAAAAAAAAAAAAAAAAAAAAAAAAAAAAAAAAAAAAAAAAAAAAAAAAAAAAAAAAAAAAAAAAAAAAAAAAAAAAAAAAAAAAAAAAAAAAAAAAAAAAAAAAAAAAAAAAAAAAAAAAAAAAAAAAAAAAAAAAAAAAAAAAAAAAAAAAAAAAAAAAAAAAAAAAAAAAAAAAAAAAAAAAAAAAAAAAAAAAAAAAAAAAAAAAAAAAAAAAAAAAAAAAAAAAAAAAAAAAAAAAAAAAAAAAAAAAAAAAAAAAAAAAAAAAAAAAAAAAAAAAAAAAAAAAAAAAAAAAAAAAAAAAAAAAAAAAAAAAAAAAAAAAAAAAAAAAAAAAAAAAAAAAAAAAAAAAAAAAAAAAAAAAAAAAAAAAAAAAAAAAAAAAAAAAAAAAAAAAAAAAAAAAAAAAAAAAAAAAAAAAAAAAAAAAAAAAAAAAAAAAAAAAAAAAAAAAAAAAAAAAAAAAAAAAAAAAAAAAAAAAAAAAAAAAAAAAAAAAAAAAAAAAAAAAAAAAAAAAAAAAAAAAAAAAAAAAAAAAAAAAAAAAAAAAAAAAAAAAAAAAAAAAAAAAAAAAAAAAAAAAAAAAAAAAAAAAAAAAAAAAAAAAAAAAAAAAAAAAAAAAAAAAAAAAAAAAAAAAAAAAAAAAAAAAAAAAAAAAAAAAAAAAAAAAAAAAAAAAAAAAAAAAAAAAAAAAAAAAAAAAAAAAAAAAAAAAAAAAAAAAAAAAAAAAAAAAAAAAAAAAAAAAAAAAAAAAAAAAAAAAAAAAAAAAAAAAAAAAAAAAAAAAAAAAAAAAAAAAAAAAAAAAAAAAAAAAAAAAAAAAAAAAAAAAAAAAAAAAAAAAAAAAAAAAAAAAAAAAAAAAAAAAAAAAAAAAAAAAAAAAAAAAAAAAAAAAAAAAAAAAAAAAAAAAAAAAAAAAAAAAAAAAAAAAAAAAAAAAAAAAAAAAAAAAAAAAAAAAAAAAAAAAAAAAAAAAAAAAAAAAAAAAAAAAAAAAAAAAAAAAAAAAAAAAAAAAAAAAAAAAAAAAAAAAAAAAAAAAAAAAAAAAAAAAAAAAAAAAAAAAAAAAAAAAAAAAAAAAAAAAAAAAAAAAAAAAAAAAAAAAAAAAAAAAAAAAAAAAAAAAAAAAAAAAAAAAAAAAAAAAAAAAAAAAAAAAAAAAAAAAAAAAAAAAAAAAAAAAAAAAAAAAAAAAAAAAAAAAAAAAAAAAAAAAAAAAAAAAAAAAAAAAAAAAAAAAAAAAAAAAAAAAAAAAAAAAAAAAAAAAAAAAAAAAAAAAAAAAAAAAAAAAAAAAAAAAAAAAAAAAAAAAAAAAAAAAAAAAAAAAAAAAAAAAAAAAAAAAAAAAAAAAAAAAAAAAAAAAAAAAAAAAAAAAAAAAAAAAAAAAAAAAAAAAAAAAAAAAAAAAAAAAAAAAAAAAAAAAAAAAAAAAAAAAAAAAAAAAAAAAAAAAAAAAAAAAAAAAAAAAAAAAAAAAAAAAAAAAAAAAAAAAAAAAAAAAAAAAAAAAAAAAAAAAAAAAAAAAAAAAAAAAAAAAAAAAAAAAAAAAAAAAAAAAAAAAAAAAAAAAAAAAAAAAAAAAAAAAAAAAAAAAAAAAAAAAAAAAAAAAAAAAAAAAAAAAAAAAAAAAAAAAAAAAAAAAAAAAAAAAAAAAAAAAAAAAAAAAAAAAAAAAAAAAAAAAAAAAAAAAAAAAAAAAAAAAAAAAAAAAAAAAAAAAAAAAAAAAAAAAAAAAAAAAAAAAAAAAAAAAAAAAAAAAAAAAAAAAAAAAAAAAAAAAAAAAAAAAAAAAAAAAAAAAAAAAAAAAAAAAAAAAAAAAAAAAAAAAABNAFMARwAAAP/hClxodHRwOi8vbnMuYWRvYmUuY29tL3hhcC8xLjAvADw/eHBhY2tldCBiZWdpbj0n77u/JyBpZD0nVzVNME1wQ2VoaUh6cmVTek5UY3prYzlkJz8+DQo8eDp4bXBtZXRhIHhtbG5zOng9ImFkb2JlOm5zOm1ldGEvIj48cmRmOlJERiB4bWxuczpyZGY9Imh0dHA6Ly93d3cudzMub3JnLzE5OTkvMDIvMjItcmRmLXN5bnRheC1ucyMiPjxyZGY6RGVzY3JpcHRpb24gcmRmOmFib3V0PSJ1dWlkOmZhZjViZGQ1LWJhM2QtMTFkYS1hZDMxLWQzM2Q3NTE4MmYxYiIgeG1sbnM6ZGM9Imh0dHA6Ly9wdXJsLm9yZy9kYy9lbGVtZW50cy8xLjEvIi8+PHJkZjpEZXNjcmlwdGlvbiByZGY6YWJvdXQ9InV1aWQ6ZmFmNWJkZDUtYmEzZC0xMWRhLWFkMzEtZDMzZDc1MTgyZjFiIiB4bWxuczpkYz0iaHR0cDovL3B1cmwub3JnL2RjL2VsZW1lbnRzLzEuMS8iPjxkYzpjcmVhdG9yPjxyZGY6U2VxIHhtbG5zOnJkZj0iaHR0cDovL3d3dy53My5vcmcvMTk5OS8wMi8yMi1yZGYtc3ludGF4LW5zIyI+PHJkZjpsaT5NU0c8L3JkZjpsaT48L3JkZjpTZXE+DQoJCQk8L2RjOmNyZWF0b3I+PC9yZGY6RGVzY3JpcHRpb24+PC9yZGY6UkRGPjwveDp4bXBtZXRhPg0KICAgICAgICAgICAgICAgICAgICAgICAgICAgICAgICAgICAgICAgICAgICAgICAgICAgICAgICAgICAgICAgICAgICAgICAgICAgICAgICAgICAgICAgICAgICAgICAgICAgIAogICAgICAgICAgICAgICAgICAgICAgICAgICAgICAgICAgICAgICAgICAgICAgICAgICAgICAgICAgICAgICAgICAgICAgICAgICAgICAgICAgICAgICAgICAgICAgICAgICAgCiAgICAgICAgICAgICAgICAgICAgICAgICAgICAgICAgICAgICAgICAgICAgICAgICAgICAgICAgICAgICAgICAgICAgICAgICAgICAgICAgICAgICAgICAgICAgICAgICAgICAKICAgICAgICAgICAgICAgICAgICAgICAgICAgICAgICAgICAgICAgICAgICAgICAgICAgICAgICAgICAgICAgICAgICAgICAgICAgICAgICAgICAgICAgICAgICAgICAgICAgIAogICAgICAgICAgICAgICAgICAgICAgICAgICAgICAgICAgICAgICAgICAgICAgICAgICAgICAgICAgICAgICAgICAgICAgICAgICAgICAgICAgICAgICAgICAgICAgICAgICAgCiAgICAgICAgICAgICAgICAgICAgICAgICAgICAgICAgICAgICAgICAgICAgICAgICAgICAgICAgICAgICAgICAgICAgICAgICAgICAgICAgICAgICAgICAgICAgICAgICAgICAKICAgICAgICAgICAgICAgICAgICAgICAgICAgICAgICAgICAgICAgICAgICAgICAgICAgICAgICAgICAgICAgICAgICAgICAgICAgICAgICAgICAgICAgICAgICAgICAgICAgIAogICAgICAgICAgICAgICAgICAgICAgICAgICAgICAgICAgICAgICAgICAgICAgICAgICAgICAgICAgICAgICAgICAgICAgICAgICAgICAgICAgICAgICAgICAgICAgICAgICAgCiAgICAgICAgICAgICAgICAgICAgICAgICAgICAgICAgICAgICAgICAgICAgICAgICAgICAgICAgICAgICAgICAgICAgICAgICAgICAgICAgICAgICAgICAgICAgICAgICAgICAKICAgICAgICAgICAgICAgICAgICAgICAgICAgICAgICAgICAgICAgICAgICAgICAgICAgICAgICAgICAgICAgICAgICAgICAgICAgICAgICAgICAgICAgICAgICAgICAgICAgIAogICAgICAgICAgICAgICAgICAgICAgICAgICAgICAgICAgICAgICAgICAgICAgICAgICAgICAgICAgICAgICAgICAgICAgICAgICAgICAgICAgICAgICAgICAgICAgICAgICAgCiAgICAgICAgICAgICAgICAgICAgICAgICAgICAgICAgICAgICAgICAgICAgICAgICAgICAgICAgICAgICAgICAgICAgICAgICAgICAgICAgICAgICAgICAgICAgICAgICAgICAKICAgICAgICAgICAgICAgICAgICAgICAgICAgICAgICAgICAgICAgICAgICAgICAgICAgICAgICAgICAgICAgICAgICAgICAgICAgICAgICAgICAgICAgICAgICAgICAgICAgIAogICAgICAgICAgICAgICAgICAgICAgICAgICAgICAgICAgICAgICAgICAgICAgICAgICAgICAgICAgICAgICAgICAgICAgICAgICAgICAgICAgICAgICAgICAgICAgICAgICAgCiAgICAgICAgICAgICAgICAgICAgICAgICAgICAgICAgICAgICAgICAgICAgICAgICAgICAgICAgICAgICAgICAgICAgICAgICAgICAgICAgICAgICAgICAgICAgICAgICAgICAKICAgICAgICAgICAgICAgICAgICAgICAgICAgICAgICAgICAgICAgICAgICAgICAgICAgICAgICAgICAgICAgICAgICAgICAgICAgICAgICAgICAgICAgICAgICAgICAgICAgIAogICAgICAgICAgICAgICAgICAgICAgICAgICAgICAgICAgICAgICAgICAgICAgICAgICAgICAgICAgICAgICAgICAgICAgICAgICAgICAgICAgICAgICAgICAgICAgICAgICAgCiAgICAgICAgICAgICAgICAgICAgICAgICAgICAgICAgICAgICAgICAgICAgICAgICAgICAgICAgICAgICAgICAgICAgICAgICAgICAgICAgICAgICAgICAgICAgICAgICAgICAKICAgICAgICAgICAgICAgICAgICAgICAgICAgICAgICAgICAgICAgICAgICAgICAgICAgICAgICAgICAgICAgICAgICAgICAgICAgICAgICAgICAgICAgICAgICAgICAgICAgIAogICAgICAgICAgICAgICAgICAgICAgICAgICAgICAgICAgICAgICAgICAgICAgICAgICAgICAgICAgICAgICAgICAgICAgICAgICAgICAgICAgICAgICAgICAgICAgICAgICAgCiAgICAgICAgICAgICAgICAgICAgICAgICAgICA8P3hwYWNrZXQgZW5kPSd3Jz8+/9sAQwAHBQUGBQQHBgUGCAcHCAoRCwoJCQoVDxAMERgVGhkYFRgXGx4nIRsdJR0XGCIuIiUoKSssKxogLzMvKjInKisq/9sAQwEHCAgKCQoUCwsUKhwYHCoqKioqKioqKioqKioqKioqKioqKioqKioqKioqKioqKioqKioqKioqKioqKioqKioq/8AAEQgCawYRAwEiAAIRAQMRAf/EAB8AAAEFAQEBAQEBAAAAAAAAAAABAgMEBQYHCAkKC//EALUQAAIBAwMCBAMFBQQEAAABfQECAwAEEQUSITFBBhNRYQcicRQygZGhCCNCscEVUtHwJDNicoIJChYXGBkaJSYnKCkqNDU2Nzg5OkNERUZHSElKU1RVVldYWVpjZGVmZ2hpanN0dXZ3eHl6g4SFhoeIiYqSk5SVlpeYmZqio6Slpqeoqaqys7S1tre4ubrCw8TFxsfIycrS09TV1tfY2drh4uPk5ebn6Onq8fLz9PX29/j5+v/EAB8BAAMBAQEBAQEBAQEAAAAAAAABAgMEBQYHCAkKC//EALURAAIBAgQEAwQHBQQEAAECdwABAgMRBAUhMQYSQVEHYXETIjKBCBRCkaGxwQkjM1LwFWJy0QoWJDThJfEXGBkaJicoKSo1Njc4OTpDREVGR0hJSlNUVVZXWFlaY2RlZmdoaWpzdHV2d3h5eoKDhIWGh4iJipKTlJWWl5iZmqKjpKWmp6ipqrKztLW2t7i5usLDxMXGx8jJytLT1NXW19jZ2uLj5OXm5+jp6vLz9PX29/j5+v/aAAwDAQACEQMRAD8A+kaKxPGuoXWkeAfEGpafL5N3Z6ZczwSbQ2x0iZlOCCDggcEYrz/w5oHxO8QeFdK1n/ha32f+0bKG78n/AIR22fy/MQPt3ZGcZxnAoA9borzb/hCfid/0Vz/y2rb/AOKo/wCEJ+J3/RXP/Latv/iqAPSaK82/4Qn4nf8ARXP/AC2rb/4qj/hCfid/0Vz/AMtq2/8AiqAPSaK82/4Qn4nf9Fc/8tq2/wDiqP8AhCfid/0Vz/y2rb/4qgD0mivNv+EJ+J3/AEVz/wAtq2/+Ko/4Qn4nf9Fc/wDLatv/AIqgD0mivNv+EJ+J3/RXP/Latv8A4qj/AIQn4nf9Fc/8tq2/+KoA9Jorzb/hCfid/wBFc/8ALatv/iqP+EJ+J3/RXP8Ay2rb/wCKoA9Jorzb/hCfid/0Vz/y2rb/AOKo/wCEJ+J3/RXP/Latv/iqAPSaK82/4Qn4nf8ARXP/AC2rb/4qj/hCfid/0Vz/AMtq2/8AiqAPSaK82/4Qn4nf9Fc/8tq2/wDiqP8AhCfid/0Vz/y2rb/4qgD0mivNv+EJ+J3/AEVz/wAtq2/+Ko/4Qn4nf9Fc/wDLatv/AIqgD0mivNv+EJ+J3/RXP/Latv8A4qj/AIQn4nf9Fc/8tq2/+KoA9Jorzb/hCfid/wBFc/8ALatv/iqP+EJ+J3/RXP8Ay2rb/wCKoA9Jorzb/hCfid/0Vz/y2rb/AOKo/wCEJ+J3/RXP/Latv/iqAPSaK82/4Qn4nf8ARXP/AC2rb/4qj/hCfid/0Vz/AMtq2/8AiqAPSaK82/4Qn4nf9Fc/8tq2/wDiqP8AhCfid/0Vz/y2rb/4qgD0mivNv+EJ+J3/AEVz/wAtq2/+Ko/4Qn4nf9Fc/wDLatv/AIqgD0mivNv+EJ+J3/RXP/Latv8A4qj/AIQn4nf9Fc/8tq2/+KoA9Jorzb/hCfid/wBFc/8ALatv/iqP+EJ+J3/RXP8Ay2rb/wCKoA9Jorzb/hCfid/0Vz/y2rb/AOKo/wCEJ+J3/RXP/Latv/iqAPSaK82/4Qn4nf8ARXP/AC2rb/4qj/hCfid/0Vz/AMtq2/8AiqAPSaK82/4Qn4nf9Fc/8tq2/wDiqP8AhCfid/0Vz/y2rb/4qgD0mivNv+EJ+J3/AEVz/wAtq2/+Ko/4Qn4nf9Fc/wDLatv/AIqgD0mivNv+EJ+J3/RXP/Latv8A4qj/AIQn4nf9Fc/8tq2/+KoA9Jorzb/hCfid/wBFc/8ALatv/iq5vxlb/E7wl/YP/Fz/ALX/AGxrVvpX/Iv20fk+bu/ed92Nv3eM56igD22ivNv+EJ+J3/RXP/Latv8A4qj/AIQn4nf9Fc/8tq2/+KoA9Jorzb/hCfid/wBFc/8ALatv/iqP+EJ+J3/RXP8Ay2rb/wCKoA9Jorzb/hCfid/0Vz/y2rb/AOKo/wCEJ+J3/RXP/Latv/iqAPSaK82/4Qn4nf8ARXP/AC2rb/4qj/hCfid/0Vz/AMtq2/8AiqAPSaK82/4Qn4nf9Fc/8tq2/wDiqP8AhCfid/0Vz/y2rb/4qgD0mivNv+EJ+J3/AEVz/wAtq2/+Ko/4Qn4nf9Fc/wDLatv/AIqgD0mivNv+EJ+J3/RXP/Latv8A4qj/AIQn4nf9Fc/8tq2/+KoA9Jorzb/hCfid/wBFc/8ALatv/iqP+EJ+J3/RXP8Ay2rb/wCKoA9Jorzb/hCfid/0Vz/y2rb/AOKo/wCEJ+J3/RXP/Latv/iqAPSaK82/4Qn4nf8ARXP/AC2rb/4qj/hCfid/0Vz/AMtq2/8AiqAPSaK82/4Qn4nf9Fc/8tq2/wDiqP8AhCfid/0Vz/y2rb/4qgD0mivNv+EJ+J3/AEVz/wAtq2/+Ko/4Qn4nf9Fc/wDLatv/AIqgD0mivNv+EJ+J3/RXP/Latv8A4qj/AIQn4nf9Fc/8tq2/+KoA9Jorzb/hCfid/wBFc/8ALatv/iqP+EJ+J3/RXP8Ay2rb/wCKoA9Jorzb/hCfid/0Vz/y2rb/AOKo/wCEJ+J3/RXP/Latv/iqAPSaK82/4Qn4nf8ARXP/AC2rb/4qj/hCfid/0Vz/AMtq2/8AiqAPSaK82/4Qn4nf9Fc/8tq2/wDiqP8AhCfid/0Vz/y2rb/4qgD0mivNv+EJ+J3/AEVz/wAtq2/+Ko/4Qn4nf9Fc/wDLatv/AIqgD0mivNv+EJ+J3/RXP/Latv8A4qj/AIQn4nf9Fc/8tq2/+KoA9Jorzb/hCfid/wBFc/8ALatv/iqP+EJ+J3/RXP8Ay2rb/wCKoA9Jorzb/hCfid/0Vz/y2rb/AOKo/wCEJ+J3/RXP/Latv/iqAPSaK82/4Qn4nf8ARXP/AC2rb/4qj/hCfid/0Vz/AMtq2/8AiqAPSaK82/4Qn4nf9Fc/8tq2/wDiqP8AhCfid/0Vz/y2rb/4qgD0mivNv+EJ+J3/AEVz/wAtq2/+Ko/4Qn4nf9Fc/wDLatv/AIqgD0mivNv+EJ+J3/RXP/Latv8A4qj/AIQn4nf9Fc/8tq2/+KoA9Jorzb/hCfid/wBFc/8ALatv/iqP+EJ+J3/RXP8Ay2rb/wCKoA9Jorzb/hCfid/0Vz/y2rb/AOKo/wCEJ+J3/RXP/Latv/iqAPSaK82/4Qn4nf8ARXP/AC2rb/4qj/hCfid/0Vz/AMtq2/8AiqAPSaK82/4Qn4nf9Fc/8tq2/wDiqP8AhCfid/0Vz/y2rb/4qgD0mivNv+EJ+J3/AEVz/wAtq2/+Krm/iDb/ABO8CeBNQ8R/8LP+3/YvK/0f/hH7aLfvlWP73zYxvz0PSgD22ivNv+EJ+J3/AEVz/wAtq2/+Ko/4Qn4nf9Fc/wDLatv/AIqgD0mivNv+EJ+J3/RXP/Latv8A4qj/AIQn4nf9Fc/8tq2/+KoA9Jorzb/hCfid/wBFc/8ALatv/iqP+EJ+J3/RXP8Ay2rb/wCKoA9Jorzb/hCfid/0Vz/y2rb/AOKo/wCEJ+J3/RXP/Latv/iqAPSaK82/4Qn4nf8ARXP/AC2rb/4qj/hCfid/0Vz/AMtq2/8AiqAPSaK82/4Qn4nf9Fc/8tq2/wDiqP8AhCfid/0Vz/y2rb/4qgD0mivNv+EJ+J3/AEVz/wAtq2/+Ko/4Qn4nf9Fc/wDLatv/AIqgD0mivNv+EJ+J3/RXP/Latv8A4qj/AIQn4nf9Fc/8tq2/+KoA9Jorzb/hCfid/wBFc/8ALatv/iqP+EJ+J3/RXP8Ay2rb/wCKoA9Jorzb/hCfid/0Vz/y2rb/AOKo/wCEJ+J3/RXP/Latv/iqAPSaK82/4Qn4nf8ARXP/AC2rb/4qj/hCfid/0Vz/AMtq2/8AiqAPSaK82/4Qn4nf9Fc/8tq2/wDiqP8AhCfid/0Vz/y2rb/4qgD0mivNv+EJ+J3/AEVz/wAtq2/+Ko/4Qn4nf9Fc/wDLatv/AIqgD0mivNv+EJ+J3/RXP/Latv8A4qj/AIQn4nf9Fc/8tq2/+KoA9Jorzb/hCfid/wBFc/8ALatv/iqP+EJ+J3/RXP8Ay2rb/wCKoA9Jorzb/hCfid/0Vz/y2rb/AOKo/wCEJ+J3/RXP/Latv/iqAPSaK82/4Qn4nf8ARXP/AC2rb/4qj/hCfid/0Vz/AMtq2/8AiqAPSaK82/4Qn4nf9Fc/8tq2/wDiqP8AhCfid/0Vz/y2rb/4qgD0mivNv+EJ+J3/AEVz/wAtq2/+Ko/4Qn4nf9Fc/wDLatv/AIqgD0mivNv+EJ+J3/RXP/Latv8A4qj/AIQn4nf9Fc/8tq2/+KoA9JorxLxlb/E7wl/YP/Fz/tf9sa1b6V/yL9tH5Pm7v3nfdjb93jOeorpP+EJ+J3/RXP8Ay2rb/wCKoA9Jorzb/hCfid/0Vz/y2rb/AOKo/wCEJ+J3/RXP/Latv/iqAPSaK82/4Qn4nf8ARXP/AC2rb/4qj/hCfid/0Vz/AMtq2/8AiqAPSaK82/4Qn4nf9Fc/8tq2/wDiqP8AhCfid/0Vz/y2rb/4qgD0mivNv+EJ+J3/AEVz/wAtq2/+Ko/4Qn4nf9Fc/wDLatv/AIqgD0mivNv+EJ+J3/RXP/Latv8A4qj/AIQn4nf9Fc/8tq2/+KoA9Jorzb/hCfid/wBFc/8ALatv/iqP+EJ+J3/RXP8Ay2rb/wCKoA9Jorzb/hCfid/0Vz/y2rb/AOKo/wCEJ+J3/RXP/Latv/iqAPSaK82/4Qn4nf8ARXP/AC2rb/4qj/hCfid/0Vz/AMtq2/8AiqAPSaK82/4Qn4nf9Fc/8tq2/wDiqP8AhCfid/0Vz/y2rb/4qgD0mivNv+EJ+J3/AEVz/wAtq2/+Ko/4Qn4nf9Fc/wDLatv/AIqgD0mivNv+EJ+J3/RXP/Latv8A4qj/AIQn4nf9Fc/8tq2/+KoA9Jorzb/hCfid/wBFc/8ALatv/iqP+EJ+J3/RXP8Ay2rb/wCKoA9Jorzb/hCfid/0Vz/y2rb/AOKo/wCEJ+J3/RXP/Latv/iqAPSaK82/4Qn4nf8ARXP/AC2rb/4qj/hCfid/0Vz/AMtq2/8AiqAPSaK82/4Qn4nf9Fc/8tq2/wDiqP8AhCfid/0Vz/y2rb/4qgD0mivNv+EJ+J3/AEVz/wAtq2/+Ko/4Qn4nf9Fc/wDLatv/AIqgD0mivNv+EJ+J3/RXP/Latv8A4qj/AIQn4nf9Fc/8tq2/+KoA9Jorzb/hCfid/wBFc/8ALatv/iqP+EJ+J3/RXP8Ay2rb/wCKoA9Jorzb/hCfid/0Vz/y2rb/AOKo/wCEJ+J3/RXP/Latv/iqAPSaK82/4Qn4nf8ARXP/AC2rb/4qj/hCfid/0Vz/AMtq2/8AiqAPSaK8t8KXnjHSPjRJ4U8T+LP+EhtG8PnUkb+zYbXY/wBoWMD5Mk4Abvj5unFepUAFFFFAHN/Ef/klniv/ALAt5/6Iej4cf8ks8Kf9gWz/APRCUfEf/klniv8A7At5/wCiHo+HH/JLPCn/AGBbP/0QlAHSUUUUAFFFFABRRRQAUUUUAFFFFABRRRQAUUUUAFFFFABRRRQAUUUUAFFFFABRRRQAUUUUAFFFFABRRRQAUUUUAFFFFABRRRQAUUUUAFFFFABRRRQAUUUUAFFFFABXm3xk/wCZC/7HPTv/AGpXpNebfGT/AJkL/sc9O/8AalAHpNFFFABRRRQAUUUUAFFFFABRRRQAUUUUAFFFFABRRRQAUUUUAFFFFABRRRQAUUUUAFFFFABRRRQAUUUUAFFFFABRRRQAUUUUAFFFFABRRRQAUUUUAFFFFABRRRQAUUUUAFFFFABRRRQAUUUUAFFFFABRRRQAV5t+0H/yQnxD/wBu3/pTFXpNebftB/8AJCfEP/bt/wClMVAHpNFFFABRRRQAUUUUAFFFFABRRRQAUUUUAFFFFABRRRQAUUUUAFFFFABRRRQAUUUUAFFFFABRRRQAUUUUAFFFFABRRRQAUUUUAFFFFABRRRQB5t8ZP+ZC/wCxz07/ANqV6TXm3xk/5kL/ALHPTv8A2pXpNABRRRQAUUUUAFFFFABRRRQAUUUUAFFFFABRRRQAUUUUAFFFFABRRRQAUUUUAFFFFABRRRQAUUUUAFFFFABRRRQAUUUUAFFFFABRRRQAUUUUAebf83Tf9yZ/7e16TXm3/N03/cmf+3tek0AFFFFAHN/Ef/klniv/ALAt5/6Iej4cf8ks8Kf9gWz/APRCUfEf/klniv8A7At5/wCiHo+HH/JLPCn/AGBbP/0QlAHSUUUUAFFFFABRRRQAUUUUAFFFFABRRRQAUUUUAFFFFABRRRQAUUUUAFFFFABRRRQAUUUUAFFFFABRRRQAUUUUAFFFFABRRRQAUUUUAFFFFABRRRQAUUUUAFFFFABXm3xk/wCZC/7HPTv/AGpXpNebfGT/AJkL/sc9O/8AalAHpNFFFABRRRQAUUUUAFFFFABRRRQAUUUUAFFFFABRRRQAUUUUAFFFFABRRRQAUUUUAFFFFABRRRQAUUUUAFFFFABRRRQAUUUUAFFFFABRRRQAUUUUAFFFFABRRRQAUUUUAFFFFABRRRQAUUUUAFFFFABRRRQAV5t+0H/yQnxD/wBu3/pTFXpNebftB/8AJCfEP/bt/wClMVAHpNFFFABRRRQAUUUUAFFFFABRRRQAUUUUAFFFFABRRRQAUUUUAFFFFABRRRQAUUUUAFFFFABRRRQAUUUUAFFFFABRRRQAUUUUAFFFFABRRRQB5t8ZP+ZC/wCxz07/ANqV6TXm3xk/5kL/ALHPTv8A2pXpNABRRRQAUUUUAFFFFABRRRQAUUUUAFFFFABRRRQAUUUUAFFFFABRRRQAUUUUAFFFFABRRRQAUUUUAFFFFABRRRQAUUUUAFFFFABRRRQAUUUUAebf83Tf9yZ/7e16TXm3/N03/cmf+3tek0AFFFFAHN/Ef/klniv/ALAt5/6Iej4cf8ks8Kf9gWz/APRCUfEf/klniv8A7At5/wCiHo+HH/JLPCn/AGBbP/0QlAHSUUUUAFFFFABRRRQAUUUUAFFFFABRRRQAUUUUAFFFFABRRSMCyEKxUkYDDt70ALRXgvjD4o+Kvh58W7TS9V1CPUPDhaFriVrREeNJdw5Zccjax7ZxXvKOsiK6MGVhkEHgihax5kD0lysWivLfjj8SdQ8A+HbZPDuw6rcvvy8YcQwqQGcj3ZlUfWuo+HdzrGp+C9M1jX9T+23Oo2kdwUSBIki3DdgYGTwR1PbtRH3k2ugPRpdzqqKKKACio51ma3kW2dI5ipCPIhdVbsSoIyPbI+teVfCjxH4k1X4jeOdL8S6t/aA0qeKGAJEIo0G6QZVB0yAOpJ96Fq7fMHpHm/rU9ZooqvfR3UtjLHYXCW1wwwk0kXmBD67cjP50AWKK8r+BfiXXvEmm+I5PE2pNqFza6q9urlAiqqqOFUDAGe1eqU+3yf3h1a/rQKKKKQBRRRQAUUUUAFFFFABRRRQAUUUUAFFFFABRRRQAV5t8ZP8AmQv+xz07/wBqV6TXm3xk/wCZC/7HPTv/AGpQB6TRRRQAUUUUAFFFFABRRRQAUUUUAFFFFABRRRQAUVwnjf4t6J4E1600fUNO1a/vbuHz449Ot1lO3JHd1OflPTNUNG+N2l61rVnpkPhbxVbyXcqxLLcacqxoScZYhzge+KI+9sD03PSqKKKACiiigAorh7rx7c2/xrsvBAsojbXOnNdm5LHeGG7jHTHy/rXcUdL/ANdg2dv67hRRRQAUUVka74q0XwzJYJrl8to2oXAtrUFGbzJD0X5QcfU4FAGvRVLWdSGj6He6k1vNci0geYwwLl5NoJ2qPU4rO8F+KF8ZeFbXW00+509bgsPs90uHXaxGfocUbhsb1FFFABRRRQAUUUUAFFFFABRRRQAUVleI/E2keEtHbVPEN4LOyV1QylGf5mOAMKCf0rTjkSaJJIzuR1DKfUGgB1FFcp4l8dJ4b8WaFobaRf3jaxIUFzbpmODkDLH8cn0FHVLuHRs6uiiigAooooAKKKKACiiigAooooAKKKKACiiigAooooAK82/aD/5IT4h/7dv/AEpir0mvNv2g/wDkhPiH/t2/9KYqAPSaKKKACiiigAooooAKKKKACiiufm8f+DraeSC48WaHFLGxR45NShVkYHBBBbgj0oA6Ciuc/wCFi+Cf+hx0D/waQ/8AxVdDHIksayRMro4DKynIYHoQaAHUUUUAFFQ3l3b6fZTXl7MkFvAhkllkOFRQMkk+mKr6NrWm+INLi1LRLyK9s5c7JoWyrYOD+ooAvUUUEhVJY4A5JPagAorM0LxJo3ie1lufD+pW+oQwyGKR4H3BXHY/nWnQAUUUUAFFFFABRRWXqPibRdI1Sx03U9St7W91BttrBI+GmOcYA+pAo8gNSiiigAooooAKKKKACiiigAooooAKKKKACiiigDzb4yf8yF/2Oenf+1K9Jrzb4yf8yF/2Oenf+1K9JoAKKKKACiiigAooooAKKbLLHBC8szrHHGpZ3c4CgdST2Fc+nxB8GSOEj8XaC7E4CrqcJJ/8eoA6KimxyJNGskTq6OMqynIYeoNOoAKKKKACiiqWtava6Dod5q2oFltbOFppSi7iFUZOB3pNpK7Gk27Iu0Vg23jXQbjwXD4rkvVtdHmjEonuRs2gnaMj1zxWvY31tqVhBe2E6XFtcIJIpYzlXUjIINVZp2JvcnooopDCio7i4itbaW4uZFihiQvJI5wFUDJJPpiqeia9pfiTTF1DQr6G+tGYqJoWyMjqPrQBoUUUUAFFFFABRRRQAUVma74j0fwxYpeeINRg0+3eQRLJO20Mx6D9DWkrK6BkIZWGQQeCKAFooooAKKKKACiiigAooooAKKKKACiiigDzb/m6b/uTP/b2vSa82/5um/7kz/29r0mgAooooA5v4j/8ks8V/wDYFvP/AEQ9Hw4/5JZ4U/7Atn/6ISj4j/8AJLPFf/YFvP8A0Q9Hw4/5JZ4U/wCwLZ/+iEoA6SiiigAooooAKKKKACiiigAooooAKKKKACiiigAooooAKKKKAPHfG/hBPHHi7xpoxUG4fQ7KW1Y/wzK8xX8+n0JrR+AfjF/Efw7TT9RcjUtDb7Hcq5+baPuMfwG36qa1tIuYW+O3iOBZUMq6PZZQHkYeUnj/AIEv5ivLPGXh3XvCnxxntPCIMVr46t2gdgDiFiR5zj3UZf8A4EaUbr3V9q/3pu3+Q52bbfS33WV/8yX4kg+Ivhh4x8bTDMV5PBY6XntaRTqNw/333N9AK9M8P+IrTwl8A9I13UcmCy0WCQqvVz5ahVHuSQPxrC+OtlZ6H+z7d6ZZhYbe3FtbwJnssi4HucDNMvvD9x4y/ZXsdM0giW6fR7Z4UU/feMKxT6naR9aTfLTny9Gvy3/UFrOHN1v+a/4Y2NEtfGXi7wZb6+3iqbRtQv4Rc2lna2sDW0CsMor70Z34xk7h14Apnwy+J8niXQ9Zi8UxRWOr+HXaPUvL4Qqu794B2+62R7e9M+D/AI50nUfhjYQX17BZ32jwC0voLiQRtCYxt3MDjAIAOfqO1cn4J8H3niPTviZr1orQw+KGnh0suNvmp8+JOf4WLDB+tVU92UlHaza/T7yYe9GLlvdf8H7jrPCGo+IviZpE3iOPXbrw/pk8rpplrZQQs5RGK+ZK0iNkkg/KMDA71y/wP+3W/wATfiQNcnilvIrmIXE0a7FchpcsB2z1x2p3wL+Imh6R4IHhTxTf2+iaro0ssckWoSCHcpctkFsDIJII68Zql8LNb0rUPi58RrRb1UbWJh9k3KVaVcuCQCM/xA/Sm9JPk191289g3h72nvL8zfsvHv8Awmtlc6injC68N2rSyR2FvZWKysVVioklZ43zuIJ2rtwMck1pfB7xzr/iePVtM8VW7NeaZLti1AWxhS8jJIDbSAAflzxjgjiuG+E3xL0/4b2d34C+IbSaTc6ZcSfZ55ImaN0Zt2OASOSSD0INexeFfGFv4xku7zRY3k0WHEcN9JGyfaZOd+wMAdi8DOOTn0oVlqtVYHfZ6O559+zr/wAeHi//ALD0v8hXsteL/s5TRy2Pi/y3Vv8AieSNwexHB/SvaKX2Y+i/JD+1L1f5sKKKKACiiigAooooAKKKKACiiigAooooAKKKKACiiigArzb4yf8AMhf9jnp3/tSvSa82+Mn/ADIX/Y56d/7UoA9JooooAKKKKACiiigAooooAKKKKACiiigAooooA8C+KfiPTvCX7SHhPWtakeKytdNfzHRC5G7zVHA56kV6D4U+M3g3xpr0ejaDe3Et7IjOqSWzoCFGTyRjpXH+NZoYP2q/BklzJHHEumy7mkYBRxN3NevRarpUkqpBf2bSMcKqTKST6AA0Q+BX8/zYT+N+i/I4CDxrremftAz+EdcnjfSdRshcaViIKVYDJXcOT91+voKk+JXjPWtM8YeFPCvhSaOLUNXut1w7xCTy7dfvHB/4Ec/7NY/x/wBPn06w0Hx1pqE3fh2/R5CP4oWYZB9twA/4Ear/AA4uI/iF8afEPjmPMmm6bCmnaaxHHIyzD9f++6Ketl2vf0Wq++6QT0u+609dn9252PizSfiFrWvC38M+IbDw9oywqWuRai4uZJCTkbW+UAcdwa5fw54j8ZeE/i/aeB/GWsw+ILTU7Rp7O+FssMiFQxwQv+4eue3PaqWt3Gq/EH476j4KufEN/oei6XZrMINOm8mW8YhCct3Hz9ORhenesC28PaN4X/ai8MaZomq3motHbTG5+2XfnvC5jkwue3GDj3op7x7O/wCv3BU+GXlb9DqNS/5O+0j/ALAT/wDtSty28ZazJ+0Rd+E3nj/siLShcrF5Q3CT5ed3XueKw9S/5O+0j/sBP/7UqGS5h0v9r7N9IsK6hoojt2c4DtxwD6/I1EPsL/F/7cOf2n/h/wDbTo/ix4y1nwnqXhGHRZo4k1TVUtroPEH3xkrkDPTr1FbPjSx8c6nc2dp4L1bT9GtWVjd3s8HnTKcjaEQjae/X8682+OviDTLrx14H0S2ukmv7XV4pp4kOfKVmULuPYnnjritT4k6vrGt/F/QPAFprdzoGmXtq1zcXNm/lzTn5/kV+33MfjzngUlql5t/kv+CD0b8kvzf/AACCbW/Hnw1+IXhzTfE3iWLxPo2v3H2USPZJbyQSZAyNue7DuRjPArD+P9h4p/4Szw3KNYtf7Pn1WJdMg+zjdbS4UFnbHzDPOKz/AB74P0Pwd8TfAdppmtalf30urRPPDf3pnaNPMTa2MfLk5+uK7D9oN1guPA1zMQkMWuxl3PAUcHk/gaqOqi/71vxRL0cl/dv+DOts18aeG/AviC98Va5Z6rf29tLPaSW9qIlj2xk4IwM8gVkeG/ibcW37P0XjnxOy3V0sUhZY1Efmv5rIi4HAycD9a7Lxs6t8P/EIVgSNMuM4PT901eD3GnXOofsVWn2RWc2zmd1Xui3Dbj+AOfwrOUnaX/bv6lpK8fV/kjq9I0z4yeL9Dh8RjxlZaG93GJ7TS0sEdFQ8qHYgkZGOu7r+FdP8I/iBqHjLTtT07xJbx22v6JcfZr1YxhX6gMB25Vge3GR1xW94J8SaVq/w70vVrW8gFollH5rlwFhKoAyt6YIPWvOvgef7a8ffEDxVZg/2Zf34itpMYEu1mJI/Aqf+BVs0lUlBbJP81b7zK7dNTe91/wAH7il4T8W/E74jS6zpekahZ6VBYajNHLrMlsrsqZwkMceME8Elj2I59d74ceLfFdn8SNW8AeO72HU7q0txdWmoRxCMyx/LwQAB0Ydsgg8mqv7O3/Hj4w/7D038hRB/yd/c/wDYBH81qIaOK7r/ANtuXLXmfZ/+3WPZK8O0/wAY/Ebxh468VeFvD11aWUGn37J/as1urfY4QWARUx87sR1PQA17jXjfwc/5Kp8T/wDsKJ/6FLSWs7Ps/wA0DdoXXdfqZFp42+Jvh7xtefDy7e08Q6xcxrLpupyxiJIozy0kiqBkAA8dcjGTV2TX/iB8OPiJ4esfGHiCDxFpHiCf7MWW0WFreUkDjaOgLL7EZ4Bq1e/8nfad/wBgFv8A2ek+O3/I0fDj/sOp/wChR1UH8DfV2f3tBJfEl0V/wudF8T/HOraDeaN4a8IxQyeIdemMcEk4ylug+9IR36/oevSuX8UXHxK+FulxeKNQ8WxeKdNilRdRsZdPS3KqxA3RsvPU47duDWZ8cNKtJPjF4LvNfuriy0a5je0lu7ebyjC+Tj5/4fvr+Ga6W/8AgT4NbTXfU9e102RUM7XGrfuyOoJyMYqY35ebrd/h0HK3Ny9LL8Tnf2jP7b1P4fW+sWGq248NzrbubIwDzXkYllff2GCOK9E+H+meNrC3Mvi/xBZapaPap9lit7QRNEcdSQBnjiuU/aB0+HTvgMtlYg/ZbOa1ijyd2EX5Vye/bmvUtHuIbjw/YyQSpIklpG6FTncpUc/Snooz5e/6Eyu3C/b9Tw7wV4q+KHxTtLu10vWbfRIdPuZBPqps0dpjn5IVTGOAMk9eR+PY+LfFviPwz44+Hugi+ilGqOYdTk8hf37KEBYcfLkknjHWsz9mr/kQ9Y/7DU//AKClJ8WP+S1/DH/r8l/mlNaTprvb8hy1U325vzND4geNfEtz4/sPAHw/lt7TU7iH7TeahOgcWsXPRSCM4GeQeoHfNaXhXRPiVoXieCPxD4ls/EehzRv50j2qwTwPjK7QvUE8ck/QVyT3UPhz9rqabV3WCHWtJWK0lkOFL4UbcnvmMj6ketev3GvaXa63aaPPfQpqN4GaC13ZdwoLE4HQYB5PFKPwp97/AJv8gl8TXa35Jnkul6z42+J3i7xJDoXi2LwtYaHeG0itorFLiWUgkb33kEA4PTjtjjNeq+GrfW7Tw/bweKL23v8AU03CW5t4/LSQbjtO3sduM44zmvPvFPww8P8AiS6uvGPgzxFJoWsAO0mo6dcgwyMv3vMAPtzgj3BrV+Cfi/VfGvw5i1DXisl5DcSWzXCqFE4XGHwOO+OPSiGsbdUlf/MJ/Ffo3/SPQaKKKACiiigAooooAKKKKACiiigAooooAK82/aD/AOSE+If+3b/0pir0mvNv2g/+SE+If+3b/wBKYqAPSaKKKACiiigAooooAKKKKACvNvHfwy8FJ4Q8Q6onhqwW+FlcXAnEfzCTYzbvrnmvSawPHv8AyTnxF/2C7n/0U1Z1fgb8mXT+NLzPL/gt8N/B2vfCTR9R1nw7Y3l5N5vmTSx5ZsSsBn8ABXU+NPizpXw78SWXh+60ueVJbEzQG2IyWBKpCqY5JIAHPGab+z//AMkR0L/tt/6Oeuf8Y28Nz+1Z4LW4iWRV06SRQwyAy+aQfqCAa3qfxeVbNv8AJmMP4bk+n+Z1+g+N/EM3h7WNV8WeC7zRvsEYmgt4Zhcy3SkE4UADDDAGPftXN6h8V/Hem6bJrd58LLqDRYV3yySaknnondjFt3DA5II/Gu/8beK7bwT4N1DxBeRNMlmgKxKcGRiQqrntkkc9q8wv7r4t+J/h9e61cz+HNJ0y706Sb7CIpJJjAYyeWOQGK+/ftWUpaNrp9xrFXsn1PRT4m0fxJ8LrjxClsb3SbnTpZ3tpBgugU7oz6HgisTwb4p0Wx+By+JtB0L+ztNtrae5TTkkyRsZsjdjuQTn3rnPhqc/soSZ/6Bt//wChS1V8H/8AJnlz/wBgu9/9Dkqqvue0t0S/Umn73Jfq3+howfG3VvEWlx3fgLwLfa4scSveuZxFHA5GTErFf3jAdcD8DXZfD3x9p/xF8LNqlnbSWskUjQXVpMctC4GSM9xg9cD6Vn/BCNI/gt4c8tFXdbsx2jGSXbJrlvgSAmvfEWNBhF1x9qjoOXpzSjKUeyf5pfqTFtxjL+tn/kdB8INZ8Paj4Q1S88LeHl0O2hv5UlgWTf5jqqkvn3BAx2xWHpnx3vPFWmoPBPgu91fVBuNxbfaFSK1UMQpaUjBZsZC/rVf9nf8A5Jn4g/7Ctz/6LSrf7M0aL8J5HVFDPqM25gOW+71oSu35Riynov8At5r8zpvhv8S4fH0eoWtzpk2j6xpcgjvbCZtxQnIBBwMjII6DFZmqfFTV7zxZqOgfD7wlJ4jl0pgl9cveJbRRv/cBYfMeCOo5B4PWsbwMAn7T3j5UG1WtIWIHc4j5/Wud8CeKNW8L+KvGtx4d8K6l4m0O91mXy7qyADpMOWUrySvzD5vb3wJT5lF91f53SG1y8y7O34XO58CfFzUvGniqfRZPBl5pv2N2jvp3ulcWrgEhWXaDyQQDXoGtX1zpuiXd5Y2Emo3EEReO0iYK0xH8IJ6GvP8A4T+F9etdd8TeL/FVkum3niC4V49PDhmgjXONxHGTkfl2zivTqpr3V3t+Il8T7XPmf4ceOfEuneOvG9zZeB9S1Sa9v1e4tY7gBrJsv8jEjk8kdvu16j441bw9afETwTba54bW+1O+mZbO7aTBsmBU5x/FyR+VYXwb/wCSpfE//sKr/wChS0fFj/ktfwx/6/Jf5pShvSXe35BL/l55XOn8dfFjTPAHiXTNL1aynljv4JJRPCclSv3UCYyxY4A5HJrnj8b9S0XXLGPx54Lu/Dekai222v5rgSbP+uihfl9xnI9DVf4iRpJ+0f8ADtZEVxsmOGGeRkg/nTv2mo0f4c6bvUNjWIQMj1R6Ub8sZd3b8bDlbmcfK/4XF1X456tYWo1638BahN4S3hf7VkmEbupOBIIsZCnsSQDxyK9JufFuj2ngz/hKp7oJpP2VboTY5KMARgepyBj1NYvxUijHwY8RxhFCLpj7VA4GF4/lXkXjaS4H7Hvh3yidjG2Wb/dy2M+2QtEnaLS6NfjdfoEVzOLfW/4W/wAztB8XfGFxo58RWHw0u5fDgUyi4fUEWd4v+egiwTjHPf645r0bwt4m07xh4atNc0aRntLpcqGGGQg4KsOxBBFee2Gi/F6XRrZbTxJ4X+yNboIlFk+PLKjA6eldD8JfA198PfBTaNqd7BeTNdyXAeAEIoYL8ozz2J/Grsk2vuITukzuKKKKkoKKKKACiiigAooooA82+Mn/ADIX/Y56d/7Ur0mvNvjJ/wAyF/2Oenf+1K9JoAKKKKACiiigAooooAwfHP8AyT3xD/2DLj/0W1eT/Bv4Y+DfFHwd0u81zQLW6u7jzhJcHKyHErgfMCDwAK9Y8c/8k98Q/wDYMuP/AEW1eH/CfwL418Q/C3TpdM+Ilxoukz+aq2VvYqzRjzGDYk3A8nJz2zUx3l6L9Ry+GPq/yR0HwBnuNM1/xr4UhupLvR9Gvttk7tu2As4Kg++0Hjvk96tWPx4vPEkRtvBfgy61fVo5JPtFr9pVEgiU4DtIRjLc4X2ru/AvgHSPh74dfTdG8yRpWMtzcznMk746k/yHb8zXA/sz28KeC9cuEiUTSaxKryAcsFVcAn0GT+Zq93ZvZL5vRE7Ju27+7c7TxX8Rrbwd4W03UNV064bVNTCJbaRAd0zzMoJjz/sk4Jx+HOK5qf4u+IvDdxaT/ELwJNoekXkqxrfw3yXIgJ6eYqjj9O/BrnfjAmsz/HvwRBotza2tybeQ2ct6heFZctnIHU4C/jitTxT4A+K3jHw7caJrfiPw49ncbS4jtJFYbWDDBxxyKlNtc1ur+5MppJ8vkvxO+8d+PdK8A+FjrWpbrhZGEdtBCQWuHIyAPbHOfT8q8r8a/FTxDJ8PtWtvGPgO+0Gz1Wykis7wTCZQ7KdqyDaCmff8qk+Ktg2ma98JNK1OUT21teRwzyEfLI6eSuTn15/OvSfiyIm+Efib7QEKf2fKRvxjdj5evfOMe9TUt7OUt1qvkiqd+eK66P8AH/gHE6PfaTpv7KFheeIdKXV9PhsUaWzZ9vmfvcDntgkHPtXbw+K9B8NfCmy8RTQf2bo8VhFLFbJ8xRWUbI19TyBXmd9/yZbH/wBg+P8A9HiqHxZZx+zn4GViRas9iJ/Tb5B61rUu5zS/mS++5lTtywv2f4JHUQ/GPxhJYprf/Cr9RPh9xvW4ju1aby/7/lbckY59Peub/aE8U6pNHodrB4fvY7GO/t7qC/MgVbhyhPlBeobnue1fQNuI1tohBtEQQBNvTbjjFeP/ALR//Iu+Gf8AsOw/+gtSfxRS7r8xrWLfk/yOw0PxTqPiLw7rMvijwdd6JBbQHNvdyq/2pCjFgMAY4GP+BVT+F/iHw2/woTXNI0uPw7o8RmlkgMm8R7WO5i3fpmuv8Q/8ivqn/XnL/wCgGvnbT3nT9im8NtkEzMHx/cNyM1Dlbna7L8y0r8i7t/kdzB8ZvFPiCKXUfBPw3vdV0WNmC3k12sLTgHkom05/DdXafD34h6Z8Q9FlvLCKW0urWTyryyn/ANZA/ofUHnB9j0xVn4dJbJ8M/DgsQog/s2Art6Z2DP65rzj4YKq/tDfEb7B/x5ZTzNv3fN3c/jnzP1rWyVR0/J/h/mZ3vTU/T8S9bfHWTW5LvTvCvhK91bXLe7lg+xpMFRY0IHmvIRhQScAe3Wt34efFE+MNY1HQNa0WbQdf00B5rKWTeGTgblbA9R27ggmuZ/Z2jQW3jGQIodtdlUtjkgdBn8T+dLbAJ+2Bd7BjfoILY7/d/wABUQ+yn1X/ALbcqX2muj/Wx7IxIUkDcQOAO9fNEfjjxKn7RFzqy+CNSe+OleSdIFwPMCZH7zOMY9sd6+mK8bt/+Tv7v/sAj/2WiPxr5/kwfwP5fmjT+JXiTSY/hhper+OvB73Sz3cQOlzzANbyENglgOcAH65rZ8efEzTPh1JoaanaO1pqTtGZY2wLdVAOduDu69BXLftMf8kys/8AsLQf+gvVf41RpL41+GKSoro2rAMrDII3RdqI6uy6yt+CB6b/AMrf5li7+OOq6NdWV94l8CX+k+Gr6URw6lNODIoPRnjA+XjnBOcZxmn6x8bdUitbjWfDXge91fwxaMRLqzTiESAHDPGhUkqP73T1xV39otFb4KamWAO2aAjPY+YtdHJDEvwWeFY1WP8AsAjYBgY+z+lS3aEpfy/5X1KSvOMe/wDmaWk+L9I1fwTD4qiuPK0uS2Ny0kvBjUA7g3uMEH6VwMHxc8Wa5Yyaz4S+HF1qOgxltl1NfJDLOoPLJEQSenbOa4e0kuF/YklNuWz8ytj+59r5/Sup8GaV8V5PA+ivoniLw1FpzWMJto2s3LKmwYBIHJ9ferkvelbp+pEX7qv1v+B6R4I8Z6b488MQ61pHmIjMY5YZRh4ZB1Rvfp+BFdDXn3wm8Aar4DsdYXW7+1u59Tvjd4tEZUQkc4B9/wCVeg0O3QFcKKKKQwooooAKKKKAPNv+bpv+5M/9va9Jrzb/AJum/wC5M/8Ab2vSaACiiigDm/iP/wAks8V/9gW8/wDRD0fDj/klnhT/ALAtn/6ISj4j/wDJLPFf/YFvP/RD0fDj/klnhT/sC2f/AKISgDpKKKKACiiigAooooAKKKKACiiigAooooAKKKKACiiigApGVXQo6hlYYKkZBFLRQBhQ+B/CdveC7t/C+jRXIO4TJp8SuD67gua2JLaCWeKeWGN5Yc+VIyAtHkYO09sjjipaKAMrVfC3h/XZhNrehaZqMqjAe7s45WA9MsDUuleH9G0JXXQ9IsdNV/viztkhDfXaBmtCijYDIvPCXhzUNQ+3X+gaXdXmc/aJ7KN5P++iM1rABVCqAABgAdqWigDMu/DOg6hqKahf6Jp11ex42XM1pG8i46YYjIq1a6bY2M081lZW9vLcv5k7wxKjSt/eYgfMfc1ZooAzdU8OaJrkkb61o2n6i8f3Gu7VJSn03A4qzLp1lPpxsJ7O3ksigQ2zxKYyvptIxj2qzRR0sBj6Z4Q8NaLdfatG8PaVp9xjHm2llHE+Pqqg1sUUUAFFFFABRRRQAUUUUAFFFFABRRRQAUUUUAFFFFABRRRQAV5t8ZP+ZC/7HPTv/alek15t8ZP+ZC/7HPTv/alAHpNFFFABRRRQAUUUUAFFFFABRRRQAUUUUAFFFFAHKeLPhl4R8cX0N54o0gX1xBH5Ucn2iWIhc5x8jDPJPWsvTfgb8O9I1S21HT/D3lXdrKs0Mn224ba6nIODIQeR3Fd/RQtNgeu5T1bSbHXdIudL1a3W5srqMxzRMSAyntkcj6iqfhjwpong3SP7L8N2K2Nn5hkMYdnyx6ksxJPQd62KKNgOP8X/AAt8LeNtQh1DWbOVL+FdiXdrM0Mm30JHUfWn6N8L/B+gXmnXmlaNHDd6b5n2e4Erl8uMOzHd85I7tnHbFdbRQtNgeu5jyeFNFm8XQ+J5LIHWYYDbR3XmP8sZz8u3O3uecZrO8a/Djwz4/hgXxJYmWW3z5NxFIY5EB6jI6j2Oa6milZDuzidN+D/gfS9PtLS20RSLS7W9SVppPMaZfuuzBstjJ4Py89K0PGXw98OePIYF8RWRlltiTBcRSGOWLPXDDt7HIrpqKb13EtNjidM+D/gnS47XydH8ye1ulvEupp5GmaZfusz7stj+6fl9q3PFXhLRvGmhvpPiK0F1aswcDcVZGHRlYcg8mtqih6qzBaO6OT8L/DTw14R0HUNH0q1ma01IEXQnnZ2lBXbjOeBgkcYrY0Xw3pHh/wAPRaFpNkkOmRKyLbMzSLtYksCXJJySep71qUUPXcNjzC6/Z4+Hd1qDXP8AZdxAjtue2hu3WIn6ZyB7AivQtI0fT9A0qHTdGs4rOzgXbHDEuFX/ABPueTV2ijZWDd3Mfw94T0Xwql4mgWQtFvbhrm4Akd98h6t8xOPoMChfCeir4ubxQtkBrLW/2Y3XmPzH/d252/jjNbFFABWPo/hTRdA1TU9S0myFvd6tKJr2TzHbzXGecMSB949Mda2KKA8jHfwnosni6PxQ9kDrMdv9mS68x+I+fl2529zzjNGu+E9F8S3WnXGt2QupdLuBc2jGR18qQYO75SM9BwcitiigDL8ReGtH8WaPJpfiGwivrRzkxyZG09ipHKn3BzXCWv7PXw/t7hHlsby7jjOUguL2Ro1/AEfrXp9FC0d0G6sZ+saFpuv6FPo+rWiXFhcR+XJC2QCB0wRyCMDBHTFc/wCCvhd4Z8AXN1ceHre4SW6QRu887SYQHO0A8AZrsKKOtw6WMfw34U0XwjYTWXh2yFnbzztcSIJHfdI2MnLEnsOOlGq+E9F1vWtM1bVLIT32kuZLKXzHXymOMnAIB6DqDWxRR1T7Ac74w8BeHfHlhHa+JdPW5EJJhlVikkRPXaw5/DoazvB3wn8I+Br1r3Q9Pb7cylPtVzK0sgU9gTwv4AV2dFC02B67nm2pfAPwFqWqTXr6dcwG4cyTwW93IkUjE5OVzx+GK7zSNH0/QdJg0zR7SOzsrddsUMQwFH9T3yeTV2ihaKyB6u7CiiigAooooAKKKKACiiigAooooAKKKKACvNv2g/8AkhPiH/t2/wDSmKvSa82/aD/5IT4h/wC3b/0pioA9JooooAKKKKACiiigAooooAKoa7pY1vw7qOlGXyRfWslv5u3ds3qVzjjOM9Kv0Umk1ZjTad0c34A8IjwL4IsPDwvft32Tf/pHleXv3OW+7k4+9jrVLVfAA1P4raN40/tIxHS7V7f7H5GfN3Bxnfu4+/0weldjRVNty5nuSklHl6GL4v8AC9l4z8J32g6kXSC8j2l0+8jAgqw+hANee2Xwq8Zz6GnhrxD49M/h2GLyVhtLMRTzRgYVHkzkLjGQCcjjNeuUVNlr5lXZxvhr4fDw78KW8Ff2kbgNbTwfbPI2f60sc7Nx6bumecVFo/w4Gk/B+TwJ/ahlD2s1v9t+z7ceYWO7ZuPTd03dq7einL3r367/ANfMS921uhheCvDQ8HeC9N0AXX2z7DF5fn+X5e/knO3Jx19TWV4G+H48F6j4juhqRvf7cvjebTB5fkZLHbncd33uvH0rsqKbd22+okrKyOL+Hnw8HgLwzqGkDUzfi9u5bnzfI8vZvUDbjcc4x1zU3w08CD4d+Ev7EGonUf8ASJJ/OMPlfexxt3N0x1zXXUUtvut8kN6/ff5nGaP4CXQ/iZ4g8Z/2i051aBI/sYgx5W0Lzv3Hdnb6DrXkPwv8Ew/ENvEHiOz8S6p4YNzqUm3TNDvDD5Q67pAckk59hwceg+ka4DW/gj4C13VJdRutF8i7mYtLJaXEkO8nqSqkDJ+lJaNdkrLy1uN6p+t/wscl4M1LXfDXx0k8EjxTd+KdJexa4me9fzZbNx0Bfk56DH+0OK9srnvCngTw14It5IfDOlRWXm482QFnkkx6uxJI9s4roarokT1bPJtS+FPiex8ear4g8A+L49Ej1ohr6Ca0WbDd2XOR1JPYjJ5rpfE/w+PiXxh4W16TVTC/h+VpDF9n3faSdvfcNv3fQ9a7SiktLW6bDerbfU47xB4AGu/Ejw74sOpGA6Isi/ZfI3eduB/i3DbjPoaX4leAR8RPDltpTaidO8i8juvNEHm7toYbcbl67uua7CijZJdnf9Q63+Rj+KtAHibwfqWgm5+zC+tmt/P2b9mRjO3Iz9Misi0+HenD4VweBtXla/s47UW7zBPLZiDkOBk7SDgjk9K6+ik0mmn1/r9QWlrdP6/Q8i074c/E7w9ZJpHh/wCI1uNKhGy3N3pqyTQp2UE5zj6/lXo3hfSb7RPD8Fjq2sT61eIWaW9nQI0hLE/dBOAM4A9BWvRVXYrIKKKKQwooooAKKKKACiiigDzb4yf8yF/2Oenf+1K9Jrzb4yf8yF/2Oenf+1K9JoAKKKKACiiigAooooAo65pg1rw/qGlmXyRe20lv5gXds3qVzjvjPSsj4feEB4E8EWPh4Xv277JvP2jyvL37nLfdycfex1rpaKFpfzB628gIypHrXH/DXwCPh5oN5pq6idQ+1Xsl35hg8rbuAG3G5s429f0rsKKFo7hurHG/EX4c2fxA0+0zeTaZqeny+dY6hAMvA/HbIyOAeo5A5rnE8E/Fe7RbTUviXBDaDhpbPTEE7j/ewNp9wa9VooWgPU5D4h/Dyz+IPhVNKvLqS2ubd1mtb1Bl4pAMbscZB7jIrjZ/g/4t8UaadO+IPj2TUrGGMrb21raiMNJjCSSkYL7Tg4PUjrXsNFKy18w7eRwc/wAMhN8F18Af2sVC2ywfb/s/o4fPl7vbGN1X9R+Hmnaz8MYPBerSvPbw2kVutyi7WDxqAsgHODkZxz6V1tFOXvXv1CPu2t0PHLb4UfEE6Ynh6/8AiVIfDyL5W2CzVbl4hxs8zqBjj7x/EcV13xC+HFv448DQaBHePZS2bxyWdyV3lHQbRuGRnIJ/nXa0UPVagtHocZ4V8NeLbbQ9UsvG3iePWZbyIQwNDaLELddrAngDcTuB59Kb4Q+Gtl4c+GTeC9Suf7WtJFlWaQxeVvWQk427jjGeue2a7Wih638wWlvI8asPhP8AEHwzZvo3g/4i/ZdDLHyormxWSWBSeQrHPr2K884Fdz8Pfh9p/wAPtEltLOeW9vLuTzr2+n/1lxJ6n0HXAyep5Oa6yindisjjvh54AHgGDWI11I3/APad+97kweX5e7+H7xz9ePpQngAJ8XpPHP8AaRJew+x/YvI6dPm37vbpt/GuxopbW8v8rfkPe/n/AJ3/ADCvNPHHwy1nVvHNp4x8F+IU0TWYbf7NKZrcSpKnPY555xgg9B0xXpdFLrcfSx5/4t+G1/42+HeneHtb8RFr+2njuJ9RFoD5zLuyNgZQPvevbpV7xl8Ph4u1zwvqJ1I2n/CP3gufL8jf5/KnbncNv3evPWuyoqut/O/zJ6W8rfI5j4ieDB4+8E3fh8332D7Q0bfaPJ83btYN93IznHrWk+iB/B7aF55ANh9j87Z/0z2bsZ/HGa1aKmys49GVd3T7HG+Evh1Z+HfhivgrUbj+1bQxyxzSGLyvMWRmY/Lk4xu9e2a5LTPhh8QvCVudL8GfECKLRlYmCG/sFlktwTnAJBz+g9hXr9FNtt3EtFYwfCGiatoOitb+IPEE2v3skzSvdSxCMDIHyqoJAUY/U1vUUU27hsFFFFIAooooAKKKKAPNv+bpv+5M/wDb2vSa82/5um/7kz/29r0mgAooooA5v4j/APJLPFf/AGBbz/0Q9Hw4/wCSWeFP+wLZ/wDohKPiP/ySzxX/ANgW8/8ARD0fDj/klnhT/sC2f/ohKAOkooooAKKKKACiiigAooooAKKKKACiiigAooooAKKKKACiiigAooooAKKKKACiiigAooooAKKKKACiiigAooooAKKKKACiiigAooooAKKKKACiiigAooooAKKKKACvNvjJ/wAyF/2Oenf+1K9Jrzb4yf8AMhf9jnp3/tSgD0miiigAooooAKKKKACiiigAooooAKKKKACiiigAooooAKKKKACiiigAooooAKKKKACiiigAooooAKKKKACiiigAooooAKKKKACiiigAooooAKKKKACiiigAooooAKKKKACiiigAooooAKKKKACiiigAooooAK82/aD/AOSE+If+3b/0pir0mvNv2g/+SE+If+3b/wBKYqAPSaKKKACiiigAooooAKKKKACiiigAooooAKKKKACiiigAooooAKKKKACiiigAooooAKKKKACiiigAooooAKKKKACiiigAooooAKKKKACiiigDzb4yf8yF/wBjnp3/ALUr0mvNvjJ/zIX/AGOenf8AtSvSaACiiigAooooAKKKKACiiigAooooAKKKKACiiigAooooAKKKKACiiigAooooAKKKKACiiigAooooAKKKKACiiigAooooAKKKKACiiigAooooA82/5um/7kz/ANva9Jrzb/m6b/uTP/b2vSaACiiigDm/iP8A8ks8V/8AYFvP/RD0fDj/AJJZ4U/7Atn/AOiEo+I//JLPFf8A2Bbz/wBEPR8OP+SWeFP+wLZ/+iEoA6SiiigAooooAKKKKACiiigAooooAKKKKACiiigAooooAKKKKACiiigAooooAKKKKACiiigAooooAKKKKACiiigAooooAKKKKACiiigAooooAKKKKACiiigAooooAK82+Mn/ADIX/Y56d/7Ur0mvNvjJ/wAyF/2Oenf+1KAPSaKKKACiiigAooooAKKKKACiiigAooooAKKKKACiiigAooooAKKKKACiiigAooooAKKKKACiiigAooooAKKKKACiiigAooooAKKKKACiiigAooooAKKKKACiiigAooooAKKKKACiiigAooooAKKKKACiiigArzb9oP8A5IT4h/7dv/SmKvSa82/aD/5IT4h/7dv/AEpioA9JooooAKKKKACiiigAooooAKKKKACiiigAooooAKKKKACiiigAooooAKKKKACiiigAooooAKKKKACiiigAooooAKKKKACiiigAooooAKKKKAPNvjJ/zIX/AGOenf8AtSvSa82+Mn/Mhf8AY56d/wC1K9JoAKKKKACiiigAooooAKKKKACiiigAooooAKKKKACiiigAooooAKKKKACiiigAooooAKKKKACiiigAooooAKKKKACiiigAooooAKKKKACiiigDzb/m6b/uTP8A29r0mvNv+bpv+5M/9va9JoAKKKKAOb+I/wDySzxX/wBgW8/9EPR8OP8AklnhT/sC2f8A6ISj4j/8ks8V/wDYFvP/AEQ9ef8Agrxf8RbbwD4fg0/4XfbrSLTLZILr/hILePz0EShX2FcrkYODyM4oA9korzb/AITb4nf9Ej/8uW2/+Jo/4Tb4nf8ARI//AC5bb/4mgD0mivNv+E2+J3/RI/8Ay5bb/wCJo/4Tb4nf9Ej/APLltv8A4mgD0mivNv8AhNvid/0SP/y5bb/4mj/hNvid/wBEj/8ALltv/iaAPSaK82/4Tb4nf9Ej/wDLltv/AImj/hNvid/0SP8A8uW2/wDiaAPSaK82/wCE2+J3/RI//Lltv/iaP+E2+J3/AESP/wAuW2/+JoA9Jorzb/hNvid/0SP/AMuW2/8AiaP+E2+J3/RI/wDy5bb/AOJoA9Jorzb/AITb4nf9Ej/8uW2/+Jo/4Tb4nf8ARI//AC5bb/4mgD0mivNv+E2+J3/RI/8Ay5bb/wCJo/4Tb4nf9Ej/APLltv8A4mgD0mivNv8AhNvid/0SP/y5bb/4mj/hNvid/wBEj/8ALltv/iaAPSaK82/4Tb4nf9Ej/wDLltv/AImj/hNvid/0SP8A8uW2/wDiaAPSaK82/wCE2+J3/RI//Lltv/iaP+E2+J3/AESP/wAuW2/+JoA9Jorzb/hNvid/0SP/AMuW2/8AiaP+E2+J3/RI/wDy5bb/AOJoA9Jorzb/AITb4nf9Ej/8uW2/+Jo/4Tb4nf8ARI//AC5bb/4mgD0mivNv+E2+J3/RI/8Ay5bb/wCJo/4Tb4nf9Ej/APLltv8A4mgD0mivNv8AhNvid/0SP/y5bb/4mj/hNvid/wBEj/8ALltv/iaAPSaK82/4Tb4nf9Ej/wDLltv/AImj/hNvid/0SP8A8uW2/wDiaAPSaK82/wCE2+J3/RI//Lltv/iaP+E2+J3/AESP/wAuW2/+JoA9Jorzb/hNvid/0SP/AMuW2/8AiaP+E2+J3/RI/wDy5bb/AOJoA9Jorzb/AITb4nf9Ej/8uW2/+Jo/4Tb4nf8ARI//AC5bb/4mgD0mivNv+E2+J3/RI/8Ay5bb/wCJo/4Tb4nf9Ej/APLltv8A4mgD0mivNv8AhNvid/0SP/y5bb/4mj/hNvid/wBEj/8ALltv/iaAPSaK82/4Tb4nf9Ej/wDLltv/AImj/hNvid/0SP8A8uW2/wDiaAPSaK82/wCE2+J3/RI//Lltv/iaP+E2+J3/AESP/wAuW2/+JoA9Jrzb4yf8yF/2Oenf+1KP+E2+J3/RI/8Ay5bb/wCJrifiX4p8d3v/AAiX9r/Dr+zPI8TWU1r/AMTyCb7VOu/ZB8o+Tdk/OeBjmgD3+ivNv+E2+J3/AESP/wAuW2/+Jo/4Tb4nf9Ej/wDLltv/AImgD0mivNv+E2+J3/RI/wDy5bb/AOJo/wCE2+J3/RI//Lltv/iaAPSaK82/4Tb4nf8ARI//AC5bb/4mj/hNvid/0SP/AMuW2/8AiaAPSaK82/4Tb4nf9Ej/APLltv8A4mj/AITb4nf9Ej/8uW2/+JoA9Jorzb/hNvid/wBEj/8ALltv/iaP+E2+J3/RI/8Ay5bb/wCJoA9Jorzb/hNvid/0SP8A8uW2/wDiaP8AhNvid/0SP/y5bb/4mgD0mivNv+E2+J3/AESP/wAuW2/+Jo/4Tb4nf9Ej/wDLltv/AImgD0mivNv+E2+J3/RI/wDy5bb/AOJo/wCE2+J3/RI//Lltv/iaAPSaK82/4Tb4nf8ARI//AC5bb/4mj/hNvid/0SP/AMuW2/8AiaAPSaK82/4Tb4nf9Ej/APLltv8A4mj/AITb4nf9Ej/8uW2/+JoA9Jorzb/hNvid/wBEj/8ALltv/iaP+E2+J3/RI/8Ay5bb/wCJoA9Jorzb/hNvid/0SP8A8uW2/wDiaP8AhNvid/0SP/y5bb/4mgD0mivNv+E2+J3/AESP/wAuW2/+Jo/4Tb4nf9Ej/wDLltv/AImgD0mivNv+E2+J3/RI/wDy5bb/AOJo/wCE2+J3/RI//Lltv/iaAPSaK82/4Tb4nf8ARI//AC5bb/4mj/hNvid/0SP/AMuW2/8AiaAPSaK82/4Tb4nf9Ej/APLltv8A4mj/AITb4nf9Ej/8uW2/+JoA9Jorzb/hNvid/wBEj/8ALltv/iaP+E2+J3/RI/8Ay5bb/wCJoA9Jorzb/hNvid/0SP8A8uW2/wDiaP8AhNvid/0SP/y5bb/4mgD0mivNv+E2+J3/AESP/wAuW2/+Jo/4Tb4nf9Ej/wDLltv/AImgD0mivNv+E2+J3/RI/wDy5bb/AOJo/wCE2+J3/RI//Lltv/iaAPSaK82/4Tb4nf8ARI//AC5bb/4mj/hNvid/0SP/AMuW2/8AiaAPSaK82/4Tb4nf9Ej/APLltv8A4mj/AITb4nf9Ej/8uW2/+JoA9Jorzb/hNvid/wBEj/8ALltv/iaP+E2+J3/RI/8Ay5bb/wCJoA9Jorzb/hNvid/0SP8A8uW2/wDiaP8AhNvid/0SP/y5bb/4mgD0mivNv+E2+J3/AESP/wAuW2/+Jo/4Tb4nf9Ej/wDLltv/AImgD0mivNv+E2+J3/RI/wDy5bb/AOJo/wCE2+J3/RI//Lltv/iaAPSaK82/4Tb4nf8ARI//AC5bb/4mj/hNvid/0SP/AMuW2/8AiaAPSaK82/4Tb4nf9Ej/APLltv8A4mj/AITb4nf9Ej/8uW2/+JoA9Jorzb/hNvid/wBEj/8ALltv/iaP+E2+J3/RI/8Ay5bb/wCJoA9Jrzb9oP8A5IT4h/7dv/SmKj/hNvid/wBEj/8ALltv/ia4n4xeKfHeo/CfWbXXvh1/Y2nyeR5t9/bkFx5WJ4yP3ajLZYBeOmc9qAPf6K82/wCE2+J3/RI//Lltv/iaP+E2+J3/AESP/wAuW2/+JoA9Jorzb/hNvid/0SP/AMuW2/8AiaP+E2+J3/RI/wDy5bb/AOJoA9Jorzb/AITb4nf9Ej/8uW2/+Jo/4Tb4nf8ARI//AC5bb/4mgD0mivNv+E2+J3/RI/8Ay5bb/wCJo/4Tb4nf9Ej/APLltv8A4mgD0mivNv8AhNvid/0SP/y5bb/4mj/hNvid/wBEj/8ALltv/iaAPSaK82/4Tb4nf9Ej/wDLltv/AImj/hNvid/0SP8A8uW2/wDiaAPSaK82/wCE2+J3/RI//Lltv/iaP+E2+J3/AESP/wAuW2/+JoA9Jorzb/hNvid/0SP/AMuW2/8AiaP+E2+J3/RI/wDy5bb/AOJoA9Jorzb/AITb4nf9Ej/8uW2/+Jo/4Tb4nf8ARI//AC5bb/4mgD0mivNv+E2+J3/RI/8Ay5bb/wCJo/4Tb4nf9Ej/APLltv8A4mgD0mivNv8AhNvid/0SP/y5bb/4mj/hNvid/wBEj/8ALltv/iaAPSaK82/4Tb4nf9Ej/wDLltv/AImj/hNvid/0SP8A8uW2/wDiaAPSaK82/wCE2+J3/RI//Lltv/iaP+E2+J3/AESP/wAuW2/+JoA9Jorzb/hNvid/0SP/AMuW2/8AiaP+E2+J3/RI/wDy5bb/AOJoA9Jorzb/AITb4nf9Ej/8uW2/+Jo/4Tb4nf8ARI//AC5bb/4mgD0mivNv+E2+J3/RI/8Ay5bb/wCJo/4Tb4nf9Ej/APLltv8A4mgD0mivNv8AhNvid/0SP/y5bb/4mj/hNvid/wBEj/8ALltv/iaAPSaK82/4Tb4nf9Ej/wDLltv/AImj/hNvid/0SP8A8uW2/wDiaAPSaK82/wCE2+J3/RI//Lltv/iaP+E2+J3/AESP/wAuW2/+JoA9Jorzb/hNvid/0SP/AMuW2/8AiaP+E2+J3/RI/wDy5bb/AOJoAPjJ/wAyF/2Oenf+1K9JrwD4l+KfHd7/AMIl/a/w6/szyPE1lNa/8TyCb7VOu/ZB8o+Tdk/OeBjmu2/4Tb4nf9Ej/wDLltv/AImgD0mivNv+E2+J3/RI/wDy5bb/AOJo/wCE2+J3/RI//Lltv/iaAPSaK82/4Tb4nf8ARI//AC5bb/4mj/hNvid/0SP/AMuW2/8AiaAPSaK82/4Tb4nf9Ej/APLltv8A4mj/AITb4nf9Ej/8uW2/+JoA9Jorzb/hNvid/wBEj/8ALltv/iaP+E2+J3/RI/8Ay5bb/wCJoA9Jorzb/hNvid/0SP8A8uW2/wDiaP8AhNvid/0SP/y5bb/4mgD0mivNv+E2+J3/AESP/wAuW2/+Jo/4Tb4nf9Ej/wDLltv/AImgD0mivNv+E2+J3/RI/wDy5bb/AOJo/wCE2+J3/RI//Lltv/iaAPSaK82/4Tb4nf8ARI//AC5bb/4mj/hNvid/0SP/AMuW2/8AiaAPSaK82/4Tb4nf9Ej/APLltv8A4mj/AITb4nf9Ej/8uW2/+JoA9Jorzb/hNvid/wBEj/8ALltv/iaP+E2+J3/RI/8Ay5bb/wCJoA9Jorzb/hNvid/0SP8A8uW2/wDiaP8AhNvid/0SP/y5bb/4mgD0mivNv+E2+J3/AESP/wAuW2/+Jo/4Tb4nf9Ej/wDLltv/AImgD0mivNv+E2+J3/RI/wDy5bb/AOJo/wCE2+J3/RI//Lltv/iaAPSaK82/4Tb4nf8ARI//AC5bb/4mj/hNvid/0SP/AMuW2/8AiaAPSaK82/4Tb4nf9Ej/APLltv8A4mj/AITb4nf9Ej/8uW2/+JoA9Jorzb/hNvid/wBEj/8ALltv/iaP+E2+J3/RI/8Ay5bb/wCJoA9Jorzb/hNvid/0SP8A8uW2/wDiaP8AhNvid/0SP/y5bb/4mgD0mivNv+E2+J3/AESP/wAuW2/+Jo/4Tb4nf9Ej/wDLltv/AImgD0mivNv+E2+J3/RI/wDy5bb/AOJo/wCE2+J3/RI//Lltv/iaAPSaK82/4Tb4nf8ARI//AC5bb/4mj/hNvid/0SP/AMuW2/8AiaAD/m6b/uTP/b2vSa8b8Kaprur/ALSUk/ifw5/wj12vhIolr9uS63p9sUh96AAZJYY6/LnvXslABRRRQBzfxH/5JZ4r/wCwLef+iHo+HH/JLPCn/YFs/wD0QlHxH/5JZ4r/AOwLef8Aoh6Phx/ySzwp/wBgWz/9EJQB0lFFFABRRRQAUUUUAFFFFABRRRQAUUUUAFFFFABRRRQAUUUUAFFFFABRRRQAUUUUAFFFFABRRRQAUUUUAFFFFABRRRQAUUUUAFFFFABRRRQAUUUUAFFFFABRRRQAV5t8ZP8AmQv+xz07/wBqV6TXm3xk/wCZC/7HPTv/AGpQB6TRRRQAUUUUAFFFFABRRRQAUUUUAFFFFABRRRQAUUUUAFFcvP4tvbTx9Z+HrzQJobW+8wWupfaY2SUpHvYeWDuHpziuoo6XAKKKKACiiigAooqvqE9xbadPPZWjXtxHGWjtlkVDK3ZQzcDPqaALFFcj4d8ZanqniiTQtd8MT6HcrZ/bEMl5FOJE3hP+WZOOT3rrqOlw62CiiigAoqnquq2WiaZLqGqT+Raw7d8hUtjJCjgAnqRVygAooooAKKKKACiiigAooooAKKKKACiiigAooooAKKKKACiiigAooooAKKKKACiiigAooooAKKKKACvNv2g/+SE+If8At2/9KYq9Jrzb9oP/AJIT4h/7dv8A0pioA9JooooAKKKKACiiigAooooAKKKKACiiigAooooAKKKKACiiigAooooAKKKKACiiigAooooAKKKKACiiigAooooAKKKKACiiigAooooAKKKKAPNvjJ/zIX/Y56d/7Ur0mvNvjJ/zIX/Y56d/7Ur0mgAooooAKKKKACiiigAooooAKKKKACiiigAooooAKKKKACiiigAooooAKKKKACiiigAooooAKKKKACiiigAooooAKKKKACiiigAooooAKKKKAPNv+bpv+5M/9va9Jrzb/m6b/uTP/b2vSaACiiigDm/iP/ySzxX/ANgW8/8ARD0fDj/klnhT/sC2f/ohKPiP/wAks8V/9gW8/wDRD0fDj/klnhT/ALAtn/6ISgDpKKKKACiiigAooooAKKKKACiiigAooooAKKKKACiiigAooooAKKKKACiiigAooooAKKKKACiiigAooooAKKKKACiiigAooooAKKKKACiiigAooooAKKKKACiiigArzb4yf8yF/wBjnp3/ALUr0mvNvjJ/zIX/AGOenf8AtSgD0mqupw3lzpc8Ol3iWN26YiuHh80Rn1KZG76ZFWqq6nqdno2mT6hqlwltaW6b5ZpD8qD1NJ7DW55Jpes/EbUPh7P4yufEFlbpp8U0sdhHYIy3yQs24yMeULbSAExjgnNar6r420y10fxTqusWzWeo3ltFNoUdouyCKdwi7Zvvs67gSTweeKzfCuuabq37OGtQabeR3Etnp18s6IeYy3msufqCDV3xJ4i0i8+DOh6vbX8Uthb32nebcKflTy549+fpg01pLXvH8Xr/AF06WE9Vp/e/Baf116nWeLPEGp2+pWPh7wvHbtrGoI8vn3QJitIEwGlYDljlgFXjJPXArMl0L4habEbyx8awazPGNx0++0yKGGb/AGQ8eGQ+hJb3rG+IWi6JrGraH4y1PSV8Q+HhaNBdCONpGhich47hVHLAchsc4bOOKzZLL9n+OzW5x4dkVh8scUpklPt5akvn2xSV7ef9W/r+k+vkep+G9dh8S+HbTVbeN4ROp3wyfeidSVdD7qwI/CuW1Wz8UG/kN/8AEew0NXcmC2ttPh4XPy7mmZixx1wBV3TRHafCy5bwLo0+lFbWd9PsriHy3EnzFTsJJG5uQDzyMgVw2gy/Bm18OxXmtTaNqGqSoDetq6rcXzz4+cNG4Lht2RgD6U38T8v1/wCGEvhR3vgfXNTv5dX0jXbi3vbzSLhIvt1smxLqN4w6PtyQrYOCAcccVieJdU8c2nxJtdF8P31jPa6taSyxi5tdo04RmMNISGzKfmOF+XkjPArG+FmveG7Hx14l0exsx4fkv7mGWw0qaLyZHQQAlwg+7nlsHB56Voax448NWvxy0q3uNZto5rfT7mzlQk5SZ5ISiHjqcH8qe8o+a/T/ADFe0Zf11/yLl5J4v8E3On6hqviZfEOmXN5DZ3UE1hFbvD5rhFkjaPGcMRlWzxnmvRK87+MfiLSdG8O6dBql/FbSzanaTRo55ZI7iNnb6Ac13tle2+o2EF7YzLPbXEayRSp0dSMgj8KS1jfz/Rf8Eb0l8v1f/AJ6KKRs7Tt+9jjPrSeiA4zxFa+JG1KWR/Hdj4c09mxbxx2MTSsMc7nmYgnPoopPCGtaunia98Oa3qltrflWkd7a6nBEsRkjZ2Qq6qdu4Feq8EHpXD+GpfhsbCfUPiTPpU3irzHGpx68VaWJwx+SOKTogGNuwYxil8IeIfBuk/GG4/srT4/Dtjqmmww2Ie2+zLfyGZhvRMAgHgAkDOKcPiS7/wCTCezfb/NHS/EvUNQ03xl4Lk0WyW+1CSe7ht4nbam5ocbnPUKvLHHOBVuXQPiPbQm9tvGtre3ijedOn0uOO1kP9wOp8xR23En6VhfEHxnaWvxN8LwaOP7V1DSZrmS/0+2G6aOFoPmYL3IU7gBycYrpZ/i74Jj00XNrrtvfTPxFY2p8y6kfsghHzhieOQPektrr+v6/4A3vY2/C3iJPE3hqHVEt3t5SXjntXOWhmRirxk98MCM9+tee6Dr+t+NYPt6/Eax0C4eRl/sW3s7d3tSGI2S+bly3HOAo9K6bwzDqPhf4cajqmp2oXUpmu9WmtN2RG7lpBFkegwD75rnF174S+MdNivvF1v4fs9UkhVrqDVES3uI2KgkZfDMPQjORTe/3CW33/h/SOy8HyeK/O1a28YG2m+z3CJZXVtD5a3Eflgl9uTg5zkdjnHFZ+rav4h8QeKLvw/4PuoNMh04J/aOrTQiZkkYbliijJ2ltpBJbgZHGaz/hUtol5ri+FpLqTwirxDTDOzsgkw3nCEv8xjztx2zuxTv7at/h5421r/hJCbXRtduEvLXU2UmGOby1jeKRh9w/ICpPBBPPFD3V+346f8F/1YFs7f1/W3/DC39z4w8BRDV9X1xPE+hxsPtwkso7e4tUJwZUMeFdRnJUjOOhr0JHWRFdCGVhkEdxXnHi/wAa6V4s0a68KeCryDXNT1aI2zNZOJYbSJ/leWSRcqoCk4Gck4AFdjqWsaR4O8PxXGt38dlZQKkAmmPGcYA+pxRfTX+v6/rYOuhin/kuC/8AYun/ANKRXWXSTSWkyWswgnZCI5WTeEbHDbcjOD2zXkh+Kvgf/hba6n/wkln9i/sQ2/nZbb5nnhtvTrjmvTtB8RaT4n03+0NAvor603lPNiJxuHUfrQleCXr/AOlMG7Tfy/JGF4C1HW7mbxBp/iLUYtSuNL1EWyXMVqIA6mGN/uAnHLnvVWzu/E2mfFC10nVtct9S07ULO5uYoUsBA0Gx4wo3bmLcP146VR0vxPovhHxx4usvFGp22kyXd7HfWzXkgiWeIwRplGbhiGRgQOayz8Q9E1T4yaBcxvLBpsljc2lpf3EZjjvZnkh+WLIywGMbsYJPHSiOrj6f+2/5/iEtFL1/X/L8DR+NOn67P4NvbnT9dhtNORIlmsmsBI0recuG8zeNvUcYPT3rUg8OfEBJ42m8f2csasC8Y0BF3DuM+bx9as/FG1uLz4aavHZwSXEqxpKIo1yzBJFY4Hc4U8VEfi34DXT47r/hKdPYOAVhjl3zZ9PKXL59sZpLQHqb/iPXbfw14dvNXvFd4rWPd5cY+aRs4VR7kkAfWuVh0X4havCL6+8YQ6DLKNy6dY6dFOkA7K0kmWc+pG0Z6Vd8WaafiH8Lby2sbeWF7+BZYIb6IxMWVw6q6nkBioHPY1wemaf8E57by9d0bSNA1OEYutP1R/s8kL9wNxAcehXIIo6tMfRWPQvCuu6s+rXnhzxUtudVs4lnjurVSsV5AxIEgUklWBGGXJwcY4NdVXnnw9h8Af25dyfD3RfLVYNk2p29uy27/MP3aux+c8A/KCOOteh1T2RPVhXO+L/EVzodrZ22kWsd5rGpz/ZrGGVise7aWZ3I5CKoJOOT0710VcB8V/DEet2Wk6nPpH9t2+kXRludOC5aeBlKvsHd14YDvtxUspEh8N/EFI/tKfECCS7A3fZZNHiFqT/dyD5gHbO7Nb3hHxDL4h0iR761FnqNnO9pfWwbcscy4ztPdSCGB9GFeax2XwAksftTL4eiA+9DNKY5lPoYiQ4Ptiu6+HkfhuPQbh/BujTaVpj3BZTLbtCtydo/eorHdtPAyQM4ql1JfQ57xD4g8Y+EvHOn2wuR4jt9YFz9k0y3sFgaJk2lA0u4/KN3LEDgdOcVt6ZpHj+LULW/1TxPYXCvIDd6WlgEgjjPURy/6wsOxbg+grlNc+KPgl/id4bvE8R2Zt7KC9juJATiNmEYUHjvtP5V6F4c8aeHfF3n/wDCN6tb6j9m2+b5JPyZzjOR7GlH4U/63HLfUr+N49fXQpbzw3rcOlPZwyzyiWxFx5wVchRll29Dzz1rlvD+peO/H2h2F9aXq+FrA20bG6ezSa5vZCo3Msb/ACxx5zjIJI54Brd+IfjLw94c0C9sdb1W3srq8sZhbxSE5k+Ujjj1OKxPBHxU8Dp4U8P6W/iSzF6tnb25hJO4SbFXb0654ojrf5fqEtLfP9DqJtYvPCfgWbUvFs8N7c2UbGSSzjKfaDuwgCnozZUY6ZPHFYsGi/ETWIBf33i6Hw/NKN6abZ6bFcJAOyvJJ8zn1xtGelbfj3RbvX/BV9ZabtN6DHPbq5wryRSLIqn2JTH41mWHxZ8ITWTNq+r2+iX0IxdafqUggnhcdV2tgt9VyDS3bv8A1/X4fMNkv6/r+uxb8J+INUuNTvvDvimKBNZ09El862BEV5AxIWVQeVOQQy84PsaxviFrHibwle2Wt2eqi40mW/t7Z9Hh00PNIGOG2ybsljjgbe/WrPhOeTxT42vvF8NvNb6SLFNP095oyjXS7y7zbTyFzgLnrgmsT4nfEHwpb3elaZNrlql7p+u2kt1CSd0SK2WJ47A0+sb73X5/5bh0lbaz/L/M2I7D4k6qp1V9csdDkJ3QaJ9jWeML/dmm+8WI6lMAds13i52jdjdjnHTNc3oPxF8I+J9S/s/QNetb672F/JiJ3bR1PIrpafQQUUUUhhRRRQAUUUUAFFFFABRRRQAV5t+0H/yQnxD/ANu3/pTFXpNebftB/wDJCfEP/bt/6UxUAek0UUUAFFFFABRRRQAUUUUAFFFFABRRRQAUUUUAFFFFABRRRQAUUUUAFFFFABRRRQAUUUUAFFFFABRRRQAUUUUAFFFFABRRRQAUUUUAFFFFAHm3xk/5kL/sc9O/9qV6TXm3xk/5kL/sc9O/9qV6TQAUUUUAFFFFABRRRQAUUUUAFFFFABRRRQAUUUUAFFFFABRRRQAUUUUAFFFFABRRRQAUUUUAFFFFABRRRQAUUUUAFFFFABRRRQAUUUUAFFFFAHm3/N03/cmf+3tek15t/wA3Tf8Acmf+3tek0AFFFFAHN/Ef/klniv8A7At5/wCiHo+HH/JLPCn/AGBbP/0QlHxH/wCSWeK/+wLef+iHo+HH/JLPCn/YFs//AEQlAHSUUUUAFFFFABRRRQAUUUUAFFFFABRRRQAUUVDb3ltdtILW4imMTbJBG4bY3ocdD7UATUUUUAFFQwXltdNKtrcRTNC2yQRuGKN6HHQ+1TUAFFFFABRRVS41bTrTUbawur+2hvLvd9ntpJlWSbAydqk5bHtQBbooooAKKKKACiiigAooooAKKKKACiiigAooooAKKKKACiioIL60uUle2uoZVhYrI0cgYIR1Bx0IoAnoqrpuqWGsWK3mk3tvfWrkhZ7aVZEYg4OGUkcGrVABRRRQAUUUUAFebfGT/mQv+xz07/2pXpNebfGT/mQv+xz07/2pQB6TRRRQAUUUUAFVY9MsIro3UVlbpcN1mWJQ5/HGatUUAFVv7Osvtn2z7Hb/AGn/AJ7+Uu//AL6xmrNFABRRRQAVTu9X02wlEV9qFrbSEbgk06oSPXBNXKyNU8I+G9cuxda14f0rUbgKEE13ZRyuFHQZZSccnigCT/hJdC/6DWn/APgUn+NTW2taXeziGz1KzuJWyRHFOrMfwBrI/wCFceCP+hN8P/8Agrg/+Jq1p3gvwvo98l7pPhvSLG6jBCT2thFHIuRg4ZVBGQSKANGbTrK4uUuLizt5Z4/uSvErMv0JGRVmiigAqulhZx3jXSWkC3LfemEYDn6t1qxRQAVWutMsL51e9sre4ZPutNErlfpkVZooARQFUKoAAGAB2pJI0ljaOVFdGGGVhkEe4p1FAENrZWtjGY7K2ht0JyVhjCAn6CpqKKACiiigCC6sbS92fbbWG42HKebGH2n1GelTgYGBwKKKACq0em2MV211FZW6XDfemWJQ5/4FjNWaKACq11p1lfMpvbO3uCn3TNEr7fpkVZooAYTHBCSxWOONcknhVA/kKz/+El0L/oNaf/4FJ/jV+e3hureS3uokmhlUpJFIoZXUjBBB4II7Vz//AArjwR/0Jvh//wAFcH/xNAGj/wAJLoX/AEGtP/8AApP8avW11BeQLNaTxzxN0kicMp/EVgf8K48Ef9Cb4f8A/BXB/wDE1tabpen6PZLZ6RY21haoSVgtYViRSTk4VQBQAPplhJdi6eyt2uB0mMSlx/wLGatUUUAFFFFABRRRQAVWuNOsruZJrqzt5pY/uPJErMv0JHFWaKACiiigAooooAKKKKACiiigAooooAKKKKACiiigArzb9oP/AJIT4h/7dv8A0pir0mvNv2g/+SE+If8At2/9KYqAPSaKKKACiiigAooooAKKKKACiiigAooooAKKKhu7u3sbSW6vZ47e3hUvJLIwVUA7knpRsBNRXMaZ8R/Cmr6jFY2WrAzznEIlgkiWY+iM6gN+BNdPQAUUUUAFFZut+ItJ8N2a3Ot30dpE7bU3ZLSN6KoyWPsAaq6F4y0HxLPLBo+oCW4iG54JI3hkUeuxwGx74xQtdg2NyimyypDE8szrHGilmdzgKB1JPauTHxT8GG4EX9tLtL7BP5EvkZzj/W7dn45xR1sHmddRSKyugZGDKwyCDkEUtABRRRQAUUUUAFFFFABRRRQAUUUUAFFFFABRRRQAUUUUAebfGT/mQv8Asc9O/wDalek15t8ZP+ZC/wCxz07/ANqV6TQAUUUUAFFFFABRRRQAUUUUAFFFFABRRRQAUUVjReL/AA/Pr8eiW2r2s+pSBiLeF/MYbRk525C8DvigDZoorI17xXonhlYjreoR2zTH91EFZ5JP91FBY/gKANeisXQfF+heJnlj0a/WaaEAywPG8UiA9yjgNj3xitK/v7XS9PnvtQmWC2t0MksrdEUdTQ9NwWuxYorjv+Ft+BP+hktf++X/AMK623uIrq2iuLdxJDKgdHHRlIyD+VAElFFFABRRRQAUUUUAFFFFABRRRQAUUUUAFFFFABRRRQAUUUUAFFFFAHm3/N03/cmf+3tek15t/wA3Tf8Acmf+3tek0AFFFFAHN/Ef/klniv8A7At5/wCiHo+HH/JLPCn/AGBbP/0QlHxH/wCSWeK/+wLef+iHo+HH/JLPCn/YFs//AEQlAHSUUUUAFFFFABRRRQB8qeE/iB4q0Xx+uu61r1/eeH5tdm0q6guLhnigzyjBScLjOeMcIRX1XnNfNXgnwmPGfwo+IulIm65/tmWe19RKg3Lj64x+NdLa/Ftk/Zq/tnzSdbjj/skL/GbnG0N9dvz0k7U7dUl+KX6/mNq9S/dtfc3+n5HF/EHx94o1XxvPrOga7fWOgafrMGkwRW07JHcOMtIxAOG5XvnhhX03qOo2ek6fNf6ndRWlpAu6WaZwqoPcmvnX4geEx4L+CvgfSpFxdf2zDPdnuZnVmbP06fhXVfHlm1jxN4F8JTuyadq2pZu1U48wKyAD8mb9KqzSVNb81vwV/wBWK6b53ta/4u34WOjtvj78N7rUhZp4iVGZtqyy20qRk/7xXAHucCvREljkhWWN1aNl3K4OQR1zn0rlvFfgnQNU8A32ivpdpFapaOIAkKr5DBTtZcDgggV45oXijUo/2ONRuPOfz7bfYRyZ5EbSqvX2VyPwqXJJSturfjp+Y1Ftx89D09/jj8O49c/spvEkPn7/ACzIInMIbpjzNu38c4965j4AusmsfEB0YMra45VgcgjL8103w98C+HU+EGkaXcaVa3NvfWMc115kQJmd1DFieueeD2wMdK4H4JhPC+g/Er+zg2zS72byAxycRo+3Pr0FVK1OUr9E/wA0KN5xjbq1+TPSfE3xe8EeEtTbTtZ1pVvU/wBZBBC8zR/72wEL9DzXQeHfE2jeLNJXUvDuoRX9ox2748gqfRlOCp9iAa8B+DPi2/0HwfJeWvw/1vXLzUriWa61W3RWFwdxGNx5wMdPXNdV8I9P1qD4qeKdRbwvf+HNC1OBJo7a6jCKJwQDgDjnLnimlrZ9v6Qm9LruS/Aj/kZviL/2HW/9Ckr2SvG/gR/yM3xF/wCw63/oUleyVK+GPovyQ38UvV/mz5v+Lfiv4mS+HJNeXzvCOiRXi29taxysl5ckk/O5GCq/L93jr0PWvomyZn0+3ZyWZolJJ7nFeTftN/8AJJU/7CUP8mr1jT/+Qba/9cU/kKIfA/X9EE/jj6P8yxXj3gyT/hMv2g/FPiCb95beHYl0uyB5CsSd7D3yr/g1ewk4U14v+zYfO0DxRdyczza3KZCep+VT/MmiPx37J/ovybCXwW7tfq/0PQPFvxI8K+B5IYvEeqrb3Ew3R26RtLIw9dqgkD3OBVzwp4z0Hxtpr3/hm/W9gjfy5PkZGRsZwVYAivL/ABdBrvgD40XXj5PD0/iHRr2yW3lNoN81jtCgkL6fLnPT5jyK6qD4g+Htb+GfiLxP4KaMTwWkss6+SI5UmWMlfMHc8DnkccGp5rQcn0/Aq15qK6lrxF8ZPAvhfVX03VdcX7ZEcSxW8Mk3lf7xRSAfbrXTaD4h0nxPpMep6BfRX1nIcLLEeh7gg8g+xwa8E+D/AIrvfDngGL7D8Odb1ea+eSa51OCNWF0SxHU8kAcY9c+tdB8JbTW9G8T+N9Rk8NX2gaJdoLy1s7pNoSQAkhQOPXp2xVP3b36K/wB3Qn4rW7nceJvi/wCB/COr/wBma5raRXi48yKKJ5TFn+9sBA+nX2rX0rxv4a1vU4dP0jWLe8up7X7XHHCS26LON2cY68Y6j0rzL9nPRbHUfBOoeJNSt4rzU9Wv5vtE8yB2Kgj5eexJJPrmqXhXw9pvhn9rHU7LRbZbW1fSDOIU+6jMUJCjsM847VSi1JRl1X6XE3dNx6f52PY7fxNo914mufD0F9G+rWkQmntQDuRDjBzjH8Q796XVfE2j6JqGnWOq3yW1zqkvk2cbAkzPxwMDjqOvrXl/hv8A5O18Wf8AYIi/lDTvjJ/yU74Xf9hg/wDocVRHVQ/vf5srrJdv8rnpviHxNo3hPSm1HxFqENhaqdu+UnLH0UDlj7AE1z/hn4veCfFuqrpuja0rXr/6uCeF4Wk/3d4AP0HNeZfEzWJZf2i9GtLjQbvxFa6TYfaIdMtlDF5G3HzCp4OML/3yKh+Jup+JPHdhpp0r4a69p2sadeRz219JEMxgdVyOcZwfwpx1s31f62CStdLt+lz3TVvEuj6Fe2Fpq9/Haz6jIYrVHB/esOozjA6jriuWi+N3w9m8QDR4/EcJuGfyw/lv5JbOMeZt2/jnHvXF/HrT49Z8R/DrT9RVhFeaiYZ1RtpwxjDAEfUitj44eFdEtvgdqMdnplrbLpqxPaeVEF8o+Yo4I9QSD65qb2jzPvb8v8wS5morqv8AM3fi34+tvA/gu7eLU47LWbmBzpqtHvLuuM4GCOM9+Kg+GXxT0Txfo+k6fNrcV34jksxJdQLEyHeB8/8ACF/KsrxpHFqP7MX22+ijnuRoEEqyyIGZWaNCSCeQTXQfCTTLCH4YeG7uGxto7l9Oi3TpCodsrzlsZrRKzkn0t+v9Mlu6i15/p/SK/gDT9KtPGni6XTfFd3rVzJdj7VZTltti25jtGeD3GR2XFGs/HL4eaHqL2N54gSSeNisgtoJJlQjrllUj8jXNfB0gfFP4nk8D+01zn/elqa1+Jnhq1lvdK+HfgXUddtopGS6m0qwVbd2PUFv4j16jntmoW0fRFP4pep6boHiLSfFGkR6n4fvor6zkJCyxk8EdQQeQfYgGvLP2d+bHxhn/AKD038hVT9nKUm68cQpZyafAmqh47GQYNtnflCOxGAPwq5+zt/x4+MP+w9N/IVSS5vWP5uJL+H/t79JD/hXJ/wAIt8VvGngXO20WYanYJ2RJMblHt8yfka9hrxe8P2f9sOw8nj7TojCXHfAfH/oIr2ikvgj6W+5tfoN/HL+t0n+oUUUUAFFFFABXm3xk/wCZC/7HPTv/AGpXpNebfGT/AJkL/sc9O/8AalAHpNFFVdTv10vTJ717e5uVgTcYbSEyyv7Kg5J9qNg3LVFeeW/xp8O3dqLyz0/W7jT4zi8vksT5Nic4IlJOQR1O0NgHnFX7T4paLeatbW0NnqgsLu4+zW2sNa4sp5egVZM5OSMA42k9DRvoGx2lFZfiDxHpnhfTPt2s3HkxFxHGioXkmc9ERBksx9BXNf8AC1LK22y614a8S6NYkgG/v9PCwpnoXKszIPdgPejcDuaKbFKk0KSwuskbqGR1OQwPQg9xXH3fxIhju5odN8L+JtWWFyjzWmmlY8g4OGlZN3PpmjrYOlzsqKyPDfibT/FOnvdaaZkMMhhuLe5iMU1vIOqOh5B5FY2tfE7QfD2vTaRrEeoW1wkfmQs1m5S7OVGyEj/WNlwMKD39KNnYOlzsKK4/TfiPZXer2unanomuaFLetstJNVtBFHO+M7AyswDEdA2Ca7CgAooooAKK5TWPiDZabrE2lafpOsa7fWwH2mLSrUSC3yMgO7Mqgkc4zn2p2gfEDS9e1z+xRZ6np2qrA1w9lqFo0LrGCo3Z5UglhggnoaFrsD03OporH8SeKdL8KWCXWrSuDM4it7eGMyTXEh6IiLyx/wAmsCL4padFPGmvaJr3h+KY7YrjVLIRxO3Zd6swUnsGxSugO3orkNP+JFhqfhqXXLLRfEEtqhTYq6XIZJ1fo8aj76+pHArY03xLZ6t4Sj8Q2EV1NaSwGeOJYSZmAzwEHJbjpTel79A3NeisDwv4wsvFbXqWdnqNlNYuqTwahatbyKWXcPlbnkc0niHxha+HrmK1Om6tqd3Mm9INNsXmO3OMluEXn1YUPQFqdBRXK6H4+stX1lNJvdK1bQ9QmRngg1W2EX2gL97YysysR1Izn2rc1nVV0XSpb6S0vLxYsfubG3aeVsnHCLyetD0VwWuheorih8VvDzaNFerFqJuZ7iS2h0sWjfbJZUOHUQ9RjuTgDuRWz4b8U2/iVLlUsNQ026tGVZ7TUbfypU3DKnglSCM8gmgDcorkdU+I2nWWrT6Zpel6v4gvLU7blNItRKtu3913ZlQN/s5z7Vc8OeNtM8SXU9lFDeadqVuoebTtRgME6IejbTwy+6kiha7A9Nzoqr3uoWenQiXULuC0jY7Q88oQE+mSazvEnivS/CtpDLqkkrS3D+VbWtvEZZrh/wC6iLyT+g71xXiXxjoGv6Dd6b4q8Mahpry28psTr2nIIpJhG23Y+WVX9ASD6VMpWTa6FRV2kz0yORJollhdZI3AZXU5DA9CD3p1YPgX/knnh7/sGW//AKLWt6tJR5ZNGcXzRTCiiua8Q+OtM8P6jHpq21/quqSJ5g0/S7czTKn99uQqL7sRmpKOlorlNF+IWnapq8ek3+n6poWozAmC21a28k3AHXy2BZWI9Ac+1bus6qui6VLfSWl5eLFj9zY27Tytk44ReT1oeiuG7sXqK4ofFbw82jRXqxaibme4ktodLFo32yWVDh1EPUY7k4A7kVs+G/FNv4lS5VLDUNNurRlWe01G38qVNwyp4JUgjPIJoA3KK5MfEbSI/EUukaha6npjxpNILrULNoLd0i++yyNgMOQcj1FQab8TdL1TUbaGHStbjsbyURWuqTWDJazsfu4bO4A9iVAPrQtdgem52dFZHiPxPpfhXTlu9YnZBI4ihhiQySzyHoiIvLMfQVz0fxS0+GeIa9oPiDQLaZwiXuqWISDceAGdWbZn/axQtXYNjuKKiuLhbezludkkqxxmTZChdnAGcKB1J7DvXIW/xV8OvZ6hcagmo6SdPaNZINRs3hmdpAdipGfmYnacACgDtKK5nw943tvEGpNYSaPrOkXXlGeKPVLPyvOjBALKQSOCRkHB56V01ABRRRQAUUUUAFFFFABRRRQAUUUUAFFFFABXm37Qf/JCfEP/AG7f+lMVek15t+0H/wAkJ8Q/9u3/AKUxUAek0UUUAFFFFABRRRQAUUUUAFFFFABRRRQAVyHxHgaTRdPuJraS706z1GG41C3jQuXgXOTtH3grFWI9Frr65Dx/IHXQ9PvJWh0vUNRWC+dWK7k2MVjJHRWcKp9c470tbq3dfmPo79n+Rj+M/F3hfxL4Rn0nRb621nUr5Ntha2bCSVZv4HwOY9p+Yk4wAa9CtVlSzhS4bfKsah2Hdscn865Dxn4d8O6d4Nvb2OztNLm0+BpbS7tolikgkUfJtKgHk4GO+cV1OkzXFxotlPep5dzJbxvMmMbXKgsPzzVK1nb+v66/Il30+f6f0vmW6KydY8U6FoFxbW+tara2Mt0cQpNIFL9s/T36VrdelIZknw9ayeK/7euGaa4S2Fvbo4BW3GSWZfQtkAn0UVheLvIuvGPhm209Q2tQ3YuGeMfNDaAES7z2VshQD1P0q/4g8TTQXy6H4chS91yZd2xj+6tEP/LWYjoPRerdvWptD0Sy8MW7S3l6LjUb+VftN/csFe5lPCqPQdlQdKF0fb+vz3+70H18/wDL+vzNe+sbXU7GWz1CBLi2mG2SKQZVx6EVzXibxt4T8PJJourTxvO8IRNLjhLvMGGFQKBjnp6V011eW1lGr3lxFbo7hFaVwoZj0UE9z6VDqum6dqmny2+s2tvc2pU71uFBUDHJ56fWplqhrczPAunXmkeBtKsdSUpcww4aMtuMYJJVM99oIX8K365T4b3Elx4OTM0lxaxXM8VlPISWlt1kYRsSevyjGe4Arq60lq7krawVjeI/ES6Bb2wjs59Qvb2byLS0gIDSvgsfmYgKAASSelbNcz4rtdD1u807QNXmnt724L3NjNbSGKWN4wMsjjo2G6dxmoZRl6j468R+H9Nn1LxD4KkhsYVLNJZajHcMnpuXauB6kZxXcI2+NXHRgDXnms+HvEPhbRrvVNP8aXV7b2kTSyWetxRzRzIoyULgKy56ZrvNNu/7Q0m0vPKaH7RAkvlt1TcoOD9M1W6J6os0UUUhhRRRQAUUUUAFFFFABRRRQAUUUUAebfGT/mQv+xz07/2pXpNebfGT/mQv+xz07/2pXpNABRRRQAUUUUAFFFFABRRRQAUUUUAFFFFAEV1bQ3tpLa3caywTIY5I2GQykYIP4Vxt9pGnaN478IW2k2FtZQg3n7u3iVB/qR2Art65TxD/AMlE8IfW8/8ARIo6gdXWfdw6Vpk1zr15FBBLHb7Zrxl+ZYlycZ64GScVoVDDeW1xPNDBcRSy27BZo0cFoyRkBgOhxzzR6AcFb65pfjb4haPe+E2+1x6Sspv9RRCqbHQhYckDcS2Gx0G2t/4iRST/AA316KCN5ZGsZAqIpZmOOgA61meKbWy03xj4cvtKSODWbu+EEqwgBrm2Kky7wPvBQAwJ6HHrXW3+p2WlpE+o3UVqk0ohjaVgoZz0XJ7nFG8bL0/r7xp8sr/M5QfEa3tbZZbnw34kisUUb719OIjRcfeK7t4HvtrsLW6gvrOK6s5UmgmQPHIhyrqRkEGluZobe1lmupEjgjQtI7nCqoHJJ9K5f4ZIU8A2bBGjgklnltkYY2wtM7R8em0j8Ke9yUrJHWUUUUhnCz/EHVh4mu/Dtl4Qup9TgAljVryNYnhJIEjSDITOBhcEnPSmQfETVdTSaPQ/CF1d3liWTUoZbpIVtpFJzGrkESNgZGMDBGSM4rR0r/kq3iL/ALB9l/Oam+CP9Z4p/wCw5cf+gJU6pP0b+52G9/mvxVzb07X7LUvDEOvRs0dlLbfaSXGCi4ycj1GD+Vc7b+MPFGpW6X2j+CXm06VQ8MlzqccM0qHkMI9pxkc4LCo/B+oWOlfBaxvtW/48YbFmnG3dlMnIx3pkHw8ktreN/CfjLW9NtSoa3g85Lm3jU8gKrqfl9s1ctJMS2R0PhXxMnijT7m5SxubBra6e1kguQA6ugGc4JHetuuW8EapqF2uradrEltc3ml3n2eS9tY9iXOUVtxXs43YYeorqaO3yEFFFFIYUUUUAFFFFABRRRQAUUUUAFFFFAHm3/N03/cmf+3tek15t/wA3Tf8Acmf+3tek0AFFFFAHN/Ef/klniv8A7At5/wCiHo+HH/JLPCn/AGBbP/0QlHxH/wCSWeK/+wLef+iHo+HH/JLPCn/YFs//AEQlAHSUUUUAFFFFABRRRQB5p8GfCGt+ErTxImv2YtWvtWkuLcCVH3xkcN8pOPoea4yD4J6unx0a7aIf8IaL7+1VXzl2mfGQnl5zwx64xt7179RQtGmuit+X+SfqD1TXf+v1aPNPjX4R1vxfomh2/h6zF1La6tFcTKZUj2xgMC3zEZ69BzUvxg8Ban4w0vTNR8Myxxa9odyLqz8w4WToSuTwDlVIzxxg9c16NRStpp3v89P8h31+Vvz/AMzxXVfFfxY8U6DN4etPh8dHvruIwXGpT3qmGNSMMyjHpnGC2PeuptvhVa23wSk8BLcAtLasr3O3gzk79+PTfjj0Feg0U2k013Erpp9jw7wxq/xc8P8AhqDwcngmKa9s0+zW+tS3ii3SMcK7L/FgehBOBxnitr4P/D/XPC9r4ts/F6CYapeFluA6n7UhVgz4UkrnPQ4PtXq9FN63v10YLS1uh4b4Xg8f/B6O68PW3hSTxXoXnvLYXVncqkkYY52spBP6DnOCa9H8F654t12S8n8U+GI/D1qAv2SJrsTTOedxbHAHTjANdXRRd9dRNdtDzX4T+Eda8Ma540uNbsxbRapqzXFowlR/Mjy53fKTjqODg16VRRS6Jdkl92g+rfc8B+J9l8WPiDoMmhHwDb21sl2Jo7iPVYGZguQOC46g16V4D1bxxfSS23jPwnBodvBCogmjvo5zKw4IIUnHHOa7SiiPuqwS953CvGPgun/CO/Ebx94Sn+Ro74X1up/ijcnn8in517PXJ3fgOGb4nWPjSzvXtLqG1a1uoFjBW7jP3cnPBBxzz0FEdJX6Wa/X80gesbej/r5NmP4g8Y+PvD3iS8gg8CHXtJYg2VzYXYRwNoysinPOc84Ax61lfDT4f6qieL9U8YWMOmyeK3IbTIHDCCMh85I43Hefy98V6zRSsrWfa3yG3rp6nh3hR/iJ8JNPk8Mt4Pk8U6TDK7WF7Y3KowRjnaykEjk55xjJ5Ir0fwdq3ijxBb30vi/w1FoMDbVtbf7UJ5HUg7i5HA7YGAetdVRT3Xvai2emh4N4ZsviD8H7zVNA0fwk3ijRbq5afT54bpYvKLcYfIOOAM5xyCQeareAovESftP3snjGSBtVn0YyyRW3+rgUlNsYPfaOM+uevWvoKuKh8ASxfGa48cHUEMU2nizFp5R3A8fNuz049KcXaSv5r8Gv8glqnby/NHH+MdB8XeE/jEPHvhDRf7ftb60FrfWSShJBjAyM/wC6pyAehyKz9T8M/Ejxr498JeKda0mHTrHT9TjddKS5RntIQys0sjEjcxxjCjIA6CvdaKUdLeW333G9b+f+Vjyv4k+DfEcfjjSPH/gSCG91TT4jb3OnyuE+0wnPQnAzhmH5Y6YqW08ffETVruC2s/hlNp+6RRPc6hqCiOJc/MQMAtx6flXp9FEdNOgnrqea/FDwjrXiPxf4GvtHsxcW+k6n594/monlJuQ5wxBP3TwMmtr4saDqPib4XazpGiW/2m+uY0EUW9U3EOpPLEAcA9TXYUVLinHl+f8AX3DTtJS/r+tTiL3wlfap8DV8KyBYNQbRIrQqzAqsyxKMEjIxuGMisH4San41sbHTfCniPwXLp1tplsYpNUe6Uq+37gVAOSemQT0zXqtFXf3nLv8A8H/Mm2iXb+v0PLvAXgjWtL8YfEO51i2+y2eu3W6zmWVGMiHzMthSSv3h1xXNeAU+Ifwz0WfwfB4G/tZluZHtNTjvEjt3DfxPnkY69jjjFe7UVK0+5L5Ib1187nl3wd8G+JfCup+LZ/FcUIm1S+W4jngdSkxO4syqCSoy3AbBqf4NeEda8JWviRNfsxatfavJc24EqPvjI4b5ScfQ4NelUjhijBDtYjg4zg0721Xa35f5Bv8Aff8AP/M8a8MJ/wAJJ+1H4m1iP5rXQ7FLFX7eYcAj9JK9mrlPAHgS38CaTd26Xj6heX1093d3kiBGmdj6ZOAPr6+tdXRtFR7L/gv8WD1k3/XZBRRRQAUUUUAFebfGT/mQv+xz07/2pXpNebfGT/mQv+xz07/2pQB6TQelFVdTsm1HTJ7NLy5sWmTaLi1ZVlj91LAgH6g0nsB5pocSR/s0alsRV3adqLNgYyd0vJrQ8VRpF8L/AA0kSKiLe6SFVRgAedF0rX0X4d2Wi+DtQ8NDWNWvbC+ikiP2uWNngVwwbyyqADO4nkHmn3HgC2u/BEPhq51vWJYoJY5Yr5po/tKGNw6Yby9uAQP4elNaSv5xf3Ng9V/4F+KRznjhNdf4u+HF0abS4X/s+5NmdVhkki87cu/aEZcPs6H03VqS2fxRmieKa+8HSRupVkbT7khgeoI82t3VvCOn674et9J1iS5uvs4Ror0y7LlJFGBKHUDD98gDqeMcVh/8IBrkq/Z7r4i+IZLEcCONbeKUj0Myx7j9etK2nL6jvrcu+HbWf4f/AAz2eILmK4GkwTTO1qjBREpZwihiThVwoyewrLsYviT4itYtTOtaR4cguEEkNimnm8dUIyBI5kUbsddoxXV6f4a0rTPDf9g21tnT2jeN4pXZzIHzvLMSSSckkk965iL4calbwLp9r498QQaPGNsdonk+YidkE5TfgdBznHem9ZN/15/oJbEPw4XUY/GHjWPWru0vL1bu2Es1pEYkY/Z1x8pZsHGM89auatbQT/Gzw888KSNDpF5JEWUHY3mQjI9DgkZ96f4e+GWl+FfEEmp6DqWq2kUxDTaeJ1a3mYJt3vuQuzfxElutOvvh2l94xTxGfFHiCG5jyI4Ip4RCiEqWjAMRO0lBkZz7018UX2/ysL7LX9b3E+KAB8L2LEcrrOnlT6H7THzXZVzXjHwVD4zgtYLrWdW06K3kEoTT5Y0DurBlZtyNkqVBGMVvWVsbOwgtnuJrpoY1QzzkGSTAxuYgAEnvgClH4WvP9F/kN7r0/V/5k9FFFAHn03hnUrvWNS1r4eeMk05by5IvrSazS6ga4jxGxGSGRvlAOCelGj32v6d4+sNP8c2Wk3V5eWs0enavpqshKrteSKRGyVyAGyDjipx8M2026u7rwp4p1jRJ725kubhVMU8MjuxYny5EIB5xkY4AznrWl4f8EJpOrtrOraxf69q5jMSXV6VAhQnJWONAFTOBk4ycdaI6W/rp0/rb7glrf+uvUz7ryf8Ahell/aWP+QI/9mb+nm+b++2/7WzZ74zW542OljwLrP8Ab/l/2d9jk8/zMYxtP65xj3xUviPwvpfirT0tdXhdvKcSwTwyGOW3kHR0deVP0rkNS8CaFp0Pn+J/E2q6v5KNJa22t6krRK4HDBAFDkdi2cVnP+G4vz/V/qXD+Ipen+Rt/DT/AJJL4ax/0CoP/RYqL4T/APJKdB/69v8A2Y074WXdtc/C7w8lvPFM0WnQJIqOGKHYODjoaoj4aXNrJNbaL4x1rStGmlaU6da+V+6LHLCOVkLouSTgHjPFb1P4kvP/AIP+ZjT+BFnwnIknxG8ceW6ttuLRTtOcEW4yKgvdZ8V+I/Emo6V4Ol0/S7LS5VgutSvYWnd5iocpHEGUYAZclj1PFXPDPw30rwjrtxqOhXuowRXSATWLTK8EjgAeY2V3lz1JLdSaTVvAs8+uXOr+G/EeoeH7u92/bFtkilinKjAcpIpAfAA3DHAFZ9vQvuczqtj4osPHvgpPEniDT9WhbUpTF5Onm2lVvs0uT/rGBXB9PSvVa8+uPg/p15cW2oXfiHX5Nbt5fMXVxdJ56/KV2KChRE+Y8Ko9ya6nVtAl1TRIdOj1zVdPeLbm8s5UWeTaMfMWQjnqcAc0+gfav5f5nLfDDRNOhvPE2spap/aNxrl7E9w3LbFlOFGeg74HU13lz5v2Sb7P/rdjbP8Aexx+tcHZfCYaakyWPjnxdAs0zzyBLuD5pGOWY/uepNd1Y2zWdhBbPczXTQxhDPcEGSTAxuYgAEnvgCk1eCj5JfgF7Sb82/xPI/hrD4/bwDYNoV94VSE7/OW5srhphNuPmeaRKMvuzk4FdEnhnxzqHi3RdW16/wDDoTTJnYtp9pPHK8boVaPLOw2nIOMdVFaOpfD9X1e41XwxruoeG726bfc/Y9jw3Df33ikUru/2hgnvmnaV4AWDVrfVfEGv6r4gvbVi8H2yVUhhbGNywxhVzgnk5qk7u4mtGivCI5Pjhd/2hgyw6LEdODdlMricr75EYPtitD4jxabN8NdfXWxH9jFjKzGTswUlSPfdjHvirPifwjYeKI7Z7ia5sr6zcvaX9lJ5c9uxGDtbkEEdVIIPpWE/wzbVlKeMfE+q+IIVUiG3mWKGJGxgOUjQB2GcgtkA84rOScocvr/mXF2nzen4WRueBf8Aknnh7/sGW/8A6LWt6sPwn4XXwlpA06HVtS1KBNqxHUJEdoVVQAi7UXjA75rcrabUpNozgmopMK8h8MReNZPE/jA6Dd+HYZ/7ZkFwuo2s8lxswPJyVkA2eXjbx6169XMeIfA9rrWqJq9hqF7omsJH5f2/T3CtInZJFYFZFHoRx2NZ7O/y/L/IvdWOc1zwx8RvEdnFa6lqXhVFhuIriOa3srhZYnRgwZCZCAeMdOhIr0r61w6/DifUJkbxd4s1jXoUYMLNzHbW7kHI3pEq7+exOPaul17RpNc00WkOr6jpJDh/P06REkOM/LllYY59O1PZC6nI/DDRNOhvPE2spap/aNxrl7E9w3LbFlOFGeg74HU16DXn1l8JhpqTJY+OfF0CzTPPIEu4PmkY5Zj+56k13VlbNZ6fBbNczXTRRhDPOQZJMDG5iAASfYChaRS7JL8A+033bf4nC+NdF0/Xvih4NtdXtkurdIr2byZOVZlERXcO4B5weOK9BAAAAGAOgFcBc/CkXeqw6jN438WG6tw4gkF3B+6D43Bf3PQ4H5V0fhzw3N4f8/zvEOs6z523H9pzRv5eM/d2IuM55znoKF8Nge5iTiKX45241HBMWiF9ND9N5lImK/7W3yx64NdZq0VjPo15Hq6xNYtC4uBNjZ5eDuzntiqHibwpp3iq0hjvjPBcW0nm2t7aSeXPbP03I46e4OQe4rnz8NrrUikPizxfq+u6chB+wSLFBFLjoJfLQGQexOD3qbXjy+v4tv8AUd7S5vT8NC98LnuJPhfoLXZkZvsoCNJ94x5Plk/8A21laPomnXvxv8Tapd2qTXllb2S20j8+VuR9xUdATgDPXH1rtb/T/tmkS2FvdT6eHj8tJrMqkkI9UyCB+RriofhMLfULm+h8c+LkuroIJ5RdwbpAgIXP7nsCatu8rkpe7Y9BorP0PSn0bS0s5dTvtUZWJ+037q8pyehKqowPpWhSGFFFFABRRRQAUUUUAFFFFABRRRQAUUUUAFebftB/8kJ8Q/8Abt/6UxV6TXm37Qf/ACQnxD/27f8ApTFQB6TRRRQAUUUUAFFFFABRRRQAUUUUAFFFFABVXUtMstY06aw1S2jurWddskUgyGH+e9WqKNwOTs/htoFpewXEp1C/W2YPbQX9/LPFAR0KozEcds5xXWUUUAcv4q+HXhzxnf2l5r9m801oNqFJWTcuc7Wx1Ga6dQFUKowAMAUtFGysG7ucxqnw68M6xq1xqd/ZTtd3O3zZIr6eLftUKPlRwOgHaorX4Y+FLO+t7yGwuTNbSrNEZNRuZArqcg7WkIP4iusooWmwPXcq6jptlq+ny2OqWsV3azDDxSqGVvwrl/8AhVvh5sRSyapNYg5Gny6nO1v9Nhbkex4rsqKAGQwxW8CQ28axRRqFREXCqB0AA6Cn0UUAFY+u+E9E8SvC+t2K3MlurLC+9laLcQSVKkEH5RyOR+JrYooA5GL4aaF9ojkv59U1RIWDx2+o6jLPEhHT5GbBx75rrunSiigAooooAKKKKACiiigAooooAKKKKACiiigDzb4yf8yF/wBjnp3/ALUr0mvNvjJ/zIX/AGOenf8AtSvSaACiiigAooooAKKKKACiiigAooooAKKKKAIrq2ivbOa1uAximQxuFcqSCMHBBBH1BzXIt8JfBryJI2n3bOmdrHVLrK564Pm8V2dFAGboegad4dsWtNJjljhZzIVluJJjkgDq7E9umcVR1rwRomu3wv7iCa21ALtF7Y3D282PQshGfxzXQUUbhsYOheDNH8PXcl5aRz3F/KuyS9vbh55mX+7vckgewxWrqGnWeq2EtlqVtFdWsy7ZIpVDKw+hqzRQ9dwWhxy/C7w7vRJjqVzZRsGTT7jUZpLZSOn7stgj2ORXYIixoqIoVVGAoGAB6UtFABRRRQBz1l4F8P6d4ik120tJk1GRmZ5mvZmDZznKlyuOTgYwM8Vb0/wvpOl6xfapYWzxXeoEtct9okZXJ6nYWKg8dgK1qKA3MCx8D+H9O0G70W1sWGnXmfPt3uZZA2eoBZiVHsMVnP8ADLQgzLZXGradbMctaWOpzQwH/gAbAHsMV2FFAFHR9G0/QNNj0/SLVLW2jyQiZOSepJPJJ9TzV6iigAooooAKKKKACiiigAooooAKKKKACiiigDzb/m6b/uTP/b2vSa82/wCbpv8AuTP/AG9r0mgAooooA5v4j/8AJLPFf/YFvP8A0Q9Hw4/5JZ4U/wCwLZ/+iEo+I/8AySzxX/2Bbz/0Q9Hw4/5JZ4U/7Atn/wCiEoA6SiiigAooooAKKKKACiiigAooooAKKKKACiiigAooooAKKKKACiiigAooooAKKKKACiiigAooooAKKKKACiiigAooooAKKKKACiiigAooooAKKKKACiiigAooooAK82+Mn/Mhf9jnp3/tSvSa82+Mn/Mhf9jnp3/tSgD0miiigAooooAKKKKACiiigAooooAK5vxBpPi2+1BZfDvii00q1EYBgm0oXLFsnLbvMX24x2rpKKAOG/4R34jf9D9p3/hPj/49WhomjeMrPVo5td8W2epWSht9tFo4gZjjjD+a2MHB6c11NFABRRRQAVmav4a0LxA0R17RdP1MwgiM3lqk2zPXG4HGcCtOigDO0jw9ovh+OVNB0ix0xJiDItnbJCHI6E7QM1o0UUAFFFFABRRRQAUUUUAFFFFABRRRQBieI9P8Q38cA8Na9b6OyE+cZ9PF15g4xj512459c5rB/wCEd+I3/Q/ad/4T4/8Aj1dzRQBxlpoHj+K9hku/HFhPArgyxLoQQuueV3edxkd67OiigAooooAKKKKACiiigAooooAKKKKACiiigAooooAKKKKACiiigAooooAKKKKACiiigArzb9oP/khPiH/t2/8ASmKvSa82/aD/AOSE+If+3b/0pioA9JooooAKKKKACiiigAooooAKKKKACiiigAooooAKKKKACiiigAooooAKKKKACiiigAooooAKKKKACiiigAooooAKKKKACiiigAooooAKKKKAPNvjJ/zIX/Y56d/7Ur0mvNvjJ/zIX/Y56d/7Ur0mgAooooAKKKKACiiigAooooAKKKKACiiigAooooAKKKKACiiigAooooAKKKKACiiigAooooAKKKKACiiigAooooAKKKKACiiigAooooAKKKKAPNv+bpv+5M/9va9Jrzb/AJum/wC5M/8Ab2vSaACiiigDm/iP/wAks8V/9gW8/wDRD0fDj/klnhT/ALAtn/6ISj4j/wDJLPFf/YFvP/RD0fDj/klnhT/sC2f/AKISgDpKKKKACiiigAooooAKKKKACiiigAooooAKKKKACiiigAooooAKKKKACiiigAooooAKKKKACiiigAooooAKKKKACiiigAooooAKKKKACiiigAooooAKKKKACiiigArzb4yf8yF/2Oenf+1K9Jrzb4yf8yF/2Oenf+1KAPSaKKKACiiigAooooAKKKKACiiigAooooAKKKKACiiigAooooAKKKKACiiigAooooAKKKKACiiigAooooAKKKKACiiigAooooAKKKKACiiigAooooAKKKKACiiigAooooAKKKKACiiigAooooAKKKKACiiigArzb9oP/khPiH/t2/8ASmKvSa82/aD/AOSE+If+3b/0pioA9JooooAKKKKACiiigAooooAKKKKACiiigAooooAKKKKACiiigAooooAKKKKACiiigAooooAKKKKACiiigAooooAKKKKACiiigAooooAKKKKAPNvjJ/zIX/Y56d/7Ur0mvNvjJ/zIX/Y56d/7Ur0mgAooooAKKKKACiiigAooooAKKKKACiiigAooooAKKKKACiiigAooooAKKKKACiiigAooooAKKKKACiiigAooooAKKKKACiiigAooooAKKKKAPNv+bpv+5M/9va9Jrzb/AJum/wC5M/8Ab2vSaACiiigDm/iP/wAks8V/9gW8/wDRD0fDj/klnhT/ALAtn/6ISj4j/wDJLPFf/YFvP/RD0fDj/klnhT/sC2f/AKISgDpKKKKACiiigAooooAKKKKACiiigAooooAKKKKACiiigAooooAKKKKACiiigAooooAKKKKACiiigAooooAKKKKACiiigAooooAKKKKACiiigAooooAKKKKACiiigArzb4yf8yF/2Oenf+1K9Jrzb4yf8yF/2Oenf+1KAPSaKKKACiiigAooooAKKKKACiiigAooooAKKKKACiiigAooooAKKKKACiiigAooooAKKKKACiiigAooooAKKKKACiiigAooooAKKKKACiiigAooooAKKKKACiiigAooooAKKKKACiiigAooooAKKKKACiiigArzb9oP/khPiH/t2/8ASmKvSa82/aD/AOSE+If+3b/0pioA9JooooAKKKKACiiigAooooAKKKKACiiigAooooAKKKKACiiigAooooAKKKKACiiigAooooAKKKKACiiigAooooAKKKKACiiigAooooAKKKKAPNvjJ/zIX/Y56d/7Ur0mvNvjJ/zIX/Y56d/7Ur0mgAooooAKKKKACiiigAooooAKKKKACiiigAooooAKKKKACiiigAooooAKKKKACiiigAooooAKKKKACiiigAooooAKKKKACiiigAooooAKKKKAPNv+bpv+5M/9va9Jrzb/AJum/wC5M/8Ab2vSaACiiigDm/iP/wAks8V/9gW8/wDRD0fDj/klnhT/ALAtn/6ISj4j/wDJLPFf/YFvP/RD0fDj/klnhT/sC2f/AKISgDpKKKKACiiigAooooAKKKKACiiigAooooAKKKKACiiigAooooAKKKKACiiigAooooAKKKKACiiigAooooAKKKKACiiigAooooAKKKKACiiigAooooAKKKKACiiigArzb4yf8yF/2Oenf+1K9Jrzb4yf8yF/2Oenf+1KAPSaKKKACiiigAooooAKKKKACiiigAooooAKKKKACiiigAooooAKKKKACiiigAooooAKKKKACiiigAooooAKKKKACiiigAooooAKKKKACiiigAooooAKKKKACiiigAooooAKKKKACiiigAooooAKKKKACiiigArzb9oP/khPiH/t2/8ASmKvSa82/aD/AOSE+If+3b/0pioA9JooooAKKKKACiiigAooooAKKKKACiiigAooooAKKKKACiiigAooooAKKKKACiiigAooooAKKKKACiiigAooooAKKKKACiiigAooooAKKKKAPNvjJ/zIX/Y56d/7Ur0mvNvjJ/zIX/Y56d/7Ur0mgAooooAKKKKACiiigAooooAKKKKACiiigAooooAKKKKACiiigAooooAKKKKACiiigAooooAKKKKACiiigAooooAKKKKACiiigAooooAKKKKAPNv+bpv+5M/9va9Jrzb/AJum/wC5M/8Ab2vSaACiiigDm/iP/wAks8V/9gW8/wDRD15/4K8X/EW28A+H4NP+F3260i0y2SC6/wCEgt4/PQRKFfYVyuRg4PIzivQPiP8A8ks8V/8AYFvP/RD0fDj/AJJZ4U/7Atn/AOiEoA5r/hNvid/0SP8A8uW2/wDiaP8AhNvid/0SP/y5bb/4mvSaKAPNv+E2+J3/AESP/wAuW2/+Jo/4Tb4nf9Ej/wDLltv/AImvSaKAPNv+E2+J3/RI/wDy5bb/AOJo/wCE2+J3/RI//Lltv/ia9JooA82/4Tb4nf8ARI//AC5bb/4mj/hNvid/0SP/AMuW2/8Aia9JooA82/4Tb4nf9Ej/APLltv8A4mj/AITb4nf9Ej/8uW2/+Jr0migDzb/hNvid/wBEj/8ALltv/iaP+E2+J3/RI/8Ay5bb/wCJr0migDzb/hNvid/0SP8A8uW2/wDiaP8AhNvid/0SP/y5bb/4mvSaKAPNv+E2+J3/AESP/wAuW2/+Jo/4Tb4nf9Ej/wDLltv/AImvSaKAPNv+E2+J3/RI/wDy5bb/AOJo/wCE2+J3/RI//Lltv/ia9JooA82/4Tb4nf8ARI//AC5bb/4mj/hNvid/0SP/AMuW2/8Aia9JooA82/4Tb4nf9Ej/APLltv8A4mj/AITb4nf9Ej/8uW2/+Jr0migDzb/hNvid/wBEj/8ALltv/iaP+E2+J3/RI/8Ay5bb/wCJr0migDzb/hNvid/0SP8A8uW2/wDiaP8AhNvid/0SP/y5bb/4mvSaKAPNv+E2+J3/AESP/wAuW2/+Jo/4Tb4nf9Ej/wDLltv/AImvSaKAPNv+E2+J3/RI/wDy5bb/AOJo/wCE2+J3/RI//Lltv/ia9JooA82/4Tb4nf8ARI//AC5bb/4mj/hNvid/0SP/AMuW2/8Aia9JooA82/4Tb4nf9Ej/APLltv8A4mj/AITb4nf9Ej/8uW2/+Jr0migDzb/hNvid/wBEj/8ALltv/iaP+E2+J3/RI/8Ay5bb/wCJr0migDzb/hNvid/0SP8A8uW2/wDiaP8AhNvid/0SP/y5bb/4mvSaKAPNv+E2+J3/AESP/wAuW2/+Jo/4Tb4nf9Ej/wDLltv/AImvSaKAPNv+E2+J3/RI/wDy5bb/AOJo/wCE2+J3/RI//Lltv/ia9JooA82/4Tb4nf8ARI//AC5bb/4mj/hNvid/0SP/AMuW2/8Aia9JooA82/4Tb4nf9Ej/APLltv8A4mj/AITb4nf9Ej/8uW2/+Jr0migDzb/hNvid/wBEj/8ALltv/ia4n4l+KfHd7/wiX9r/AA6/szyPE1lNa/8AE8gm+1Trv2QfKPk3ZPzngY5r3+vNvjJ/zIX/AGOenf8AtSgA/wCE2+J3/RI//Lltv/iaP+E2+J3/AESP/wAuW2/+Jr0migDzb/hNvid/0SP/AMuW2/8AiaP+E2+J3/RI/wDy5bb/AOJr0migDzb/AITb4nf9Ej/8uW2/+Jo/4Tb4nf8ARI//AC5bb/4mvSaKAPNv+E2+J3/RI/8Ay5bb/wCJo/4Tb4nf9Ej/APLltv8A4mvSaKAPNv8AhNvid/0SP/y5bb/4mj/hNvid/wBEj/8ALltv/ia9JooA82/4Tb4nf9Ej/wDLltv/AImj/hNvid/0SP8A8uW2/wDia9JooA82/wCE2+J3/RI//Lltv/iaP+E2+J3/AESP/wAuW2/+Jr0migDzb/hNvid/0SP/AMuW2/8AiaP+E2+J3/RI/wDy5bb/AOJr0migDzb/AITb4nf9Ej/8uW2/+Jo/4Tb4nf8ARI//AC5bb/4mvSaKAPNv+E2+J3/RI/8Ay5bb/wCJo/4Tb4nf9Ej/APLltv8A4mvSaKAPNv8AhNvid/0SP/y5bb/4mj/hNvid/wBEj/8ALltv/ia9JooA82/4Tb4nf9Ej/wDLltv/AImj/hNvid/0SP8A8uW2/wDia9JooA82/wCE2+J3/RI//Lltv/iaP+E2+J3/AESP/wAuW2/+Jr0migDzb/hNvid/0SP/AMuW2/8AiaP+E2+J3/RI/wDy5bb/AOJr0migDzb/AITb4nf9Ej/8uW2/+Jo/4Tb4nf8ARI//AC5bb/4mvSaKAPNv+E2+J3/RI/8Ay5bb/wCJo/4Tb4nf9Ej/APLltv8A4mvSaKAPNv8AhNvid/0SP/y5bb/4mj/hNvid/wBEj/8ALltv/ia9JooA82/4Tb4nf9Ej/wDLltv/AImj/hNvid/0SP8A8uW2/wDia9JooA82/wCE2+J3/RI//Lltv/iaP+E2+J3/AESP/wAuW2/+Jr0migDzb/hNvid/0SP/AMuW2/8AiaP+E2+J3/RI/wDy5bb/AOJr0migDzb/AITb4nf9Ej/8uW2/+Jo/4Tb4nf8ARI//AC5bb/4mvSaKAPNv+E2+J3/RI/8Ay5bb/wCJo/4Tb4nf9Ej/APLltv8A4mvSaKAPNv8AhNvid/0SP/y5bb/4mj/hNvid/wBEj/8ALltv/ia9JooA82/4Tb4nf9Ej/wDLltv/AImj/hNvid/0SP8A8uW2/wDia9JooA82/wCE2+J3/RI//Lltv/iaP+E2+J3/AESP/wAuW2/+Jr0migDzb/hNvid/0SP/AMuW2/8AiaP+E2+J3/RI/wDy5bb/AOJr0migDzb/AITb4nf9Ej/8uW2/+Jo/4Tb4nf8ARI//AC5bb/4mvSaKAPNv+E2+J3/RI/8Ay5bb/wCJo/4Tb4nf9Ej/APLltv8A4mvSaKAPNv8AhNvid/0SP/y5bb/4mj/hNvid/wBEj/8ALltv/ia9JooA82/4Tb4nf9Ej/wDLltv/AImuJ+MXinx3qPwn1m1174df2Np8nkebff25BceVieMj92oy2WAXjpnPavf682/aD/5IT4h/7dv/AEpioAP+E2+J3/RI/wDy5bb/AOJo/wCE2+J3/RI//Lltv/ia9JooA82/4Tb4nf8ARI//AC5bb/4mj/hNvid/0SP/AMuW2/8Aia9JooA82/4Tb4nf9Ej/APLltv8A4mj/AITb4nf9Ej/8uW2/+Jr0migDzb/hNvid/wBEj/8ALltv/iaP+E2+J3/RI/8Ay5bb/wCJr0migDzb/hNvid/0SP8A8uW2/wDiaP8AhNvid/0SP/y5bb/4mvSaKAPNv+E2+J3/AESP/wAuW2/+Jo/4Tb4nf9Ej/wDLltv/AImvSaKAPNv+E2+J3/RI/wDy5bb/AOJo/wCE2+J3/RI//Lltv/ia9JooA82/4Tb4nf8ARI//AC5bb/4mj/hNvid/0SP/AMuW2/8Aia9JooA82/4Tb4nf9Ej/APLltv8A4mj/AITb4nf9Ej/8uW2/+Jr0migDzb/hNvid/wBEj/8ALltv/iaP+E2+J3/RI/8Ay5bb/wCJr0migDzb/hNvid/0SP8A8uW2/wDiaP8AhNvid/0SP/y5bb/4mvSaKAPNv+E2+J3/AESP/wAuW2/+Jo/4Tb4nf9Ej/wDLltv/AImvSaKAPNv+E2+J3/RI/wDy5bb/AOJo/wCE2+J3/RI//Lltv/ia9JooA82/4Tb4nf8ARI//AC5bb/4mj/hNvid/0SP/AMuW2/8Aia9JooA82/4Tb4nf9Ej/APLltv8A4mj/AITb4nf9Ej/8uW2/+Jr0migDzb/hNvid/wBEj/8ALltv/iaP+E2+J3/RI/8Ay5bb/wCJr0migDzb/hNvid/0SP8A8uW2/wDiaP8AhNvid/0SP/y5bb/4mvSaKAPNv+E2+J3/AESP/wAuW2/+Jo/4Tb4nf9Ej/wDLltv/AImvSaKAPNv+E2+J3/RI/wDy5bb/AOJo/wCE2+J3/RI//Lltv/ia9JooA82/4Tb4nf8ARI//AC5bb/4mj/hNvid/0SP/AMuW2/8Aia9JooA8A+Jfinx3e/8ACJf2v8Ov7M8jxNZTWv8AxPIJvtU679kHyj5N2T854GOa7b/hNvid/wBEj/8ALltv/iaPjJ/zIX/Y56d/7Ur0mgDzb/hNvid/0SP/AMuW2/8AiaP+E2+J3/RI/wDy5bb/AOJr0migDzb/AITb4nf9Ej/8uW2/+Jo/4Tb4nf8ARI//AC5bb/4mvSaKAPNv+E2+J3/RI/8Ay5bb/wCJo/4Tb4nf9Ej/APLltv8A4mvSaKAPNv8AhNvid/0SP/y5bb/4mj/hNvid/wBEj/8ALltv/ia9JooA82/4Tb4nf9Ej/wDLltv/AImj/hNvid/0SP8A8uW2/wDia9JooA82/wCE2+J3/RI//Lltv/iaP+E2+J3/AESP/wAuW2/+Jr0migDzb/hNvid/0SP/AMuW2/8AiaP+E2+J3/RI/wDy5bb/AOJr0migDzb/AITb4nf9Ej/8uW2/+Jo/4Tb4nf8ARI//AC5bb/4mvSaKAPNv+E2+J3/RI/8Ay5bb/wCJo/4Tb4nf9Ej/APLltv8A4mvSaKAPNv8AhNvid/0SP/y5bb/4mj/hNvid/wBEj/8ALltv/ia9JooA82/4Tb4nf9Ej/wDLltv/AImj/hNvid/0SP8A8uW2/wDia9JooA82/wCE2+J3/RI//Lltv/iaP+E2+J3/AESP/wAuW2/+Jr0migDzb/hNvid/0SP/AMuW2/8AiaP+E2+J3/RI/wDy5bb/AOJr0migDzb/AITb4nf9Ej/8uW2/+Jo/4Tb4nf8ARI//AC5bb/4mvSaKAPNv+E2+J3/RI/8Ay5bb/wCJo/4Tb4nf9Ej/APLltv8A4mvSaKAPNv8AhNvid/0SP/y5bb/4mj/hNvid/wBEj/8ALltv/ia9JooA82/4Tb4nf9Ej/wDLltv/AImj/hNvid/0SP8A8uW2/wDia9JooA82/wCE2+J3/RI//Lltv/iaP+E2+J3/AESP/wAuW2/+Jr0migDzb/hNvid/0SP/AMuW2/8AiaP+E2+J3/RI/wDy5bb/AOJr0migDzb/AITb4nf9Ej/8uW2/+Jo/4Tb4nf8ARI//AC5bb/4mvSaKAPG/Cmqa7q/7SUk/ifw5/wAI9dr4SKJa/bkut6fbFIfegAGSWGOvy5717JXm3/N03/cmf+3tek0AFFFFAHN/Ef8A5JZ4r/7At5/6Iej4cf8AJLPCn/YFs/8A0QlHxH/5JZ4r/wCwLef+iHo+HH/JLPCn/YFs/wD0QlAHSUUUUAFFFFABRRRQAUUUUAFFFFABRRRQAUUUUAFFFFABRRRQAUUUUAFFFFABRRRQAUUUUAFFFFABRRRQAUUUUAFFFFABRRRQAUUUUAFFFFABRRRQAUUUUAFFFFABXm3xk/5kL/sc9O/9qV6TXm3xk/5kL/sc9O/9qUAek0UUUAFFFFABRRRQAUUUUAFFFFABRRRQAUUUUAFFFFABRRRQAUUUUAFFFFABRRRQAUUUUAFFFFABRRRQAUUUUAFFFFABRRRQAUUUUAFFFFABRRRQAUUUUAFFFFABRRRQAUUUUAFFFFABRRRQAUUUUAFFFFABXm37Qf8AyQnxD/27f+lMVek15t+0H/yQnxD/ANu3/pTFQB6TRRRQAUUUUAFFFFABRRRQAUUUUAFFFFABRRRQAUUUUAFFFFABRRRQAUUUUAFFFFABRRRQAUUUUAFFFFABRRRQAUUUUAFFFFABRRRQAUUUUAebfGT/AJkL/sc9O/8Aalek15t8ZP8AmQv+xz07/wBqV6TQAUUUUAFFFFABRRRQAUUUUAFFFFABRRRQAUUUUAFFFFABRRRQAUUUUAFFFFABRRRQAUUUUAFFFFABRRRQAUUUUAFFFFABRRRQAUUUUAFFFFAHm3/N03/cmf8At7XpNebf83Tf9yZ/7e16TQAUUUUAc38R/wDklniv/sC3n/oh6Phx/wAks8Kf9gWz/wDRCUfEf/klniv/ALAt5/6Iej4cf8ks8Kf9gWz/APRCUAdJRRRQAUUUUAFFFFABRRRQAUUUUAFFFFABRRRQAUUUUAFFFFABRRRQAUUUUAFFFFABRRRQAUUUUAFFFFABRRRQAUUUUAFFFFABRRRQAUUUUAFFFFABRRRQAUUUUAFebfGT/mQv+xz07/2pXpNebfGT/mQv+xz07/2pQB6TRRRQAUUUUAFFFFABRRRQAUUUUAFFFFABRRRQAUUUUAFFFFABRRRQAUUUUAFFFFABRRRQAUUUUAFFFFABRRRQAUUUUAFFFFABRRRQAUUUUAFFFFABRRRQAUUUUAFFFFABRRRQAUUUUAFFFFABRRRQAUUUUAFebftB/wDJCfEP/bt/6UxV6TXm37Qf/JCfEP8A27f+lMVAHpNFFFABRRRQAUUUUAFFFFABRRRQAUUUUAFFFFABRRRQAUUUUAFFFFABRRRQAUUUUAFFFFABRRRQAUUUUAFFFFABRRRQAUUUUAFFFFABRRRQB5t8ZP8AmQv+xz07/wBqV6TXm3xk/wCZC/7HPTv/AGpXpNABRRRQAUUUUAFFFFABRRRQAUUUUAFFFFABRRRQAUUUUAFFFFABRRRQAUUUUAFFFFABRRRQAUUUUAFFFFABRRRQAUUUUAFFFFABRRRQAUUUUAebf83Tf9yZ/wC3tek15t/zdN/3Jn/t7XpNABRRRQBzfxH/AOSWeK/+wLef+iHo+HH/ACSzwp/2BbP/ANEJR8R/+SWeK/8AsC3n/oh6Phx/ySzwp/2BbP8A9EJQB0lFFFABRRRQBh+KfGGi+DNPivfENy1vBNL5SMsTPlsE4woPYGtHStUs9b0m21LTJhPaXUYkikAI3A+x5H0ryn9o6NZvCOjRuSFfU1UkehRqsfA/UJ9NTWvA+pvm60S6Yw5/iiY9R7Z5/wCBiiPvX/rtf8wlpZ/11/yPWGYIpZiAoGST2rmvDHxD8N+MNQubLw/fNdTWq75AYXQYzjILAA81kfGTxM3hz4c3gtmIvdRIs7cL1y/3iPoufxxXn3wJ0aTw98S/EOlTnM1tYxLL7OSpYfgSRRD3pNf1tf8AyCXuxTPfqK4Hxf8AFKLQfECeHdA0i48Qa4y7mtbdtqxDGfmbBwcc4x06kVS0j4uTJ4jttD8c+HLnw1d3ZxbSySeZFKc4A3YGOeO4z1xQve2B6bnpdNlkEULyMCQiliB7VjeLvFmm+DPD02r6u7CKMhUjQZeVz0VR6158nxd1+TTH1LVPh/qNrocsZP22OXzGRCOHKbR8vfP86mT0diktVc7jwP43sfHmiy6nplvcW8UU7QFbgKGJABzwTx81dJXkf7OJz8O709v7Sk/9ASr+ofFy6vdbutN8BeF7nxIbJttxdJKIoVb0Bwc9PbOOM1pKydvL9CI6pvz/AFPTa5iw8dWGofELUPCEVtcre2MImkmYL5bDC8DnOfnHaqfgb4j2vjG5vNNutPn0jWrH/j40+4OWUdMg4GR07DqK5Dw1/wAnTeJ/+wev8oalfGl0s2Dfut+n5nsVc14r+IPhrwXsXX9RWGeQbkt41MkjD12joPc4FdLXn/h34cTWnxH1vxX4jltdQmu3/wBAGCxtkyf7wwDtCjI9/Wlq3YrZXL3hf4r+EfF1+LHStRK3jfcguIzGz/7ueCfYHNdlXi3x6sbVNQ8L3WlxqniCTUFSB4hiR1GOuOuG24+pr2gZ2jd1xzVLWN/Owno7C1yXh/xyPFHi7UNP0axabSNOUxy6pu+R7jI+RB3AGcn6dsZpfGLxLL4Z+G19NaOUu7si0gYHlS/Uj3Chq2PAPh2Lwt4G0zS4kCukKvOcctKwy5P4n9BSjrd9vz/4AS0su/5HRUV5jffFy+vdevdL8CeFbnxF9gfZcXQmEUSt6A4Oeh7jOOM1reB/iZb+LdSu9Gv9MuNF1uzG6axuDnK8ZKnAz1HYdR1oWuwPTc7iiuD8XfE+PQtfTw9oGkXHiDXWXe1pbttWFcZy7YOOOenTqRVfw38VJbzxRF4b8X+H7jw5qlwubYSyeZHP7BsDnjjqOMZzxQve2B6bnolFcj4/+Ien+ArCBrmCS9vrttlrZQnDSn1zzgcgdDyelcrc/GHXdC02S+8W+Ar/AE23ZCYJln3qXx8qP8vyZ6ZP5UrodmesUVxjfEJF+E48b/2axTyBN9j87n7+3G/b+PSt7wxrY8SeF9P1lYDbi9gWURF92zPbOBn8qqzTa7E3TSfc1aK5Dwt4+TxN4v8AEGhLp7Wx0WXyzMZt3nfMVzjAx09TWZ4j+KjWfiSTw74R0G58SatAM3CQvsjg9mbB5/Ids54qb7eY+r8j0KiuC8IfE8a74ik8OeIdFuPD+uIm9Lad96zLjOVbA7c9Onc1W8SfGC18NeObjw1Po11dzJArwNatve4kYArGExx1657U+3mHfyPRqK8nb4zano+sWkHjXwXd6HY3kmyK7afzAp9xtA9zzkDsaj+Ouv6pD4R1DSYPD1xPp08ETyaqsoEcR8wHaVxz0Hf+KlJ2VxxV3Y9cJwMnpWD4X8Z6J4xiu5NAumuFs5fKl3RsmD2IyOQa5j4Qa/quo+E7Cwv/AA7cafaWdhEIL2SUMt0MYyowMcc9TVz4YeKdM8UWOrS6ToNvoq296Y5Uh24mfGS52qvP1zVtWk1/W5Kd4p/1sdzRXmN18XL7U9Yu7DwD4UuvESWb7J7sTCGIN6KSDn8xn0rW8D/EuHxZql5ouo6XcaJrdkN0tlO27K8cqcDPUdu461K12G9NzRi8d2E3xGm8GrbXIvYbfz2mIXyyuAcdc559Kh0HxwL/AMX6l4Y1myOm6pas0lujPuW7gz8sin1x1H/18cVZf8nYX/8A2DB/6AlXfjjaS6Zp+keNNMGzUNEvEy4/iiY4Kn2zgf8AAjSTSUW+v+dh2bckun+Vz1Wiq2nX0Wp6Xa31ucxXUKTJ9GAI/nVmqaadmSndXQUUUUhhXm3xk/5kL/sc9O/9qV6TXm3xk/5kL/sc9O/9qUAek0UUUAFFFFABRRRQAUUUUAFFFFABRRRQAUUUUAFFFFABRVUapp7agbBb62N4OtuJl8wcZ+7nPTmrVABRRRQAUUUUAFFFMmmjt4XmnkSKJAWd3YBVHqSelAD6KpWWs6ZqUjR6dqNpduo3MsE6uQPUgGrtABRRRQAUUUUAFFFFABRRRQAUUUUAFFFFABRRRQAUUUUAFFFFABRRRQAUUUUAFFFFABRRRQAUUUUAFFFFABRRRQAV5t+0H/yQnxD/ANu3/pTFXpNebftB/wDJCfEP/bt/6UxUAek0UUUAFFFFABRRRQAUUUUAFFFFABRRRQAUUUUAFFFFABRRRQAUUUUAFFFFABRRRQAUUUUAFFFFABRRRQAUUUUAFFFFABRRRQAUUUUAFFFFAHm3xk/5kL/sc9O/9qV6TXm3xk/5kL/sc9O/9qV6TQAUUUUAFFFFABRRRQAUUUUAFFFFABRRRQAUUUUAFFFFABRRRQAUUUUAFFFFABRRRQAUUUUAFFFFABRRRQAUUUUAFFFFABRRRQAUUUUAFFFFAHm3/N03/cmf+3tek15t/wA3Tf8Acmf+3tek0AFFFFAHN/Ef/klniv8A7At5/wCiHo+HH/JLPCn/AGBbP/0QlHxH/wCSWeK/+wLef+iHo+HH/JLPCn/YFs//AEQlAHSUUUUAFFFFAHjv7R52+ENGI7amp/8AHGpvjnPgj4teHPGcfyWWpKLDUSOnQAMfwwf+2dbXxs8J614u8N6ba+HrL7ZNBfCWRfNSPau1hnLkDqRW98Q/CZ8X/D290iNAbvyxJbZIGJV5UZ6DPIz70k+Vc3Z/hZXG1zNR7r9dDida/wCK++P+n6Sv7zS/DMX2m47q0xwQPz2D8Gpnw6Yt+0D46J9CP/HxW98GvA+o+EfD95c+I4yms6jOXn3SLIwVeFBZSQepPXvUXgrwjrekfGDxZreoWXk6dqGfss3mo3mfOD90MSOPUCqiuWSXk/vf9W+RMm5Rb819y/q5j/BJFvfGPjnVLsbr9tQ8os33lXe5x9MgfkKv/tDWsEnwzW6kAFxa3kTQP3BOQQD9P5VFrHhLxV4L8e3virwBaQ6paapzf6XJIEbdnJZSSO+T6jJ4IqpqHh/xv8VtWsIvFukx+HPDtnKJpLbzxJLcMO3HtkZIGMnrUW5oxS6W+Vi78spS73/EofFOaTVm+GdrqeTb300T3St0Zj5QOfwZvzr2y+RTplwhUFPJYbccYx0rj/if4Cfxp4Wht9LkS11LT5BPYuThQQMbc9geOexArnIdc+LmqaadEl8LWlhdunky6vLcKY1GMFwgJyfpnntTn70ZRXd/j/kTFcri30S/Aw/hLczWXwB8VXNqSs0L3TIV6giFcGqPwp1zxvo/gSCPwx4Ih1OzmlkkN4b1EMrbsHIJyMYx+Fd38HvBmp+HPAOoaN4qsRA9zdSExGVHDxsirnKkjnB96wdG0fx/8KLi607QNHj8T+H5pTLbqJxHLCT2Of14I4zxk1bfvvzS/AW8fRsPD+k+NtR+Ntn4q1nwuNGtmtmt7ox3McisNjAE4bPXaOnYVN4a/wCTpvE//YPX+UNdR4Pk8f6r4gm1XxZDbaNpfk+XBpMZWVy2fvs46H/OBWfofhPWrP4+a74jubLZpN3ZiKG481DvbEXG0HcPut1HalHSUfR/iEtYv5foelVj+KfE+m+EPD8+r6xLshiGFQfelfsijuT/APXrYrw3xv4e+IWvfEldSk8LxaxoumyH+z7SS+hjif0dlL5JJ5wcdAOlS7t2KW1za+H/AIb1TxX4m/4WJ40j8uZ1xpNg3S2i7Nj1wePqT6V6xXl48UfF0DA+Hth/4M4v/jlejaXLeT6Tay6pbra3rwq08CsGEbkfMoIyDg8ZqummyJ667nlP7QxJ0Xw4jf6ptVXf/wB8n/69evgDbjtivO/jloUutfDO4mtVLT6bKt4oA5wuQ35KSfwrq/DGrweKPBmn6jG25L21UvtP3WIww+oOR+FSvhl6/ml/kOXxR9Pyf/BPMrDwx48+F2qak3hHT7TxDol9ObgwPII54z6ckc4443Zx0Fb3grxf4d8U+NLj7d4dfQ/F8EWJUuo/3jIAAQr4BPGOCBx61iaVb/Ej4a3F5p9lpH/CXaRLMZbec3e2aPPY7snoBxgj0NaHg7wn4n1b4ly+O/GVnBpUi2/kWthDIHYDGMsQSOhPvk9Biqj07W+7T+kEuve/36/0zhPAut+K7bx14w1Lw74YTXbqa9ZJ5ZLlYjCN74UZPQ4/8dFa3i20+JHjTVtCurnwQunS6VdrMs8V7G5xlSR97/ZBrd1fwh4s8E+Pb7xT8P7WHVLPVPmvtLkkCHdnJZSSO+SMcjJGCK0tM1L4m+J/EFi9xpMHhTSLeQPciWRZ5bkd0A7A+uBjrk4xSp7R8rfKwT3l53/ExNcRb/8Aao0SC+AaK20/zIFbpuCyMD9c8/hXa/FlQ3wn8QBgCPspPI9xWN8TvA+s6nrOleLPBjR/27pRwIZGCiePOduTgd2GCRkMea5Xx3r/AMRde+H2qQ6j4Wt9BsYoN17cS3IkaVQR8sajkZP1471EtaTj6/53Lj/EUvT8Ohal/wCTSB/14L/6Orvvhd/ySvw7/wBeKVz/AIO0FfFH7O9jorSeV9s09o1cj7rbiVP5gVg+Gb74q+EtDh8MR+Dre/NqDFbXzXarGEzwW55Az7HHatp6VJru/wDMxj8EX/XQk+F7FPi38RWUZK3BIH/bR65H4S674xsrPWL3w34Tj1x7y9LXN292sbBsZ24Jz/ET+Nd58JvB3inw74u8Taj4sgj3aiyutzHKjLM25ixCg5A57gVT/wCEW8ZfDPxXqOo+BtOi1zQ9Tk82XT2lEbwtknjP1IBGeOo4zWcfdUU/5bFvVyt3v+BQvrD4g+KPiR4Z13UPBw0oaZcKs00d3G+6IsM5+bPA3fmavQxo/wC1lOXVWKaYGUkZwfLUZH5mug8P3vxH8Q+KLa91jT7fw1oluG8yzLrPLdEjoT2x68fjUUPhPWl/aFn8TNZY0h7DyVufNTl9gGNud3UelVHRxXr+KYnrd+n5ooftGKD8M4SQCV1CLB9PletH4rkn4DX5JyTa2+T/AMDjqb40eGNX8W+BY9P8P2n2u6F5HKY/NRPlAbJyxA7itTxl4Zu/Efwtu9Bt9qXktpGqB243ptbaT7lcZrNr93L1X5Gi/iQfl+pP8Ov+SY+Hv+wdD/6AK4H9n1kTQfEzTECNdSYsW6Abea6H4V3Hi2DSI9C8UeHf7Ng0y1WGG684N55HAGAT279Kp/CTwXq/h/QPENj4ksjaf2hdu0YEyOWjZcZypOPxrWbvOcl1Tt96MoK0Yp9GvyZm+HvFviDXWvE+EnhLRdP0SGcqbu9UxJO+BlgkeDnGPXtn0rI8NnXv+GmgfFS6emotpzbxp2/yiuz5fvc5qfw1YfEr4Xx3WgaT4ct9f0552ltblZwmM8c88dBwcc55q14Y8H+PIfjRb+KvFFpbzR3Nsyzy2syBLbKkLGFLbjjCjIB69T1pRtzJrt+g5Xs/66ktl/ydhf8A/YMH/oCV1XxmVW+EOu7+giQj6+YuKzbXwnrUf7Ql34meyxpElgIVufNTl9qjG3O7qD2qL4737t4LtfD9kPMvtcvI7eKIdWAYMT+e0fjWck3TjFb7fiy4u1Ry/rRI6b4Zs7fC/wAOmT732CMc+mOP0rqao6JpqaNoNhpkRylnbxwA+u1QM/pV6tptObaMoK0UmFFFFQWFebfGT/mQv+xz07/2pXpNebfGT/mQv+xz07/2pQB6TVXU79dL0ye9e3ublYE3GG0hMsr+yoOSfarVB6UnsB55b/Gnw7d2ovLPT9buNPjOLy+SxPk2JzgiUk5BHU7Q2AecVftPilot5q1tbQ2eqCwu7j7Nbaw1riynl6BVkzk5IwDjaT0Nc9ocSR/s0alsRV3adqLNgYyd0vJrQ8VRpF8L/DSRIqIt7pIVVGAB50XSmtZW84r73b8LBLRff+H+Z2PiDxHpnhfTPt2s3HkxFxHGioXkmc9ERBksx9BXNf8AC1LK22y614a8S6NYkgG/v9PCwpnoXKszIPdgPesrxwmuv8XfDi6NNpcL/wBn3JszqsMkkXnbl37QjLh9nQ+m6tSWz+KM0TxTX3g6SN1KsjafckMD1BHm0le1/wCuw3a9juIpUmhSWF1kjdQyOpyGB6EHuK4+7+JEMd3NDpvhfxNqywuUea000rHkHBw0rJu59M1N4dtZ/h/8M9niC5iuBpME0ztaowURKWcIoYk4VcKMnsKy7GL4k+IrWLUzrWkeHILhBJDYpp5vHVCMgSOZFG7HXaMU38WgltqdT4b8Taf4p097rTTMhhkMNxb3MRimt5B1R0PIPIrG1r4naD4e16bSNYj1C2uEj8yFms3KXZyo2Qkf6xsuBhQe/pWb8OF1GPxh41j1q7tLy9W7thLNaRGJGP2dcfKWbBxjPPWrmrW0E/xs8PPPCkjQ6ReSRFlB2N5kIyPQ4JGfejeUV3/yuH2W+3+dibTfiPZXer2unanomuaFLetstJNVtBFHO+M7AyswDEdA2Ca7CuN+KAB8L2LEcrrOnlT6H7THzXZULVX87fgn+obP+vMKKKRmCqWbgAZNGwHK6t4+g07VJtPsvD/iDWLi3O2X+z9PJjQ4zjzHKoeD2Jq74a8X2Hic3MNvBeWN9ZlRc2GoQGGeHd90leQQcHBBIrmNN1Dx144tV1fQ9S0zw5os5JshLZG7uJowcB3BdVXOMgDJA61H4Xh1q2+Muow+ItTstSul0OHbNaWxg+Xz3wGUu3PXoemKI7pP+tLhLZtf1rYd40GheHPiV4X8QXkNlYE/bGvL7ylV3VbfjcwGW9AOfQVcb4r6fAgur7w54lstLPJ1O400iBV/vsAxdV9yoqt8Q4dNn+Ifw+TWRGYPt9wYxJ90yiLMf/j2Me+K9CkVHjZZQpQghgw4I75pdLje423uIbu1jubaVJoJUDxyIwKupGQQe4xXGP8AFCzmmk/sPw74i1y1jcob3T7ENAxBwdrO678HjKgimfDOe2tfAF3L5ipo9vfXv2ORj8q2izPtIP8AdABx7AVQ0/wd4s0fT4V8B+NrZtFK+ZZWWpaesyxxt8wUSqwYrzxkdKfXy/z7i6f10Or8L+MdK8XR3h0k3AaxlENzFc27QvE5UNtKsAcjOD703xL400vwxNb2tyl1e6jdAm307T4DNcSgdWCjoo/vEge9ZngfUryXWtd0zxBpdjZa9btDPdz6exMN4jqVjkG75gcRlSD0x71H4QEUnxE8ay3mDqiXUEabvvLaeSpj2/7JYyH65o3dl2v+QbLUsaX8R9OvdXg0vVNM1fw/eXRxapq9qIluD/dR1ZlLf7Oc+1dVdWtvfWstrewRXFvMpSSKVA6Op6gg8Ee1cp8V0s2+GGsve4DRQeZat/EtwD+6K/7W/bjFdTYmY6fbm6GJzEvmD/awM/rRun/X9f8ADBs0cNpeh6ToXxqMOh6XZabFJ4fLOlnbpCrH7QBkhQMmu7upxa2k1w0ckoiQuUiQu7YGcKo5J9BXJn/kuC/9i6f/AEpFdjQruC+f/pTD7b+X5Iw/C/iyy8WW93LY219aPZz/AGeeC/tjBKj7Q3KnkcMKq6Z46sNT8UvoH9navZXgSSRGvbF4Y5lRgrFGb7wyw6etU/BH/I0eN/8AsMr/AOk0NN1ORD8atAjDqXXR71iueQDJDg4/A/lQtXHzX/ttweifk/1sUPi54xm8PeGLq1srTWhdSJG6X1jaSNFF+9UENKvCkgEY9x61eg+JttPPHF/wini9N7Bd8mhTBVz3JxwKf8Wf+SY6r9Yf/RyV2Q6CheYPyEd1jjZ5GCIoyzMcAD1NcQfinY3Du+heHfEWuWaMV+3adYBoHx12M7KXHuoI9Kk+Lv2v/hVGufYTh/JXzDgkCLevmZA5xs3Zx2zVSxt/iX/Z9v8A2dqPgv7J5S+R5Vhc7NmPl24lxjGKS1uPojqfDvibTPFOnG80iZnWNzHNFKhjlgkHVHRsFWHoa1q4rwt4b8T2XjS/13xHd6O32y0SCSLS7eWISOjZV23s2SFLLn0x6V2tUSFU9W1ew0LSp9S1e6jtLO3XdJLIeB/iT0AHJNXK84+K66k2qeD10+SxjjOqnLajG8luJvKbyd4VgfvZxz97bUspF0/FS2SP7TN4T8Vxadjcb99L/dhf75UN5gXHOdldjp2o2eradBf6bcR3VpcIHimibKup7iuQ+z/FX/oI+D//AAAuv/jtXvAPhzVfDWmX8Gs3FjK91fSXUcenxPHDCHALKqsSQN25uv8AEapEjR8RtIj8RS6RqFrqemPGk0gutQs2gt3SL77LI2Aw5ByPUVBpvxN0vVNRtoYdK1uOxvJRFa6pNYMlrOx+7hs7gD2JUA+tUfGui6fr3xQ8G2ur2yXVukV7N5MnKsyiIruHcA84PHFeggAAADAHQClHZN/1qN+RheKPFdv4UtI7m807Vb2J9xY6dZPceUFGSz7fuj3NZV38T9Gj+yRaXZ6nrd5c2yXX2LTLbzZYYnUMrSZIVMg9CcnsK3fFH/Ioax/14z/+izWP8MdE07RPhzoy6ZapAbmyhuJ2HLSyMgJZieSf5DgcULW/lb8b/wCQPS3nf8Lf5m5o2u2euaJHqlp5sUDhty3MZieIqSGV1boQQQfpXLn4qWFw7vofh7xFrlkjFTf6dYB4GI4OxmZS4HqoPtVj4rvInwz1XazrCfKW5ZOogMqCX/xwt+FdVZR20VhBHYLGtqsaiFYsbAmPlxjtije7DYpeHvEml+KNLF/o1x50QcxyKylJInHVHQ8qw9DWZq3jvT9F8R2+j32n6spuZo4I70WL/ZS7/dHm/dzWfpqwxfG3WU03Ajk0iCTUAn3ftHmMIyf9ox5/ACo/izp9vquh6JYXyGS2udds4pUDFdylyCMjkcUb8rXVr87BtzJ9F+lySf4raIl1N9isNY1LT7d/LuNVsbIy2kJBwcvnLAdygYCu2VgyhlOQRkGorS0t7CzitLGCO3t4VCRxRKFVFHQADpU1ABRRRQAUUUUAFFFFABRRRQAUUUUAFebftB/8kJ8Q/wDbt/6UxV6TXm37Qf8AyQnxD/27f+lMVAHpNFFFABRRRQAUUUUAFFFFABRRRQAUUUUAFFFFABRRRQAUUUUAFFFFABRRRQAUUUUAFFFFABRRRQAUUUUAFFFFABRRRQAUUUUAFFFFABRRRQB5t8ZP+ZC/7HPTv/alek15t8ZP+ZC/7HPTv/alek0AFFFFABRRRQAUUUUAFFFFABRRRQAUUUUAFFFFABRRRQAUUUUAFFFFABRRRQAUUUUAFFFFABRRRQAUUUUAFFFFABRRRQAUUUUAFFFFABRRRQB5t/zdN/3Jn/t7XpNebf8AN03/AHJn/t7XpNABRRRQBzfxH/5JZ4r/AOwLef8Aoh6Phx/ySzwp/wBgWz/9EJR8R/8Aklniv/sC3n/oh6Phx/ySzwp/2BbP/wBEJQB0lFFFABRRRQAUUUUAFFFFABRRRQAUUUUAFFFFABRRRQAUUUUAFFFFADXRZY2jkUOjAqysMgg9q4rwb4R1PwV4gv7Cxmim8LXO64tonY+baSkjMY9VIyfw/Pt6KFo7g9VYKKKKACiiigArC8a6HP4l8F6po1nJHFPeQGNHlJ2qcjrgE1u0Umk1ZjTad0YHgfQbjwv4J0zRr2WKWezi2O8RO0nJPGQD3rfooqm23dkpWVkFFFFIYUUUUAFFFFABRRRQAUUUUAFcPpXg7Ub/AOINz4r8WyQySWpaDSLSE7kt4sn94c/xsOfbP0x3FFC0dw3VgooooAKKKKACvNvjJ/zIX/Y56d/7Ur0mvNvjJ/zIX/Y56d/7UoA9Jqrqdk2o6ZPZpeXNi0ybRcWrKssfupYEA/UGrVFG4HI6L8O7LRfB2oeGhrGrXthfRSRH7XLGzwK4YN5ZVABncTyDzT7jwBbXfgiHw1c63rEsUEscsV800f2lDG4dMN5e3AIH8PSuroo/4H4bB/X3mFq3hHT9d8PW+k6xJc3X2cI0V6ZdlykijAlDqBh++QB1PGOKw/8AhANclX7PdfEXxDJYjgRxrbxSkehmWPcfr1ruaKOodDK0/wANaVpnhv8AsG2ts6e0bxvFK7OZA+d5ZiSSTkkknvXMRfDjUreBdPtfHviCDR4xtjtE8nzETsgnKb8DoOc4713lFHW4dLHGeHvhlpfhXxBJqeg6lqtpFMQ02nidWt5mCbd77kLs38RJbrTr74dpfeMU8RnxR4ghuY8iOCKeEQohKlowDETtJQZGc+9djRR1T7B0sc14x8FQ+M4LWC61nVtOit5BKE0+WNA7qwZWbcjZKlQRjFb1lbGzsILZ7ia6aGNUM85BkkwMbmIABJ74Aqeuc1/SfFd9qCy+H/FNrpNqIwDBLpIuSWyctuMi+3GO1G2iDfU6Ojr1riP+Ec+If/RQLD/wnV/+P1f0XRvGNnqsc2t+LrPU7JQ2+2j0YW7MccYcStjBwenNAGaPhxe2DSW3hzxlrGjaVI7P/Z8KQyLFuOSIndCyDJPGTijT/hPpWkeIYda0rWNbtLwKq3TLdK/2/DbszF0ZmznHBHGAMV3VFC01QPXc43XfhnpfibxANT17UdUvYUVxFp0kyC3hLJtLIAgdW4BB3ZB5qrJ8Nr67i+wan458QXmjdDZM0SPIv9x5lQSMp6HnJ9a7yilYDPl0Sxfw5JocMItrB7ZrURwAL5cZXbhfTArk7f4b6jo9pFY+FvHGtaXp8aBFtZEguggA6I0iFlHtnA7YrvKKfW4dLGH4Y8KWfheG5MNxdX15eOJLu+vZPMmnYDAycAAAcBQABVfxJ4KtNfvoNTt7280fWLdDHFqNg4WTZnOxwQVdM84YH2xXSUUPUNjjbD4el9VttR8V+IdR8ST2b+ZaxXSxxQQuOjiKNQpcdic47V0Ou6RJremGzi1W/wBKYuG+0afIqSjHbLKwwfpWjRR0sHW559/wqb/iaf2l/wAJ14u+2eT5Hn/a4N3l7t23/U9M811+g6RJomm/ZJdV1DVW3lvtGoSI8vPbKqowPpWlRR5AchrHgS4udfudY8PeJNQ8P3N6qrerbRxSx3G0YVtsina+ONw7AVTs/hPpdjr1lrlvrOtjVrcnz71rpXkvVJUlJSyH5flACrtAGa7uihabA9dylrOkWev6LdaVqkXm2l3GY5UzgkH0I6EdQa5Ffh5rLRi0uPiH4ifTlG1YYxBHNt9DOI95+vWu7ooAo6bo9npWiw6Vaxs1pFH5YSZzKWB67ixJbOTnNcmvw3utLLReEfF+r6FYsSRYIkVxDFntGJVJQewOPSu6oo3dw6WOc8OeC7Tw/ezahJf6jq2pzxiOS+1G48x9mc7FUAKi55woFdHUV2k8tnMlnMsFw0bCKVo94jbHDFcjODzjIzXG/wDCOfEP/ooFh/4Tq/8Ax+i/QLHb1R1nRtP8QaRPpmsWy3NpOuHjb8wQRyCDyCOQa5b/AIRz4h/9FAsP/CdX/wCP11Gi22p2elxw65qMWpXik77mK2+zqwzx8m5sYHHWiya1C7TOUX4fa3CotbX4h+IItPHAhZbeSVR6CZoy/wCJya6Pw74asPDGnyWuntcSNNIZp7i6naWaeQgAu7t1OAPbjpWvRQBwFz8KRd6rDqM3jfxYbq3DiCQXcH7oPjcF/c9DgflXR+HPDc3h/wA/zvEOs6z523H9pzRv5eM/d2IuM55znoK3KKFpoD1Oc8U+ED4pVUbxDrWlQ+U0UkOnTRokobru3RsTxx2rJ0z4ZvpK2kdr448Vm3tAix273UBj2rjCkeT0wMV3NFC02B67jJoYriCSG4jWWKRSjo4yGUjBBHcVw6fDa801Ta+GPGetaNpbHiwQRTrCP7sTSIWQegycV3dFAGP4a8L6d4V097bTRLI80hlubq5kMk1zIeryOeSf0HasHxD8NF8Sakbq78W+JIEW4W5htre5hWKCRfulAYiRj3JrtqKOtw6WOa0HwfPoepfa5fFniHVV2Ffs+o3ETx898LGpyPrXS0UUAFFFFABRRRQAUUUUAFFFFABRRRQAV5t+0H/yQnxD/wBu3/pTFXpNebftB/8AJCfEP/bt/wClMVAHpNFFFABRRRQAUUUUAFFFFABRRRQAUUUUAFFFZuu/2ydPEfh0Wq3ckgQzXeSkKd32j7xHZcjr1oA0qK4LVYPGXhTS59cbxOutw2SGa5sbiwihWSMctsdOVYDJGciu5t50urWK4izslQOufQjIoAkormfF+uX1m1lo/h9oxrOpSERO6b1t4l5kmZe4A4A7kgVP4G1W71vwRpeo6k6yXVxDuldV2gnJGcdulC1VwN+iiigAoqlrOqQ6Jod7ql1kw2cDzOB1IUZwK5G3074gXmnrq58R21rdyL5yaQbFGt1B5EbSf6wnsWB69qAO7orK8Na2niLw/baisTQPICs0DHJikUlXQ/RgRWrTegBRRRSAKKKKACiiigAooooAKKKKACiiigAooooAKKKKAPNvjJ/zIX/Y56d/7Ur0mvNvjJ/zIX/Y56d/7Ur0mgAooooAKKKKACiiigAooooAKKKKACiiigAoqK6eeOzme0iWadUJjid9gdscAtg4ye+DXEwal4yt/G+h2+v3GmQ2moC4BsrGNn27I9w3SvyTk9gBxR1sB3dFFcnrmp6xqXihfDfhq7TT3itxdX2oNCJTCrEhERTwWYgnJ4AHSjyDzOsorj9Ov9b8P+KbTRPEepLq1tqUbmzvjbrDIsqDLROF+U5XJBAHQit/xBrMXh/w9e6rOhkS1iMmxernso+pwPxoeiuC1djRorhV0z4hCx/tQ+I7Vr7b5v8AY/2FPs/r5Xmf6zPbdnr2rqfD+sw+IfD9nqlujRrcx7jG3WNhwyn3BBH4U7CuaNFFFIYUUUUAFFFFABRRRQAUUUUAFFFFABRRRQAUUUUAFFFFABRRRQB5t/zdN/3Jn/t7XpNebf8AN03/AHJn/t7XpNABRRRQBzfxH/5JZ4r/AOwLef8Aoh6Phx/ySzwp/wBgWz/9EJR8R/8Aklniv/sC3n/oh6Phx/ySzwp/2BbP/wBEJQB0lFFFABRRRQAUUUUAFFFFABRRRQAUUUUAFFFFABRRRQAUUUUAFFFFABRRRQAUUUUAFFFFABRRRQAUUUUAFFFFABRRRQAUUUUAFFFFABRRRQAUUUUAFFFFABRRRQAV5t8ZP+ZC/wCxz07/ANqV6TXm3xk/5kL/ALHPTv8A2pQB6TRRRQAUUUUAFFFFABRRRQAUUUUAFFFFABRRRQAUUUUAFFFFABRRRQAUUUUAFFFFABRRRQAUUUUAFFFYXjC+13TfD8174ah06ae3VpZU1CR0UxqpJ27ATu4HXik2krsaTbsjdorO8Pak+s+GdM1OZFjkvLSKdkXopdAxA/OtGqaadmSmmroKKKKQwooooAKKKKACiiigAooooAKKKKACiiigAooooAKKKKACiiigAooooAKKKKACiiigArzb9oP/AJIT4h/7dv8A0pir0mvNv2g/+SE+If8At2/9KYqAPSaKKKACiiigAooooAKKKKACiiigAooooAKKKx/EF1r9nHBP4esLXUlVj9ptZZfKkdexjc/KCPRuvqKAOQ8b6J4rlE1zc6muq+HEkM11o9tCLeaSEc7BJ82/HcfLuxjvXdW+p2Uuhx6pBIv2FrcXCyAcCPbuzj6Vyd74i8T69ZyaZo3hS+0uedTHJfao8SxW4PBZQjsZCOwGOetdXpOkwaRoNnpMP7y3tbdLdd4zuVVxz9aNeVr7v6+4NOZP+v63OB8KeLvDN1c33ifWfEekQX+pDZBby38Qa1tVzsjI3cMfvMPU47Vs/CjULO9+G+lx2d3BcPbx7JlikDGNtxOGA6HHODV/XtOg0+xWTSPB9tq8zPtMMQghKjB+bL4H4e9U/hlp+o6R4Ng07V9E/sm5tvlb97E/n99+YyfXHPPFNW1+QM7CiqGuzalBoF9LoUEdxqKQM1tFIcK744B5H8xXPfDfUfGGpaBNL48sI7K7WciEKoVnTA5KgnHOaS1uD0sdBr2kx694fv8ASp2KJeQPCWHVdwxn8OtcpB4h8aWunJpL+EpZ9XjQRLfC4jFk+BgSls7wO+zbntXaXs8ttYzTW1s93LGhZIEYK0hA+6CSACfeuRn8Q+LNeiNpoPhq60ZpBtfUNXeMCAdysaMxc+nQetIYz4V21zZaJq9re3ZvZYtYuFe4xgSN8pcgdhvLV3FZvh7Q7bw5oVvplmzukIJaWQ5aVycs7H1JJP41pVT7ehK7hXIfEW21G50my+yW19e2CXQbUrPT5Nk88O0/KpBBI3bSVBBIrr65fxNL4ptNe0y88O2S6hYRRTfbbQ3CxGQnZs2lv4h8xGeOoJGRUvoUjzi7g+Hs1rJY6ZDqfgjVrgeXBdXUFxa5Y/wuc7WB6Hca9tjG2NQTuwAM+tcFrWt634p0e60Oy8E6hA95GYZJ9WMKQQhhgv8AK7F8dQAOtdtptn/Z+lWlkZGl+zwJF5jdX2qBk/XFV0J6lmiiikMKKKKACiiigAooooAKKKKACiiigDzb4yf8yF/2Oenf+1K9Jrzb4yf8yF/2Oenf+1K9JoAKKKKACiiigAooooAKKKKACiiigAooooAK5TxD/wAlE8IfW8/9EiumupZYbOaW3ga5lRCyQqwUyEDhQTwM9MnivO9Sv/GV94m0XVF8BXaJppn3IdTtcv5ibRj5+1HUD0muT8P4/wCFkeLifvYsgPp5Tf1zW1od/qOo2LS6to8ukTByoglnjlJGB82UJH4deKwtdtNV0PxYPEuh6e+qQ3FsLbULKF1WUhSTHKm4gMRuYEZGQRRsw3Q/xrj+1vCRH3/7aXHrjyZc1seJdFXxD4Zv9KaTyjdQlFkxnY3VW/AgGuesINX8V+LLLWdV0qbR9M0pXa0tbplM08zjaZGVSQoVSQBnOTmus1G5ms9OnuLWzkvZo0LLbxMqtIfQFiBn6mltGz9fyX6Dv711/W7/AFOOHiTxq9iNMTwjIms7fLN89xH9iB6ebuzvI77Nue1S/Cm3mtPB9xaz3TXhg1O7jFwwx5uJWy34tupLjW/FniOI2Wh+H7nQElG2XUtVaMNCO5jiRmLN6EkCun0PRrXw/odrpdgG8i2TaCxyzHqWJ7kkkn3NUurf9f1+pL6JF+iiikM8vj8C6TqvxS120vTdS6Yltb3MmntcyNFNNI0vztls8Y4Ucc9OKj8OeA9K10a3b6491f2el381jpttLcPts4wAwK4OS2WwGOSAoArd0ceIF+J2q3t34bmttOvIYrdLtruFgPKMhDFQxbDbxgYyO9WvClpq2n614jtr/SnhtLq/lu7a88+NllDBQF2glgeM8gVP2dOz/NfjbYct/mvy/wAx3g261HU/hbp8y3G/UZLEqk8vOXAIVm9eQM155bW/hCztY/8AhPfCXiBNWVR9r1K6gnnDyfxOs0bHjPI24xXXaHY+K7T4Rz6RDpkmma1aW7Q2jNcRP5rdQwKsQvXvV1fGHiCyiW31PwRqs16owZLCSGW3kPqHLqVB91yKuXxt/wBf13EvhS/r+uxY+HdvaQ+HZ5dM1xtbsrm7kmt7iSVpGRDgCNi3OVx3wa6uuY8FaPf2C6rqOq20Nhcatd/aTYwOHW3GxVALDgsduWI4ya6eh9Pl+QkFFFFIYUUUUAFFFFABRRRQAUUUUAFFFFAHm3/N03/cmf8At7XpNebf83Tf9yZ/7e16TQAUUUUAc38R/wDklniv/sC3n/oh6Phx/wAks8Kf9gWz/wDRCUfEf/klniv/ALAt5/6Iej4cf8ks8Kf9gWz/APRCUAdJRRRQAUUUUAFFFFABRRRQAUUUUAFFFFABRRRQAUUUUAFFFFABRRRQAUUUUAFFFFABRRRQAUUUUAFFFFABRRRQAUUUUAFFFFABRRRQAUUUUAFFFFABRRRQAUUUUAFebfGT/mQv+xz07/2pXpNebfGT/mQv+xz07/2pQB6TVXVLJtS0uezS8ubFpk2i4tGCyx+6kggH8DVqqup366Xpk969vc3KwpuMVrC0sr+yovJPsKT2Gt9DxrSNN8S3fwquvGF/411ltQsYLiexiin2whYWfAmTGJS205J7HAxite4std0TS9D8X3XijUrrUr2+tFu7PzcWJjnkVDGkPRdofhvvZGSeaXww17e/APWNIOi6ta38FjeRi3u7CSJ5Wk8xlEYYZf7wHHfirWv3dzqPwi0e5ttG1gy2d5YNLZNYSC5xDMhciLG4jCk9OlNaS17x+5vX9Lieq0/vflp/wC/8QvF39nazpvhuHxBZeHGv4nuLnVLuWNDDCpA2x7ztMjE4Gc4AJxXOSt4XsYjc+H/jRImpRjdGdR8QxXUEjejxMcYP+zgjtXQ+LNMnvNQ0bxppuhtqvkWzQ3mlXMAWeS3kw2VR+kqMM7TjOSOtU/8AhNvAzr5dr4T1C5vuhsI/DcglU+h3IFH/AH1iktF5/wBfoN/gdd4K8Sp4u8H2OsqsavOrLKsTh0EiMUfaw6ruU4PcYrgfEN34RtdauIvE/wAWNWiu/Mb/AEa01QWy2/PC7YVGCP8AaJNdssWq6h8ObyKx0pPD2p3FpMttaLIp8h2DbCSoChuhOM4J6nFcl4W8ZeGfC/h+10i08M6zaarHEqT6bDo0rTSSAfMTIF2Pk5O4tz1pvWT/AK/qwlpE1/hj4gOq/wBt6dFro8Q2WmXMaWmpF1d5Y3jD7XZeGZSSM9T35rO8T2PiWT4rWOnaD4ovbK11axmlu0kKutskbRLmBdvDndjLZxuJ9KZ4C1PU7bx/4hi1vwtqOkyavPDNAYrVpLaNFgAw8yjYG45AON3Gam1bxC8Xxm06UeH/ABBLbWllPYyXUWlTPDvkkiKkOBgrhTlugxT3lH0/T/MW0Zf11/yDVtFvvAEmm6zpfiXW9Qhe/t7S8s9VvDcpNHLII9y7hlGBYEYwOMYr0quB+LN/NDodhaWuk6tqMr6hbXB/s+xkuAiRTo7bioODgHGeuK7eyuhfWEF0kU0KzRrII54zHImRnDKeQfUGktYv1/Rf8Eb0l8v1f/AJ6KKKAPHvFGvWS+OdTsvH/ivWvDNnE6DS4rGR7aC4iKAmQzIpLNu3DaWAGOhrd8EwzSeJluvD/jd/EvhhbN1aK4vEuJYLgshXLgbiNob73I59aS0+Ik2nNqNt4+0PU7OFb6dLW8TTZJoJ4BIQmfLDEHA7gZGCOtVfD0Vjr3xMtNf8I6DcaVp1vbTR39/LZtaLqBbGxFjYAvtILbiOOlEOnp+nXz/X7gn1/rr0/rbfubfim91fWPFVr4R0C/bSg1qb3UdQiUNLHDu2KkWcgMxDfMRwF45rO1bwXrfhvSrjVfCXirW7q9tomkaz1e9N1DdKBkr8wyjHsykYPbFaXimx1fSPFVr4u8P2LapstTZahp8bBZZYd29XizgF1Jb5SRkMe9Zms+Nda8QaLdad4W8La1ZXU8LrJfaxZm1htFIO5/mOXYDoqg5PfFZy0pu2+v8AwPla3l+JcfjV9tP+D8738xfBWhX+s/C2yub3xb4gN1qttDdvcLcx+ZA23JWMmPhTnkHJ961vAUt5r3wn0t7/AFG6N3d2ZWS9Vx5wJJG8EgjcPXFS/DNc/Cjw0v8A1C4B/wCOCuV8JeNbbwb4YtvC+taTrR1nTi8AtrXTZZvtIDHa8bquwqQQeWGK2qWU5R/rr/wDKF3GMjc8Bx3th4l8U6PeazqOrQ2E9uIJdQlV5FDwhiMqqjqfSl+IEulW7W8viDx3d+GrLYQLa1uY7d52z13bTIcDjCkVm+AtS1h/iB4l/wCEh8O3+ly6m0FxA3ktJAsaRBQrTAbN/TIBPOR2qvLfaZ4S+I2u6p4z0q8llvJI20zVEsJLpFgEajyVKKxjYOGJGBnOah62v2KWzsZ/h3xPo1j420Sz8IeOrrxFZ6pNJb3dhf3xuXixEzrKhb515XBHIO6vU9Z0xtX0qWyj1C801pMf6TYuqSpg54LKQM9OleXeIvFF/qvijw1rtl4M1s6Np187yXY09zdTboZFG2AAuI+R8zYySMCvR9W8RxaRokOpyabqt2k23FvZ2LzTruGfmjUZGO+ehpv4dQ2lp2/zPOvClp4y8Sxalo0uv31no2napc276qZle/vAj4EatjEYAHLYyTwAK7/w/oU3he3vEn13UNTsjiSIajJ50kAA+YeYfmYHrz0rg/Bvjc6JaarHfeE/Fwa61a6u49mgzn93JJuXPy9cdq9Rtpo9U0uOYwzRR3UQYxXEZjkUMOjKeVPPINL3uRW3svvsGnM77Xf3XPIbHxNovjaE6v4m+JcWhwTMTaaRp2tRWbQR5+UzMDvaQjBIyAM4xWn4f8V2Oh+MNO0XTvHNt4r0rVXaGNJb+K5u7OYKWB3qcvG2CPmGQcc81DpJ034e2g0Hxl4ZaeztSVstattLN1HPDn5BJsVmSQDg5GDjINbmia/pWsa7ar4X8E3Btg+ZdVuNPFlFCuOqb1Du2eMAD61UbXVtv638xSvZ3/r0LPiO61fX/FyeFNC1GTSYILVbvU7+BQZgjsVjijJBCs21iWwcAcdaxvFPg/WfDPhXU9Q8NeJNY1Ex2kpudP1i7NzHcR7Du2sw3RuBkgg4yMEVreIhqHhbxp/wlVjptzqmnXlolpqVvZpvni2MzRzInVwN7BgOehGay/EnjubxV4a1DSvAWlane3lzbSRyXVxYS28NqpU7iTIoLPjhVUHJrKX8N231/r0t8vnc0j/EV9tP69b38zrvAv8AyTzw9/2DLf8A9FrW9XJ/DbUmvfA+m202m6lp8+n2sNtLHqFm9uxZYwCVDAbhnuK6yuip8bMafwIK8l1PxZp3ifxRqllq3j238LaTpdy1olrbalFa3V1Iv33d2O5UByoC4zgknpXrVeX3FlB4G8SarPrHhptX0HVLlr2O+trEXMtnI+PMSRAC2wkbgwBxkg1l9rXb9dP+D/w9jTpp/X9aGZJ4p0bwXdW19oHxIh8QWDTpFeaVf6vFeS7GYL5kL537lzkqcgjPSvVdZ01tY0mWyj1G804yYxc2LqkqYOflLKQM9OlcGninw5qk8cHhDwPcazOzgea2kmzt4ueS8sqDGBzgAk+ldvr2uR+H9NF5LYajfAuE8rTrR7iTnPO1RnHHWm/h1Et9DzXwpaeMvEsWpaNLr99Z6Np2qXNu+qmZXv7wI+BGrYxGABy2Mk8ACvQfDfh648OpcwPrmoarayMrQLqMnmywcfMPMPzMCcHnpXA+DfG50S01WO+8J+Lg11q11dx7NBnP7uSTcufl647V6nZXa32nwXaxTQrNGJBHPEY5EyM4ZTyD7GhfCn5K/wBwn8T9Xb7zzLxLF4o8O/ETSYvDGr6hqsutJdk2eqXK/ZbXbsIcBVB2ruPy5JPA966HTPAuqWGoWup3HjXW7u+WQPdpNIDazr/EiwY2xj0I5Hqa5rWfGhuPiFoOqQ+FfFjWunQ3cU7DQp+sgQLt+XkfKa7zw54ph8Sef5Olazp/kbc/2np8ltvzn7u8fN05x04oj8Kt/Wo5b6mR4ov9X1bxRbeEvD18dMLWpvNQ1FEDSQw7tipGDwHYhvmOcBSetU7rwDrGj27X/hTxfrsupQjetvq96bq3ucfwOrD5c9Ny4xVnxPBqfh/xfb+LtK0+bVbZrT7DqVnbDdOIw5dJY1/jKksCvUg8dKrXXxPj1S3az8FaPqup6vKNiJPp81tDbsf4ppJFUADrgZJ6Cp15dN9fz0+VreXfqPrrt/V/xv5nS6Dq6eL/AAZa6lAZrL+0LY52MPMgc5VgCRjKsDzjtXnlha+M4vG+veEtE8QX09lHHbSS6xqkiTTWiurEpEgVQXbsSMKB3OK7vRLBfAvw/tbSRbm/OnW+ZfssDSyTOTlyqDk5Yk4rh9I8bmz8d+ItWm8J+LvsuoR2qwEaDOWJjVg2Rt45YVcrczsJX5TtPD3hC58O6k00fibWdStZIisttqlx9ozJkYkViAU4yCo4OegxXTVn6HrCa7paX0VnfWSsxXyb+1a3lGD3RucVoUO4kFFFFIYUUUUAFFFFABRRRQAUUUUAFFFFABXm37Qf/JCfEP8A27f+lMVek15t+0H/AMkJ8Q/9u3/pTFQB6TRRRQAUUUUAFFFFABRRRQAUUUUAFFFFABRRRQAUUUUAFFFFABRRRQAUUUUAFFFFABRRRQAUUUUAFFFFABRRRQAUUUUAFFFFABRRRQAUUUUAebfGT/mQv+xz07/2pXpNebfGT/mQv+xz07/2pXpNABRRRQAUUUUAFFFFABRRRQAUUUUAFFFFABRRRQAUUUUAFFFFABRRRQAUUUUAFFFFABRRRQAUUUUAFFFFABRRRQAUUUUAFFFFABRRRQAUUUUAebf83Tf9yZ/7e16TXm3/ADdN/wByZ/7e16TQAUUUUAc38R/+SWeK/wDsC3n/AKIej4cf8ks8Kf8AYFs//RCUfEf/AJJZ4r/7At5/6Iej4cf8ks8Kf9gWz/8ARCUAdJRRRQAUUUUAFFFFABRRRQAUUUUAFFFFABRRRQAUUUUAFFFFABRRRQAUUUUAFFFFABRRRQAUUUUAFFFFABRRRQAUUUUAFFFFABRRRQAUUUUAFFFFABRRRQAUUUUAFebfGT/mQv8Asc9O/wDalek15t8ZP+ZC/wCxz07/ANqUAek0UUUAFFFFABRRRQAUUUUAFFFFABXOa/8AEHwp4W1BbHxBrlrYXTRiQRSsclSSAeB7GujooA4j/hc3w8/6Gyw/76b/AAq/ovxK8HeI9Vj03RPEFne3soYpDGx3MAMnHHYAmuoooAKKKKACue8Vr4rlt0h8KW+jypLG6TnUriWMrkYG3YjZ79cdq6Gik0mrMadndHKfDvSvEWg+FbXR/EyaYPsEMdvbvp80knmKq4Jfei4PA6Zrq6KKptt3ZKVlZBRRRSGFFFFABRRRQAUUUUAFFFFAGL4i8YeH/CSQP4k1W305bgkRGYkbyMZxj0yKwv8Ahc3w8/6Gyw/76b/Cu3ooA420+LngK+vIbW08UWMs87iONAxyzE4A6etdlRRQAUUUUAFFFFABRRRQAUUUUAFFFFABRRRQAUUUUAFFFFABRRRQAUUUUAFFFFABRRRQAV5t+0H/AMkJ8Q/9u3/pTFXpNebftB/8kJ8Q/wDbt/6UxUAek0UUUAFFFFABRRRQAUUUUAFFFFABRRRQAUUUUAFFFFABRRRQAUUUUAFFFFABRRRQAUUUUAFFFFABRRRQAUUUUAFFFFABRRRQAUUUUAFFFFAHm3xk/wCZC/7HPTv/AGpXpNebfGT/AJkL/sc9O/8Aalek0AFFFFABRRRQAUUUUAFFFFABRRRQAUUUUAFFFFABRRRQAUUUUAFFFFABRRRQAUUUUAFFFFABRRRQAUUUUAFFFFABRRRQAUUUUAFFFFABRRRQB5t/zdN/3Jn/ALe16TXm3/N03/cmf+3tek0AFFFFAHN/Ef8A5JZ4r/7At5/6Iej4cf8AJLPCn/YFs/8A0QlHxH/5JZ4r/wCwLef+iHo+HH/JLPCn/YFs/wD0QlAHSUUUUAFFFFABRRRQAUUUUAFFFFABRRRQAUUUUAFFFFABRRRQAUUUUAFFFFABRRRQAUUUUAFFFFABRRRQAUUUUAFFFFABRRRQAUUUUAFFFFABRRRQAUUUUAFFFFABXm3xk/5kL/sc9O/9qV6TXm3xk/5kL/sc9O/9qUAek0UUUAFFFFABRRRQAUUUUAFFFFABRRRQAUUUUAFFFFABRRRQAUUUUAFFFFABRRRQAUUUUAFFFFABRRRQAUUUUAFFFFABRRRQAUUUUAFFFFABRRRQAUUUUAFFFFABRRRQAUUUUAFFFFABRRRQAUUUUAFFFFABXm37Qf8AyQnxD/27f+lMVek15t+0H/yQnxD/ANu3/pTFQB6TRRRQAUUUUAFFFFABRRRQAUUUUAFFFFABRRRQAUUUUAFFFFABRRRQAUUUUAFFFFABRRRQAUUUUAFFFFABRRRQAUUUUAFFFFABRRRQAUUUUAebfGT/AJkL/sc9O/8Aalek15t8ZP8AmQv+xz07/wBqV6TQAUUUUAFFFFABRRRQAUUUUAFFFFABRRRQAUUUUAFFFFABRRRQAUUUUAFFFFABRRRQAUUUUAFFFFABRRRQAUUUUAFFFFABRRRQAUUUUAFFFFAHm3/N03/cmf8At7XpNebf83Tf9yZ/7e16TQAUUUUAc38R/wDklniv/sC3n/oh6Phx/wAks8Kf9gWz/wDRCUfEf/klniv/ALAt5/6Iej4cf8ks8Kf9gWz/APRCUAdJRRRQAUUUUAFFFFABRRRQAUUUUAFFFFABRRRQAUUUUAFFFFABRRRQAUUUUAFFFFABRRRQAUUUUAFFFFABRRRQAUUUUAFFFFABRRRQAUUUUAFFFFABRRRQAUUUUAFebfGT/mQv+xz07/2pXpNebfGT/mQv+xz07/2pQB6TRRRQAUUUUAFFFFABRRRQAUUUUAFFFFABRRRQAUUUUAFFFFABRRRQAUUUUAFFFFABRRRQAUUUUAFFFFABRRRQAUUUUAFFFFABRRRQAUUUUAFFFFABRRRQAUUUUAFFFFABRRRQAUUUUAFFFFABRRRQAUUUUAFebftB/wDJCfEP/bt/6UxV6TXm37Qf/JCfEP8A27f+lMVAHpNFFFABRRRQAUUUUAFFFFABRRRQAUUUUAFFFFABRRRQAUUUUAFFFFABRRRQAUUUUAFFFFABRRRQAUUUUAFFFFABRRRQAUUUUAFFFFABRRRQB5t8ZP8AmQv+xz07/wBqV6TXm3xk/wCZC/7HPTv/AGpXpNABRRRQAUUUUAFFFFABRRRQAUUUUAFFFFABRRRQAUUUUAFFFFABRRRQAUUUUAFFFFABRRRQAUUUUAFFFFABRRRQAUUUUAFFFFABRRRQAUUUUAebf83Tf9yZ/wC3tek15t/zdN/3Jn/t7XpNABRRRQBzfxH/AOSWeK/+wLef+iHo+HH/ACSzwp/2BbP/ANEJR8R/+SWeK/8AsC3n/oh6Phx/ySzwp/2BbP8A9EJQB0lFFFABRRRQAUUUUAFFFFABRRRQAUUUUAFFFFABRRRQAUUUUAFFFFABRRRQAUUUUAFFFFABRRRQAUUUUAFFFFABRRRQAUUUUAFFFFABRRRQAUUUUAFFFFABRRRQAV5t8ZP+ZC/7HPTv/alek15t8ZP+ZC/7HPTv/alAHpNFFFABRRRQAUUUUAFFFFABRRRQAUUUUAFFFFABRRRQAUUUUAFFFFABRRRQAUUUUAFFFFABRRRQAUUUUAFFFFABRRRQAUUUUAFFFFABRRRQAUUUUAFFFFABRRRQAUUUUAFFFFABRRRQAUUUUAFFFFABRRRQAV5t+0H/AMkJ8Q/9u3/pTFXpNebftB/8kJ8Q/wDbt/6UxUAek0UUUAFFFFABRRRQAUUUUAFFFFABRRRQAUUUUAFFFFABRRRQAUUUUAFFFFABRRRQAUUUUAFFFFABRRRQAUUUUAFFFFABRRRQAUUUUAFFFFAHm3xk/wCZC/7HPTv/AGpXpNebfGT/AJkL/sc9O/8Aalek0AFFFFABRRRQAUUUUAFFFFABRRRQAUUUUAFFFFABRRRQAUUUUAFFFFABRRRQAUUUUAFFFFABRRRQAUUUUAFFFFABRRRQAUUUUAFFFFABRRRQB5t/zdN/3Jn/ALe16TXm3/N03/cmf+3tek0AFFFFAHN/Ef8A5JZ4r/7At5/6IevP/BXwN+HWr+AfD+pah4e867vNMtp55Pttwu93iVmOBIAMkngDFegfEf8A5JZ4r/7At5/6Iej4cf8AJLPCn/YFs/8A0QlAHNf8M+fDH/oWf/J+5/8AjlH/AAz58Mf+hZ/8n7n/AOOV6TRQB5t/wz58Mf8AoWf/ACfuf/jlH/DPnwx/6Fn/AMn7n/45XpNFAHm3/DPnwx/6Fn/yfuf/AI5R/wAM+fDH/oWf/J+5/wDjlek0UAebf8M+fDH/AKFn/wAn7n/45R/wz58Mf+hZ/wDJ+5/+OV6TRQB5t/wz58Mf+hZ/8n7n/wCOUf8ADPnwx/6Fn/yfuf8A45XpNFAHm3/DPnwx/wChZ/8AJ+5/+OUf8M+fDH/oWf8Ayfuf/jlek0UAebf8M+fDH/oWf/J+5/8AjlH/AAz58Mf+hZ/8n7n/AOOV6TRQB5t/wz58Mf8AoWf/ACfuf/jlH/DPnwx/6Fn/AMn7n/45XpNFAHm3/DPnwx/6Fn/yfuf/AI5R/wAM+fDH/oWf/J+5/wDjlek0UAebf8M+fDH/AKFn/wAn7n/45R/wz58Mf+hZ/wDJ+5/+OV6TRQB5t/wz58Mf+hZ/8n7n/wCOUf8ADPnwx/6Fn/yfuf8A45XpNFAHm3/DPnwx/wChZ/8AJ+5/+OUf8M+fDH/oWf8Ayfuf/jlek0UAebf8M+fDH/oWf/J+5/8AjlH/AAz58Mf+hZ/8n7n/AOOV6TRQB5t/wz58Mf8AoWf/ACfuf/jlH/DPnwx/6Fn/AMn7n/45XpNFAHm3/DPnwx/6Fn/yfuf/AI5R/wAM+fDH/oWf/J+5/wDjlek0UAebf8M+fDH/AKFn/wAn7n/45R/wz58Mf+hZ/wDJ+5/+OV6TRQB5t/wz58Mf+hZ/8n7n/wCOUf8ADPnwx/6Fn/yfuf8A45XpNFAHm3/DPnwx/wChZ/8AJ+5/+OUf8M+fDH/oWf8Ayfuf/jlek0UAebf8M+fDH/oWf/J+5/8AjlH/AAz58Mf+hZ/8n7n/AOOV6TRQB5t/wz58Mf8AoWf/ACfuf/jlH/DPnwx/6Fn/AMn7n/45XpNFAHm3/DPnwx/6Fn/yfuf/AI5R/wAM+fDH/oWf/J+5/wDjlek0UAebf8M+fDH/AKFn/wAn7n/45R/wz58Mf+hZ/wDJ+5/+OV6TRQB5t/wz58Mf+hZ/8n7n/wCOUf8ADPnwx/6Fn/yfuf8A45XpNFAHm3/DPnwx/wChZ/8AJ+5/+OVxPxL+DvgTw/8A8Il/ZGhfZ/7R8TWVhdf6ZO/mQSb96fM5xnA5GD6Gvf682+Mn/Mhf9jnp3/tSgA/4Z8+GP/Qs/wDk/c//AByj/hnz4Y/9Cz/5P3P/AMcr0migDzb/AIZ8+GP/AELP/k/c/wDxyj/hnz4Y/wDQs/8Ak/c//HK9JooA82/4Z8+GP/Qs/wDk/c//AByj/hnz4Y/9Cz/5P3P/AMcr0migDzb/AIZ8+GP/AELP/k/c/wDxyj/hnz4Y/wDQs/8Ak/c//HK9JooA82/4Z8+GP/Qs/wDk/c//AByj/hnz4Y/9Cz/5P3P/AMcr0migDzb/AIZ8+GP/AELP/k/c/wDxyj/hnz4Y/wDQs/8Ak/c//HK9JooA82/4Z8+GP/Qs/wDk/c//AByj/hnz4Y/9Cz/5P3P/AMcr0migDzb/AIZ8+GP/AELP/k/c/wDxyj/hnz4Y/wDQs/8Ak/c//HK9JooA82/4Z8+GP/Qs/wDk/c//AByj/hnz4Y/9Cz/5P3P/AMcrvxqmntqBsFvrY3g624mXzBxn7uc9OatUAebf8M+fDH/oWf8Ayfuf/jlH/DPnwx/6Fn/yfuf/AI5XpNFAHm3/AAz58Mf+hZ/8n7n/AOOUf8M+fDH/AKFn/wAn7n/45XpNFAHm3/DPnwx/6Fn/AMn7n/45R/wz58Mf+hZ/8n7n/wCOV6TTJpo7eF5p5EiiQFnd2AVR6knpQB5z/wAM+fDH/oWf/J+5/wDjlH/DPnwx/wChZ/8AJ+5/+OV3llrOmalI0enajaXbqNzLBOrkD1IBq7QB5t/wz58Mf+hZ/wDJ+5/+OUf8M+fDH/oWf/J+5/8Ajlek0UAebf8ADPnwx/6Fn/yfuf8A45R/wz58Mf8AoWf/ACfuf/jlek0UAebf8M+fDH/oWf8Ayfuf/jlH/DPnwx/6Fn/yfuf/AI5XpNFAHm3/AAz58Mf+hZ/8n7n/AOOUf8M+fDH/AKFn/wAn7n/45XpNFAHm3/DPnwx/6Fn/AMn7n/45R/wz58Mf+hZ/8n7n/wCOV6TRQB5t/wAM+fDH/oWf/J+5/wDjlH/DPnwx/wChZ/8AJ+5/+OV6TRQB5t/wz58Mf+hZ/wDJ+5/+OUf8M+fDH/oWf/J+5/8Ajlek0UAebf8ADPnwx/6Fn/yfuf8A45R/wz58Mf8AoWf/ACfuf/jlek0UAebf8M+fDH/oWf8Ayfuf/jlH/DPnwx/6Fn/yfuf/AI5XpNFAHm3/AAz58Mf+hZ/8n7n/AOOUf8M+fDH/AKFn/wAn7n/45XpNFAHm3/DPnwx/6Fn/AMn7n/45R/wz58Mf+hZ/8n7n/wCOV6TRQB5t/wAM+fDH/oWf/J+5/wDjlH/DPnwx/wChZ/8AJ+5/+OV6TRQB5t/wz58Mf+hZ/wDJ+5/+OUf8M+fDH/oWf/J+5/8Ajlek0UAebf8ADPnwx/6Fn/yfuf8A45R/wz58Mf8AoWf/ACfuf/jlek0UAebf8M+fDH/oWf8Ayfuf/jlH/DPnwx/6Fn/yfuf/AI5XpNFAHm3/AAz58Mf+hZ/8n7n/AOOUf8M+fDH/AKFn/wAn7n/45XpNFAHm3/DPnwx/6Fn/AMn7n/45XE/GL4O+BPCvwn1nWdB0L7LqFt5HlTfbJ327p40Pys5B+ViOR3r3+vNv2g/+SE+If+3b/wBKYqAD/hnz4Y/9Cz/5P3P/AMco/wCGfPhj/wBCz/5P3P8A8cr0migDzb/hnz4Y/wDQs/8Ak/c//HKP+GfPhj/0LP8A5P3P/wAcr0migDzb/hnz4Y/9Cz/5P3P/AMco/wCGfPhj/wBCz/5P3P8A8cr0migDzb/hnz4Y/wDQs/8Ak/c//HKP+GfPhj/0LP8A5P3P/wAcr0migDzb/hnz4Y/9Cz/5P3P/AMco/wCGfPhj/wBCz/5P3P8A8cr0migDzb/hnz4Y/wDQs/8Ak/c//HKP+GfPhj/0LP8A5P3P/wAcr0migDzb/hnz4Y/9Cz/5P3P/AMco/wCGfPhj/wBCz/5P3P8A8cr0migDzb/hnz4Y/wDQs/8Ak/c//HKP+GfPhj/0LP8A5P3P/wAcr0migDzb/hnz4Y/9Cz/5P3P/AMco/wCGfPhj/wBCz/5P3P8A8cr0migDzb/hnz4Y/wDQs/8Ak/c//HKP+GfPhj/0LP8A5P3P/wAcr0migDzb/hnz4Y/9Cz/5P3P/AMco/wCGfPhj/wBCz/5P3P8A8cr0migDzb/hnz4Y/wDQs/8Ak/c//HKP+GfPhj/0LP8A5P3P/wAcr0migDzb/hnz4Y/9Cz/5P3P/AMco/wCGfPhj/wBCz/5P3P8A8cr0migDzb/hnz4Y/wDQs/8Ak/c//HKP+GfPhj/0LP8A5P3P/wAcr0migDzb/hnz4Y/9Cz/5P3P/AMco/wCGfPhj/wBCz/5P3P8A8cr0migDzb/hnz4Y/wDQs/8Ak/c//HKP+GfPhj/0LP8A5P3P/wAcr0migDzb/hnz4Y/9Cz/5P3P/AMco/wCGfPhj/wBCz/5P3P8A8cr0migDzb/hnz4Y/wDQs/8Ak/c//HKP+GfPhj/0LP8A5P3P/wAcr0migDzb/hnz4Y/9Cz/5P3P/AMco/wCGfPhj/wBCz/5P3P8A8cr0migDzb/hnz4Y/wDQs/8Ak/c//HKP+GfPhj/0LP8A5P3P/wAcr0migDwD4l/B3wJ4f/4RL+yNC+z/ANo+JrKwuv8ATJ38yCTfvT5nOM4HIwfQ123/AAz58Mf+hZ/8n7n/AOOUfGT/AJkL/sc9O/8Aalek0Aebf8M+fDH/AKFn/wAn7n/45R/wz58Mf+hZ/wDJ+5/+OV6TRQB5t/wz58Mf+hZ/8n7n/wCOUf8ADPnwx/6Fn/yfuf8A45XpNFAHm3/DPnwx/wChZ/8AJ+5/+OUf8M+fDH/oWf8Ayfuf/jlek0UAebf8M+fDH/oWf/J+5/8AjlH/AAz58Mf+hZ/8n7n/AOOV6TRQB5t/wz58Mf8AoWf/ACfuf/jlH/DPnwx/6Fn/AMn7n/45XpNFAHm3/DPnwx/6Fn/yfuf/AI5R/wAM+fDH/oWf/J+5/wDjlek0UAebf8M+fDH/AKFn/wAn7n/45R/wz58Mf+hZ/wDJ+5/+OV6TRQB5t/wz58Mf+hZ/8n7n/wCOUf8ADPnwx/6Fn/yfuf8A45XpNFAHm3/DPnwx/wChZ/8AJ+5/+OUf8M+fDH/oWf8Ayfuf/jlek0UAebf8M+fDH/oWf/J+5/8AjlH/AAz58Mf+hZ/8n7n/AOOV6TRQB5t/wz58Mf8AoWf/ACfuf/jlH/DPnwx/6Fn/AMn7n/45XpNFAHm3/DPnwx/6Fn/yfuf/AI5R/wAM+fDH/oWf/J+5/wDjlek0UAebf8M+fDH/AKFn/wAn7n/45R/wz58Mf+hZ/wDJ+5/+OV6TRQB5t/wz58Mf+hZ/8n7n/wCOUf8ADPnwx/6Fn/yfuf8A45XpNFAHm3/DPnwx/wChZ/8AJ+5/+OUf8M+fDH/oWf8Ayfuf/jlek0UAebf8M+fDH/oWf/J+5/8AjlH/AAz58Mf+hZ/8n7n/AOOV6TRQB5t/wz58Mf8AoWf/ACfuf/jlH/DPnwx/6Fn/AMn7n/45XpNFAHm3/DPnwx/6Fn/yfuf/AI5R/wAM+fDH/oWf/J+5/wDjlek0UAebf8M+fDH/AKFn/wAn7n/45R/wz58Mf+hZ/wDJ+5/+OV6TRQB5t/wz58Mf+hZ/8n7n/wCOUf8ADPnwx/6Fn/yfuf8A45XpNFAHjfhTwdoXgj9pKTTfDFj9htJfCRnePznky5vFUnLsT0VeM44r2SvNv+bpv+5M/wDb2vSaACiiigDm/iP/AMks8V/9gW8/9EPR8OP+SWeFP+wLZ/8AohKPiP8A8ks8V/8AYFvP/RD0fDj/AJJZ4U/7Atn/AOiEoA6SiiigAooooAKKKKACiiigAooooAKKKKACiiigAooooAKKKKACiiigAooooAKKKKACiiigAooooAKKKKACiiigAooooAKKKKACiiigAooooAKKKKACiiigAooooAK82+Mn/Mhf9jnp3/tSvSa82+Mn/Mhf9jnp3/tSgD0mqup366Xpk969vc3KwJuMNpCZZX9lQck+1WqD0pPYDzy3+NPh27tReWen63cafGcXl8lifJsTnBEpJyCOp2hsA84q/afFLRbzVra2hs9UFhd3H2a21hrXFlPL0CrJnJyRgHG0noa57Q4kj/Zo1LYiru07UWbAxk7peTWh4qjSL4X+GkiRURb3SQqqMADzoulNayt5xX3u34WCWi+/8P8AM7HxB4j0zwvpn27WbjyYi4jjRULyTOeiIgyWY+grmv8AhallbbZda8NeJdGsSQDf3+nhYUz0LlWZkHuwHvWV44TXX+LvhxdGm0uF/wCz7k2Z1WGSSLzty79oRlw+zofTdWpLZ/FGaJ4pr7wdJG6lWRtPuSGB6gjzaSva/wDXYbtex3EUqTQpLC6yRuoZHU5DA9CD3Fcfd/EiGO7mh03wv4m1ZYXKPNaaaVjyDg4aVk3c+mam8O2s/wAP/hns8QXMVwNJgmmdrVGCiJSzhFDEnCrhRk9hWXYxfEnxFaxamda0jw5BcIJIbFNPN46oRkCRzIo3Y67Rim/i0EttTqfDfibT/FOnvdaaZkMMhhuLe5iMU1vIOqOh5B5FY2tfE7QfD2vTaRrEeoW1wkfmQs1m5S7OVGyEj/WNlwMKD39Kzfhwuox+MPGsetXdpeXq3dsJZrSIxIx+zrj5SzYOMZ561c1a2gn+Nnh554UkaHSLySIsoOxvMhGR6HBIz70byiu/+Vw+y32/zsTab8R7K71e107U9E1zQpb1tlpJqtoIo53xnYGVmAYjoGwTXYVxvxQAPhexYjldZ08qfQ/aY+a7Khaq/nb8E/1DZ/15hRRSMwVSzcADJo2A5XVvH0GnapNp9l4f8QaxcW52y/2fp5MaHGceY5VDwexNXfDXi+w8Tm5ht4LyxvrMqLmw1CAwzw7vukryCDg4IJFcxpuoeOvHFqur6HqWmeHNFnJNkJbI3dxNGDgO4Lqq5xkAZIHWo/C8OtW3xl1GHxFqdlqV0uhw7ZrS2MHy+e+Ayl2569D0xRHdJ/1pcJbNr+tbDvGg0Lw58SvC/iC8hsrAn7Y15feUqu6rb8bmAy3oBz6CrjfFfT4EF1feHPEtlpZ5Op3GmkQKv99gGLqvuVFVviHDps/xD+HyayIzB9vuDGJPumURZj/8exj3xXoUio8bLKFKEEMGHBHfNLpcb3G29xDd2sdzbSpNBKgeORGBV1IyCD3GK4x/ihZzTSf2H4d8Ra5axuUN7p9iGgYg4O1ndd+DxlQRTPhnPbWvgC7l8xU0e3vr37HIx+VbRZn2kH+6ADj2Aqhp/g7xZo+nwr4D8bWzaKV8yystS09Zljjb5golVgxXnjI6U+vl/n3F0/rodX4X8Y6V4ujvDpJuA1jKIbmK5t2heJyobaVYA5GcH3pviXxppfhia3tblLq91G6BNvp2nwGa4lA6sFHRR/eJA96zPA+pXkuta7pniDS7Gy163aGe7n09iYbxHUrHIN3zA4jKkHpj3qPwgIpPiJ41lvMHVEuoI03feW08lTHt/wBksZD9c0buy7X/ACDZaljS/iPp17q8Gl6ppmr+H7y6OLVNXtREtwf7qOrMpb/Zzn2rqrq1t761ltb2CK4t5lKSRSoHR1PUEHgj2rlPiulm3ww1l73AaKDzLVv4luAf3RX/AGt+3GK6mxMx0+3N0MTmJfMH+1gZ/WjdP+v6/wCGDZo4bS9D0nQvjUYdD0uy02KTw+WdLO3SFWP2gDJCgZNd3dTi1tJrho5JREhcpEhd2wM4VRyT6CuTP/JcF/7F0/8ApSK7GhXcF8//AEph9t/L8kYfhfxZZeLLe7lsba+tHs5/s88F/bGCVH2huVPI4YVV0zx1Yan4pfQP7O1eyvAkkiNe2LwxzKjBWKM33hlh09ap+CP+Ro8b/wDYZX/0mhpupyIfjVoEYdS66PesVzyAZIcHH4H8qFq4+a/9tuD0T8n+tih8XPGM3h7wxdWtlaa0LqRI3S+sbSRoov3qghpV4UkAjHuPWr0HxNtp544v+EU8XpvYLvk0KYKue5OOBT/iz/yTHVfrD/6OSuyHQULzB+QjuscbPIwRFGWZjgAepriD8U7G4d30Lw74i1yzRiv27TrANA+OuxnZS491BHpUnxd+1/8ACqNc+wnD+SvmHBIEW9fMyBzjZuzjtmqljb/Ev+z7f+ztR8F/ZPKXyPKsLnZsx8u3EuMYxSWtx9EdT4d8TaZ4p043mkTM6xuY5opUMcsEg6o6Ngqw9DWtXFeFvDfiey8aX+u+I7vR2+2WiQSRaXbyxCR0bKu29myQpZc+mPSu1qiQqnq2r2GhaVPqWr3UdpZ267pJZDwP8SegA5Jq5XnHxXXUm1TweunyWMcZ1U5bUY3ktxN5TeTvCsD97OOfvballIun4qWyR/aZvCfiuLTsbjfvpf7sL/fKhvMC45zsrsdO1Gz1bToL/TbiO6tLhA8U0TZV1PcVyH2f4q/9BHwf/wCAF1/8dq94B8Oar4a0y/g1m4sZXur6S6jj0+J44YQ4BZVViSBu3N1/iNUiRo+I2kR+IpdI1C11PTHjSaQXWoWbQW7pF99lkbAYcg5HqKg034m6Xqmo20MOla3HY3koitdUmsGS1nY/dw2dwB7EqAfWqPjXRdP174oeDbXV7ZLq3SK9m8mTlWZREV3DuAecHjivQQAAABgDoBSjsm/61G/IwvFHiu38KWkdzeadqt7E+4sdOsnuPKCjJZ9v3R7msq7+J+jR/ZItLs9T1u8ubZLr7Fplt5ssMTqGVpMkKmQehOT2Fbvij/kUNY/68Z//AEWax/hjomnaJ8OdGXTLVIDc2UNxOw5aWRkBLMTyT/IcDiha38rfjf8AyB6W87/hb/M3NG12z1zRI9UtPNigcNuW5jMTxFSQyurdCCCD9K5c/FSwuHd9D8PeItcskYqb/TrAPAxHB2MzKXA9VB9qsfFd5E+Geq7WdYT5S3LJ1EBlQS/+OFvwrqrKO2isII7BY1tVjUQrFjYEx8uMdsUb3YbFLw94k0vxRpYv9GuPOiDmORWUpJE46o6HlWHoazNW8d6foviO30e+0/VlNzNHBHeixf7KXf7o837uaz9NWGL426ymm4EcmkQSagE+79o8xhGT/tGPP4AVH8WdPt9V0PRLC+QyW1zrtnFKgYruUuQRkcjijfla6tfnYNuZPov0uST/ABW0RLqb7FYaxqWn27+XcarY2RltISDg5fOWA7lAwFdsrBlDKcgjINRWlpb2FnFaWMEdvbwqEjiiUKqKOgAHSpqACiiigAooooAKKKKACiiigAooooAK82/aD/5IT4h/7dv/AEpir0mvNv2g/wDkhPiH/t2/9KYqAPSaKKKACiiigAooooAKKKKACiiigAooooAKKKKACiiigAooooAKKKKACiiigAooooAKKKKACiiigAooooAKKKKACiiigAooooAKKKKACiiigDzb4yf8yF/2Oenf+1K9Jrzb4yf8yF/2Oenf+1K9JoAKKKKACiiigAooooAKKKKACiiigAooooAKKKKACiiigAooooAKKKKACiiigAooooAKKKKACiiigAooooAKKKKACiiigAooooAKKKKACiiigDzb/m6b/uTP/b2vSa82/wCbpv8AuTP/AG9r0mgAooooA5v4j/8AJLPFf/YFvP8A0Q9Hw4/5JZ4U/wCwLZ/+iEo+I/8AySzxX/2Bbz/0Q9Hw4/5JZ4U/7Atn/wCiEoA6SiiigAooooAKKKKACiiigAooooAKKKKACiiigAooooAKKKKACiiigAoopskiRRl5XVEHVmOAKAHUUUUAFFFFABRRRQAUUUUAFFFFABRRRQAUUUUAFFFFABRRRQAUU2SRIkLyuqKOrMcAU6gAooooAKKKKACvNvjJ/wAyF/2Oenf+1K9Jrzb4yf8AMhf9jnp3/tSgD0mqup2Tajpk9ml5c2LTJtFxasqyx+6lgQD9QatUUbgcjovw7stF8Hah4aGsate2F9FJEftcsbPArhg3llUAGdxPIPNPuPAFtd+CIfDVzresSxQSxyxXzTR/aUMbh0w3l7cAgfw9K6uij/gfhsH9feYWreEdP13w9b6TrElzdfZwjRXpl2XKSKMCUOoGH75AHU8Y4rD/AOEA1yVfs918RfEMliOBHGtvFKR6GZY9x+vWu5oo6h0MrT/DWlaZ4b/sG2ts6e0bxvFK7OZA+d5ZiSSTkkknvXMRfDjUreBdPtfHviCDR4xtjtE8nzETsgnKb8DoOc4713lFHW4dLHGeHvhlpfhXxBJqeg6lqtpFMQ02nidWt5mCbd77kLs38RJbrTr74dpfeMU8RnxR4ghuY8iOCKeEQohKlowDETtJQZGc+9djRR1T7B0sc14x8FQ+M4LWC61nVtOit5BKE0+WNA7qwZWbcjZKlQRjFb1lbGzsILZ7ia6aGNUM85BkkwMbmIABJ74Aqeuc1/SfFd9qCy+H/FNrpNqIwDBLpIuSWyctuMi+3GO1G2iDfU6Ojr1riP8AhHPiH/0UCw/8J1f/AI/V/RdG8Y2eqxza34us9TslDb7aPRhbsxxxhxK2MHB6c0AZo+HF7YNJbeHPGWsaNpUjs/8AZ8KQyLFuOSIndCyDJPGTijT/AIT6VpHiGHWtK1jW7S8Cqt0y3Sv9vw27MxdGZs5xwRxgDFd1RQtNUD13ON134Z6X4m8QDU9e1HVL2FFcRadJMgt4SybSyAIHVuAQd2QeaqyfDa+u4vsGp+OfEF5o3Q2TNEjyL/ceZUEjKeh5yfWu8opWAz5dEsX8OSaHDCLawe2a1EcAC+XGV24X0wK5O3+G+o6PaRWPhbxxrWl6fGgRbWRILoIAOiNIhZR7ZwO2K7yin1uHSxh+GPCln4XhuTDcXV9eXjiS7vr2TzJp2AwMnAAAHAUAAVX8SeCrTX76DU7e9vNH1i3QxxajYOFk2ZzscEFXTPOGB9sV0lFD1DY42w+HpfVbbUfFfiHUfEk9m/mWsV0scUELjo4ijUKXHYnOO1dDrukSa3phs4tVv9KYuG+0afIqSjHbLKwwfpWjRR0sHW559/wqb/iaf2l/wnXi77Z5Pkef9rg3eXu3bf8AU9M811+g6RJomm/ZJdV1DVW3lvtGoSI8vPbKqowPpWlRR5AchrHgS4udfudY8PeJNQ8P3N6qrerbRxSx3G0YVtsina+ONw7AVTs/hPpdjr1lrlvrOtjVrcnz71rpXkvVJUlJSyH5flACrtAGa7uihabA9dylrOkWev6LdaVqkXm2l3GY5UzgkH0I6EdQa5Ffh5rLRi0uPiH4ifTlG1YYxBHNt9DOI95+vWu7ooAo6bo9npWiw6Vaxs1pFH5YSZzKWB67ixJbOTnNcmvw3utLLReEfF+r6FYsSRYIkVxDFntGJVJQewOPSu6oo3dw6WOc8OeC7Tw/ezahJf6jq2pzxiOS+1G48x9mc7FUAKi55woFdHUV2k8tnMlnMsFw0bCKVo94jbHDFcjODzjIzXG/8I58Q/8AooFh/wCE6v8A8fov0Cx29UdZ0bT/ABBpE+maxbLc2k64eNvzBBHIIPII5Brlv+Ec+If/AEUCw/8ACdX/AOP11Gi22p2elxw65qMWpXik77mK2+zqwzx8m5sYHHWiya1C7TOUX4fa3CotbX4h+IItPHAhZbeSVR6CZoy/4nJro/Dvhqw8MafJa6e1xI00hmnuLqdpZp5CAC7u3U4A9uOla9FAHAXPwpF3qsOozeN/FhurcOIJBdwfug+NwX9z0OB+VdH4c8NzeH/P87xDrOs+dtx/ac0b+XjP3diLjOec56CtyihaaA9TnPFPhA+KVVG8Q61pUPlNFJDp00aJKG67t0bE8cdqydM+Gb6StpHa+OPFZt7QIsdu91AY9q4wpHk9MDFdzRQtNgeu4yaGK4gkhuI1likUo6OMhlIwQR3FcOnw2vNNU2vhjxnrWjaWx4sEEU6wj+7E0iFkHoMnFd3RQBj+GvC+neFdPe200SyPNIZbm6uZDJNcyHq8jnkn9B2rB8Q/DRfEmpG6u/FviSBFuFuYba3uYVigkX7pQGIkY9ya7aijrcOljmtB8Hz6HqX2uXxZ4h1VdhX7PqNxE8fPfCxqcj610tFFABRRRQAUUUUAFFFFABRRRQAUUUUAFebftB/8kJ8Q/wDbt/6UxV6TXm37Qf8AyQnxD/27f+lMVAHpNFFFABRRRQAUUUUAFFFFABRRRQAUUUUAFFFFABRRRQAUUUUAFFFFABRRRQAUUUUAFFFFABRRRQAUUUUAFFFFABRRRQAUUUUAFFFFABRRRQB5t8ZP+ZC/7HPTv/alek15t8ZP+ZC/7HPTv/alek0AFFFFABRRRQAUUUUAFFFFABRRRQAUUUUAFFFFABRRRQAUUUUAFFFFABRRRQAUUUUAFFFFABRRRQAUUUUAFFFFABRRRQAUUUUAFFFFABRRRQB5t/zdN/3Jn/t7XpNebf8AN03/AHJn/t7XpNABRRRQBzfxH/5JZ4r/AOwLef8Aoh6Phx/ySzwp/wBgWz/9EJR8R/8Aklniv/sC3n/oh6Phx/ySzwp/2BbP/wBEJQB0lFFFABRRRQBS1qeS10G/uIG2SxW0jo2M4YKSDXjHwQ+J+t+IPEVzo3iq/a7e4g86yd41TlSdyjaBnI5/4Ca9j8Rf8ixqn/XnL/6Aa+ZdGtZ9J+Gfhzx1pqE3Gh6rJFcbf4oWYHB9skj/AIHRBrnd9rL8XYck+RW31/BXPquvn7xf8VvEDfGOHSdA1FoNIt72GzlVIkYSvuAfJIJ7kde1et+KfF9rovw6uvEtvIrxm0Etqf77OB5f6kV4BN4fk0PQ/h9c3gJv9Y1c307N94gtHsB/A5+rGnFfvUn0a+9v/K5Mn+7duqf4L/hj6lpoljaQxq6l16qDyPwry74veIdWfVND8FeHLprO81yTE1yhw0cWccEcjPzE47LjvVXUPgFotrorzeHb7UbXXYEMkN8bg5eQDPIHTJ9MY96m+nM9ira8vU9dpryJGVDuqljgZOMmvM/AHxIuNS+Ed/res/vb/RUljuSePNZF3KT7nIB981y3gT4awfErR38X+Pr28vbnUJHNvEkxRYkDEcfiDgDgAVTT5mu367Cvpd+n+Zvyapfj9p+LThfXP2I6buNt5zeXu2HnbnGa9YrwLwxoEnhj9paHS21C41CGGwf7PJctukWMoSEJ745H0rV8X383j74sSeCpdVfTNA02ES35jlEbXDYB25P+8Bj2J9KS2il1v+bB7yb8vyR7MkiSrmN1cZxlTmvKfjVqd/p2seDV0++ubVZ9R2SiCZkEi7k4bB5HJ61zHjLw5pnwqSx8U/D3VHjaG4SK8sjd+Ys8Z9RnPbH4gjGK1vjVcpe3ngC6h/1c9+si/QmMj+dOOsotfzJCeiafZ/ke01wPxS8c6h4WttN0zw7Ckut6zP5FqZBlY+QCxHc5YAZ479q76mtFG7KzorMv3SRkip3K2PH9W8OfFHw3oc+vx+Ol1G6tYzPPYPaKImVRlgp78Z/hX8K9A8B+Kl8Z+C7HWxEIZJ1Kyxg5CupwwHtkZHsa8y8f/FrWf7DvNKXwlqWjR3Za1bU9SikWKNG+UsMJzx/+o16N8N9CsfDvw/0yx0u8jv4PL803UR+WVmOSR7ZOPwqou6b6aWJlo0uutzqa8nu5ZPij8TrjRvNkXwx4cdWu1jYr9ruc8KSP4QQf++T6jHpmr3n9naJfXo621vJL/wB8qT/SvOP2fLXb8OptQk+afUL+WWRz1bGF/ofzpR1k/JX/AMhy0j66f5k/xv8AE2qaD4YsLLQrlrS61W7FsbhDhkXHOD2JJHP1rb8DfD2LwU0839talqdxdRqsxu5dyBgc5UYyM+5NeX/HjwbpdrrGlatEbj7Vq+oCK5zLlcYUfKO1dt4i8G6X4I+D/ii20M3ISa2eVjNMXIbAHB7VKfLCU+v/AAFoU1zSjHp/wXqel0VxXwfYv8JNBZiWJgbJJ/6aNXKfD+R2/aC8cKzMVCDAJ4HzLWjVqnJ6/gQneHP6fiewE4601JEkXdGyuvqpyK+ePh94NPjjxN4utdW1W8j0e31JzJZW8uz7Q5d8bj/dAB4960RoKfCr43eHrLw1dXI0vWx5c9rLJuGclfxwSCM89amOvLfr/lcctOa3Q94piSxyMyxyKxXhgpzivJviZqWp+JfiFo/w80m+lsLa7j+0ahPCcOY+Ttz9FPHckZqLXvgda6PpX9o/Dqe/s9ftMPCftXE/PKktgDI+g9RST0u9hta26nofjbxN/wAId4Pvtd+yfbPsgU+R5nl79zhfvYOOuelWdA1d/EPhSw1aOIWr31qsyxlt/lllzjOBnH0FeU/FjwkupfDF/FfiO3mtvEdtZQRyxRzgxK3mANwuQfvE9fSui+FHgzStB8E2utWH2j7XqemxtP5kpZcld3yjtzRtGd+n+T/MXWNuv/A/I6PwNpfinStJuIvGmrwardvcM8UkK4CR4GAflXvk4xx610jyJEhaR1RR1LHArx/4AXy2nw01m8u3Yx29/NI5JzhViQmsvwb4Tb4yteeLPHF1dS2TXDRWGnxSlI41HU8fXHGMkEmqd72XZMWiV33aPdgQygqcg9CO9FeH/ZLn4M/ErRrHTb65n8Ma7J5Jtbh93kSZAyD7FlOe4yDnGab8SbK/1b9oLw/pmmanNpsl1p+xriE/MiZl37fcqCAaW9rdbr7h7Xv0Vz3ASIZCgdS45Kg8j8KdXgnxJ+FmleBvCZ8UeFr3ULXVLCaNjM9wWMm5gpJPY5IPHHXivSdVbxN4n+FtjJ4Xu7ax1XUrSCV7iZ2QRq6BnKlVJDc4HHGaV/dbXQdtVfqdgZYxIIy6hyMhc8/lTbgkWspBwQhwR9K8Mv8A4afDey0SWO/8XW6+IUiLteSasgfzgM52E9N34++a674MeI7/AMR/C1pNWna4uLSWS285zlnUKCCT3OGxn2pS1jK3RAtGvMxPg7bt43+Fetad4lurq/iuL6SEvNOzuo2IRgk5GDyK2/hf4h1CDU9U8C+JJ2n1PRG/cXD9bi342sfUgFfwI9Ky/wBnH/kQtR/7Ckn/AKAlM8YH+xf2j/CeoQfL/aVubWYD+Lll5/76X8hWr/iJd0l+Gn9eZP2ZPs2/x1PYKKKKgYUUUUAFebfGT/mQv+xz07/2pXpNebfGT/mQv+xz07/2pQB6TRRRQAUUUUAFFFFABRRRQAUUUUAFFFFABRRRQAUUdKKACiiigAooooAKKKKACiiigAooooAKKKKACiiuf8aDWV8M3Nz4d1aPTLm0R52eS0FwJFVSdmCwxk455+lKT5VdjSu7I6Cisrwtfz6r4Q0jULwhri6soZpSowCzICeO3JrVqpJxbTJi7q6CiiikMKKKKACiiigAooooAKKKKACiiigAooooAKKKKACiiigAooooAKKKKACiiigAooooAK82/aD/AOSE+If+3b/0pir0mvNv2g/+SE+If+3b/wBKYqAPSaKKKACiiigAooooAKKKKACiiigAooooAK5b4hT3UXhuBLG9uLGS41G1t2ntmCyKrzKrYJB5wT2rqazde0Gx8SaWdP1MSmAyJL+6laNgyMGBDLgjkdqXb1X5j7mFH4BnjlR/+E18UvtYHa15EQfY/uuldfXCap8MfD9lptxe+HoJNI1a3jaWC/gnk3hwMjeSx3qcYIbORXT+GdUfW/Cul6pMgSS8tI5nUdAWUE/qarden6/8MTs/6/rqalFFFIZyHiSXUNY8W2Xhix1GbS7d7R727ubYhZpFDhBGjH7vJySOcY9apTWV74G1vSHtNb1HUtO1K8WyntNSuDcMjOCVkjdvmGCORkgg9sUeNLGfxH4s03SNEmOnapZwm8fVlJ32sTNt2KoIDlyDw3AC59KpS6LqXhrxhpWs+JtYl8SWjzLZwvPGImsJZPlWRUT5G3H5ScAjP1oj09fv1/pfiEuvp92n9P8AA7fxFq66B4a1HVmTzBZ27zBP7xAyB+dctbeCNZutOTUbvxhrMWuSoJcw3GLWJyM7BBjaUHTnk+tdhqmnQaxpF3p14C0F3C0MgHXawwcVx8MHxFtdPXRYRpEgRfKj1uSZ9wQcBjBt5kx/tbc0u4+39f11Oh8Ja1Nr3h2G6vIlhvY3e3u4l6JNGxRwPbIyPYitquG+FFgmnaBqtvb3Elzbrq9wsVxKctNjarOT3y4au5qn0fe35ErqvUKZNNFbwvNcSJFEgyzuwVVHqSelPrk/H+hX2t6fYPp9nb6mLK7FxNpl1JsjvFCkbSeRkEhhkYyOallI1rLxV4e1GR49P13TLp4wWdYLyNyoHUkA8CtavIPEUmj3+jS2XjH4e3vh6AjaNTtYIZ0tD/eLx8qPwx6165AUa3jMLh4ygKsDkMMcGq6E9R9FFFIYUUUUAFFFFABRRRQAUUUUAFFFFAHm3xk/5kL/ALHPTv8A2pXpNebfGT/mQv8Asc9O/wDalek0AFFFFABRRRQAUUUUAFFFFABRRRQAUUUUAFFFFAHDWXgDVntQ+reNvEIu2Zi4s7tBEMscBQ0ZPTHWl8IWt7Z+N9csxrmqarYWMMMROoTLIRO2XYLtVQMKU/OuzurmKzs5rm4YJFCjSOx7KBkmub+HltKvhNNSulK3WsTSajMD1HmHKj8E2D8KI7+n9f5g9v6/rt94ni2+1CfVNK8N6NdNZXGpmSS4u4wC8FvGBvK54DEsqg9sk1l6jp954Bks9XtNb1XUNNa5jg1C21K6NwFSRgolQtypViMgHBGeK0rwhPi/pW/jfo9yqZ7kSxEj8qPieQPhzqYPVvKVR6sZUA/WiOyf9b2t+APdr+tr/qdZRQOlFADZZY4YmlmdY40GWdzgKPUms+TxHokT26S6xp6NdHFurXSAzHOPl5+bnjir1zbQXltJb3cMc8EqlZIpUDK4PUEHgivKfDPg3QP+FY6/dvpdvJPO9+N7xgmMRySBFT+4BtBAGOealu12+g0r2Xd2PTDrelDVhpZ1OzGoEZFoZ180jrnZnP6VdZgqlmIAAySe1eU3fh7TNO+EGl6nb2if2kXsbxr9xunaZ5YyzmQ/MSdxHXpxXbeOdEvPEHhK4sNOMZmZ45PJmYrHcKrhmiYjkBgCPxq5Lluuzt+RMXzalu38WeHby9+x2mvaZPdZx5EV5Gz5/wB0HNaiOksavGyujDKspyCPUGvKtQntF0iSy8T/AApuLGz8sq02nRQXIgGPvjy8MMdcgZFegeFI7GHwhpMWkXX2yxjtI0gnPWRAoAJ9+KOgdTXooopDCiiigAooooAKKKKACiiigAooooAKKKKAPNv+bpv+5M/9va9Jrzb/AJum/wC5M/8Ab2vSaACiiigDm/iP/wAks8V/9gW8/wDRD0fDj/klnhT/ALAtn/6ISj4j/wDJLPFf/YFvP/RD0fDj/klnhT/sC2f/AKISgDpKKKKACiiigDO8Rf8AIsap/wBecv8A6Aa8q+C+jQeIvgXqGkXY/dXlxPETj7pKrg/gcH8K9iuLeK7tZbe4XfFMhR1yRlSMEZHtWd4d8M6R4T0v+zvD9p9ktPMMnl+a7/McZOWJPYd6SS96/VW/Ebb923R3PnHSbrVfFg8P/Cy+jkQ6ZqUv2589YYzkD8BvH/fNd38bo0h8VfD+OJQiJflVUDgAPFgV6dZ+ENCsPFF34itNPSPVbxNk9wHY7hx/CTtH3RyAKXXfCOieJbywutasvtM2nSebat5rp5bZBzhSAeVHXPSqTd4t73uyWt7bWaR5p8Wi3hz4m+EPGNwjNp1u/wBmuXUZ8vJPJ/BmP/Aa9G1jxloWj+GZdbm1K1e0WIvGySq3nHHCrjqTWpqOm2Wr6fLY6paxXVrMu2SKVdysK4i2+B3gG11AXa6M0m1tywy3Ejxg/wC6TyPY5FTZ8vJ6/iVpzc39aHHfDbwrqGofAvxJuiZJ9eM0ttGRjcNuF/Nga6L4HeKNNuvhza6VLdRQX+ll4p4JXCsBvJDYPbBx9Qa9OjjSGJY4kVI0AVVUYCgdABXFa98IPBfiPVX1HUNJ23MjbpWgmaMSn1YKcZ9+tVf3nbayX3bC3Wu92/v3OGsNYsNa/aqE+l3Md1DFYtCZYzlSyxnOD3xnFY+v+HPDsX7QmoW/j+HGm6vGJbO4eZokEhC9WBHcMvPtXselfDzwroer22p6TpEdpeW0JgikjkcAIc5BXdgnk8kE+9XvEfhTRPFtgLPxDp8V5Epym7IZD6qwwR+BqduW3S/4thve/W34WPNte+HXwe8NWkVxrMawJM6pGBfTOz5OMhQxJHqarfGm3htLvwBb2g2wQ36pEMk4UGMDk+1djoPwd8FeHtSS/stJ825jbdG9zK0ojPqATjPvjNdBr3hPRfE01jNrdl9pfT5fOtj5rp5b8HPykZ6DrmqWjT80/uF39GvvNiuH8ffEGXwLq+iLc2CyaVqExiuL1nI+z8jnAHPBJ/A13FU9W0jT9d02Sw1izivLWX70Uq5B9/Y+45qdbporTqYvi/XdAj8Calc6le2kthNaOB+8VhNlTgL6knGMVzXwCt7y3+FFr9tDBJLiV7cN2jJ4x7ZDH8as23wM8A218LkaO0m05WKW5kZB+BPP0Oa7+KKOCFIoI1jjjUKiIMBQOgA7CqVld9xO7suxT160a/8ADmpWkfLXFrLEv1ZCP6157+z5crL8Llt+klreTRuvcEkN/wCzV6jXkujgfDD4r3+n3p8nQPE0nn2c54SG47xk9BnJx/wH3pR0k13X5ahLWKfZ/wDAK/7QP+q8Kf8AYUH9K7v4k28t18MfEEMCl5GsJCFHU4Gf6Vf8QeE9F8Ui0GvWX2oWcvnQfvXTY/r8pGfxrXIDKQwBBGCD3qWrwce9/wAkv0KTtJS7f5tnnPwa1/Sm+Eulq2oW0bWaPHcLJKqmIh2POTxwQa5n4Walaax8dPGl/p0wntpo8xyL0cB1GR7cV1t18EPAV3qbXsmjFCzbmhiuHSMn/dB4HsMCuh0PwP4c8NapcajoWlx2VzcxiKVo3faVGMAKTtHQdAK0vefO+z/Ei1oci8vwPPPgX/yMHjr/ALCn/s0lHxM/5Ll8P/8Arr/7UFelaF4T0Xw1cX8+iWX2aTUJfOum8138x8k5+YnH3j0xRqfhPRdY1zT9Y1Ky86/005tZvNdfLOc9AQDz6g1MdHB9rfgrDeqmu9/xZ5j4ynTwl+0NoPiPVD5WmX1qbVrhvuxvhl5Pb7yn6E133jHx9o/g/wANyarcXENyxA+z20cw3XBJ6L1475xWxreg6X4k0x9P1yyivbVzkxyDofUEcg+45rldG+DPgfQ9SS+tdH82eNt0f2mZ5VQ+oUnH55pK9uV/11G7X5jP+J1/PrHwBv8AULiyeylubaGZrZ23NEDIhwTgdvatr4d3ltc/CvRUt7iKVk0xFdUcEqQuCCO3PFdTfWNtqVhPZX8CT21whjlicZDKeornPC3w38NeDbu7uNAtJIXu08uTfOzjbnOBk/8A16GrqSXX/giWnK+3/A/yPPvgVYnVPhH4hsFO03V3cQg+haFR/WrvwH161s/DNz4U1OVLPVtMu5A9tMwVmUnOQD1wcg/h616P4b8K6N4RsJLLw9Z/ZLeWUzOnmvJlyACcuSegFZPij4YeE/GF39r1nSw13gA3ELtG7D32n5vxzVN+9ddUl9wWurPu395wPxIvrfxp8VvCfhrQ5Uu5NPuftN5JCdywjcpIJHcBT+YFWvE//J0nhX/sHt/KevQfC3gbw74MhdPD2nJbNKMSSli8j+xZiTj26VYuvCei3vim08R3Nlv1azjMUFx5rjYvzcbQdp+83Ud6FaLj5Nv71YUtVLzVjlfjp/yR/Vv96H/0atcr8R9U1DTf2ePDa6dJJDHdW1nBdSxHBEZgyRn0JAH6d69c13QdN8S6PLpet232mymIMkXmMmcEEcqQeoHekk0DS5vDy6FPZRy6YkC24tpcuvlqAFGTzwAOc54zUW0a7tP7jRSWnzPOv7B+FHh7wJ9v+z6NcQfZdyXE5WaWZtvGM5JYnsOnoKq/s8kH4W6hj/n+l49P3aV0mmfBbwLpWpi+t9G8yRG3IlxM8iIf91jg/jmui8O+END8KWVxaaBZfZLe5kMksfnSOCxGM/Mxxx6VT1UvNGa05V2Z55+zj/yIWo/9hST/ANASmePF/tL9oXwTYw/M9rGbmTH8IBZv/ZK9B0rQ/Dnw+0G7/s6JNM05Wa5naSZ3AOAC2XJPQDiuM+G1hceJ/GWr/EXUYXihvB9l0qOQYIgXjfjtnH6tVXvUi+3+VvzB6Qku/wCrv+R6lRRRUjCiiigArzb4yf8AMhf9jnp3/tSvSa82+Mn/ADIX/Y56d/7UoA9Jqrqmm2usaXPp9+jvbXCbJFSRoyR7MpBH4GrVVdTubm00yeewsX1C5jTMdrHIsbSn0DMQo/E0nsNbniGi+BNNk+C954ovbi9utZtLa6uNPu5Lp91j5TPsWPngZXJznOTmtm+8JWXh/QfD3i2Ce6m8STahYm61OSdi9wJ5EWRGXO3ZhyAoGBgYrT8N6P4kb4Lat4c1Pw/Jp+oCzuobdHu4ZBcNL5jDBRiF5YD5iKs6zY+I9U+FemQp4dlj1axurORtOa7hLOsEqMSJN2zkLnrTWkvnH89f0v8AiJ6r/wAC/LT9bfgV/ib4otrbxHpfhrUtTvtL0y5t5Lu+m0+CWSaZFYKsKmJWZAxJLNxwMZ5rl5f+FQQRGXQG1bQ9SQZh1Gx0/UFlRuxJKEOPUNnNeheIdH1u8m0jxVoFtHb67YwskunXUo2XEMmC8DSLkBgygqwyMj0NQf8ACd+I5V8i2+HGufbuhWe4to7cH/rr5hyPov4UkrK3X+v0/ru3rr0/r+v601vAWv3HiPwPYanqClLllZJmMTRB2RipcKwBUNt3YI4zXnN//wAKv1TVLqR9F17xhN5reddwW95fxxtnlVbO0AdPkr0ibT9b1vwDe6frUlpZ6rfWk0LNZFjHCXBC4J5OARk8ZOcAVzWj+JvEejaJZ6HF8OdS+3WkKwL5E9utkdoxuEpfIU4zjbn8ab1kxLSIvwn1KCebxFpmly37aTp93GLKLUEkWa3V4gzRkSDftDZxnt3xVDxT4Rj1P4x6dDa6jfadFqem3Eupi2uZAblEeFQgy2IwcjJQAkZHfNXfBlt400vxzrUviXQopYdYlimbULK5jEFvshChNjN5jYIC7toyecYp+qSeKj8WLHU7Xwdc3Gm2dtNZG6F/bKHEjxt5gUvuwNh4xk095Rv2/Tr8xbRlb+tf8in4h8F6J4BGma94Otm0q6TUra3nWGZyl1FLKsbLIpJDcNkHqCOteoVw/wAT4NevtIsbPw74fl1dvtsF1KyXUMIjEMqPj94wyWAI46d67GymmuLCCa6tWtJ5I1aS3d1YxMRypKkg46ZHFJaxfr+i/W438Xy/Vk9FFFAHjniyxs18bapP8RPC2ueIdOd0OlzWUT3NrbxbAGVokYbX3biWIOeKv/DyDwnceNHu/A2sXMFrbWLxXHh+5aZDA7OhEixy8qMLg4GORWlY6/428Oy36eIfC99rVpJfTvZ3GmTwySpCZDsR42Zf4cYIJ4IBwRUml2+s+KfHun+I7/w/J4fstLt5o4hduhursyADDKhIRFxnBJJOKIaW9P06/wBb6hPr/XXoSeKIrjxX44t/CJvLiz0qGx+36j9mkMcl0GcokO8cqvysWxyeBVPWfhVo2kaPdX/gWN/D+r28LPFNbTPsmwCdkqEkOp6HPI6g1s+KtB1ga5aeJ/CZt21W1ha2ms7pikd7ATu2FgDsYEZVsEckHg1jazfePfEui3Wmjw7H4Xt5YXF1fz6hHcSCPB3CJI8/MRwGYjHXFZy/hu2+v9fcXH41fbT+vvIvAPgjQ9Q+EWmpeQXUn9qWcF1eE39wDJKEzuBD5Xk9FwPatb4b20eqfB3SLW/Mk0VxZGKXMrBmUlgfmB3A47g5q38M1z8KfDS/9QuAf+OCub8O6p4n8GaHF4X/AOEJ1HVLixZorW8tp4VtbiPcSrM7MChweRtPSt6lueUf60uZU78kWaHw+0m00Hxd4w0rTBMllb3FqYo5biSbZugDH5nYnkn1qH4iXHgmTWLWz8VNqWp3nlZi0bT2uJd65++0MRwfTLUvgez8Yaf4316fxTpMJi1YxTi+s508mIpGFEQUt5hI6bioBIJ70hfV/BXjHXr4eF77XrTWZ0uI7vTTG00W2NU8l1dlO0FSQQSPmNZvW1+39f1/mils7f1/X9dTmdEu/Dui/EHw7B4L0jWvDp1C4kt76wvbK4t4Z4/Jdw22QbdwZRyDnBNeuazo1j4g0qXTdVjkltZsb1jmeInByPmQhhyOxrzfXJPiDrOuaBrsXhFUsdLvGlXS/tsIu5N0Tp5juWEaAbgNoLHk56V32rarq1lokN3pvh6fU7yTbvsY7qKNo8jJy7sFODxwee1N6x1D7Wnb/M808F+CrjX4NW0zU9Rnj8K6frF3DBpsFxJ5lztkIxNKTuKKMAKDz1J7V6JoXhfSPBVnff2Ik1vZP+9Np5rPFEVByY1Odue46ZFcV4W1Hxz4fttRim+HN5MbzUri9Urq1mNolfcF/wBZ1FemWkkt3psMl7aNayyxgy2zurmMkcqSpIOOmRxS15Fbey++3+Yaczvtd/dc8L0zxB4C8XWo1r4jXGo6pfXRMkdk2n3rWtlGT8scaomxjjGX5ye9bPhnxB4e0bxvpdh4Du9Uk0nUpGgutLubO6EVs20lZo2lQbBkbWXODuBxxW/pzeJPhzCdIj0C68R6BE7Gxn0+SP7TbxkkiJ43ZdwXOAwPTGRWtpXiDxZrmrW+zwsdE0lWJnn1WdTPIuPupFGx2nOOWbGOxqo2urbf1v8A15oUr2d/69P68mUvEFvN4y8dN4Xlu7i10bT7OO71CO2lMT3byMwSIuuCEARicEZyBWZ4p+GOl6D4U1TUPAiNomoQWkrMsMrmG6QId0cqEkNkZw3UHBzW54l0vW9M8UReKvCtpHqMptxaahprSiJriIMWR42PAdSzcHghiMisjX9U8X+NtAvdG0PwvfaClzbvHcXuqvErAFTlIkR23M3TcSAM5rKSvTaW+v8AX3f5GkfjTe2n9fedX4F/5J54e/7Blv8A+i1rerl/h6dYi8H2Nhr+hy6RcafbxWwWS5im84KgBcGNiAMjoea6it6jvNtGNPSCTCvEtT8T+FPE/izWI/H17qMlhp149nZ6Rb2d20B8vhpZDEhDsWzgE4UDpk17bXB3Fn4g8E+INR1Dw/pTa7ouqTfarixhlWO4tZyAHePeQrq2ASuQQelZ/a1/p6f8E06af1/Whwz6/wCCvC13baj8NpdUtJlnjW50pdPvRbXkRYBvldNqOASwYY6YOc17PrOjWPiDSZdO1SOSW1mxvWOZ4icHI+ZCGHI7GuVXxZ4v1mZIdC8F3GmoWAkvNemjjSMZ5xFG7M5x05A966XXtR1LTNNE+j6JLrVwXCm2huI4SBzlt0hA49OvNN/DqJb6Hl/gvwVca/Bq2manqM8fhXT9Yu4YNNguJPMudshGJpSdxRRgBQeepPavR/DfhHSvCSXMOgpNbWlwyuLQzM0UJAwSinO3PcDjiuH8Laj458P22oxTfDm8mN5qVxeqV1azG0SvuC/6zqK9Nsp57jT4Jrq1a0nkjDSW7urGJiOVLKSDjpkHFCuor0V/uE/ifq/zPLPFPhWfTPihof8AwhNwdMv9ZjvTeXVxcSzqoxGS6xsxXcNxwMAZPPArp9M+Fnh3SdQtdTtjfnV4JBJJqT3jtPcnuJCThlPdcY9MVgarf+N7vxvo+sxfDu88nTI7mIodVs8y+aEAI/ecY2frXbeHNY1rVfP/ALc8MXGheXt8vzryGfzc5zjy2OMcdfWiOkVb+tRy31MLxOl14q8bQ+EUvbix0uGyF9qTWshjluAzlI4Q45VTtYsRyQAO9Q3Xwi8P2Vu1z4Njk8PaxEN1ve2kz8sOgkUkiRT3DA8VoeKdH1m18RWvirwpDFeX0FubS70+WQRi8gLbgFc8K6tkgng5INZ914q8X69btp3h/wAHaho91KNkmoau8Sw2uerqqOzSEdgABnrxU68um+v56fhYfXXb+r/ib3hXVf8AhMfAVle38PltfWxS5jjcrhuUcKQcgZBwQc157pngu6/4WF4k8NeH9SuNI8OJFaSXYjupZLmQsj/u45HZiitzuIOeABjNej6fph8H+CYNO0Szl1N9PtwkUAkVHuGHU7mIUEkk8nvXD6ZqPjmw8Ya5rLfDm8ePU47ZUjGrWeU8pWByfM5zuq5W5nYlX5TrvD3w/wBA8J6k154dt5rHzIjHNAlw7RTHIIdlYnLjH3uvJzmumrP0O+v9R0tLjVtIl0i5LENayzxylQDwdyErz9a0KHcEFFFFIYUUUUAFFFFABRRRQAUUUUAFFFFABXm37Qf/ACQnxD/27f8ApTFXpNebftB/8kJ8Q/8Abt/6UxUAek0UUUAFFFFABRRRQAUUUUAFFFFABRRRQAVjeIbHW7lLe48OalHaXVuxJguY98Fyp/hfHzD2Zenoa2aKAOGvYfHfiS1fSb2y03QrOZfLuryC8a4ldDwwiXYoUkcZY8Zrs7O0h0+xgs7RPLgt41ijUfwqowB+QqaigDgfiFpPxA1HWNLk8DatBZWkf/HykhAy2fvHKncuO1d6uQo3HLY5IpaKForA9Xc5fxDomrLrsHiHwvJbHUIoDbT2t2SsV1Du3AbgCVYHJBwRyc1TTS/E3ijVLGXxRbWWk6bYTrcrZW1wbiS4lX7hd9qgKDzgDJIFdpRQtAepBetdLYzNp6RSXQQmFJmKozY4BIBIH4VyM8fjzxDEbO5i0/w1aONs89vdNdXDL3EfyqqE+pyR6V2tFHqBT0jSrPQ9JttN02LyrW2QJGuc/iT3JPJPqauUUU276hsFcv4m0nxHc69pmqeGb20i+xRTLLbXhfy7jfswDt6fdPzc4OODk11FFLrcDhr/AP4TzxFYzaVNpOlaLb3KGG4vDfG6YIww2xAi84JxuOK7Kws4tO062srfPlW0SxJuOTtUAD9BU9FABRRRQAUUUUAFFFFABRRRQAUUUUAFFFFAHm3xk/5kL/sc9O/9qV6TXm3xk/5kL/sc9O/9qV6TQAUUUUAFFFFABRRRQAUUUUAFFFFABRRRQAUUUUAY3i3SLrXvDN1pVlMkDXe2KV3JGIiw8zGB1KbgPc1rxRpDCkUShURQqqOwHQU6igDnvFeg3mqfYNR0SeG31fS5TLbNOCY5Aw2vG+OdrDuOhANZJ0rxR4r1GxHimzsdK0qxnW5a1trk3D3cqcpltqhUB5xySQK7eihaA9QooooAgvTdCxmOnLC91sPkrOxWMt23EAkD6CuQ8MeHPEdj4O1XRdb/ALLD3AuDbvZzSMN0zOx37kGAC4xjPFdtRSaumn1Gna3kcNN4Z8RXnwrj0C5OlpqluIEhaOaQwMsToQWYpuBIQ9BV/wAQaR4m1fS9GksL2y0/VLO6W4uMF3gfCMCnQFlJYdccc9QK6qiqbbd/O5KVlY4yTUPiJOhtYtB0W0lI2m+fUXljX/aEYjDH6E1v+G9ETw54cs9JilaYWyYaVhguxJZmx2ySTjtWpRSGFFFFABRRRQAUUUUAFFFFABRRRQAUUUUAFFFFAHm3/N03/cmf+3tek15t/wA3Tf8Acmf+3tek0AFFFFAHN/Ef/klniv8A7At5/wCiHo+HH/JLPCn/AGBbP/0QlHxH/wCSWeK/+wLef+iHo+HH/JLPCn/YFs//AEQlAHSUUUUAFFFFABRRRQAUUUUAFFFFABRRRQAUUUUAFFFFABRRRQAUUUUAFU9U0nT9asvsmrWkV3BuD+XKuQGByCPQ1cooAKKKKACiiigAooooAKKKKACiiigAooooAKKKKACiiigAooooAq6lpllrGny2OqW0d1ay48yGQZVsEEZH1AqxHGkMSxxIqIgCqqjAUDoAKdRQAUUUUAFFFFABXm3xk/5kL/sc9O/9qV6TXm3xk/5kL/sc9O/9qUAek0UUUAFFFFABRRRQAUUUUAFFFFABXN+IPG1t4d1BbSbRdevmaMP5mnaXLcRjJPG5RjPHSukooA4b/hall/0K/i//AMEE/wDhWhonj2113Vo7CLQvEVm8gYia+0iaCJcDPLsMDpx6mupooAKKKKACuf8AFOkeIdWiji8PeILfR4yjLOJtOFyZM9MHeu3HPr1roKKTSejGm1scz4F8N6t4U8PxaTqutw6tDaxpDamOx+zmNFGMH523HpzxXTUUVTbbuyUklZBRRRSGFFFFABRRRQAUUUUAFFFFAGJ4j8UQ+Go4Gn0zVr/zyQBplhJclMY+9sB29eM9eawf+FqWX/Qr+L//AAQT/wCFdzRQBxlp8S7O8vYbZfDfiqIzOEDzaHOiLk4yzEcD1NdnRRQAUUUUAFFFFABRRRQAUUUUAFFFFABRRRQAUUUUAFFFFABRRRQAUUUUAFFFFABRRRQAV5t+0H/yQnxD/wBu3/pTFXpNebftB/8AJCfEP/bt/wClMVAHpNFFFABRRRQAUUUUAFFFFABRRRQAUUUUAFFFFABRRRQAUUUUAFFFFABRRRQAUUUUAFFFFABRRRQAUUUUAFFFFABRRRQAUUUUAFFFFABRRRQB5t8ZP+ZC/wCxz07/ANqV6TXm3xk/5kL/ALHPTv8A2pXpNABRRRQAUUUUAFFFFABRRRQAUUUUAFFFFABRRRQAUUUUAFFFFABRRRQAUUUUAFFFFABRRRQAUUUUAFFFFABRRRQAUUUUAFFFFABRRRQAUUUUAebf83Tf9yZ/7e16TXm3/N03/cmf+3tek0AFFFFAHN/Ef/klniv/ALAt5/6Iej4cf8ks8Kf9gWz/APRCUfEf/klniv8A7At5/wCiHo+HH/JLPCn/AGBbP/0QlAHSUUUUAFFFFABRRRQAUUUUAFFFFABRRRQAUUUUAFFFFABRRRQAUUUUAFFFFABRRRQAUUUUAFFFFABRRRQAUUUUAFFFFABRRRQAUUUUAFFFFABRRRQAUUUUAFFFFABXm3xk/wCZC/7HPTv/AGpXpNebfGT/AJkL/sc9O/8AalAHpNFFFABRRRQAUUUUAFFFFABRRRQAUUUUAFFFFABRRRQAUUUUAFFFFABRRRQAUUUUAFFFFABRRRQAUUUUAFFFFABRRRQAUUUUAFFFFABRRRQAUUUUAFFFFABRRRQAUUUUAFFFFABRRRQAUUUUAFFFFABRRRQAV5t+0H/yQnxD/wBu3/pTFXpNebftB/8AJCfEP/bt/wClMVAHpNFFFABRRRQAUUUUAFFFFABRRRQAUUUUAFFFFABRRRQAUUUUAFFFFABRRRQAUUUUAFFFFABRRRQAUUUUAFFFFABRRRQAUUUUAFFFFABRRRQB5t8ZP+ZC/wCxz07/ANqV6TXm3xk/5kL/ALHPTv8A2pXpNABRRRQAUUUUAFFFFABRRRQAUUUUAFFFFABRRRQAUUUUAFFFFABRRRQAUUUUAFFFFABRRRQAUUUUAFFFFABRRRQAUUUUAFFFFABRRRQAUUUUAebf83Tf9yZ/7e16TXm3/N03/cmf+3tek0AFFFFAHN/Ef/klniv/ALAt5/6Iej4cf8ks8Kf9gWz/APRCUfEf/klniv8A7At5/wCiHo+HH/JLPCn/AGBbP/0QlAHSUUUUAFFFFABRRRQAUUUUAFFFFABRRRQAUUUUAFFFFABRRRQAUUUUAFFFFABRRRQAUUUUAFFFFABRRRQAUUUUAFFFFABRRRQAUUUUAFFFFABRRRQAUUUUAFFFFABXm3xk/wCZC/7HPTv/AGpXpNebfGT/AJkL/sc9O/8AalAHpNFFFABRRRQAUUUUAFFFFABRRRQAUUUUAFFFFABRRRQAUUUUAFFFFABRRRQAUUUUAFFFFABRRRQAUUUUAFFFFABRRRQAUUUUAFFFFABRRRQAUUUUAFFFFABRRRQAUUUUAFFFFABRRRQAUUUUAFFFFABRRRQAV5t+0H/yQnxD/wBu3/pTFXpNebftB/8AJCfEP/bt/wClMVAHpNFFFABRRRQAUUUUAFFFFABRRRQAUUUUAFFFFABRRRQAUUUUAFFFFABRRRQAUUUUAFFFFABRRRQAUUUUAFFFFABRRRQAUUUUAFFFFABRRRQB5t8ZP+ZC/wCxz07/ANqV6TXm3xk/5kL/ALHPTv8A2pXpNABRRRQAUUUUAFFFFABRRRQAUUUUAFFFFABRRRQAUUUUAFFFFABRRRQAUUUUAFFFFABRRRQAUUUUAFFFFABRRRQAUUUUAFFFFABRRRQAUUUUAebf83Tf9yZ/7e16TXm3/N03/cmf+3tek0AFFFFAFbUtPtdX0q703UIvOtLyF4J49xXejqVYZBBGQTyDmvP/APhnz4Y/9Cz/AOT9z/8AHK9JooA82/4Z8+GP/Qs/+T9z/wDHKP8Ahnz4Y/8AQs/+T9z/APHK9JooA82/4Z8+GP8A0LP/AJP3P/xyj/hnz4Y/9Cz/AOT9z/8AHK9JooA82/4Z8+GP/Qs/+T9z/wDHKP8Ahnz4Y/8AQs/+T9z/APHK9JooA82/4Z8+GP8A0LP/AJP3P/xyj/hnz4Y/9Cz/AOT9z/8AHK9JooA82/4Z8+GP/Qs/+T9z/wDHKP8Ahnz4Y/8AQs/+T9z/APHK9JooA82/4Z8+GP8A0LP/AJP3P/xyj/hnz4Y/9Cz/AOT9z/8AHK9JooA82/4Z8+GP/Qs/+T9z/wDHKP8Ahnz4Y/8AQs/+T9z/APHK9JooA82/4Z8+GP8A0LP/AJP3P/xyj/hnz4Y/9Cz/AOT9z/8AHK9JooA82/4Z8+GP/Qs/+T9z/wDHKP8Ahnz4Y/8AQs/+T9z/APHK9JooA82/4Z8+GP8A0LP/AJP3P/xyj/hnz4Y/9Cz/AOT9z/8AHK9JooA82/4Z8+GP/Qs/+T9z/wDHKP8Ahnz4Y/8AQs/+T9z/APHK9JooA82/4Z8+GP8A0LP/AJP3P/xyj/hnz4Y/9Cz/AOT9z/8AHK9JooA82/4Z8+GP/Qs/+T9z/wDHKP8Ahnz4Y/8AQs/+T9z/APHK9JooA82/4Z8+GP8A0LP/AJP3P/xyj/hnz4Y/9Cz/AOT9z/8AHK9JooA82/4Z8+GP/Qs/+T9z/wDHKP8Ahnz4Y/8AQs/+T9z/APHK9JooA82/4Z8+GP8A0LP/AJP3P/xyj/hnz4Y/9Cz/AOT9z/8AHK9JooA82/4Z8+GP/Qs/+T9z/wDHKP8Ahnz4Y/8AQs/+T9z/APHK9JooA82/4Z8+GP8A0LP/AJP3P/xyj/hnz4Y/9Cz/AOT9z/8AHK9JooA82/4Z8+GP/Qs/+T9z/wDHKP8Ahnz4Y/8AQs/+T9z/APHK9JooA82/4Z8+GP8A0LP/AJP3P/xyj/hnz4Y/9Cz/AOT9z/8AHK9JooA82/4Z8+GP/Qs/+T9z/wDHKP8Ahnz4Y/8AQs/+T9z/APHK9JooA82/4Z8+GP8A0LP/AJP3P/xyj/hnz4Y/9Cz/AOT9z/8AHK9JooA82/4Z8+GP/Qs/+T9z/wDHKP8Ahnz4Y/8AQs/+T9z/APHK9JooA82/4Z8+GP8A0LP/AJP3P/xyj/hnz4Y/9Cz/AOT9z/8AHK9JooA82/4Z8+GP/Qs/+T9z/wDHKP8Ahnz4Y/8AQs/+T9z/APHK9JooA82/4Z8+GP8A0LP/AJP3P/xyj/hnz4Y/9Cz/AOT9z/8AHK9JooA82/4Z8+GP/Qs/+T9z/wDHKP8Ahnz4Y/8AQs/+T9z/APHK9JooA82/4Z8+GP8A0LP/AJP3P/xyj/hnz4Y/9Cz/AOT9z/8AHK9JooA82/4Z8+GP/Qs/+T9z/wDHKP8Ahnz4Y/8AQs/+T9z/APHK9JooA82/4Z8+GP8A0LP/AJP3P/xyj/hnz4Y/9Cz/AOT9z/8AHK9JooA82/4Z8+GP/Qs/+T9z/wDHKP8Ahnz4Y/8AQs/+T9z/APHK9JooA82/4Z8+GP8A0LP/AJP3P/xyj/hnz4Y/9Cz/AOT9z/8AHK9JooA82/4Z8+GP/Qs/+T9z/wDHKP8Ahnz4Y/8AQs/+T9z/APHK9JooA82/4Z8+GP8A0LP/AJP3P/xyj/hnz4Y/9Cz/AOT9z/8AHK9JooA82/4Z8+GP/Qs/+T9z/wDHKP8Ahnz4Y/8AQs/+T9z/APHK9JooA82/4Z8+GP8A0LP/AJP3P/xyj/hnz4Y/9Cz/AOT9z/8AHK9JooA82/4Z8+GP/Qs/+T9z/wDHKP8Ahnz4Y/8AQs/+T9z/APHK9JooA82/4Z8+GP8A0LP/AJP3P/xyj/hnz4Y/9Cz/AOT9z/8AHK9JooA82/4Z8+GP/Qs/+T9z/wDHKP8Ahnz4Y/8AQs/+T9z/APHK9JooA82/4Z8+GP8A0LP/AJP3P/xyj/hnz4Y/9Cz/AOT9z/8AHK9JooA82/4Z8+GP/Qs/+T9z/wDHKP8Ahnz4Y/8AQs/+T9z/APHK9JooA82/4Z8+GP8A0LP/AJP3P/xyj/hnz4Y/9Cz/AOT9z/8AHK9JooA82/4Z8+GP/Qs/+T9z/wDHKP8Ahnz4Y/8AQs/+T9z/APHK9JooA82/4Z8+GP8A0LP/AJP3P/xyj/hnz4Y/9Cz/AOT9z/8AHK9JooA82/4Z8+GP/Qs/+T9z/wDHKP8Ahnz4Y/8AQs/+T9z/APHK9JooA82/4Z8+GP8A0LP/AJP3P/xyj/hnz4Y/9Cz/AOT9z/8AHK9JooA82/4Z8+GP/Qs/+T9z/wDHKP8Ahnz4Y/8AQs/+T9z/APHK9JooA82/4Z8+GP8A0LP/AJP3P/xyj/hnz4Y/9Cz/AOT9z/8AHK9JooA82/4Z8+GP/Qs/+T9z/wDHKP8Ahnz4Y/8AQs/+T9z/APHK9JooA82/4Z8+GP8A0LP/AJP3P/xyj/hnz4Y/9Cz/AOT9z/8AHK9JooA82/4Z8+GP/Qs/+T9z/wDHKP8Ahnz4Y/8AQs/+T9z/APHK9JooA82/4Z8+GP8A0LP/AJP3P/xyj/hnz4Y/9Cz/AOT9z/8AHK9JooA82/4Z8+GP/Qs/+T9z/wDHKP8Ahnz4Y/8AQs/+T9z/APHK9JooA82/4Z8+GP8A0LP/AJP3P/xyj/hnz4Y/9Cz/AOT9z/8AHK9JooA82/4Z8+GP/Qs/+T9z/wDHKP8Ahnz4Y/8AQs/+T9z/APHK9JooA82/4Z8+GP8A0LP/AJP3P/xyj/hnz4Y/9Cz/AOT9z/8AHK9JooA82/4Z8+GP/Qs/+T9z/wDHKP8Ahnz4Y/8AQs/+T9z/APHK9JooA82/4Z8+GP8A0LP/AJP3P/xyj/hnz4Y/9Cz/AOT9z/8AHK9JooA82/4Z8+GP/Qs/+T9z/wDHKP8Ahnz4Y/8AQs/+T9z/APHK9JooA82/4Z8+GP8A0LP/AJP3P/xyj/hnz4Y/9Cz/AOT9z/8AHK9JooA82/4Z8+GP/Qs/+T9z/wDHKP8Ahnz4Y/8AQs/+T9z/APHK9JooA82/4Z8+GP8A0LP/AJP3P/xyj/hnz4Y/9Cz/AOT9z/8AHK9JooA82/4Z8+GP/Qs/+T9z/wDHKP8Ahnz4Y/8AQs/+T9z/APHK9JooA82/4Z8+GP8A0LP/AJP3P/xyj/hnz4Y/9Cz/AOT9z/8AHK9JooA82/4Z8+GP/Qs/+T9z/wDHKP8Ahnz4Y/8AQs/+T9z/APHK9JooA82/4Z8+GP8A0LP/AJP3P/xyj/hnz4Y/9Cz/AOT9z/8AHK9JooA82/4Z8+GP/Qs/+T9z/wDHKP8Ahnz4Y/8AQs/+T9z/APHK9JooA82/4Z8+GP8A0LP/AJP3P/xyj/hnz4Y/9Cz/AOT9z/8AHK9JooA82/4Z8+GP/Qs/+T9z/wDHKP8Ahnz4Y/8AQs/+T9z/APHK9JooA82/4Z8+GP8A0LP/AJP3P/xyj/hnz4Y/9Cz/AOT9z/8AHK9JooA82/4Z8+GP/Qs/+T9z/wDHKP8Ahnz4Y/8AQs/+T9z/APHK9JooA82/4Z8+GP8A0LP/AJP3P/xyj/hnz4Y/9Cz/AOT9z/8AHK9JooA82/4Z8+GP/Qs/+T9z/wDHKP8Ahnz4Y/8AQs/+T9z/APHK9JooA82/4Z8+GP8A0LP/AJP3P/xyj/hnz4Y/9Cz/AOT9z/8AHK9JooA82/4Z8+GP/Qs/+T9z/wDHKP8Ahnz4Y/8AQs/+T9z/APHK9JooA82/4Z8+GP8A0LP/AJP3P/xyj/hnz4Y/9Cz/AOT9z/8AHK9JooA82/4Z8+GP/Qs/+T9z/wDHKP8Ahnz4Y/8AQs/+T9z/APHK9JooA82/4Z8+GP8A0LP/AJP3P/xyj/hnz4Y/9Cz/AOT9z/8AHK9JooA82/4Z8+GP/Qs/+T9z/wDHKP8Ahnz4Y/8AQs/+T9z/APHK9JooA82/4Z8+GP8A0LP/AJP3P/xyj/hnz4Y/9Cz/AOT9z/8AHK9JooA82/4Z8+GP/Qs/+T9z/wDHKP8Ahnz4Y/8AQs/+T9z/APHK9JooA82/4Z8+GP8A0LP/AJP3P/xyj/hnz4Y/9Cz/AOT9z/8AHK9JooA82/4Z8+GP/Qs/+T9z/wDHKP8Ahnz4Y/8AQs/+T9z/APHK9JooA82/4Z8+GP8A0LP/AJP3P/xyj/hnz4Y/9Cz/AOT9z/8AHK9JooA82/4Z8+GP/Qs/+T9z/wDHKP8Ahnz4Y/8AQs/+T9z/APHK9JooA82/4Z8+GP8A0LP/AJP3P/xyj/hnz4Y/9Cz/AOT9z/8AHK9JooA82/4Z8+GP/Qs/+T9z/wDHKP8Ahnz4Y/8AQs/+T9z/APHK9JooA82/4Z8+GP8A0LP/AJP3P/xyj/hnz4Y/9Cz/AOT9z/8AHK9JooA82/4Z8+GP/Qs/+T9z/wDHKP8Ahnz4Y/8AQs/+T9z/APHK9JooA82/4Z8+GP8A0LP/AJP3P/xyj/hnz4Y/9Cz/AOT9z/8AHK9JooA82/4Z8+GP/Qs/+T9z/wDHKP8Ahnz4Y/8AQs/+T9z/APHK9JooA82/4Z8+GP8A0LP/AJP3P/xyj/hnz4Y/9Cz/AOT9z/8AHK9JooA82/4Z8+GP/Qs/+T9z/wDHKP8Ahnz4Y/8AQs/+T9z/APHK9JooA82/4Z8+GP8A0LP/AJP3P/xyj/hnz4Y/9Cz/AOT9z/8AHK9JooA82/4Z8+GP/Qs/+T9z/wDHKP8Ahnz4Y/8AQs/+T9z/APHK9JooA5Lwp8LfB3gjVZNS8MaP9hu5YTA8n2qaTKFlYjDuR1VecZ4rraKKACiiigD/2Q==)"
      ],
      "metadata": {
        "id": "LiIYBafWfvLW"
      }
    }
  ]
}